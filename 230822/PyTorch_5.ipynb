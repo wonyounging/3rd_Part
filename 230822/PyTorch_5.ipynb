{
 "cells": [
  {
   "cell_type": "markdown",
   "metadata": {},
   "source": [
    "# 8) mnist 데이터셋(skorch)"
   ]
  },
  {
   "cell_type": "code",
   "execution_count": 1,
   "metadata": {},
   "outputs": [],
   "source": [
    "# skorch : pytorch를 쉽게 구현할 수 있는 라이브러리\n",
    "\n",
    "from keras.datasets import mnist\n",
    "\n",
    "(X_train, y_train), (X_test, y_test) = mnist.load_data()"
   ]
  },
  {
   "cell_type": "code",
   "execution_count": 2,
   "metadata": {},
   "outputs": [],
   "source": [
    "X_train= X_train.reshape(-1,784)        # -1 : 행은 가변적으로 사용\n",
    "X_test= X_test.reshape(-1,784)\n",
    "\n",
    "X_train=X_train/255.\n",
    "X_test=X_test/255."
   ]
  },
  {
   "cell_type": "code",
   "execution_count": null,
   "metadata": {},
   "outputs": [],
   "source": [
    "#   numpy() : 메모리\n",
    "#   .cpu() : cpu \n",
    "#   .cuda() : gpu"
   ]
  },
  {
   "cell_type": "code",
   "execution_count": 3,
   "metadata": {},
   "outputs": [
    {
     "name": "stdout",
     "output_type": "stream",
     "text": [
      "torch.Size([60000, 784])\n",
      "torch.Size([10000, 784])\n"
     ]
    }
   ],
   "source": [
    "import torch\n",
    "\n",
    "X_train=torch.from_numpy(X_train).float()\n",
    "y_train=torch.from_numpy(y_train.astype('int32')).long()\n",
    "\n",
    "X_test=torch.from_numpy(X_test).float()\n",
    "y_test=torch.from_numpy(y_test.astype('int32')).long()\n",
    "\n",
    "print(X_train.shape)\n",
    "print(X_test.shape)\n",
    "\n",
    "X_train=X_train.cuda()\n",
    "y_train=y_train.cuda()\n",
    "\n",
    "X_test=X_test.cuda()\n",
    "y_test=y_test.cuda()"
   ]
  },
  {
   "cell_type": "code",
   "execution_count": 5,
   "metadata": {},
   "outputs": [],
   "source": [
    "import torch.nn as nn\n",
    "import torch.nn.functional as F\n",
    "\n",
    "# 신경망 구성\n",
    "class Net(nn.Module):\n",
    "#         상위클래스\n",
    "    def __init__(self):\n",
    "        super(Net, self).__init__()\n",
    "        self.fc1 = nn.Linear(784, 128)\n",
    "        self.fc2 = nn.Linear(128, 10)\n",
    "\n",
    "    def forward(self, x):\n",
    "        x = F.relu(self.fc1(x))\n",
    "        x = self.fc2(x)\n",
    "        return F.softmax(x, dim=-1)\n",
    "\n",
    "model=Net().cuda()\n",
    "#     클래스 => 메모리, 인스턴스화 => 초기화 함수(__init__) 호출"
   ]
  },
  {
   "cell_type": "code",
   "execution_count": 8,
   "metadata": {},
   "outputs": [
    {
     "name": "stdout",
     "output_type": "stream",
     "text": [
      "  epoch    train_loss    valid_acc    valid_loss     dur\n",
      "-------  ------------  -----------  ------------  ------\n",
      "      1        \u001b[36m0.6422\u001b[0m       \u001b[32m0.9002\u001b[0m        \u001b[35m0.3481\u001b[0m  2.0762\n",
      "      2        \u001b[36m0.3115\u001b[0m       \u001b[32m0.9188\u001b[0m        \u001b[35m0.2825\u001b[0m  3.0089\n",
      "      3        \u001b[36m0.2591\u001b[0m       \u001b[32m0.9296\u001b[0m        \u001b[35m0.2436\u001b[0m  2.6095\n",
      "      4        \u001b[36m0.2235\u001b[0m       \u001b[32m0.9383\u001b[0m        \u001b[35m0.2153\u001b[0m  2.7566\n",
      "      5        \u001b[36m0.1968\u001b[0m       \u001b[32m0.9443\u001b[0m        \u001b[35m0.1938\u001b[0m  1.6750\n",
      "      6        \u001b[36m0.1758\u001b[0m       \u001b[32m0.9501\u001b[0m        \u001b[35m0.1772\u001b[0m  1.6665\n",
      "      7        \u001b[36m0.1588\u001b[0m       \u001b[32m0.9529\u001b[0m        \u001b[35m0.1640\u001b[0m  1.6144\n",
      "      8        \u001b[36m0.1447\u001b[0m       \u001b[32m0.9552\u001b[0m        \u001b[35m0.1538\u001b[0m  1.7496\n",
      "      9        \u001b[36m0.1327\u001b[0m       \u001b[32m0.9575\u001b[0m        \u001b[35m0.1453\u001b[0m  1.6590\n",
      "     10        \u001b[36m0.1225\u001b[0m       \u001b[32m0.9597\u001b[0m        \u001b[35m0.1381\u001b[0m  1.8068\n",
      "     11        \u001b[36m0.1136\u001b[0m       \u001b[32m0.9613\u001b[0m        \u001b[35m0.1321\u001b[0m  1.6898\n",
      "     12        \u001b[36m0.1058\u001b[0m       \u001b[32m0.9623\u001b[0m        \u001b[35m0.1268\u001b[0m  1.5224\n",
      "     13        \u001b[36m0.0988\u001b[0m       \u001b[32m0.9631\u001b[0m        \u001b[35m0.1221\u001b[0m  1.6268\n",
      "     14        \u001b[36m0.0927\u001b[0m       \u001b[32m0.9643\u001b[0m        \u001b[35m0.1180\u001b[0m  1.4910\n",
      "     15        \u001b[36m0.0871\u001b[0m       \u001b[32m0.9657\u001b[0m        \u001b[35m0.1144\u001b[0m  1.5047\n",
      "     16        \u001b[36m0.0820\u001b[0m       \u001b[32m0.9665\u001b[0m        \u001b[35m0.1110\u001b[0m  1.5360\n",
      "     17        \u001b[36m0.0775\u001b[0m       \u001b[32m0.9672\u001b[0m        \u001b[35m0.1081\u001b[0m  1.6900\n",
      "     18        \u001b[36m0.0733\u001b[0m       \u001b[32m0.9685\u001b[0m        \u001b[35m0.1055\u001b[0m  1.6466\n",
      "     19        \u001b[36m0.0695\u001b[0m       \u001b[32m0.9689\u001b[0m        \u001b[35m0.1032\u001b[0m  1.6855\n",
      "     20        \u001b[36m0.0660\u001b[0m       \u001b[32m0.9693\u001b[0m        \u001b[35m0.1010\u001b[0m  1.6108\n"
     ]
    },
    {
     "data": {
      "text/plain": [
       "<class 'skorch.classifier.NeuralNetClassifier'>[initialized](\n",
       "  module_=Net(\n",
       "    (fc1): Linear(in_features=784, out_features=128, bias=True)\n",
       "    (fc2): Linear(in_features=128, out_features=10, bias=True)\n",
       "  ),\n",
       ")"
      ]
     },
     "execution_count": 8,
     "metadata": {},
     "output_type": "execute_result"
    }
   ],
   "source": [
    "# pip install skorch\n",
    "\n",
    "from skorch import NeuralNetClassifier\n",
    "\n",
    "net = NeuralNetClassifier(Net,max_epochs=20,lr=0.1)\n",
    "#                         모형      에폭     학습률\n",
    "\n",
    "net.fit(X_train, y_train)"
   ]
  },
  {
   "cell_type": "code",
   "execution_count": 9,
   "metadata": {},
   "outputs": [
    {
     "data": {
      "text/plain": [
       "0.9731"
      ]
     },
     "execution_count": 9,
     "metadata": {},
     "output_type": "execute_result"
    }
   ],
   "source": [
    "import numpy as np\n",
    "\n",
    "# 모형의 정확도 계산\n",
    "\n",
    "pred = net.predict(X_test)\n",
    "y_test = y_test.cpu().numpy()\n",
    "\n",
    "accuracy = np.mean(pred == y_test)\n",
    "accuracy"
   ]
  },
  {
   "cell_type": "code",
   "execution_count": 10,
   "metadata": {},
   "outputs": [
    {
     "data": {
      "text/plain": [
       "==========================================================================================\n",
       "Layer (type:depth-idx)                   Output Shape              Param #\n",
       "==========================================================================================\n",
       "Net                                      [100, 10]                 --\n",
       "├─Linear: 1-1                            [100, 128]                100,480\n",
       "├─Linear: 1-2                            [100, 10]                 1,290\n",
       "==========================================================================================\n",
       "Total params: 101,770\n",
       "Trainable params: 101,770\n",
       "Non-trainable params: 0\n",
       "Total mult-adds (M): 10.18\n",
       "==========================================================================================\n",
       "Input size (MB): 0.31\n",
       "Forward/backward pass size (MB): 0.11\n",
       "Params size (MB): 0.41\n",
       "Estimated Total Size (MB): 0.83\n",
       "=========================================================================================="
      ]
     },
     "execution_count": 10,
     "metadata": {},
     "output_type": "execute_result"
    }
   ],
   "source": [
    "from torchinfo import summary\n",
    "\n",
    "summary(model, input_size=(100,784))"
   ]
  },
  {
   "cell_type": "code",
   "execution_count": null,
   "metadata": {},
   "outputs": [],
   "source": []
  }
 ],
 "metadata": {
  "kernelspec": {
   "display_name": "Python 3",
   "language": "python",
   "name": "python3"
  },
  "language_info": {
   "codemirror_mode": {
    "name": "ipython",
    "version": 3
   },
   "file_extension": ".py",
   "mimetype": "text/x-python",
   "name": "python",
   "nbconvert_exporter": "python",
   "pygments_lexer": "ipython3",
   "version": "3.9.13"
  },
  "orig_nbformat": 4
 },
 "nbformat": 4,
 "nbformat_minor": 2
}
