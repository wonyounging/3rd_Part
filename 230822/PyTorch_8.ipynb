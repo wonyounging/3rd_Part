{
 "cells": [
  {
   "cell_type": "markdown",
   "metadata": {},
   "source": [
    "# 11) 다중회귀분석"
   ]
  },
  {
   "cell_type": "code",
   "execution_count": 1,
   "metadata": {},
   "outputs": [
    {
     "data": {
      "text/html": [
       "<div>\n",
       "<style scoped>\n",
       "    .dataframe tbody tr th:only-of-type {\n",
       "        vertical-align: middle;\n",
       "    }\n",
       "\n",
       "    .dataframe tbody tr th {\n",
       "        vertical-align: top;\n",
       "    }\n",
       "\n",
       "    .dataframe thead th {\n",
       "        text-align: right;\n",
       "    }\n",
       "</style>\n",
       "<table border=\"1\" class=\"dataframe\">\n",
       "  <thead>\n",
       "    <tr style=\"text-align: right;\">\n",
       "      <th></th>\n",
       "      <th>Month</th>\n",
       "      <th>Day</th>\n",
       "      <th>Solar.R</th>\n",
       "      <th>Wind</th>\n",
       "      <th>Temp</th>\n",
       "      <th>Ozone</th>\n",
       "      <th>Result</th>\n",
       "    </tr>\n",
       "  </thead>\n",
       "  <tbody>\n",
       "    <tr>\n",
       "      <th>0</th>\n",
       "      <td>5</td>\n",
       "      <td>21</td>\n",
       "      <td>8.0</td>\n",
       "      <td>9.7</td>\n",
       "      <td>59</td>\n",
       "      <td>1</td>\n",
       "      <td>0</td>\n",
       "    </tr>\n",
       "    <tr>\n",
       "      <th>1</th>\n",
       "      <td>5</td>\n",
       "      <td>23</td>\n",
       "      <td>25.0</td>\n",
       "      <td>9.7</td>\n",
       "      <td>61</td>\n",
       "      <td>4</td>\n",
       "      <td>0</td>\n",
       "    </tr>\n",
       "    <tr>\n",
       "      <th>2</th>\n",
       "      <td>5</td>\n",
       "      <td>18</td>\n",
       "      <td>78.0</td>\n",
       "      <td>18.4</td>\n",
       "      <td>57</td>\n",
       "      <td>6</td>\n",
       "      <td>0</td>\n",
       "    </tr>\n",
       "    <tr>\n",
       "      <th>3</th>\n",
       "      <td>7</td>\n",
       "      <td>15</td>\n",
       "      <td>48.0</td>\n",
       "      <td>14.3</td>\n",
       "      <td>80</td>\n",
       "      <td>7</td>\n",
       "      <td>0</td>\n",
       "    </tr>\n",
       "    <tr>\n",
       "      <th>4</th>\n",
       "      <td>9</td>\n",
       "      <td>24</td>\n",
       "      <td>49.0</td>\n",
       "      <td>10.3</td>\n",
       "      <td>69</td>\n",
       "      <td>7</td>\n",
       "      <td>0</td>\n",
       "    </tr>\n",
       "  </tbody>\n",
       "</table>\n",
       "</div>"
      ],
      "text/plain": [
       "   Month  Day  Solar.R  Wind  Temp  Ozone  Result\n",
       "0      5   21      8.0   9.7    59      1       0\n",
       "1      5   23     25.0   9.7    61      4       0\n",
       "2      5   18     78.0  18.4    57      6       0\n",
       "3      7   15     48.0  14.3    80      7       0\n",
       "4      9   24     49.0  10.3    69      7       0"
      ]
     },
     "execution_count": 1,
     "metadata": {},
     "output_type": "execute_result"
    }
   ],
   "source": [
    "import pandas as pd\n",
    "\n",
    "df = pd.read_csv(\"c:/workspace3/data/ozone2.csv\")\n",
    "df.head()"
   ]
  },
  {
   "cell_type": "code",
   "execution_count": 2,
   "metadata": {},
   "outputs": [
    {
     "data": {
      "text/plain": [
       "Index(['Month', 'Day', 'Solar.R', 'Wind', 'Temp', 'Ozone', 'Result'], dtype='object')"
      ]
     },
     "execution_count": 2,
     "metadata": {},
     "output_type": "execute_result"
    }
   ],
   "source": [
    "df.columns"
   ]
  },
  {
   "cell_type": "code",
   "execution_count": 3,
   "metadata": {},
   "outputs": [],
   "source": [
    "X = df[['Solar.R', 'Wind', 'Temp']]\n",
    "y = df[[\"Ozone\"]]"
   ]
  },
  {
   "cell_type": "code",
   "execution_count": 4,
   "metadata": {},
   "outputs": [],
   "source": [
    "from sklearn.model_selection import train_test_split\n",
    "\n",
    "X_train, X_test, y_train, y_test = train_test_split(X, y, test_size=0.33, random_state=42)"
   ]
  },
  {
   "cell_type": "code",
   "execution_count": 5,
   "metadata": {},
   "outputs": [],
   "source": [
    "from sklearn.preprocessing import StandardScaler\n",
    "\n",
    "sc = StandardScaler()\n",
    "\n",
    "X_train_scaled = sc.fit_transform(X_train)\n",
    "X_test_scaled = sc.transform(X_test)"
   ]
  },
  {
   "cell_type": "code",
   "execution_count": 6,
   "metadata": {},
   "outputs": [],
   "source": [
    "import numpy as np\n",
    "\n",
    "X_train = np.array(X_train_scaled,dtype=np.float32)\n",
    "y_train = np.array(y_train,dtype=np.float32)\n",
    "\n",
    "X_test = np.array(X_test_scaled,dtype=np.float32)\n",
    "y_test = np.array(y_test,dtype=np.float32)"
   ]
  },
  {
   "cell_type": "code",
   "execution_count": 7,
   "metadata": {},
   "outputs": [],
   "source": [
    "import torch\n",
    "\n",
    "inputs = torch.from_numpy(X_train)\n",
    "targets = torch.from_numpy(y_train)"
   ]
  },
  {
   "cell_type": "code",
   "execution_count": 8,
   "metadata": {},
   "outputs": [
    {
     "name": "stdout",
     "output_type": "stream",
     "text": [
      "Sequential(\n",
      "  (0): Linear(in_features=3, out_features=24, bias=True)\n",
      "  (1): ReLU()\n",
      "  (2): Linear(in_features=24, out_features=12, bias=True)\n",
      "  (3): ReLU()\n",
      "  (4): Linear(in_features=12, out_features=3, bias=True)\n",
      "  (5): ReLU()\n",
      "  (6): Linear(in_features=3, out_features=1, bias=True)\n",
      ")\n",
      "Parameter containing:\n",
      "tensor([[ 0.1358, -0.4889,  0.0688]], requires_grad=True)\n",
      "Parameter containing:\n",
      "tensor([-0.3799], requires_grad=True)\n"
     ]
    }
   ],
   "source": [
    "import torch.nn as nn\n",
    "\n",
    "input_dim = X_train.shape[1]\n",
    "output_dim = 64  \n",
    "\n",
    "model = nn.Sequential(\n",
    "    nn.Linear(input_dim,24),\n",
    "    nn.ReLU(),\n",
    "    nn.Linear(24,12),\n",
    "    nn.ReLU(),\n",
    "    nn.Linear(12,3),\n",
    "    nn.ReLU(),\n",
    "    nn.Linear(3,1)\n",
    ")\n",
    "\n",
    "print(model)\n",
    "print(model[6].weight)\n",
    "print(model[6].bias)"
   ]
  },
  {
   "cell_type": "code",
   "execution_count": 9,
   "metadata": {},
   "outputs": [
    {
     "name": "stdout",
     "output_type": "stream",
     "text": [
      "epoch 0, loss 2970.609619140625\n",
      "epoch 50, loss 571.0704956054688\n",
      "epoch 100, loss 386.219482421875\n",
      "epoch 150, loss 377.79833984375\n",
      "epoch 200, loss 372.8202209472656\n",
      "epoch 250, loss 367.4120788574219\n",
      "epoch 300, loss 361.6659851074219\n",
      "epoch 350, loss 356.99664306640625\n",
      "epoch 400, loss 352.44427490234375\n",
      "epoch 450, loss 346.6820983886719\n",
      "epoch 500, loss 342.36248779296875\n",
      "epoch 550, loss 338.7392883300781\n",
      "epoch 600, loss 335.18896484375\n",
      "epoch 650, loss 329.3977355957031\n",
      "epoch 700, loss 320.3724365234375\n",
      "epoch 750, loss 305.8160705566406\n",
      "epoch 800, loss 282.3365783691406\n",
      "epoch 850, loss 246.11660766601562\n",
      "epoch 900, loss 208.97640991210938\n",
      "epoch 950, loss 188.84429931640625\n",
      "epoch 1000, loss 174.93165588378906\n",
      "epoch 1050, loss 159.778564453125\n",
      "epoch 1100, loss 142.892822265625\n",
      "epoch 1150, loss 130.97914123535156\n",
      "epoch 1200, loss 122.62419891357422\n",
      "epoch 1250, loss 116.64317321777344\n",
      "epoch 1300, loss 111.0113754272461\n",
      "epoch 1350, loss 104.36392211914062\n",
      "epoch 1400, loss 99.09674072265625\n",
      "epoch 1450, loss 94.69749450683594\n",
      "epoch 1500, loss 87.595703125\n",
      "epoch 1550, loss 79.37322235107422\n",
      "epoch 1600, loss 74.12640380859375\n",
      "epoch 1650, loss 71.94478607177734\n",
      "epoch 1700, loss 68.92707061767578\n",
      "epoch 1750, loss 67.88737487792969\n",
      "epoch 1800, loss 66.21101379394531\n",
      "epoch 1850, loss 64.61097717285156\n",
      "epoch 1900, loss 63.699241638183594\n",
      "epoch 1950, loss 62.74688720703125\n",
      "epoch 2000, loss 61.95669937133789\n",
      "epoch 2050, loss 60.77404022216797\n",
      "epoch 2100, loss 59.91809844970703\n",
      "epoch 2150, loss 58.85369873046875\n",
      "epoch 2200, loss 58.30362319946289\n",
      "epoch 2250, loss 57.562477111816406\n",
      "epoch 2300, loss 55.85210418701172\n",
      "epoch 2350, loss 55.79582214355469\n",
      "epoch 2400, loss 54.2166862487793\n",
      "epoch 2450, loss 53.41556930541992\n",
      "epoch 2500, loss 52.889774322509766\n",
      "epoch 2550, loss 52.350730895996094\n",
      "epoch 2600, loss 52.41704559326172\n",
      "epoch 2650, loss 50.92512130737305\n",
      "epoch 2700, loss 49.63676071166992\n",
      "epoch 2750, loss 48.75154113769531\n",
      "epoch 2800, loss 48.03898239135742\n",
      "epoch 2850, loss 47.15926742553711\n",
      "epoch 2900, loss 46.500946044921875\n",
      "epoch 2950, loss 46.81788635253906\n",
      "epoch 3000, loss 45.655067443847656\n",
      "epoch 3050, loss 45.23929214477539\n",
      "epoch 3100, loss 44.701416015625\n",
      "epoch 3150, loss 45.178443908691406\n",
      "epoch 3200, loss 44.331180572509766\n",
      "epoch 3250, loss 44.3417854309082\n",
      "epoch 3300, loss 43.63764572143555\n",
      "epoch 3350, loss 43.654178619384766\n",
      "epoch 3400, loss 43.108428955078125\n",
      "epoch 3450, loss 42.68135452270508\n",
      "epoch 3500, loss 42.690223693847656\n",
      "epoch 3550, loss 42.096187591552734\n",
      "epoch 3600, loss 42.53962326049805\n",
      "epoch 3650, loss 41.998531341552734\n",
      "epoch 3700, loss 41.60527801513672\n",
      "epoch 3750, loss 41.8371467590332\n",
      "epoch 3800, loss 41.20075988769531\n",
      "epoch 3850, loss 41.64548873901367\n",
      "epoch 3900, loss 41.2149772644043\n",
      "epoch 3950, loss 41.337886810302734\n",
      "epoch 4000, loss 41.947532653808594\n",
      "epoch 4050, loss 40.56809997558594\n",
      "epoch 4100, loss 41.322967529296875\n",
      "epoch 4150, loss 42.12711715698242\n",
      "epoch 4200, loss 40.475807189941406\n",
      "epoch 4250, loss 40.602352142333984\n",
      "epoch 4300, loss 40.09276580810547\n",
      "epoch 4350, loss 40.55913543701172\n",
      "epoch 4400, loss 40.401309967041016\n",
      "epoch 4450, loss 39.84819412231445\n",
      "epoch 4500, loss 39.5998649597168\n",
      "epoch 4550, loss 39.83440017700195\n",
      "epoch 4600, loss 40.807987213134766\n",
      "epoch 4650, loss 39.502811431884766\n",
      "epoch 4700, loss 39.140987396240234\n",
      "epoch 4750, loss 39.096702575683594\n",
      "epoch 4800, loss 38.901336669921875\n",
      "epoch 4850, loss 39.138885498046875\n",
      "epoch 4900, loss 38.61369705200195\n",
      "epoch 4950, loss 39.46091079711914\n"
     ]
    }
   ],
   "source": [
    "mse = nn.MSELoss()\n",
    "\n",
    "optimizer = torch.optim.Adam(model.parameters(),lr = 0.01)\n",
    "\n",
    "loss_list = []\n",
    "\n",
    "iteration_number = 5000\n",
    "\n",
    "for iteration in range(iteration_number):\n",
    "    optimizer.zero_grad()\n",
    "    \n",
    "    results = model(inputs)  \n",
    "    loss = mse(results, targets)\n",
    "    loss.backward()\n",
    "    optimizer.step()\n",
    "    loss_list.append(loss.data)\n",
    "\n",
    "    if(iteration % 50 == 0):\n",
    "        print('epoch {}, loss {}'.format(iteration, loss.data))"
   ]
  },
  {
   "cell_type": "code",
   "execution_count": 10,
   "metadata": {},
   "outputs": [
    {
     "data": {
      "image/png": "[encoded data removed]",
      "text/plain": [
       "<Figure size 640x480 with 1 Axes>"
      ]
     },
     "metadata": {},
     "output_type": "display_data"
    }
   ],
   "source": [
    "import matplotlib.pyplot as plt\n",
    "\n",
    "plt.plot(range(iteration_number),loss_list)\n",
    "plt.xlabel(\"Number of Iterations\")\n",
    "plt.ylabel(\"Loss\")\n",
    "plt.show()"
   ]
  },
  {
   "cell_type": "code",
   "execution_count": 11,
   "metadata": {},
   "outputs": [
    {
     "data": {
      "text/plain": [
       "array([[ 71.004875],\n",
       "       [ 65.03184 ],\n",
       "       [ 47.22779 ],\n",
       "       [101.4439  ],\n",
       "       [ 16.726023]], dtype=float32)"
      ]
     },
     "execution_count": 11,
     "metadata": {},
     "output_type": "execute_result"
    }
   ],
   "source": [
    "input_x_test = torch.from_numpy(X_test)\n",
    "\n",
    "predicted = model(input_x_test.float()).data.numpy()\n",
    "\n",
    "predicted[0:5]"
   ]
  },
  {
   "cell_type": "code",
   "execution_count": 12,
   "metadata": {},
   "outputs": [
    {
     "data": {
      "text/plain": [
       "38.49951171875"
      ]
     },
     "execution_count": 12,
     "metadata": {},
     "output_type": "execute_result"
    }
   ],
   "source": [
    "loss.data.item() # mse"
   ]
  },
  {
   "cell_type": "code",
   "execution_count": 13,
   "metadata": {},
   "outputs": [
    {
     "data": {
      "text/plain": [
       "6.204797476046257"
      ]
     },
     "execution_count": 13,
     "metadata": {},
     "output_type": "execute_result"
    }
   ],
   "source": [
    "np.sqrt(loss.data.item()) # rmse"
   ]
  },
  {
   "cell_type": "code",
   "execution_count": 14,
   "metadata": {},
   "outputs": [
    {
     "data": {
      "image/png": "[encoded data removed]",
      "text/plain": [
       "<Figure size 640x480 with 1 Axes>"
      ]
     },
     "metadata": {},
     "output_type": "display_data"
    }
   ],
   "source": [
    "X_test = torch.from_numpy(X_test)\n",
    "\n",
    "plt.plot(y_test, label='real')\n",
    "plt.plot(model(X_test).detach().numpy(), label='pred')\n",
    "plt.legend()\n",
    "plt.show()"
   ]
  },
  {
   "cell_type": "code",
   "execution_count": null,
   "metadata": {},
   "outputs": [],
   "source": []
  }
 ],
 "metadata": {
  "kernelspec": {
   "display_name": "Python 3",
   "language": "python",
   "name": "python3"
  },
  "language_info": {
   "codemirror_mode": {
    "name": "ipython",
    "version": 3
   },
   "file_extension": ".py",
   "mimetype": "text/x-python",
   "name": "python",
   "nbconvert_exporter": "python",
   "pygments_lexer": "ipython3",
   "version": "3.9.13"
  },
  "orig_nbformat": 4
 },
 "nbformat": 4,
 "nbformat_minor": 2
}
