{
 "cells": [
  {
   "cell_type": "markdown",
   "metadata": {},
   "source": [
    "# 6) 문서요약(BERT)"
   ]
  },
  {
   "cell_type": "code",
   "execution_count": 1,
   "metadata": {},
   "outputs": [
    {
     "name": "stderr",
     "output_type": "stream",
     "text": [
      "All PyTorch model weights were used when initializing TFBartForConditionalGeneration.\n",
      "\n",
      "All the weights of TFBartForConditionalGeneration were initialized from the PyTorch model.\n",
      "If your task is similar to the task the model of the checkpoint was trained on, you can already use TFBartForConditionalGeneration for predictions without further training.\n",
      "Downloading (…)olve/main/vocab.json: 100%|██████████| 899k/899k [00:00<00:00, 1.15MB/s]\n",
      "c:\\Python3.9.13\\lib\\site-packages\\huggingface_hub\\file_download.py:133: UserWarning: `huggingface_hub` cache-system uses symlinks by default to efficiently store duplicated files but your machine does not support them in C:\\Users\\tjoeun\\.cache\\huggingface\\hub. Caching files will still work but in a degraded version that might require more space on your disk. This warning can be disabled by setting the `HF_HUB_DISABLE_SYMLINKS_WARNING` environment variable. For more details, see https://huggingface.co/docs/huggingface_hub/how-to-cache#limitations.\n",
      "To support symlinks on Windows, you either need to activate Developer Mode or to run Python as an administrator. In order to see activate developer mode, see this article: https://docs.microsoft.com/en-us/windows/apps/get-started/enable-your-device-for-development\n",
      "  warnings.warn(message)\n",
      "Downloading (…)olve/main/merges.txt: 100%|██████████| 456k/456k [00:00<00:00, 788kB/s]\n"
     ]
    }
   ],
   "source": [
    "from transformers import BartTokenizer, TFBartForConditionalGeneration\n",
    "\n",
    "# 모델 및 토크나이저 불러오기\n",
    "\n",
    "model = TFBartForConditionalGeneration.from_pretrained('facebook/bart-base')\n",
    "\n",
    "tokenizer = BartTokenizer.from_pretrained('facebook/bart-base')"
   ]
  },
  {
   "cell_type": "code",
   "execution_count": 2,
   "metadata": {},
   "outputs": [
    {
     "name": "stdout",
     "output_type": "stream",
     "text": [
      "before:\n",
      "\n",
      "Google LLC is an American multinational technology company focusing on search engine technology, online advertising, cloud computing, computer software, quantum computing, e-commerce, artificial intelligence,[9] and consumer electronics. It has been referred to as \"the most powerful company in the world\"[10] and one of the world's most valuable brands due to its market dominance, data collection, and technological advantages in the area of artificial intelligence.[11][12][13] Its parent company Alphabet is considered one of the Big Five American information technology companies, alongside Amazon, Apple, Meta, and Microsoft.\n",
      "Google was founded on September 4, 1998, by Larry Page and Sergey Brin while they were PhD students at Stanford University in California. Together they own about 14% of its publicly listed shares and control 56% of the stockholder voting power through super-voting stock. The company went public via an initial public offering (IPO) in 2004. In 2015, Google was reorganized as a wholly owned subsidiary of Alphabet Inc. Google is Alphabet's largest subsidiary and is a holding company for Alphabet's Internet properties and interests. Sundar Pichai was appointed CEO of Google on October 24, 2015, replacing Larry Page, who became the CEO of Alphabet. On December 3, 2019, Pichai also became the CEO of Alphabet.[14]\n",
      "The company has since rapidly grown to offer a multitude of products and services beyond Google Search, many of which hold dominant market positions. These products address a wide range of use cases, including email (Gmail), navigation (Waze & Maps), cloud computing (Cloud), web browsing (Chrome), video sharing (YouTube), productivity (Workspace), operating systems (Android), cloud storage (Drive), language translation (Translate), photo storage (Photos), video calling (Meet), smart home (Nest), smartphones (Pixel), wearable technology (Pixel Watch & Fitbit), music streaming (YouTube Music), video on demand (YouTube TV), artificial intelligence (Google Assistant), machine learning APIs (TensorFlow), AI chips (TPU), and more. Discontinued Google products include gaming (Stadia), Glass,[citation needed] Google+, Reader, Play Music, Nexus, Hangouts, and Inbox by Gmail.[15][16]\n",
      "Google's other ventures outside of Internet services and consumer electronics include quantum computing (Sycamore), self-driving cars (Waymo, formerly the Google Self-Driving Car Project), smart cities (Sidewalk Labs), and transformer models (Google Brain).[17]\n",
      "Google and YouTube are the two most visited websites worldwide followed by Facebook and Twitter. Google is also the largest search engine, mapping and navigation application, email provider, office suite, video sharing platform, photo and cloud storage provider, mobile operating system, web browser, ML framework, and AI virtual assistant provider in the world as measured by market share. On the list of most valuable brands, Google is ranked second by Forbes[18] and fourth by Interbrand.[19] It has received significant criticism involving issues such as privacy concerns, tax avoidance, censorship, search neutrality, antitrust and abuse of its monopoly position.\n",
      "\n",
      "after:\n",
      "Google LLC is an American multinational technology company focusing on search engine technology, online advertising, cloud computing, computer software, quantum computing, e-commerce, artificial intelligence and consumer electronics. It has been referred to as \"the most powerful company in the world and one of the world's most valuable brands due to its market dominance, data collection, and technological advantages in the area of artificial intelligence Its parent company Alphabet is considered one of the Big Five American information technology companies, alongside Amazon, Apple, Meta, and Microsoft.Google was founded on September 4, 1998, by Larry Page and Sergey Brin while they were PhD students at Stanford University in California. Together they own about 14% of its publicly listed shares and control 56% of the stockholder voting power through super-voting stock. The company went public via an initial public offering (IPO) in 2004. In 2015, Google was reorganized as a wholly owned subsidiary of Alphabet Inc. Google is Alphabet's largest subsidiary and is a holding company for Alphabet's Internet properties and interests. Sundar Pichai was appointed CEO of Google on October 24, 2015, replacing Larry Page, who became the CEO of Alphabet. On December 3, 2019, Pichai also became the CEO of AlphabetThe company has since rapidly grown to offer a multitude of products and services beyond Google Search, many of which hold dominant market positions. These products address a wide range of use cases, including email (Gmail), navigation (Waze & Maps), cloud computing (Cloud), web browsing (Chrome), video sharing (YouTube), productivity (Workspace), operating systems (Android), cloud storage (Drive), language translation (Translate), photo storage (Photos), video calling (Meet), smart home (Nest), smartphones (Pixel), wearable technology (Pixel Watch & Fitbit), music streaming (YouTube Music), video on demand (YouTube TV), artificial intelligence (Google Assistant), machine learning APIs (TensorFlow), AI chips (TPU), and more. Discontinued Google products include gaming (Stadia), Glass,[citation needed] Google+, Reader, Play Music, Nexus, Hangouts, and Inbox by GmailGoogle's other ventures outside of Internet services and consumer electronics include quantum computing (Sycamore), self-driving cars (Waymo, formerly the Google Self-Driving Car Project), smart cities (Sidewalk Labs), and transformer models (Google Brain)Google and YouTube are the two most visited websites worldwide followed by Facebook and Twitter. Google is also the largest search engine, mapping and navigation application, email provider, office suite, video sharing platform, photo and cloud storage provider, mobile operating system, web browser, ML framework, and AI virtual assistant provider in the world as measured by market share. On the list of most valuable brands, Google is ranked second by Forbe and fourth by Interbrand It has received significant criticism involving issues such as privacy concerns, tax avoidance, censorship, search neutrality, antitrust and abuse of its monopoly position.\n"
     ]
    }
   ],
   "source": [
    "import re\n",
    "\n",
    "article = \"\"\"\n",
    "Google LLC is an American multinational technology company focusing on search engine technology,\n",
    "online advertising, cloud computing, computer software, quantum computing, e-commerce, artificial\n",
    "intelligence,[9] and consumer electronics. It has been referred to as \"the most powerful company\n",
    "in the world\"[10] and one of the world's most valuable brands due to its market dominance,\n",
    "data collection, and technological advantages in the area of artificial intelligence.\n",
    "[11][12][13] Its parent company Alphabet is considered one of the Big Five American information\n",
    "technology companies, alongside Amazon, Apple, Meta, and Microsoft.\n",
    "Google was founded on September 4, 1998, by Larry Page and Sergey Brin while they were PhD students\n",
    " at Stanford University in California. Together they own about 14% of its publicly listed\n",
    " shares and control 56% of the stockholder voting power through super-voting stock. The company\n",
    " went public via an initial public offering (IPO) in 2004. In 2015, Google was reorganized as \n",
    " a wholly owned subsidiary of Alphabet Inc. Google is Alphabet's largest subsidiary and is a holding company for Alphabet's Internet properties and interests. Sundar Pichai was appointed CEO of Google on October 24, 2015, replacing Larry Page, who became the CEO of Alphabet. On December 3, 2019, Pichai also became the CEO of Alphabet.[14]\n",
    "The company has since rapidly grown to offer a multitude of products and services beyond Google \n",
    "Search, many of which hold dominant market positions. These products address a wide range of use \n",
    "cases, including email (Gmail), navigation (Waze & Maps), cloud computing (Cloud), web browsing \n",
    "(Chrome), video sharing (YouTube), productivity (Workspace), operating systems (Android), \n",
    "cloud storage (Drive), language translation (Translate), photo storage (Photos), video calling \n",
    "(Meet), smart home (Nest), smartphones (Pixel), wearable technology (Pixel Watch & Fitbit), \n",
    "music streaming (YouTube Music), video on demand (YouTube TV), artificial intelligence \n",
    "(Google Assistant), machine learning APIs (TensorFlow), AI chips (TPU), and more. Discontinued \n",
    "Google products include gaming (Stadia), Glass,[citation needed] Google+, Reader, Play Music, \n",
    "Nexus, Hangouts, and Inbox by Gmail.[15][16]\n",
    "Google's other ventures outside of Internet services and consumer electronics include quantum \n",
    "computing (Sycamore), self-driving cars (Waymo, formerly the Google Self-Driving Car Project), \n",
    "smart cities (Sidewalk Labs), and transformer models (Google Brain).[17]\n",
    "Google and YouTube are the two most visited websites worldwide followed by Facebook and Twitter.\n",
    "Google is also the largest search engine, mapping and navigation application, email provider, \n",
    "office suite, video sharing platform, photo and cloud storage provider, mobile operating system, \n",
    "web browser, ML framework, and AI virtual assistant provider in the world as measured by market \n",
    "share. On the list of most valuable brands, Google is ranked second by Forbes[18] and fourth by \n",
    "Interbrand.[19] It has received significant criticism involving issues such as privacy concerns, \n",
    "tax avoidance, censorship, search neutrality, antitrust and abuse of its monopoly position.\n",
    "\"\"\"\n",
    "\n",
    "print(\"before:\")\n",
    "print(article)\n",
    "\n",
    "article = re.sub(r\"[:.]\\[[0-9]+\\](.*?)\\([0-9]+\\)|.?[([][0-9]+[])]|\\n|\\r\", r\"\", article)\n",
    "\n",
    "#       re      regular expression : 정규 표현식\n",
    "#       sub(패턴, 대체값, 문장)\n",
    "#           [패턴]\n",
    "#           + 반복\n",
    "\n",
    "print(\"after:\")\n",
    "print(article)"
   ]
  },
  {
   "cell_type": "code",
   "execution_count": 3,
   "metadata": {},
   "outputs": [
    {
     "data": {
      "text/plain": [
       "{'input_ids': <tf.Tensor: shape=(1, 609), dtype=int32, numpy=\n",
       "array([[    0, 20441,  2291,    16,    41,   470, 17043,   806,   138,\n",
       "         5650,    15,  1707,  3819,   806,     6,   804,  4579,     6,\n",
       "         3613, 11730,     6,  3034,  2257,     6, 17997, 11730,     6,\n",
       "          364,    12,  8342,     6,  7350,  2316,     8,  2267,  8917,\n",
       "            4,    85,    34,    57,  4997,     7,    25,    22,   627,\n",
       "          144,  2247,   138,    11,     5,   232,     8,    65,     9,\n",
       "            5,   232,    18,   144,  5130,  3595,   528,     7,    63,\n",
       "          210, 12532,     6,   414,  2783,     6,     8,  9874, 12340,\n",
       "           11,     5,   443,     9,  7350,  2316,  3139,  4095,   138,\n",
       "        15023,    16,  1687,    65,     9,     5,  1776,  4934,   470,\n",
       "          335,   806,   451,     6,  2863,  1645,     6,  1257,     6,\n",
       "        37622,     6,     8,  3709,     4, 20441,    21,  4790,    15,\n",
       "          772,   204,     6,  6708,     6,    30,  6045,  7086,     8,\n",
       "        23509,  2265,   179,   150,    51,    58, 15221,   521,    23,\n",
       "         8607,   589,    11,   886,     4, 10853,    51,   308,    59,\n",
       "          501,   207,     9,    63,  3271,  3147,   327,     8,   797,\n",
       "         4772,   207,     9,     5,   388, 14074,  3434,   476,   149,\n",
       "         2422,    12,   705, 12653,   388,     4,    20,   138,   439,\n",
       "          285,  1241,    41,  2557,   285,  1839,    36,  3808,   673,\n",
       "           43,    11,  4482,     4,    96,   570,     6,  1204,    21,\n",
       "          769, 29835,    25,    10, 16123,  2164,  8540,     9, 15023,\n",
       "          603,     4,  1204,    16, 15023,    18,  1154,  8540,     8,\n",
       "           16,    10,  1826,   138,    13, 15023,    18,  3742,  3611,\n",
       "            8,  3168,     4, 12282,   271,   221,  1725,  1439,    21,\n",
       "         3873,  1324,     9,  1204,    15,   779,   706,     6,   570,\n",
       "            6,  8119,  6045,  7086,     6,    54,  1059,     5,  1324,\n",
       "            9, 15023,     4,   374,   719,   155,     6,   954,     6,\n",
       "          221,  1725,  1439,    67,  1059,     5,  1324,     9, 15023,\n",
       "          133,   138,    34,   187,  6042,  3831,     7,   904,    10,\n",
       "        25180,     9,   785,     8,   518,  1684,  1204, 12180,     6,\n",
       "          171,     9,    61,   946,  7353,   210,  2452,     4,  1216,\n",
       "          785,  1100,    10,  1810,  1186,     9,   304,  1200,     6,\n",
       "          217,  1047,    36,   534,  6380,   238, 14461,    36,   771,\n",
       "        10129,   359, 21089,   238,  3613, 11730,    36, 14438,   238,\n",
       "         3748, 24033,    36,  4771, 20169,   238,   569,  3565,    36,\n",
       "        36169,   238,  8106,    36, 26025, 18851,   238,  1633,  1743,\n",
       "           36, 42375,   238,  3613,  3521,    36, 29279,   238,  2777,\n",
       "        19850,    36, 19163, 19593,   238,  1345,  3521,    36, 38580,\n",
       "          238,   569,  1765,    36, 30682,   238,  2793,   184,    36,\n",
       "          487,   990,   238,  7466,    36, 46548,   238, 23541,   806,\n",
       "           36, 46548,  3075,   359, 14950,  5881,   238,   930,  5230,\n",
       "           36, 36169,  3920,   238,   569,    15,  1077,    36, 36169,\n",
       "         1012,   238,  7350,  2316,    36, 20441,  6267,   238,  3563,\n",
       "         2239, 35329,    36,   565, 35354, 41779,   238,  4687,  8053,\n",
       "           36,   565, 16821,   238,     8,    55,     4, 19020,  2533,\n",
       "          179,  6796,  1204,   785,   680,  6548,    36,  5320, 20329,\n",
       "          238, 10352, 47789,   438, 12257,   956,   742,  1204, 30787,\n",
       "        27019,     6,  3902,  3920,     6, 28645,     6, 12403,  4518,\n",
       "            6,     8,    96,  8304,    30, 29004, 20441,    18,    97,\n",
       "        16186,   751,     9,  3742,   518,     8,  2267,  8917,   680,\n",
       "        17997, 11730,    36, 35615, 16767,  1688,   238,  1403,    12,\n",
       "        10241,  1677,    36, 24450,  4992,     6,  9598,     5,  1204,\n",
       "        12156,    12, 34002,  6645,  1653,  3728,   238,  2793,  1947,\n",
       "           36,   104,   808,  2753,  9707, 20404,   238,     8, 40878,\n",
       "         3092,    36, 20441, 19743,    43, 20441,     8,  4037,    32,\n",
       "            5,    80,   144,  3790,  7656,  3612,  1432,    30,   622,\n",
       "            8,   599,     4,  1204,    16,    67,     5,  1154,  1707,\n",
       "         3819,     6, 20410,     8, 14461,  2502,     6,  1047,  3696,\n",
       "            6,   558, 10606,     6,   569,  3565,  1761,     6,  1345,\n",
       "            8,  3613,  3521,  3696,     6,  1830,  1633,   467,     6,\n",
       "         3748, 11407,     6, 10725,  7208,     6,     8,  4687,  6229,\n",
       "         3167,  3696,    11,     5,   232,    25,  9550,    30,   210,\n",
       "          458,     4,   374,     5,   889,     9,   144,  5130,  3595,\n",
       "            6,  1204,    16,  4173,   200,    30,   286,  1610,     8,\n",
       "          887,    30,  3870, 11638,    85,    34,   829,  1233,  3633,\n",
       "         3329,   743,   215,    25,  4144,  1379,     6,   629, 29751,\n",
       "            6, 23915,     6,  1707, 18755,     6, 18849,     8,  2134,\n",
       "            9,    63, 21445,   737,     4,     2]])>, 'attention_mask': <tf.Tensor: shape=(1, 609), dtype=int32, numpy=\n",
       "array([[1, 1, 1, 1, 1, 1, 1, 1, 1, 1, 1, 1, 1, 1, 1, 1, 1, 1, 1, 1, 1, 1,\n",
       "        1, 1, 1, 1, 1, 1, 1, 1, 1, 1, 1, 1, 1, 1, 1, 1, 1, 1, 1, 1, 1, 1,\n",
       "        1, 1, 1, 1, 1, 1, 1, 1, 1, 1, 1, 1, 1, 1, 1, 1, 1, 1, 1, 1, 1, 1,\n",
       "        1, 1, 1, 1, 1, 1, 1, 1, 1, 1, 1, 1, 1, 1, 1, 1, 1, 1, 1, 1, 1, 1,\n",
       "        1, 1, 1, 1, 1, 1, 1, 1, 1, 1, 1, 1, 1, 1, 1, 1, 1, 1, 1, 1, 1, 1,\n",
       "        1, 1, 1, 1, 1, 1, 1, 1, 1, 1, 1, 1, 1, 1, 1, 1, 1, 1, 1, 1, 1, 1,\n",
       "        1, 1, 1, 1, 1, 1, 1, 1, 1, 1, 1, 1, 1, 1, 1, 1, 1, 1, 1, 1, 1, 1,\n",
       "        1, 1, 1, 1, 1, 1, 1, 1, 1, 1, 1, 1, 1, 1, 1, 1, 1, 1, 1, 1, 1, 1,\n",
       "        1, 1, 1, 1, 1, 1, 1, 1, 1, 1, 1, 1, 1, 1, 1, 1, 1, 1, 1, 1, 1, 1,\n",
       "        1, 1, 1, 1, 1, 1, 1, 1, 1, 1, 1, 1, 1, 1, 1, 1, 1, 1, 1, 1, 1, 1,\n",
       "        1, 1, 1, 1, 1, 1, 1, 1, 1, 1, 1, 1, 1, 1, 1, 1, 1, 1, 1, 1, 1, 1,\n",
       "        1, 1, 1, 1, 1, 1, 1, 1, 1, 1, 1, 1, 1, 1, 1, 1, 1, 1, 1, 1, 1, 1,\n",
       "        1, 1, 1, 1, 1, 1, 1, 1, 1, 1, 1, 1, 1, 1, 1, 1, 1, 1, 1, 1, 1, 1,\n",
       "        1, 1, 1, 1, 1, 1, 1, 1, 1, 1, 1, 1, 1, 1, 1, 1, 1, 1, 1, 1, 1, 1,\n",
       "        1, 1, 1, 1, 1, 1, 1, 1, 1, 1, 1, 1, 1, 1, 1, 1, 1, 1, 1, 1, 1, 1,\n",
       "        1, 1, 1, 1, 1, 1, 1, 1, 1, 1, 1, 1, 1, 1, 1, 1, 1, 1, 1, 1, 1, 1,\n",
       "        1, 1, 1, 1, 1, 1, 1, 1, 1, 1, 1, 1, 1, 1, 1, 1, 1, 1, 1, 1, 1, 1,\n",
       "        1, 1, 1, 1, 1, 1, 1, 1, 1, 1, 1, 1, 1, 1, 1, 1, 1, 1, 1, 1, 1, 1,\n",
       "        1, 1, 1, 1, 1, 1, 1, 1, 1, 1, 1, 1, 1, 1, 1, 1, 1, 1, 1, 1, 1, 1,\n",
       "        1, 1, 1, 1, 1, 1, 1, 1, 1, 1, 1, 1, 1, 1, 1, 1, 1, 1, 1, 1, 1, 1,\n",
       "        1, 1, 1, 1, 1, 1, 1, 1, 1, 1, 1, 1, 1, 1, 1, 1, 1, 1, 1, 1, 1, 1,\n",
       "        1, 1, 1, 1, 1, 1, 1, 1, 1, 1, 1, 1, 1, 1, 1, 1, 1, 1, 1, 1, 1, 1,\n",
       "        1, 1, 1, 1, 1, 1, 1, 1, 1, 1, 1, 1, 1, 1, 1, 1, 1, 1, 1, 1, 1, 1,\n",
       "        1, 1, 1, 1, 1, 1, 1, 1, 1, 1, 1, 1, 1, 1, 1, 1, 1, 1, 1, 1, 1, 1,\n",
       "        1, 1, 1, 1, 1, 1, 1, 1, 1, 1, 1, 1, 1, 1, 1, 1, 1, 1, 1, 1, 1, 1,\n",
       "        1, 1, 1, 1, 1, 1, 1, 1, 1, 1, 1, 1, 1, 1, 1, 1, 1, 1, 1, 1, 1, 1,\n",
       "        1, 1, 1, 1, 1, 1, 1, 1, 1, 1, 1, 1, 1, 1, 1, 1, 1, 1, 1, 1, 1, 1,\n",
       "        1, 1, 1, 1, 1, 1, 1, 1, 1, 1, 1, 1, 1, 1, 1]])>}"
      ]
     },
     "execution_count": 3,
     "metadata": {},
     "output_type": "execute_result"
    }
   ],
   "source": [
    "inputs = tokenizer([article], max_length=1024, return_tensors='tf', truncation=True)\n",
    "inputs"
   ]
  },
  {
   "cell_type": "code",
   "execution_count": 4,
   "metadata": {},
   "outputs": [
    {
     "data": {
      "text/plain": [
       "array([[    0, 20441,  2291,    16,    41,   470, 17043,   806,   138,\n",
       "         5650,    15,  1707,  3819,   806,     6,   804,  4579,     6,\n",
       "         3613, 11730,     6,  3034,  2257,     6, 17997, 11730,     6,\n",
       "          364,    12,  8342,     6,  7350,  2316,     8,  2267,  8917,\n",
       "            4,    85,    34,    57,  4997,     7,    25,    22,   627,\n",
       "          144,  2247,   138,    11,     5,   232,     8,    65,     9,\n",
       "            5,   232,    18,   144,  5130,  3595,   528,     7,    63,\n",
       "          210, 12532,     6,   414,  2783,     6,     8,  9874, 12340,\n",
       "           11,     5,   443,     9,  7350,  2316,  3139,  4095,   138,\n",
       "        15023,    16,  1687,    65,     9,     5,  1776,  4934,   470,\n",
       "          335,   806,   451,     6,  2863,  1645,     6,  1257,     6,\n",
       "        37622,     6,     8,  3709,     4, 20441,    21,  4790,    15,\n",
       "          772,   204,     6,  6708,     6,    30,  6045,  7086,     8,\n",
       "        23509,  2265,   179,   150,    51,    58, 15221,   521,    23,\n",
       "         8607,   589,    11,   886,     4, 10853,    51,   308,    59,\n",
       "          501,   207,     9,    63,  3271,  3147,   327,     8,   797,\n",
       "         4772,   207,     9,     5,   388, 14074,  3434,   476,   149,\n",
       "         2422,    12,   705, 12653,   388,     4,    20,   138,   439,\n",
       "          285,  1241,    41,  2557,   285,  1839,    36,  3808,   673,\n",
       "           43,    11,  4482,     4,    96,   570,     6,  1204,    21,\n",
       "          769, 29835,    25,    10, 16123,  2164,  8540,     9, 15023,\n",
       "          603,     4,  1204,    16, 15023,    18,  1154,  8540,     8,\n",
       "           16,    10,  1826,   138,    13, 15023,    18,  3742,  3611,\n",
       "            8,  3168,     4, 12282,   271,   221,  1725,  1439,    21,\n",
       "         3873,  1324,     9,  1204,    15,   779,   706,     6,   570,\n",
       "            6,  8119,  6045,  7086,     6,    54,  1059,     5,  1324,\n",
       "            9, 15023,     4,   374,   719,   155,     6,   954,     6,\n",
       "          221,  1725,  1439,    67,  1059,     5,  1324,     9, 15023,\n",
       "          133,   138,    34,   187,  6042,  3831,     7,   904,    10,\n",
       "        25180,     9,   785,     8,   518,  1684,  1204, 12180,     6,\n",
       "          171,     9,    61,   946,  7353,   210,  2452,     4,  1216,\n",
       "          785,  1100,    10,  1810,  1186,     9,   304,  1200,     6,\n",
       "          217,  1047,    36,   534,  6380,   238, 14461,    36,   771,\n",
       "        10129,   359, 21089,   238,  3613, 11730,    36, 14438,   238,\n",
       "         3748, 24033,    36,  4771, 20169,   238,   569,  3565,    36,\n",
       "        36169,   238,  8106,    36, 26025, 18851,   238,  1633,  1743,\n",
       "           36, 42375,   238,  3613,  3521,    36, 29279,   238,  2777,\n",
       "        19850,    36, 19163, 19593,   238,  1345,  3521,    36, 38580,\n",
       "          238,   569,  1765,    36, 30682,   238,  2793,   184,    36,\n",
       "          487,   990,   238,  7466,    36, 46548,   238, 23541,   806,\n",
       "           36, 46548,  3075,   359, 14950,  5881,   238,   930,  5230,\n",
       "           36, 36169,  3920,   238,   569,    15,  1077,    36, 36169,\n",
       "         1012,   238,  7350,  2316,    36, 20441,  6267,   238,  3563,\n",
       "         2239, 35329,    36,   565, 35354, 41779,   238,  4687,  8053,\n",
       "           36,   565, 16821,   238,     8,    55,     4, 19020,  2533,\n",
       "          179,  6796,  1204,   785,   680,  6548,    36,  5320, 20329,\n",
       "          238, 10352, 47789,   438, 12257,   956,   742,  1204, 30787,\n",
       "        27019,     6,  3902,  3920,     6, 28645,     6, 12403,  4518,\n",
       "            6,     8,    96,  8304,    30, 29004, 20441,    18,    97,\n",
       "        16186,   751,     9,  3742,   518,     8,  2267,  8917,   680,\n",
       "        17997, 11730,    36, 35615, 16767,  1688,   238,  1403,    12,\n",
       "        10241,  1677,    36, 24450,  4992,     6,  9598,     5,  1204,\n",
       "        12156,    12, 34002,  6645,  1653,  3728,   238,  2793,  1947,\n",
       "           36,   104,   808,  2753,  9707, 20404,   238,     8, 40878,\n",
       "         3092,    36, 20441, 19743,    43, 20441,     8,  4037,    32,\n",
       "            5,    80,   144,  3790,  7656,  3612,  1432,    30,   622,\n",
       "            8,   599,     4,  1204,    16,    67,     5,  1154,  1707,\n",
       "         3819,     6, 20410,     8, 14461,  2502,     6,  1047,  3696,\n",
       "            6,   558, 10606,     6,   569,  3565,  1761,     6,  1345,\n",
       "            8,  3613,  3521,  3696,     6,  1830,  1633,   467,     6,\n",
       "         3748, 11407,     6, 10725,  7208,     6,     8,  4687,  6229,\n",
       "         3167,  3696,    11,     5,   232,    25,  9550,    30,   210,\n",
       "          458,     4,   374,     5,   889,     9,   144,  5130,  3595,\n",
       "            6,  1204,    16,  4173,   200,    30,   286,  1610,     8,\n",
       "          887,    30,  3870, 11638,    85,    34,   829,  1233,  3633,\n",
       "         3329,   743,   215,    25,  4144,  1379,     6,   629, 29751,\n",
       "            6, 23915,     6,  1707, 18755,     6, 18849,     8,  2134,\n",
       "            9,    63, 21445,   737,     4,     2]])"
      ]
     },
     "execution_count": 4,
     "metadata": {},
     "output_type": "execute_result"
    }
   ],
   "source": [
    "inputs['input_ids'].numpy()"
   ]
  },
  {
   "cell_type": "code",
   "execution_count": 5,
   "metadata": {},
   "outputs": [
    {
     "data": {
      "text/plain": [
       "<tf.Tensor: shape=(1, 25), dtype=int32, numpy=\n",
       "array([[    2,     0, 20441,  2291,    16,    41,   470, 17043,   806,\n",
       "          138,  5650,    15,  1707,  3819,   806,     6,   804,  4579,\n",
       "            6,  3613, 11730,     6,  3034,  2257,     2]])>"
      ]
     },
     "execution_count": 5,
     "metadata": {},
     "output_type": "execute_result"
    }
   ],
   "source": [
    "# 문장 요약 생성 결과(vocabulary ID)를 summary_ids에 저장\n",
    "# num_beams : 의미있는 문장 후보군의 수\n",
    "\n",
    "summary_ids = model.generate(inputs['input_ids'], num_beams=5, max_length=25)\n",
    "summary_ids"
   ]
  },
  {
   "cell_type": "code",
   "execution_count": 6,
   "metadata": {},
   "outputs": [
    {
     "name": "stdout",
     "output_type": "stream",
     "text": [
      "Google LLC is an American multinational technology company focusing on search engine technology, online advertising, cloud computing, computer software\n"
     ]
    }
   ],
   "source": [
    "print(''.join([tokenizer.decode(g, skip_special_tokens=True, clean_up_tokenization_spaces=False) for g in summary_ids]))"
   ]
  }
 ],
 "metadata": {
  "kernelspec": {
   "display_name": "Python 3",
   "language": "python",
   "name": "python3"
  },
  "language_info": {
   "codemirror_mode": {
    "name": "ipython",
    "version": 3
   },
   "file_extension": ".py",
   "mimetype": "text/x-python",
   "name": "python",
   "nbconvert_exporter": "python",
   "pygments_lexer": "ipython3",
   "version": "3.9.13"
  },
  "orig_nbformat": 4
 },
 "nbformat": 4,
 "nbformat_minor": 2
}
