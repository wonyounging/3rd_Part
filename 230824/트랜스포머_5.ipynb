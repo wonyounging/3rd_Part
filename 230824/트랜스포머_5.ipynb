{
 "cells": [
  {
   "cell_type": "markdown",
   "metadata": {},
   "source": [
    "# 5) 감성분석(BERT)"
   ]
  },
  {
   "cell_type": "code",
   "execution_count": 23,
   "metadata": {},
   "outputs": [],
   "source": [
    "#       pretrained model        transfer learning\n",
    "#       사전학습된 모델          전이학습\n",
    "\n",
    "\n",
    "#       fine tuning(파인 튜닝)\n",
    "\n",
    "#       A model\n",
    "#               input\n",
    "#               hidden-1\n",
    "#               ...\n",
    "#               hiddend-n\n",
    "#               ouput\n",
    "#       Model\n",
    "#               A\n",
    "#               hidden\n",
    "#               hidden\n",
    "#               output"
   ]
  },
  {
   "cell_type": "code",
   "execution_count": 24,
   "metadata": {},
   "outputs": [
    {
     "name": "stderr",
     "output_type": "stream",
     "text": [
      "Some weights of BertForSequenceClassification were not initialized from the model checkpoint at bert-base-cased and are newly initialized: ['classifier.weight', 'classifier.bias']\n",
      "You should probably TRAIN this model on a down-stream task to be able to use it for predictions and inference.\n"
     ]
    }
   ],
   "source": [
    "from transformers import AutoTokenizer, AutoModelForSequenceClassification\n",
    "\n",
    "# 모델 및 토크나이저 불러오기\n",
    "\n",
    "tokenizer = AutoTokenizer.from_pretrained('bert-base-cased')\n",
    "#    토크나이저 - 형태소 분석 => 정수 인코딩\n",
    "model = AutoModelForSequenceClassification.from_pretrained(\"bert-base-cased\", num_labels=3)\n",
    "#                분류모델                                              대소문자 구별     분류 클래스 수\n",
    "\n",
    "# 사전훈련된 모델\n",
    "#       up-stream 작업 : \n",
    "# 파인 튜닝 모델\n",
    "#       down-stream 작업 : 사전학습 모델을 불러온 후 추가로 처리하고자 하는 작업"
   ]
  },
  {
   "cell_type": "code",
   "execution_count": 25,
   "metadata": {},
   "outputs": [],
   "source": [
    "import torch\n",
    "\n",
    "# 긍정/부정 데이터셋 준비\n",
    "dic = {0:'positive', 1:'neutral', 2:'negative'}\n",
    "eval_list = [\"I like apple\", \"I like pear\", \"I go to school\", \"I dislike mosquito\", \"I felt very sad\", \"I feel so good\"]\n",
    "\n",
    "ans = torch.tensor([0, 0, 1, 2, 2, 0])"
   ]
  },
  {
   "cell_type": "code",
   "execution_count": 26,
   "metadata": {},
   "outputs": [
    {
     "name": "stdout",
     "output_type": "stream",
     "text": [
      "tensor([[  101,   146,  1176, 12075,   102]])\n",
      "SequenceClassifierOutput(loss=None, logits=tensor([[0.3028, 0.3942, 0.1031]]), hidden_states=None, attentions=None)\n",
      "neutral : I like apple\n",
      "tensor([[  101,   146,  1176,   185, 19386,   102]])\n",
      "SequenceClassifierOutput(loss=None, logits=tensor([[0.3138, 0.3419, 0.1476]]), hidden_states=None, attentions=None)\n",
      "neutral : I like pear\n",
      "tensor([[ 101,  146, 1301, 1106, 1278,  102]])\n",
      "SequenceClassifierOutput(loss=None, logits=tensor([[0.2042, 0.3836, 0.1133]]), hidden_states=None, attentions=None)\n",
      "neutral : I go to school\n",
      "tensor([[  101,   146, 20662,   182,  2155, 21594,   102]])\n",
      "SequenceClassifierOutput(loss=None, logits=tensor([[0.2959, 0.3428, 0.1383]]), hidden_states=None, attentions=None)\n",
      "neutral : I dislike mosquito\n",
      "tensor([[ 101,  146, 1464, 1304, 6782,  102]])\n",
      "SequenceClassifierOutput(loss=None, logits=tensor([[ 0.2840,  0.4008, -0.0005]]), hidden_states=None, attentions=None)\n",
      "neutral : I felt very sad\n",
      "tensor([[ 101,  146, 1631, 1177, 1363,  102]])\n",
      "SequenceClassifierOutput(loss=None, logits=tensor([[0.3241, 0.3719, 0.0780]]), hidden_states=None, attentions=None)\n",
      "neutral : I feel so good\n"
     ]
    }
   ],
   "source": [
    "# 파인 튜닝을 하지 않고 테스트\n",
    "\n",
    "model.eval()  # 추론모드 x\n",
    "\n",
    "with torch.no_grad(): # 가중치 업데이트 x\n",
    "  for article in eval_list:\n",
    "    inputs = tokenizer.encode(article, return_tensors=\"pt\",padding=True, truncation=True)\n",
    "    print(inputs)\n",
    "    outputs = model(inputs)\n",
    "    print(outputs)\n",
    "    logits = outputs.logits\n",
    "    print(f\"{dic[logits.argmax(-1).item()]} : {article}\")\n",
    "#결과가 중립으로 나타남, 학습이 필요한 상태임"
   ]
  },
  {
   "cell_type": "code",
   "execution_count": 27,
   "metadata": {},
   "outputs": [
    {
     "name": "stdout",
     "output_type": "stream",
     "text": [
      "epoch:1, loss:1.1955610513687134\n",
      "epoch:2, loss:1.0080581903457642\n",
      "epoch:3, loss:1.0518878698349\n",
      "epoch:4, loss:1.0362719297409058\n",
      "epoch:5, loss:0.9171051383018494\n",
      "epoch:6, loss:0.8837254643440247\n",
      "epoch:7, loss:0.9195280075073242\n",
      "epoch:8, loss:0.834391176700592\n",
      "epoch:9, loss:0.8376151919364929\n",
      "epoch:10, loss:0.7859699726104736\n",
      "epoch:11, loss:0.7980906963348389\n",
      "epoch:12, loss:0.7182087302207947\n",
      "epoch:13, loss:0.637240469455719\n",
      "epoch:14, loss:0.7296583652496338\n",
      "epoch:15, loss:0.6730716824531555\n",
      "epoch:16, loss:0.6495402455329895\n",
      "epoch:17, loss:0.6037158370018005\n",
      "epoch:18, loss:0.5633955001831055\n",
      "epoch:19, loss:0.5893463492393494\n",
      "epoch:20, loss:0.5602310299873352\n",
      "epoch:21, loss:0.4829390347003937\n",
      "epoch:22, loss:0.5005581974983215\n",
      "epoch:23, loss:0.5610405206680298\n",
      "epoch:24, loss:0.48284903168678284\n",
      "epoch:25, loss:0.5281530618667603\n",
      "epoch:26, loss:0.49215421080589294\n",
      "epoch:27, loss:0.4492703378200531\n",
      "epoch:28, loss:0.44396793842315674\n",
      "epoch:29, loss:0.45562246441841125\n",
      "epoch:30, loss:0.39348307251930237\n",
      "epoch:31, loss:0.35318318009376526\n",
      "epoch:32, loss:0.4114570617675781\n",
      "epoch:33, loss:0.3869572877883911\n",
      "epoch:34, loss:0.3599516451358795\n",
      "epoch:35, loss:0.31427377462387085\n",
      "epoch:36, loss:0.32712438702583313\n",
      "epoch:37, loss:0.31825000047683716\n",
      "epoch:38, loss:0.32984498143196106\n",
      "epoch:39, loss:0.3724435865879059\n",
      "epoch:40, loss:0.30469340085983276\n",
      "epoch:41, loss:0.22629351913928986\n",
      "epoch:42, loss:0.2525682747364044\n",
      "epoch:43, loss:0.27446362376213074\n",
      "epoch:44, loss:0.2560095489025116\n",
      "epoch:45, loss:0.2557673156261444\n",
      "epoch:46, loss:0.23532672226428986\n",
      "epoch:47, loss:0.2786671221256256\n",
      "epoch:48, loss:0.26354947686195374\n",
      "epoch:49, loss:0.1852782815694809\n",
      "epoch:50, loss:0.21869619190692902\n"
     ]
    }
   ],
   "source": [
    "from torch.optim import AdamW\n",
    "\n",
    "optimizer = AdamW(model.parameters(), lr=1e-5)\n",
    "#                                       학습률\n",
    "model.train()   # 학습모드로 전환\n",
    "epochs = 50\n",
    "losses = []\n",
    "\n",
    "for epoch in range(epochs):\n",
    "    optimizer.zero_grad()   # 가중치 초기화\n",
    "    inputs = tokenizer.batch_encode_plus(eval_list, return_tensors=\"pt\", padding=True, truncation=True)\n",
    "#                                                                                         미니배치로 여러개 한꺼번에 처리\n",
    "    outputs = model(**inputs, labels=ans)\n",
    "#                    ** 딕셔너리\n",
    "    logits = outputs.logits\n",
    "    loss = outputs.loss     # 손실\n",
    "    # 오차역전파\n",
    "    loss.backward()     # 계산\n",
    "    # 가중치(weight) 업데이트\n",
    "    optimizer.step()\n",
    "    losses.append(loss)\n",
    "\n",
    "    print(f\"epoch:{epoch+1}, loss:{loss}\")"
   ]
  },
  {
   "cell_type": "code",
   "execution_count": 28,
   "metadata": {},
   "outputs": [],
   "source": [
    "new_losses = [i.item() for i in losses]"
   ]
  },
  {
   "cell_type": "code",
   "execution_count": 29,
   "metadata": {},
   "outputs": [
    {
     "data": {
      "text/plain": [
       "[<matplotlib.lines.Line2D at 0x1b499949f70>]"
      ]
     },
     "execution_count": 29,
     "metadata": {},
     "output_type": "execute_result"
    },
    {
     "data": {
      "image/png": "[encoded data removed]",
      "text/plain": [
       "<Figure size 640x480 with 1 Axes>"
      ]
     },
     "metadata": {},
     "output_type": "display_data"
    }
   ],
   "source": [
    "import matplotlib.pyplot as plt\n",
    "\n",
    "plt.plot(new_losses)"
   ]
  },
  {
   "cell_type": "code",
   "execution_count": 30,
   "metadata": {},
   "outputs": [
    {
     "name": "stdout",
     "output_type": "stream",
     "text": [
      "positive:I like apple\n",
      "positive:I like pear\n",
      "neutral:I go to school\n",
      "negative:I dislike mosquito\n",
      "negative:I felt very sad\n",
      "positive:I feel so good\n"
     ]
    }
   ],
   "source": [
    "# 파인 튜닝 이후 추론\n",
    "\n",
    "dic = {0:'positive', 1:'neutral', 2:'negative'}\n",
    "eval_list = [\"I like apple\", \"I like pear\", \"I go to school\", \"I dislike mosquito\", \"I felt very sad\", \"I feel so good\"]\n",
    "model.eval()\n",
    "preds = []\n",
    "\n",
    "with torch.no_grad():\n",
    "  for article in eval_list:\n",
    "    inputs = tokenizer.encode(article, return_tensors=\"pt\",padding=True, truncation=True)\n",
    "    outputs = model(inputs)\n",
    "    logits = outputs.logits\n",
    "    pred = logits.argmax(-1).item()\n",
    "    preds.append(logits.argmax(-1).item())\n",
    "\n",
    "    print(f\"{dic[pred]}:{article}\")\n",
    "# 파인튜닝 이후 성능이 개선됨"
   ]
  },
  {
   "cell_type": "code",
   "execution_count": 31,
   "metadata": {},
   "outputs": [
    {
     "data": {
      "text/plain": [
       "tensor([0, 0, 1, 2, 2, 0])"
      ]
     },
     "execution_count": 31,
     "metadata": {},
     "output_type": "execute_result"
    }
   ],
   "source": [
    "import torch\n",
    "\n",
    "preds = torch.tensor(preds)\n",
    "preds"
   ]
  },
  {
   "cell_type": "code",
   "execution_count": 32,
   "metadata": {},
   "outputs": [
    {
     "name": "stdout",
     "output_type": "stream",
     "text": [
      "Accuracy:100.0%\n"
     ]
    }
   ],
   "source": [
    "print(f\"Accuracy:{100 * sum(ans.detach().clone()==preds)/len(ans.detach().clone())}%\")"
   ]
  },
  {
   "cell_type": "code",
   "execution_count": null,
   "metadata": {},
   "outputs": [],
   "source": []
  }
 ],
 "metadata": {
  "kernelspec": {
   "display_name": "Python 3",
   "language": "python",
   "name": "python3"
  },
  "language_info": {
   "codemirror_mode": {
    "name": "ipython",
    "version": 3
   },
   "file_extension": ".py",
   "mimetype": "text/x-python",
   "name": "python",
   "nbconvert_exporter": "python",
   "pygments_lexer": "ipython3",
   "version": "3.9.13"
  },
  "orig_nbformat": 4
 },
 "nbformat": 4,
 "nbformat_minor": 2
}
