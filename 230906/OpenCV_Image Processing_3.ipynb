{
 "cells": [
  {
   "cell_type": "markdown",
   "metadata": {},
   "source": [
    "### 이미지-픽셀 2"
   ]
  },
  {
   "cell_type": "code",
   "execution_count": 1,
   "metadata": {},
   "outputs": [
    {
     "name": "stdout",
     "output_type": "stream",
     "text": [
      "[[1 1 1 1 1 1 1 1 1 1 1 1 1 1 1 1]\n",
      " [1 1 1 1 1 1 1 1 1 1 1 1 1 1 1 1]\n",
      " [1 1 1 1 1 1 1 1 1 1 1 1 1 1 1 1]\n",
      " [1 0 0 0 0 0 0 0 0 0 0 0 0 1 1 1]\n",
      " [1 0 0 0 0 0 0 0 0 0 0 0 0 1 1 1]\n",
      " [1 1 0 0 0 0 0 0 0 0 0 0 0 1 1 1]\n",
      " [1 1 1 1 1 1 1 1 0 0 0 0 1 1 1 1]\n",
      " [1 1 1 1 1 1 1 1 0 0 0 0 1 1 1 1]\n",
      " [1 1 1 1 1 1 1 1 1 0 0 0 0 1 1 1]\n",
      " [1 1 1 1 1 1 1 1 1 1 0 0 0 1 1 1]\n",
      " [1 1 1 1 1 1 1 1 1 1 0 0 0 0 1 1]\n",
      " [1 1 1 1 1 1 1 1 1 1 0 0 0 0 1 1]\n",
      " [1 1 1 1 1 1 1 1 1 1 1 0 0 0 1 1]\n",
      " [1 1 1 1 1 1 1 1 1 1 1 0 0 1 1 1]\n",
      " [1 1 1 1 1 1 1 1 1 1 1 1 1 1 1 1]\n",
      " [1 1 1 1 1 1 1 1 1 1 1 1 1 1 1 1]]\n",
      "ffffffffffff80078007c007ff0fff0fff87ffc7ffc3ffc3ffe3ffe7ffffffff\n"
     ]
    },
    {
     "data": {
      "text/plain": [
       "-1"
      ]
     },
     "execution_count": 1,
     "metadata": {},
     "output_type": "execute_result"
    }
   ],
   "source": [
    "import cv2\n",
    "\n",
    "img = cv2.imread('c:/workspace3/data/images/pistol.jpg')\n",
    "\n",
    "gray = cv2.cvtColor(img, cv2.COLOR_BGR2GRAY)\n",
    "gray = cv2.resize(gray, (16,16))\n",
    "\n",
    "# 픽셀의 평균값\n",
    "avg = gray.mean()\n",
    "\n",
    "# 평균값을 기준으로 0과 1로 변환\n",
    "bin = 1 * (gray > avg)\n",
    "\n",
    "print(bin)\n",
    "\n",
    "# 2진수 문자열을 16진수 문자열로 변환\n",
    "dhash = []\n",
    "\n",
    "for row in bin.tolist():\n",
    "    s = ''.join([str(i) for i in row])\n",
    "    dhash.append('%02x'%(int(s,2)))  \n",
    "dhash = ''.join(dhash)\n",
    "\n",
    "print(dhash)\n",
    "\n",
    "cv2.namedWindow('pistol', cv2.WINDOW_GUI_NORMAL)\n",
    "cv2.imshow('pistol', img)\n",
    "\n",
    "cv2.waitKey(0)"
   ]
  }
 ],
 "metadata": {
  "kernelspec": {
   "display_name": "Python 3",
   "language": "python",
   "name": "python3"
  },
  "language_info": {
   "codemirror_mode": {
    "name": "ipython",
    "version": 3
   },
   "file_extension": ".py",
   "mimetype": "text/x-python",
   "name": "python",
   "nbconvert_exporter": "python",
   "pygments_lexer": "ipython3",
   "version": "3.9.13"
  },
  "orig_nbformat": 4
 },
 "nbformat": 4,
 "nbformat_minor": 2
}
