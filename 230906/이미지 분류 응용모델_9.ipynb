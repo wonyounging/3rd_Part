{
 "cells": [
  {
   "cell_type": "markdown",
   "metadata": {},
   "source": [
    "### MobileNet-flowers"
   ]
  },
  {
   "cell_type": "code",
   "execution_count": 1,
   "metadata": {},
   "outputs": [
    {
     "data": {
      "text/plain": [
       "['daisy', 'dandelion', 'roses', 'sunflowers', 'tulips']"
      ]
     },
     "execution_count": 1,
     "metadata": {},
     "output_type": "execute_result"
    }
   ],
   "source": [
    "#전이 학습(MobileNet)으로 5 Flowers 이미지 분류\n",
    "#사전 훈련된 이미지 임베딩을 사용해 신경망 구축\n",
    "\n",
    "import matplotlib.pylab as plt\n",
    "import numpy as np\n",
    "import tensorflow as tf\n",
    "\n",
    "IMG_HEIGHT = 224\n",
    "IMG_WIDTH = 224\n",
    "IMG_CHANNELS = 3\n",
    "CLASS_NAMES = ['daisy', 'dandelion', 'roses', 'sunflowers', 'tulips']\n",
    "CLASS_NAMES"
   ]
  },
  {
   "cell_type": "code",
   "execution_count": 4,
   "metadata": {},
   "outputs": [
    {
     "name": "stdout",
     "output_type": "stream",
     "text": [
      "Model: \"sequential\"\n",
      "_________________________________________________________________\n",
      " Layer (type)                Output Shape              Param #   \n",
      "=================================================================\n",
      " keras_layer (KerasLayer)    (None, 1280)              2257984   \n",
      "                                                                 \n",
      " dense (Dense)               (None, 16)                20496     \n",
      "                                                                 \n",
      " dense_1 (Dense)             (None, 5)                 85        \n",
      "                                                                 \n",
      "=================================================================\n",
      "Total params: 2,278,565\n",
      "Trainable params: 20,581\n",
      "Non-trainable params: 2,257,984\n",
      "_________________________________________________________________\n"
     ]
    }
   ],
   "source": [
    "import tensorflow_hub as hub\n",
    "import os\n",
    "\n",
    "os.environ['TFHUB_MODEL_LOAD_FORMAT'] = 'COMPRESSED' #압축된 모형\n",
    "\n",
    "def read_and_decode(filename, reshape_dims):\n",
    "  img = tf.io.read_file(filename)\n",
    "  img = tf.image.decode_jpeg(img, channels=IMG_CHANNELS)\n",
    "  img = tf.image.convert_image_dtype(img, tf.float32)\n",
    "\n",
    "  return tf.image.resize(img, reshape_dims)\n",
    "\n",
    "def decode_csv(csv_row):\n",
    "  record_defaults = [\"path\", \"flower\"]\n",
    "  filename, label_string = tf.io.decode_csv(csv_row, record_defaults)\n",
    "  img = read_and_decode(filename, [IMG_HEIGHT, IMG_WIDTH])\n",
    "  label = tf.argmax(tf.math.equal(CLASS_NAMES, label_string))\n",
    "\n",
    "  return img, label\n",
    "\n",
    "batch_size = 32\n",
    "lrate = 0.001\n",
    "l1 = 0.\n",
    "l2 = 0.\n",
    "num_hidden = 16\n",
    "\n",
    "regularizer = tf.keras.regularizers.l1_l2(l1, l2)\n",
    "\n",
    "train_dataset = (tf.data.TextLineDataset(\"c:/workspace3/data/images/flowers/train_set.csv\").map(decode_csv)).take(100).batch(batch_size)\n",
    "eval_dataset = (tf.data.TextLineDataset(\"c:/workspace3/data/images/flowers/eval_set.csv\").map(decode_csv)).take(20).batch(batch_size)\n",
    "\n",
    "layers = [\n",
    "    hub.KerasLayer(\n",
    "        \"https://tfhub.dev/google/tf2-preview/mobilenet_v2/feature_vector/4\",\n",
    "        input_shape=(IMG_HEIGHT, IMG_WIDTH, IMG_CHANNELS),\n",
    "        trainable=False),\n",
    "\n",
    "    tf.keras.layers.Dense(num_hidden,\n",
    "                          kernel_regularizer=regularizer,\n",
    "                          activation='relu'),\n",
    "\n",
    "    tf.keras.layers.Dense(len(CLASS_NAMES),\n",
    "                          kernel_regularizer=regularizer,\n",
    "                          activation='softmax')\n",
    "]\n",
    "\n",
    "model = tf.keras.Sequential(layers)\n",
    "\n",
    "model.compile(optimizer=tf.keras.optimizers.Adam(learning_rate=lrate),\n",
    "              loss=tf.keras.losses.SparseCategoricalCrossentropy(),\n",
    "              metrics=['accuracy'])\n",
    "\n",
    "model.summary()"
   ]
  }
 ],
 "metadata": {
  "kernelspec": {
   "display_name": "Python 3",
   "language": "python",
   "name": "python3"
  },
  "language_info": {
   "codemirror_mode": {
    "name": "ipython",
    "version": 3
   },
   "file_extension": ".py",
   "mimetype": "text/x-python",
   "name": "python",
   "nbconvert_exporter": "python",
   "pygments_lexer": "ipython3",
   "version": "3.9.13"
  },
  "orig_nbformat": 4
 },
 "nbformat": 4,
 "nbformat_minor": 2
}
