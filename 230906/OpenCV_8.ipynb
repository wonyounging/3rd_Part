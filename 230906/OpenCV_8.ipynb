{
 "cells": [
  {
   "cell_type": "markdown",
   "metadata": {},
   "source": [
    "### 이미지 연결"
   ]
  },
  {
   "cell_type": "code",
   "execution_count": 1,
   "metadata": {},
   "outputs": [],
   "source": [
    "import cv2\n",
    "import numpy as np\n",
    "\n",
    "one = cv2.imread(\"c:/workspace3/data/images/one.jpg\")\n",
    "two = cv2.imread(\"c:/workspace3/data/images/two.jpg\")\n",
    "three = cv2.imread(\"c:/workspace3/data/images/three.jpg\")\n",
    "four = cv2.imread(\"c:/workspace3/data/images/four.jpg\")\n",
    "\n",
    "horizontal1 = np.full((50, one.shape[1], 3), [0, 0, 0], dtype=np.uint8)\n",
    "horizontal2 = np.full((50, two.shape[1], 3), (0, 0, 0), dtype=np.uint8)\n",
    "\n",
    "left = cv2.vconcat((one, horizontal1, three))\n",
    "right = np.vstack((two, horizontal2, four))\n",
    "\n",
    "vertical = np.full((left.shape[0], 50, 3), 0, dtype=np.uint8)\n",
    "\n",
    "dst = cv2.hconcat((left, vertical, right))\n",
    "\n",
    "cv2.imshow(\"dst\", dst)\n",
    "cv2.waitKey()\n",
    "cv2.destroyAllWindows()"
   ]
  }
 ],
 "metadata": {
  "kernelspec": {
   "display_name": "Python 3",
   "language": "python",
   "name": "python3"
  },
  "language_info": {
   "codemirror_mode": {
    "name": "ipython",
    "version": 3
   },
   "file_extension": ".py",
   "mimetype": "text/x-python",
   "name": "python",
   "nbconvert_exporter": "python",
   "pygments_lexer": "ipython3",
   "version": "3.9.13"
  },
  "orig_nbformat": 4
 },
 "nbformat": 4,
 "nbformat_minor": 2
}
