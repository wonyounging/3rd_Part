{
 "cells": [
  {
   "cell_type": "markdown",
   "metadata": {},
   "source": [
    "### 원핫인코딩"
   ]
  },
  {
   "cell_type": "code",
   "execution_count": 1,
   "metadata": {},
   "outputs": [
    {
     "name": "stdout",
     "output_type": "stream",
     "text": [
      "['나', '는', '학교', '에', '간다', '나', '는', '집', '에', '간다']\n"
     ]
    }
   ],
   "source": [
    "#정수인코딩의 단점: 단어의 순서가 없음\n",
    "#원핫인코딩 : 단어의 순서에 맞게 배열\n",
    "\n",
    "from konlpy.tag import Okt  \n",
    "\n",
    "okt=Okt()  \n",
    "\n",
    "#토근화(형태소 분석)\n",
    "\n",
    "token=okt.morphs(\"나는 학교에 간다 나는 집에 간다\")  \n",
    "\n",
    "print(token)"
   ]
  },
  {
   "cell_type": "code",
   "execution_count": 2,
   "metadata": {},
   "outputs": [
    {
     "name": "stdout",
     "output_type": "stream",
     "text": [
      "{'나': 0, '는': 1, '학교': 2, '에': 3, '간다': 4, '집': 5}\n"
     ]
    }
   ],
   "source": [
    "#중복된 단어는 제외하고 단어를 key로 고유한 숫자 인덱스 부여\n",
    "\n",
    "word2index={}\n",
    "\n",
    "for idx,voca in enumerate(token):\n",
    "    if voca not in word2index.keys():\n",
    "        word2index[voca]=len(word2index)\n",
    "print(word2index)"
   ]
  },
  {
   "cell_type": "code",
   "execution_count": 3,
   "metadata": {},
   "outputs": [
    {
     "name": "stdout",
     "output_type": "stream",
     "text": [
      "dict_keys(['나', '는', '학교', '에', '간다', '집'])\n",
      "나 [1, 0, 0, 0, 0, 0]\n",
      "는 [0, 1, 0, 0, 0, 0]\n",
      "학교 [0, 0, 1, 0, 0, 0]\n",
      "에 [0, 0, 0, 1, 0, 0]\n",
      "간다 [0, 0, 0, 0, 1, 0]\n",
      "집 [0, 0, 0, 0, 0, 1]\n"
     ]
    }
   ],
   "source": [
    "#원핫인코딩 함수\n",
    "\n",
    "def one_hot_encoding(word, word2index):\n",
    "    #전체 단어 갯수만큼 0으로 채운 리스트\n",
    "    one_hot_vector = [0]*(len(word2index))\n",
    "\n",
    "    #해당하는 단어의 인덱스를 찾아서\n",
    "    index=word2index[word]\n",
    "\n",
    "    #1로 설정(나머지는 0)\n",
    "    one_hot_vector[index]=1\n",
    "\n",
    "    return one_hot_vector\n",
    "\n",
    "key_list=word2index.keys()\n",
    "\n",
    "print(key_list)\n",
    "\n",
    "for key in key_list:\n",
    "    print(key, one_hot_encoding(key,word2index))"
   ]
  },
  {
   "cell_type": "code",
   "execution_count": 5,
   "metadata": {},
   "outputs": [
    {
     "name": "stdout",
     "output_type": "stream",
     "text": [
      "{'나는': 1, '간다': 2, '학교에': 3, '집에': 4}\n",
      "[1, 4, 2]\n",
      "[[0. 1. 0. 0. 0.]\n",
      " [0. 0. 0. 0. 1.]\n",
      " [0. 0. 1. 0. 0.]]\n"
     ]
    }
   ],
   "source": [
    "#케라스에서 지원하는 원핫인코딩 함수\n",
    "\n",
    "from tensorflow.keras.preprocessing.text import Tokenizer\n",
    "from tensorflow.keras.utils import to_categorical\n",
    "\n",
    "text=\"나는 학교에 간다 나는 집에 간다\"\n",
    "t = Tokenizer()\n",
    "\n",
    "# 각 단어에 대한 정수 인코딩\n",
    "t.fit_on_texts([text])\n",
    "print(t.word_index)\n",
    "\n",
    "sub_text=\"나는 집에 간다\"\n",
    "\n",
    "#각 단어에 매핑된 숫자로 변환된 리스트\n",
    "encoded=t.texts_to_sequences([sub_text])[0]\n",
    "print(encoded)\n",
    "\n",
    "#원핫인코딩\n",
    "one_hot = to_categorical(encoded)\n",
    "print(one_hot)\n",
    "\n"
   ]
  },
  {
   "cell_type": "code",
   "execution_count": null,
   "metadata": {},
   "outputs": [],
   "source": [
    "#원핫인코딩의 단점:\n",
    "# 단어 갯수가 많아지면 변수의 갯수가 많아지게 됨\n",
    "# 메모리 활용의 비효율성: 변수가 100개 있다면 99개의 0과 1개의 0으로 구성됨\n",
    "# 비슷한 단어들의 유사성을 표현하기 어려움\n",
    "#   강아지 [0,1,1]와 개 [1,0,0] 이라면 비슷한 단어이지만 유사성을 찾기 어려움\n",
    "# 유사성을 찾기 위한 방법으로 LSA, RNN, Word2Vec 등의 방법이 있음"
   ]
  }
 ],
 "metadata": {
  "kernelspec": {
   "display_name": "Python 3",
   "language": "python",
   "name": "python3"
  },
  "language_info": {
   "codemirror_mode": {
    "name": "ipython",
    "version": 3
   },
   "file_extension": ".py",
   "mimetype": "text/x-python",
   "name": "python",
   "nbconvert_exporter": "python",
   "pygments_lexer": "ipython3",
   "version": "3.9.13"
  },
  "orig_nbformat": 4
 },
 "nbformat": 4,
 "nbformat_minor": 2
}
