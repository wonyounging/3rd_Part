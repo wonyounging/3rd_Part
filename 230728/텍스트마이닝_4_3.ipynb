{
 "cells": [
  {
   "cell_type": "markdown",
   "metadata": {},
   "source": [
    "### BOW(Bag Of Words)"
   ]
  },
  {
   "cell_type": "code",
   "execution_count": 29,
   "metadata": {},
   "outputs": [
    {
     "name": "stdout",
     "output_type": "stream",
     "text": [
      "{'비': 0, '가': 1, '오니': 2, '마음': 3, '이': 4, '차분해지네요': 5, '요즘': 6, '너무': 7, '더웠어요': 8, '기쁘네요': 9}\n"
     ]
    }
   ],
   "source": [
    "# Bag of Words(BoW) : 단어의 등장 순서를 고려하지 않는 빈도수 기반의 텍스트 데이터의 수치화 방법\n",
    "# 가방에 단어들을 넣으면 순서가 중요하지 않음\n",
    "# 각 단어에 고유한 인덱스를 부여하고\n",
    "# 각 인덱스의 위치에 단어의 출현 횟수를 저장\n",
    "\n",
    "from konlpy.tag import Okt\n",
    "import re  \n",
    "\n",
    "okt=Okt()  \n",
    "\n",
    "token=re.sub(\"[.!#~]\",\"\", '비가 오니 마음이 차분해지네요. 요즘 너무 더웠어요. 비가 오니 마음이 기쁘네요.')\n",
    "\n",
    "#형태소 분석\n",
    "token=okt.morphs(token)  \n",
    "\n",
    "word2index={}  #단어 사전(단어와 숫자 인덱스)\n",
    "bow=[]  #단어 가방(단어와 출현 횟수)\n",
    "\n",
    "for voca in token:  \n",
    "    #사전에 없는 단어 추가\n",
    "    if voca not in word2index.keys():  \n",
    "        word2index[voca]=len(word2index)  \n",
    " \n",
    "        #단어의 인덱스와 출현횟수(기본값:1)\n",
    "        bow.insert(len(word2index)-1,1)\n",
    "    else:\n",
    "        #재등장하는 단어의 인덱스\n",
    "        index=word2index.get(voca)\n",
    "\n",
    "        #단어 카운트 증가\n",
    "        bow[index]=bow[index]+1         \n",
    "\n",
    "print(word2index)  # 단어사전(정수인코딩)"
   ]
  },
  {
   "cell_type": "code",
   "execution_count": 30,
   "metadata": {},
   "outputs": [
    {
     "name": "stdout",
     "output_type": "stream",
     "text": [
      "[2, 2, 2, 2, 2, 1, 1, 1, 1, 1]\n"
     ]
    }
   ],
   "source": [
    "#단어의 출현 횟수\n",
    "print(bow)"
   ]
  },
  {
   "cell_type": "code",
   "execution_count": 31,
   "metadata": {},
   "outputs": [
    {
     "name": "stdout",
     "output_type": "stream",
     "text": [
      "{'모처럼': 1, '전국에': 4, '비가': 2, '내리고': 0, '있습니다': 3}\n",
      "[[0 0 2 0 1]]\n"
     ]
    }
   ],
   "source": [
    "from sklearn.feature_extraction.text import CountVectorizer\n",
    "\n",
    "#문서 집합에서 단어 토큰을 생성하고 각 단어의 수를 세어 BOW 인코딩한 벡터를 만드는 클래스\n",
    "\n",
    "corpus=['모처럼 전국에 비가 내리고 있습니다.']\n",
    "line=['전국에 비가 비가']\n",
    "\n",
    "vector = CountVectorizer()\n",
    "vector.fit(corpus)\n",
    "\n",
    "print(vector.vocabulary_)\n",
    "print(vector.transform(line).toarray()) #단어가 출현한 위치에 1 표시"
   ]
  },
  {
   "cell_type": "code",
   "execution_count": 32,
   "metadata": {},
   "outputs": [
    {
     "name": "stdout",
     "output_type": "stream",
     "text": [
      "[[1 1 1 1 2 1 1 1 1 1 1 1 1 1 2 1 1 1 1 1 1 1 1]]\n",
      "{'모처럼': 7, '전국에': 18, '비가': 11, '내리고': 2, '있습니다': 16, '대부분': 3, '밤까지': 9, '계속되기': 1, '때문에': 4, '종일': 19, '우산이': 15, '필요하겠는데요': 22, '비의': 12, '양도': 13, '많고': 5, '바람도': 8, '강하게': 0, '불기': 10, '작은': 17, '우산': 14, '말고': 6, '챙기는': 21, '좋습니다': 20}\n"
     ]
    }
   ],
   "source": [
    "from sklearn.feature_extraction.text import CountVectorizer\n",
    "\n",
    "corpus = ['''모처럼 전국에 비가 내리고 있습니다.\n",
    "대부분 밤까지 계속되기 때문에 종일 우산이 필요하겠는데요.\n",
    "비의 양도 많고 바람도 강하게 불기 때문에 작은 우산 말고 큰 우산 챙기는 게 더 좋습니다. ''']\n",
    "\n",
    "#문서 집합에서 단어 토큰을 생성하고 각 단어의 수를 세어 BOW 인코딩한 벡터를 만드는 클래스\n",
    "vector = CountVectorizer()\n",
    "\n",
    "# 코퍼스로부터 각 단어의 빈도수 계산\n",
    "#단어들의 출현 횟수\n",
    "print(vector.fit_transform(corpus).toarray())  \n",
    "\n",
    "# 만들어진 단어와 인덱스\n",
    "print(vector.vocabulary_)"
   ]
  },
  {
   "cell_type": "code",
   "execution_count": 33,
   "metadata": {},
   "outputs": [
    {
     "data": {
      "text/plain": [
       "['세종 연합뉴스 이준서 기자 정부 결혼 자금 대해 증여세 공제 한도 현행 자녀 장려 금 소득 기준 현행 대폭 상향 조정 중산층 가구 지원 범위 확대 의미 콘텐츠 경쟁력 위해 영상 콘텐츠 제작비 대한 세액 율도 폭 바이오 의약품 산업 국가 전략 기술 지정 시설 투자 연구 개발 지출 를 각각 세금 기획재정부 내용 세법개정안 발표 소득 세법 법인 세법 상속 증여 세법 특례 법 등 개 개정안 내년 예산안 국회 제출 주요 정책 목표 활 제 수출 투자 수 진작 민생 경제 회복 서민 중산층 및 소상 공인 중소기업 부담 완화 미래 대비 인구 지역 위기 극복 등 꼽았다 추경호 부총리 겸 기획재정부 장관 브리핑 우리 기업 국제 무대 경쟁 핵심 역량 과감 지원 며 민생 경제 조속 회복 서민 중산층 지원 인구 감소 지역 소멸 위기 등 미래 대비 위 구조 문제 적극 대응 고 활 뒷받침 조치 영상 콘텐츠 투자 지원 내 프로그램 영화 드라마 등 콘텐츠 제작비 대해 최대 세액 율 적용 기본 율 대기업 중견 기업 중소기업 로 상향 조정 국내 파급 효과 콘텐츠 대해 선 를 추가 제한 바이오 의약품 국가 전략 기술 추가 바이오 의약품 지출 중소기업 중견 대기업 의 세액 율 적용 바이오 의약품 설비 시설 투자 중소기업 중견 대기업 의 세액 공제 첨단 전략 산업 생산 시설 국내 복귀 리쇼 링 를 유도 위해 최대 소득세 및 법인세 를 현행 혜택 로 것 리쇼 링 지원 업종 요건 적용 가업승계 세제 지원 조치 달 초 하반기 경제정책 방향 예고 내용 그대로 반영 증여세 특례 율 과세 적용 재산 가액 한도 증여세 부연 납 분할 납부 기간 현행 연장 내용 업종 변경 제한 완화 주택 담보 대출 이자 환액 소득공제 확대 현재 취득 당시 기준 시가 이하 주택 대해 상환 기간 방식 소득공제 기준 시가 높이 한도 상향 조정 주택 청약 종합 저축 가입 때 소득공제 대상 납입 한도 연간 고액 기부 활성화 위해 초과 부금 대해 한시 세액 율 로 올린다 반려동물 진료 비 대한 부가가치세 면제 확대 맥주 탁주 등 주류 종량세 적용 물가 연동제 폐지 물가상승률 자동 세금 현행 계산법 대신 상황 세율 조정 수 탄력 세율 도입 것 추 부총리 국회 매번 법 세율 조정 상황 고려 행정부 재량 판단 수 탄력 세율 제시 것 설명 가장 관심 조치 결혼 자금 관련 증여세 공제 기본 공제 액 미성년 과 별개 결혼 자금 대해 직계존속 증여 추가 공제 혼인신고 전후 즉 부모 로부터 지원 증여세 부과 뜻 결혼식 혼인신고 신혼집 마련 일정 시차 현실 고려 공제 적용 시점 기재부 설명 신랑 신부 모두 과거 증여 재산 각자 자기 부모 로부터 총 세금 증여 수 셈 정부 지난 한국 부동산 기준 전국 주택 평균 셋값 수도권 점 고려 설명 자녀 장려 금 은 대폭 확대 현재 연간 소득 미만 가구 대해 자녀 명당 최대 지급 소득 기준 연간 높이 지급 액 최대 상향 조정 수혜 가구 현행 가구 약 가구 지급 액 약 갑절 가량 그 출산 보육 수당 비 과세 한도 월 높이 노후 대비 위 사적 연금 소득 분리 과세 기준 금액 연간 상향 조정']"
      ]
     },
     "execution_count": 33,
     "metadata": {},
     "output_type": "execute_result"
    }
   ],
   "source": [
    "f=open('c:/workspace3/data/news1.txt', encoding='utf8')\n",
    "corpus=f.read()\n",
    "txt=okt.nouns(corpus)\n",
    "\n",
    "txt2=[' '.join(txt)]\n",
    "txt2"
   ]
  },
  {
   "cell_type": "code",
   "execution_count": 34,
   "metadata": {},
   "outputs": [
    {
     "data": {
      "image/png": "[encoded data removed]",
      "text/plain": [
       "<Figure size 640x480 with 1 Axes>"
      ]
     },
     "metadata": {},
     "output_type": "display_data"
    },
    {
     "name": "stdout",
     "output_type": "stream",
     "text": [
      "[('대해', 7), ('지원', 7), ('조정', 7), ('공제', 6), ('현행', 6), ('적용', 6), ('기준', 6), ('상향', 5), ('세액', 5), ('소득', 5), ('가구', 5), ('증여세', 5), ('콘텐츠', 5), ('한도', 5), ('증여', 4), ('최대', 4), ('의약품', 4), ('연간', 4), ('투자', 4), ('바이오', 4), ('확대', 4), ('중소기업', 4), ('주택', 4), ('세율', 4), ('대비', 3), ('전략', 3), ('내용', 3), ('시설', 3), ('높이', 3), ('대기업', 3), ('지급', 3), ('자금', 3), ('자녀', 3), ('소득공제', 3), ('추가', 3), ('중견', 3), ('중산층', 3), ('세법', 3), ('세금', 3), ('고려', 3), ('조치', 3), ('결혼', 3), ('설명', 3), ('위해', 3), ('과세', 3), ('산업', 2), ('리쇼', 2), ('혼인신고', 2), ('국내', 2), ('경제', 2), ('국가', 2), ('완화', 2), ('장려', 2), ('회복', 2), ('재산', 2), ('로부터', 2), ('지출', 2), ('부모', 2), ('미래', 2), ('제작비', 2), ('지역', 2), ('민생', 2), ('영상', 2), ('서민', 2), ('국회', 2), ('부총리', 2), ('정부', 2), ('위기', 2), ('기본', 2), ('기간', 2), ('시가', 2), ('업종', 2), ('현재', 2), ('기업', 2), ('제한', 2), ('특례', 2), ('인구', 2), ('탄력', 2), ('대폭', 2), ('대한', 2), ('기획재정부', 2), ('상황', 2), ('기술', 2), ('전후', 1), ('적극', 1), ('전국', 1), ('결혼식', 1), ('과거', 1), ('재량', 1), ('예산안', 1), ('올린다', 1), ('요건', 1), ('우리', 1), ('유도', 1), ('율도', 1), ('저축', 1), ('의미', 1), ('이자', 1), ('이준서', 1), ('이하', 1), ('일정', 1), ('자동', 1), ('장관', 1), ('경쟁', 1), ('자기', 1), ('갑절', 1), ('제시', 1), ('탁주', 1), ('가입', 1), ('파급', 1), ('판단', 1), ('평균', 1), ('폐지', 1), ('프로그램', 1), ('하반기', 1), ('한국', 1), ('가업승계', 1), ('한시', 1), ('핵심', 1), ('행정부', 1), ('현실', 1), ('가액', 1), ('혜택', 1), ('가량', 1), ('환액', 1), ('활성화', 1), ('가장', 1), ('정책', 1), ('취득', 1), ('추경호', 1), ('제출', 1), ('조속', 1), ('종량세', 1), ('종합', 1), ('주류', 1), ('주요', 1), ('개정안', 1), ('개발', 1), ('감소', 1), ('지난', 1), ('각자', 1), ('지정', 1), ('직계존속', 1), ('진료', 1), ('진작', 1), ('첨단', 1), ('청약', 1), ('초과', 1), ('각각', 1), ('출산', 1), ('예고', 1), ('수혜', 1), ('연합뉴스', 1), ('도입', 1), ('뒷받침', 1), ('드라마', 1), ('마련', 1), ('매번', 1), ('맥주', 1), ('면제', 1), ('명당', 1), ('모두', 1), ('목표', 1), ('무대', 1), ('문제', 1), ('물가', 1), ('물가상승률', 1), ('미만', 1), ('미성년', 1), ('반려동물', 1), ('반영', 1), ('발표', 1), ('고액', 1), ('방식', 1), ('대출', 1), ('대신', 1), ('관련', 1), ('관심', 1), ('구조', 1), ('국제', 1), ('그대로', 1), ('극복', 1), ('금액', 1), ('기부', 1), ('기자', 1), ('기재부', 1), ('공인', 1), ('꼽았다', 1), ('납부', 1), ('납입', 1), ('내년', 1), ('노후', 1), ('담보', 1), ('당시', 1), ('대상', 1), ('대응', 1), ('방향', 1), ('범위', 1), ('법인', 1), ('셋값', 1), ('소득세', 1), ('소멸', 1), ('소상', 1), ('수당', 1), ('수도권', 1), ('수출', 1), ('과감', 1), ('시점', 1), ('시차', 1), ('신랑', 1), ('신부', 1), ('신혼집', 1), ('역량', 1), ('경쟁력', 1), ('연구', 1), ('연금', 1), ('연동제', 1), ('연장', 1), ('세종', 1), ('세제', 1), ('경제정책', 1), ('세법개정안', 1), ('법인세', 1), ('변경', 1), ('별개', 1), ('보육', 1), ('복귀', 1), ('부가가치세', 1), ('부과', 1), ('부금', 1), ('부담', 1), ('영화', 1), ('부동산', 1), ('분리', 1), ('분할', 1), ('브리핑', 1), ('사적', 1), ('상속', 1), ('계산법', 1), ('상환', 1), ('생산', 1), ('설비', 1), ('부연', 1), ('효과', 1)]\n"
     ]
    }
   ],
   "source": [
    "import numpy as np\n",
    "import matplotlib.pyplot as plt\n",
    "\n",
    "vect = CountVectorizer().fit(txt2)\n",
    "\n",
    "#bow의 출현횟수 합계\n",
    "cnt = vect.transform(txt2).toarray().sum(axis=0)\n",
    "\n",
    "idx = np.argsort(-cnt) #카운트 내림차순 정렬\n",
    "cnt = cnt[idx]\n",
    "\n",
    "# x축의 단어이름\n",
    "feature_name = np.array(vect.get_feature_names_out())[idx]\n",
    "\n",
    "plt.bar(range(len(cnt)), cnt)\n",
    "plt.show()\n",
    "print(list(zip(feature_name,cnt)))"
   ]
  },
  {
   "cell_type": "code",
   "execution_count": 35,
   "metadata": {},
   "outputs": [
    {
     "name": "stdout",
     "output_type": "stream",
     "text": [
      "[[5 1 1 1 1 1 1 1 1 1 1 1 3 1 1 1 2 1 1 3 1 1 6 1 1 3 1 1 1 2 2 1 2 1 1 1\n",
      "  2 2 1 2 2 1 6 2 1 1 1 1 3 1 3 1 1 3 3 1 1 1 1 2 2 7 1 1 1 2 2 1 1 1 1 1\n",
      "  1 1 1 1 1 1 2 1 1 2 4 1 1 1 1 1 1 1 1 1 1 1 1 1 1 1 1 1 2 1 2 1 1 1 1 2\n",
      "  1 5 1 2 1 2 3 1 3 3 1 5 4 1 1 1 5 3 1 1 1 1 1 1 1 2 3 1 1 1 1 1 2 1 4 1\n",
      "  1 1 1 1 2 1 1 1 1 2 1 1 2 3 1 1 1 4 1 1 1 2 1 3 1 3 1 1 2 1 2 1 1 6 1 3\n",
      "  1 2 1 1 2 1 2 1 7 3 1 1 1 1 4 3 3 4 4 5 3 1 2 7 1 2 1 1 1 1 1 1 4 3 1 1\n",
      "  1 5 1 2 4 2 1 1 1 1 1 1 1 5 1 1 1 1 2 6 1 2 4 1 1 2 1]]\n",
      "{'세종': 122, '연합뉴스': 147, '이준서': 163, '정부': 181, '결혼': 12, '자금': 167, '대해': 61, '증여세': 199, '공제': 22, '한도': 229, '현행': 235, '자녀': 169, '장려': 172, '소득': 124, '기준': 42, '대폭': 59, '상향': 109, '조정': 188, '중산층': 196, '가구': 0, '지원': 203, '범위': 88, '확대': 238, '의미': 160, '콘텐츠': 217, '경쟁력': 15, '위해': 157, '영상': 148, '제작비': 184, '대한': 60, '세액': 119, '율도': 159, '바이오': 82, '의약품': 161, '산업': 107, '국가': 29, '전략': 179, '기술': 39, '지정': 204, '시설': 134, '투자': 220, '연구': 143, '개발': 10, '지출': 205, '각각': 6, '세금': 116, '기획재정부': 43, '내용': 48, '세법개정안': 118, '발표': 85, '세법': 117, '법인': 89, '상속': 108, '증여': 198, '특례': 221, '개정안': 11, '내년': 47, '예산안': 151, '국회': 32, '제출': 185, '주요': 193, '정책': 182, '목표': 73, '수출': 131, '진작': 208, '민생': 81, '경제': 16, '회복': 241, '서민': 113, '소상': 128, '공인': 21, '중소기업': 197, '부담': 98, '완화': 153, '미래': 78, '대비': 54, '인구': 165, '지역': 202, '위기': 156, '극복': 34, '꼽았다': 44, '추경호': 214, '부총리': 102, '장관': 171, '브리핑': 105, '우리': 155, '기업': 40, '국제': 31, '무대': 74, '경쟁': 14, '핵심': 231, '역량': 141, '과감': 23, '조속': 187, '감소': 8, '소멸': 127, '구조': 28, '문제': 75, '적극': 176, '대응': 57, '뒷받침': 63, '조치': 189, '프로그램': 226, '영화': 149, '드라마': 64, '최대': 212, '적용': 177, '기본': 37, '대기업': 53, '중견': 195, '국내': 30, '파급': 222, '효과': 242, '추가': 213, '제한': 186, '설비': 115, '첨단': 209, '생산': 112, '복귀': 94, '리쇼': 66, '유도': 158, '소득세': 126, '법인세': 90, '혜택': 236, '업종': 140, '요건': 154, '가업승계': 3, '세제': 121, '하반기': 227, '경제정책': 17, '방향': 87, '예고': 150, '그대로': 33, '반영': 84, '과세': 25, '재산': 174, '가액': 2, '부연': 101, '분할': 104, '납부': 45, '기간': 36, '연장': 146, '변경': 91, '주택': 194, '담보': 51, '대출': 58, '이자': 162, '환액': 239, '소득공제': 125, '현재': 234, '취득': 216, '당시': 52, '시가': 133, '이하': 164, '상환': 110, '방식': 86, '높이': 50, '청약': 210, '종합': 191, '저축': 175, '가입': 4, '대상': 55, '납입': 46, '연간': 142, '고액': 20, '기부': 38, '활성화': 240, '초과': 211, '부금': 97, '한시': 230, '올린다': 152, '반려동물': 83, '진료': 207, '부가가치세': 95, '면제': 70, '맥주': 69, '탁주': 218, '주류': 192, '종량세': 190, '물가': 76, '연동제': 145, '폐지': 225, '물가상승률': 77, '자동': 170, '계산법': 18, '대신': 56, '상황': 111, '세율': 120, '탄력': 219, '도입': 62, '매번': 68, '고려': 19, '행정부': 232, '재량': 173, '판단': 223, '제시': 183, '설명': 114, '가장': 5, '관심': 27, '관련': 26, '미성년': 80, '별개': 92, '직계존속': 206, '혼인신고': 237, '전후': 180, '부모': 100, '로부터': 65, '부과': 96, '결혼식': 13, '신혼집': 139, '마련': 67, '일정': 166, '시차': 136, '현실': 233, '시점': 135, '기재부': 41, '신랑': 137, '신부': 138, '모두': 72, '과거': 24, '각자': 7, '자기': 168, '지난': 201, '한국': 228, '부동산': 99, '전국': 178, '평균': 224, '셋값': 123, '수도권': 130, '미만': 79, '명당': 71, '지급': 200, '수혜': 132, '갑절': 9, '가량': 1, '출산': 215, '보육': 93, '수당': 129, '노후': 49, '사적': 106, '연금': 144, '분리': 103, '금액': 35}\n"
     ]
    }
   ],
   "source": [
    "#불용어 추가\n",
    "\n",
    "vector = CountVectorizer(stop_words=['기자'])\n",
    "#                           불용어 리스트\n",
    "\n",
    "print(vector.fit_transform(txt2).toarray())\n",
    "print(vector.vocabulary_)"
   ]
  }
 ],
 "metadata": {
  "kernelspec": {
   "display_name": "Python 3",
   "language": "python",
   "name": "python3"
  },
  "language_info": {
   "codemirror_mode": {
    "name": "ipython",
    "version": 3
   },
   "file_extension": ".py",
   "mimetype": "text/x-python",
   "name": "python",
   "nbconvert_exporter": "python",
   "pygments_lexer": "ipython3",
   "version": "3.9.13"
  },
  "orig_nbformat": 4
 },
 "nbformat": 4,
 "nbformat_minor": 2
}
