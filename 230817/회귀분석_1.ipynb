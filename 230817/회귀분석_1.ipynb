{
 "cells": [
  {
   "cell_type": "markdown",
   "metadata": {},
   "source": [
    "# 단순 회귀분석\n",
    "### 1) 전기생산량과 전기사용량 예측"
   ]
  },
  {
   "cell_type": "code",
   "execution_count": null,
   "metadata": {},
   "outputs": [],
   "source": [
    "#               ex)\n",
    "# 귀무가설(H0) : 교육시간이 업무 능력 점수에 영향을 주지 않는다.\n",
    "# 대립가설(H1) : 교육시간이 업무 능력 점수에 영향을 준다.         =>  나의 주장\n",
    "\n",
    "#   독립변수        종속변수\n",
    "#      x              y\n",
    "#   변화유발         결과"
   ]
  },
  {
   "cell_type": "code",
   "execution_count": 1,
   "metadata": {},
   "outputs": [],
   "source": [
    "%matplotlib inline\n",
    "import matplotlib.pyplot as plt\n",
    "import numpy as np\n",
    "from scipy import stats\n",
    "from matplotlib import font_manager, rc\n",
    "\n",
    "#한글 처리를 위해 폰트 설정\n",
    "font_name = font_manager.FontProperties(fname=\"c:/Windows/Fonts/malgun.ttf\").get_name()\n",
    "rc('font', family=font_name)"
   ]
  },
  {
   "cell_type": "code",
   "execution_count": 2,
   "metadata": {},
   "outputs": [],
   "source": [
    "#회귀분석 : 1.전기생산량과 소비량\n",
    "#독립변수(전기생산량), 종속변수(전기소비량)\n",
    "#독립변수가 1개이므로 단순회귀분석(선형회귀분석) 사용\n",
    "#귀무가설 : 전기생산량과 전기소비량 간에 상관관계가 없다.\n",
    "#대립가설 : 전기생산량과 전기소비량 간에 상관관계가 있다.\n",
    "\n",
    "#월별 전기생산금액(억원)\n",
    "X =[3.52,2.58,3.31,4.07,4.62,3.98,4.29, 4.83, 3.71, 4.61, 3.90,3.20]\n",
    "\n",
    "#월별 전기 사용량(백만kwh)\n",
    "y =[2.48,2.27,2.47,2.77,2.98,3.05,3.18, 3.46, 3.03, 3.25, 2.67,2.53]\n",
    "\n",
    "#기울기(slope), 절편(intercept),\n",
    "#상관계수(rvalue), pvalue(예측 불확실성의 정도를 나타내는 값)\n",
    "#에러의 표준편차(stderr) - 실제값과 예측값의 평균적인 차이\n",
    "#p-value는 0.05 미만일 때 통계학적으로 유의미"
   ]
  },
  {
   "cell_type": "code",
   "execution_count": 3,
   "metadata": {},
   "outputs": [
    {
     "data": {
      "text/plain": [
       "LinregressResult(slope=0.4956032360182905, intercept=0.9195814280689418, rvalue=0.8929235125385305, pvalue=9.238421943157891e-05, stderr=0.07901935226531728, intercept_stderr=0.3110591892275586)"
      ]
     },
     "execution_count": 3,
     "metadata": {},
     "output_type": "execute_result"
    }
   ],
   "source": [
    "# linregress(독립변수,종속변수) 선형회귀분석\n",
    "result=stats.linregress(X, y)\n",
    "result\n",
    "\n",
    "#p_value : 9.238421943157891e-05으로 0.05보다 작으므로 통계적으로 유의미함\n",
    "#귀무가설을 기각하고 대립가설을 채택한다.\n",
    "#결론 : 전기생산량과 전기소비량 간에 상관관계가 있다.\n",
    "#상관분석 : 두 변수 간에 어떤 선형적 관계가 있는지 분석\n",
    "#상관계수(rvalue) : 상관관계의 정도를 파악하는 값( -1에서 1사이)\n",
    "\n",
    "#  slope : 기울기   intercept : 절편    rvalue : 모형의 설명력(0.0 ~ 1.0)   : 유의확률 (0.05)"
   ]
  },
  {
   "cell_type": "code",
   "execution_count": 5,
   "metadata": {},
   "outputs": [
    {
     "data": {
      "text/plain": [
       "Text(0, 0.5, '전기사용량')"
      ]
     },
     "execution_count": 5,
     "metadata": {},
     "output_type": "execute_result"
    },
    {
     "data": {
      "image/png": "[encoded data removed]",
      "text/plain": [
       "<Figure size 640x480 with 1 Axes>"
      ]
     },
     "metadata": {},
     "output_type": "display_data"
    }
   ],
   "source": [
    "slope, intercept, r_value, p_value, stderr = stats.linregress(X, y)\n",
    "\n",
    "x1 = np.array(X)\n",
    "\n",
    "#산점도 그리기\n",
    "plt.scatter(X,y)\n",
    "\n",
    "#회귀선 그리기\n",
    "plt.plot(x1, slope*x1 +intercept, c=\"red\")\n",
    "plt.xlabel(\"전기생산량\")\n",
    "plt.ylabel(\"전기사용량\")"
   ]
  },
  {
   "cell_type": "code",
   "execution_count": 6,
   "metadata": {},
   "outputs": [
    {
     "data": {
      "text/plain": [
       "2.901994372142104"
      ]
     },
     "execution_count": 6,
     "metadata": {},
     "output_type": "execute_result"
    }
   ],
   "source": [
    "#생산량이 4일 때 전기사용량 예측\n",
    "4 * slope + intercept "
   ]
  }
 ],
 "metadata": {
  "kernelspec": {
   "display_name": "Python 3",
   "language": "python",
   "name": "python3"
  },
  "language_info": {
   "codemirror_mode": {
    "name": "ipython",
    "version": 3
   },
   "file_extension": ".py",
   "mimetype": "text/x-python",
   "name": "python",
   "nbconvert_exporter": "python",
   "pygments_lexer": "ipython3",
   "version": "3.9.13"
  },
  "orig_nbformat": 4
 },
 "nbformat": 4,
 "nbformat_minor": 2
}
