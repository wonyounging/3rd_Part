{
 "cells": [
  {
   "cell_type": "markdown",
   "metadata": {},
   "source": [
    "### cartpole DQN"
   ]
  },
  {
   "cell_type": "code",
   "execution_count": 1,
   "metadata": {},
   "outputs": [],
   "source": [
    "import numpy as np\n",
    "import gym\n",
    "from collections import deque\n",
    "from keras.models import Sequential\n",
    "from keras.layers import Dense\n",
    "from keras.optimizers import Adam\n",
    "import random"
   ]
  },
  {
   "cell_type": "code",
   "execution_count": 2,
   "metadata": {},
   "outputs": [],
   "source": [
    "class DQLAgent():\n",
    "    def __init__(self, env):\n",
    "        # input size\n",
    "        self.state_size = env.observation_space.shape[0]\n",
    "\n",
    "        # output size\n",
    "        self.action_size = env.action_space.n\n",
    "\n",
    "        self.gamma = 0.95\n",
    "        self.learning_rate = 0.001       \n",
    "        self.epsilon = 1 # 초기값\n",
    "        self.epsilon_decay = 0.995 #확률 감소 옵션\n",
    "        self.epsilon_min = 0.01\n",
    "        self.memory = deque(maxlen = 1000)\n",
    "\n",
    "        self.model = self.build_model()\n",
    "\n",
    "    def build_model(self):\n",
    "        model = Sequential()\n",
    "        model.add(Dense(48, input_dim = self.state_size, activation = 'tanh'))\n",
    "        model.add(Dense(self.action_size, activation = 'linear'))\n",
    "        model.compile(loss = 'mse', optimizer = Adam(learning_rate = self.learning_rate))\n",
    "\n",
    "        return model\n",
    "\n",
    "    def remember(self, state, action, reward, next_state, done):\n",
    "        self.memory.append((state, action, reward, next_state, done))\n",
    "\n",
    "    def act(self, state):\n",
    "        # 행동, 이용, 탐험\n",
    "        if random.uniform(0,1) <= self.epsilon:\n",
    "            return env.action_space.sample()\n",
    "        else:\n",
    "            act_values = self.model.predict(state, verbose=None)\n",
    "\n",
    "            return np.argmax(act_values[0])\n",
    "         \n",
    "    def replay(self, batch_size):\n",
    "        if len(self.memory) < batch_size:\n",
    "            return\n",
    "\n",
    "        minibatch = random.sample(self.memory, batch_size)\n",
    "\n",
    "        for state, action, reward, next_state, done in minibatch:\n",
    "            if done:\n",
    "                target = reward\n",
    "            else:\n",
    "                target = reward + self.gamma * np.amax(self.model.predict(next_state, verbose=None)[0])\n",
    "\n",
    "            train_target = self.model.predict(state, verbose=None)\n",
    "            train_target[0][action] = target\n",
    "            self.model.fit(state, train_target, verbose=None)\n",
    "\n",
    "    def adaptiveEGreedy(self):\n",
    "        if self.epsilon > self.epsilon_min:\n",
    "            self.epsilon *= self.epsilon_decay"
   ]
  },
  {
   "cell_type": "code",
   "execution_count": 3,
   "metadata": {},
   "outputs": [
    {
     "name": "stderr",
     "output_type": "stream",
     "text": [
      "c:\\Python3.9.13\\lib\\site-packages\\gymnasium\\experimental\\wrappers\\rendering.py:166: UserWarning: \u001b[33mWARN: Overwriting existing videos at c:\\workspace3\\230926\\video folder (try specifying a different `video_folder` for the `RecordVideo` wrapper if this is not desired)\u001b[0m\n",
      "  logger.warn(\n",
      "c:\\Python3.9.13\\lib\\site-packages\\gym\\utils\\passive_env_checker.py:233: DeprecationWarning: `np.bool8` is a deprecated alias for `np.bool_`.  (Deprecated NumPy 1.24)\n",
      "  if not isinstance(terminated, (bool, np.bool8)):\n"
     ]
    },
    {
     "name": "stdout",
     "output_type": "stream",
     "text": [
      "0 10 \n",
      "episode: 0, time: 19\n",
      "0 10 \n",
      "episode: 1, time: 11\n",
      "0 10 \n",
      "episode: 2, time: 17\n",
      "0 10 20 \n",
      "episode: 3, time: 23\n",
      "0 10 \n",
      "episode: 4, time: 20\n",
      "0 10 \n",
      "episode: 5, time: 20\n",
      "0 10 \n",
      "episode: 6, time: 18\n",
      "0 10 20 30 \n",
      "episode: 7, time: 33\n",
      "0 10 20 30 \n",
      "episode: 8, time: 36\n",
      "0 10 20 30 40 50 60 70 80 \n",
      "episode: 9, time: 90\n",
      "0 10 \n",
      "episode: 10, time: 19\n",
      "0 10 \n",
      "episode: 11, time: 12\n",
      "0 \n",
      "episode: 12, time: 9\n",
      "0 \n",
      "episode: 13, time: 9\n",
      "0 10 \n",
      "episode: 14, time: 13\n",
      "0 10 \n",
      "episode: 15, time: 14\n",
      "0 \n",
      "episode: 16, time: 10\n",
      "0 10 \n",
      "episode: 17, time: 12\n",
      "0 \n",
      "episode: 18, time: 10\n",
      "0 10 \n",
      "episode: 19, time: 11\n"
     ]
    }
   ],
   "source": [
    "from gymnasium.experimental.wrappers import RecordVideoV0\n",
    "from IPython.display import Video\n",
    "\n",
    "env = gym.make('CartPole-v1', render_mode='rgb_array')\n",
    "agent = DQLAgent(env)\n",
    "\n",
    "batch_size = 16\n",
    "episodes = 20\n",
    "\n",
    "env = RecordVideoV0(env, \"video\", name_prefix=\"cartpole-dqn\", disable_logger=True,episode_trigger=lambda x: x )\n",
    "\n",
    "#env.reset(seed=42)\n",
    "\n",
    "for e in range(episodes):  \n",
    "    state = env.reset()[0]\n",
    "    state = np.reshape(state, [1,4])\n",
    "    time = 0\n",
    "    for i in range(200):\n",
    "        action = agent.act(state)\n",
    "        next_state, reward, done, _ = env.step(action)[:4]\n",
    "        next_state = np.reshape(next_state, [1,4])\n",
    "        agent.remember(state, action, reward, next_state, done)\n",
    "        state = next_state\n",
    "        agent.replay(batch_size)\n",
    "        agent.adaptiveEGreedy()\n",
    "        time += 1\n",
    "        if i % 10 == 0:\n",
    "            print(i,end=' ')\n",
    "        if done:\n",
    "            print('\\nepisode: {}, time: {}'.format(e, time))\n",
    "            break\n",
    "env.close()"
   ]
  },
  {
   "cell_type": "code",
   "execution_count": 4,
   "metadata": {},
   "outputs": [
    {
     "data": {
      "text/html": [
       "<video controls  >\n",
       " <source src=\"data:video/mp4;base64,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\" type=\"video/mp4\">\n",
       " Your browser does not support the video tag.\n",
       " </video>"
      ],
      "text/plain": [
       "<IPython.core.display.Video object>"
      ]
     },
     "execution_count": 4,
     "metadata": {},
     "output_type": "execute_result"
    }
   ],
   "source": [
    "Video(\"video/cartpole-dqn-episode-1.mp4\", embed=True)"
   ]
  },
  {
   "cell_type": "code",
   "execution_count": 5,
   "metadata": {},
   "outputs": [
    {
     "data": {
      "text/html": [
       "<video controls  >\n",
       " <source src=\"data:video/mp4;base64,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\" type=\"video/mp4\">\n",
       " Your browser does not support the video tag.\n",
       " </video>"
      ],
      "text/plain": [
       "<IPython.core.display.Video object>"
      ]
     },
     "execution_count": 5,
     "metadata": {},
     "output_type": "execute_result"
    }
   ],
   "source": [
    "Video(\"video/cartpole-dqn-episode-19.mp4\", embed=True)"
   ]
  },
  {
   "cell_type": "code",
   "execution_count": null,
   "metadata": {},
   "outputs": [],
   "source": []
  }
 ],
 "metadata": {
  "kernelspec": {
   "display_name": "Python 3",
   "language": "python",
   "name": "python3"
  },
  "language_info": {
   "codemirror_mode": {
    "name": "ipython",
    "version": 3
   },
   "file_extension": ".py",
   "mimetype": "text/x-python",
   "name": "python",
   "nbconvert_exporter": "python",
   "pygments_lexer": "ipython3",
   "version": "3.9.13"
  },
  "orig_nbformat": 4
 },
 "nbformat": 4,
 "nbformat_minor": 2
}
