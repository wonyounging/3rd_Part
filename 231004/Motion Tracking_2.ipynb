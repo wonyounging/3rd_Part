{
 "cells": [
  {
   "cell_type": "markdown",
   "metadata": {},
   "source": [
    "### 동영상 추적 1"
   ]
  },
  {
   "cell_type": "code",
   "execution_count": 5,
   "metadata": {},
   "outputs": [],
   "source": [
    "import cv2\n",
    "import numpy as np\n",
    "\n",
    "cap = cv2.VideoCapture('c:/workspace3/data/video/vtest.mp4')\n",
    "fgbg = cv2.createBackgroundSubtractorMOG2(varThreshold=100)\n",
    "\n",
    "while True:\n",
    "    ret, frame = cap.read()\n",
    "\n",
    "    if frame is None:\n",
    "        break\n",
    "\n",
    "    frame = cv2.resize(frame, (800, 600))\n",
    "\n",
    "    #배경이 추출된 영상\n",
    "    fgmask = fgbg.apply(frame)\n",
    "\n",
    "    #객체 레이블링 함수\n",
    "    nlabels, labels, stats, centroids = cv2.connectedComponentsWithStats(fgmask)\n",
    "\n",
    "    for index, centroid in enumerate(centroids):\n",
    "        if stats[index][0] == 0 and stats[index][1] == 0:\n",
    "            continue\n",
    "\n",
    "        if np.any(np.isnan(centroid)):\n",
    "            continue\n",
    "\n",
    "        x, y, width, height, area = stats[index]\n",
    "        centerX, centerY = int(centroid[0]), int(centroid[1])\n",
    "\n",
    "        if area > 300:\n",
    "            cv2.circle(frame, (centerX, centerY), 1, (0, 255, 0), 2)\n",
    "            cv2.rectangle(frame, (x, y), (x + width, y + height), (0, 0, 255))\n",
    "            cv2.putText(frame, str(nlabels), (x, y), cv2.FONT_HERSHEY_COMPLEX, 1.0, (0, 255, 255), 1)\n",
    "\n",
    "    cv2.imshow('mask',fgmask)\n",
    "    cv2.imshow('frame',frame)\n",
    "\n",
    "    keyboard = cv2.waitKey(1) & 0xFF\n",
    "\n",
    "    if keyboard == 27:\n",
    "        break\n",
    "\n",
    "cap.release()\n",
    "cv2.destroyAllWindows()"
   ]
  }
 ],
 "metadata": {
  "kernelspec": {
   "display_name": "Python 3",
   "language": "python",
   "name": "python3"
  },
  "language_info": {
   "codemirror_mode": {
    "name": "ipython",
    "version": 3
   },
   "file_extension": ".py",
   "mimetype": "text/x-python",
   "name": "python",
   "nbconvert_exporter": "python",
   "pygments_lexer": "ipython3",
   "version": "3.9.13"
  },
  "orig_nbformat": 4
 },
 "nbformat": 4,
 "nbformat_minor": 2
}
