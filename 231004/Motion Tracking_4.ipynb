{
 "cells": [
  {
   "cell_type": "markdown",
   "metadata": {},
   "source": [
    "### 동영상-차량 이동 추적"
   ]
  },
  {
   "cell_type": "code",
   "execution_count": 1,
   "metadata": {},
   "outputs": [],
   "source": [
    "# 루카스-카나데(Lucas-Kanade) 알고리즘\n",
    "#   광학 흐름, 이웃하는 픽셀이 비슷하게 움직인다고 가정\n",
    "# 이웃하는 픽셀은 비슷한 움직임을 갖는다고 생각하고 광학 흐름을 파악\n",
    "# 3 x 3 patch를 사용하여 움직임 계산\n",
    "\n",
    "import numpy as np\n",
    "import cv2 as cv\n",
    "\n",
    "cap=cv.VideoCapture('c:/workspace3/data/video/slow_traffic_small.mp4')\n",
    "\n",
    "feature_params=dict(maxCorners=100,qualityLevel=0.3,minDistance=7,blockSize=7)\n",
    "lk_params=dict(winSize=(15,15),maxLevel=2,criteria=(cv.TERM_CRITERIA_EPS|cv.TERM_CRITERIA_COUNT,10,0.03))\n",
    "color=np.random.randint(0,255,(100,3))\n",
    "\n",
    "ret,old_frame=cap.read()        # 첫 프레임\n",
    "old_gray=cv.cvtColor(old_frame,cv.COLOR_BGR2GRAY)\n",
    "p0=cv.goodFeaturesToTrack(old_gray,mask=None,**feature_params)\n",
    "mask=np.zeros_like(old_frame)    # 이동 궤적을 저장할 영상\n",
    "\n",
    "while(1):\n",
    "    ret,frame=cap.read()\n",
    "    if not ret: break\n",
    "    new_gray=cv.cvtColor(frame,cv.COLOR_BGR2GRAY)\n",
    "    p1,match,err=cv.calcOpticalFlowPyrLK(old_gray,new_gray,p0,None,**lk_params)    # 광류 계산\n",
    "    #                               이전 프레임 영상, 이전 프레임의 코너 특징점, 다음 프레임의 코너 특징점\n",
    "    if p1 is not None:        \n",
    "        # 양호한 쌍 선택\n",
    "        good_new=p1[match==1]\n",
    "        good_old=p0[match==1]\n",
    "        \n",
    "    # 이동 궤적 그리기\n",
    "    for i in range(len(good_new)):\n",
    "        a,b=int(good_new[i][0]),int(good_new[i][1])\n",
    "        c,d=int(good_old[i][0]),int(good_old[i][1])\n",
    "        mask=cv.line(mask,(a,b),(c,d),color[i].tolist(),2)\n",
    "        frame=cv.circle(frame,(a,b),5,color[i].tolist(),-1)\n",
    "       \n",
    "    img=cv.add(frame,mask)\n",
    "\n",
    "    cv.imshow('LTK tracker',img)\n",
    "    cv.waitKey(30)\n",
    "\n",
    "    old_gray=new_gray.copy()    \n",
    "    p0=good_new.reshape(-1,1,2)\n",
    "   \n",
    "cv.destroyAllWindows()"
   ]
  }
 ],
 "metadata": {
  "kernelspec": {
   "display_name": "Python 3",
   "language": "python",
   "name": "python3"
  },
  "language_info": {
   "codemirror_mode": {
    "name": "ipython",
    "version": 3
   },
   "file_extension": ".py",
   "mimetype": "text/x-python",
   "name": "python",
   "nbconvert_exporter": "python",
   "pygments_lexer": "ipython3",
   "version": "3.9.13"
  },
  "orig_nbformat": 4
 },
 "nbformat": 4,
 "nbformat_minor": 2
}
