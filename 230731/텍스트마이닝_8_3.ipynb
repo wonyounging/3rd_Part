{
 "cells": [
  {
   "cell_type": "markdown",
   "metadata": {},
   "source": [
    "# word2vec 기반"
   ]
  },
  {
   "cell_type": "code",
   "execution_count": null,
   "metadata": {},
   "outputs": [],
   "source": [
    "#   word2vec  : 단어를 벡터로(워드 임베딩)\n",
    "#   doc2vec   : 문서를 벡터로\n",
    "#   char2vec  : 문자를 벡터로\n",
    "#   CBOW      : 주변 단어로 중심단어를 예측하는 방법\n",
    "#   Skip-gram : 중심 단어로 주변 단어를 예측하는 방법(더 많이 사용됨)"
   ]
  },
  {
   "cell_type": "code",
   "execution_count": 2,
   "metadata": {},
   "outputs": [
    {
     "data": {
      "text/plain": [
       "100"
      ]
     },
     "execution_count": 2,
     "metadata": {},
     "output_type": "execute_result"
    }
   ],
   "source": [
    "import glob\n",
    "\n",
    "pos_review=(glob.glob(\"c:/workspace3/data/train/pos/*.txt\"))[0:100]\n",
    "\n",
    "lines_pos=[]\n",
    "\n",
    "for i in pos_review:\n",
    "    try:\n",
    "        f = open(i, 'r')\n",
    "        temp = f.readlines()[0]\n",
    "        lines_pos.append(temp)\n",
    "        f.close()\n",
    "    except :\n",
    "        continue\n",
    "    \n",
    "len(lines_pos)"
   ]
  },
  {
   "cell_type": "code",
   "execution_count": 6,
   "metadata": {},
   "outputs": [],
   "source": [
    "#! pip install gensim"
   ]
  },
  {
   "cell_type": "code",
   "execution_count": 7,
   "metadata": {},
   "outputs": [
    {
     "data": {
      "text/plain": [
       "0.94975597"
      ]
     },
     "execution_count": 7,
     "metadata": {},
     "output_type": "execute_result"
    }
   ],
   "source": [
    "from nltk.corpus import stopwords\n",
    "from gensim.models.word2vec import Word2Vec\n",
    "from nltk.tokenize import RegexpTokenizer\n",
    "\n",
    "stop_words = stopwords.words('english')\n",
    "tokenizer = RegexpTokenizer('[\\w]+')\n",
    "\n",
    "#단어 추출\n",
    "text=[]\n",
    "\n",
    "for line in lines_pos:\n",
    "    words =  line.lower()\n",
    "    tokens = tokenizer.tokenize(words)\n",
    "    stopped_tokens = [i for i in list(set(tokens)) if i not  in stop_words+[\"br\"]]\n",
    "    stopped_tokens2 = [i for i in stopped_tokens if len(i)>1]\n",
    "    text.append(stopped_tokens2)\n",
    "\n",
    "# word2vec 모형 생성 , sg=1 skip-gram을 적용, window=2 중심 단어로부터 좌우 2개의 단어까지 학습에 적용\n",
    "#min_count=3 최소 3회 이상 출현한 단어들을 대상으로 학습\n",
    "model = Word2Vec(text, vector_size=10, sg=1, window=2, min_count=3)\n",
    "\n",
    "# 두 단어의 유사도 계산\n",
    "model.wv.similarity('film', 'movie')"
   ]
  },
  {
   "cell_type": "code",
   "execution_count": 8,
   "metadata": {},
   "outputs": [
    {
     "data": {
      "text/plain": [
       "[('every', 0.8913028240203857),\n",
       " ('give', 0.8739553689956665),\n",
       " ('ending', 0.8719325661659241),\n",
       " ('looked', 0.869390070438385),\n",
       " ('made', 0.868577241897583)]"
      ]
     },
     "execution_count": 8,
     "metadata": {},
     "output_type": "execute_result"
    }
   ],
   "source": [
    "#good과 가장 유사한 단어 5개\n",
    "\n",
    "model.wv.most_similar(\"good\",topn =5)"
   ]
  },
  {
   "cell_type": "code",
   "execution_count": 14,
   "metadata": {},
   "outputs": [
    {
     "data": {
      "text/plain": [
       "[('get', 0.9333447813987732),\n",
       " ('little', 0.9283686280250549),\n",
       " ('make', 0.9264387488365173),\n",
       " ('yet', 0.8743466734886169),\n",
       " ('gives', 0.872604489326477)]"
      ]
     },
     "execution_count": 14,
     "metadata": {},
     "output_type": "execute_result"
    }
   ],
   "source": [
    "model.wv.most_similar(\"two\",topn =5)"
   ]
  },
  {
   "cell_type": "code",
   "execution_count": 9,
   "metadata": {},
   "outputs": [
    {
     "data": {
      "text/plain": [
       "895"
      ]
     },
     "execution_count": 9,
     "metadata": {},
     "output_type": "execute_result"
    }
   ],
   "source": [
    "#모델에 저장된 단어의 갯수\n",
    "\n",
    "len(model.wv.index_to_key)"
   ]
  },
  {
   "cell_type": "code",
   "execution_count": 10,
   "metadata": {},
   "outputs": [
    {
     "data": {
      "text/plain": [
       "'movie'"
      ]
     },
     "execution_count": 10,
     "metadata": {},
     "output_type": "execute_result"
    }
   ],
   "source": [
    "#모델에 저장된 단어 텍스트\n",
    "\n",
    "model.wv.index_to_key[0]"
   ]
  },
  {
   "cell_type": "code",
   "execution_count": 11,
   "metadata": {},
   "outputs": [
    {
     "data": {
      "text/plain": [
       "array([ 0.11886559, -0.1797632 ,  0.28996179,  0.09912386,  0.07069974,\n",
       "       -0.03318889,  0.25402102,  0.2567078 , -0.2878814 , -0.2140526 ],\n",
       "      dtype=float32)"
      ]
     },
     "execution_count": 11,
     "metadata": {},
     "output_type": "execute_result"
    }
   ],
   "source": [
    "#단어에 해당하는 벡터값\n",
    "\n",
    "model.wv.vectors[0]"
   ]
  },
  {
   "cell_type": "code",
   "execution_count": null,
   "metadata": {},
   "outputs": [],
   "source": []
  }
 ],
 "metadata": {
  "kernelspec": {
   "display_name": "Python 3",
   "language": "python",
   "name": "python3"
  },
  "language_info": {
   "codemirror_mode": {
    "name": "ipython",
    "version": 3
   },
   "file_extension": ".py",
   "mimetype": "text/x-python",
   "name": "python",
   "nbconvert_exporter": "python",
   "pygments_lexer": "ipython3",
   "version": "3.9.13"
  },
  "orig_nbformat": 4
 },
 "nbformat": 4,
 "nbformat_minor": 2
}
