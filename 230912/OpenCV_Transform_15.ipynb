{
 "cells": [
  {
   "cell_type": "markdown",
   "metadata": {},
   "source": [
    "### 모자이크 처리"
   ]
  },
  {
   "cell_type": "code",
   "execution_count": 1,
   "metadata": {},
   "outputs": [],
   "source": [
    "import cv2\n",
    "\n",
    "# blur 처리에 사용할 커널 크기\n",
    "ksize = 30              \n",
    "win_title = 'mosaic'    \n",
    "img = cv2.imread('c:/workspace3/data/images/apple.jpg')\n",
    "\n",
    "while True:\n",
    "    x,y,w,h = cv2.selectROI(win_title, img, False) # 관심영역 선택\n",
    "    if w > 0 and h > 0:\n",
    "        roi = img[y:y+h, x:x+w]   # 관심영역 지정\n",
    "        roi = cv2.blur(roi, (ksize, ksize)) # blur(모자이크) 처리\n",
    "        img[y:y+h, x:x+w] = roi   # 원본 이미지에 적용\n",
    "\n",
    "        cv2.imshow(win_title, img)\n",
    "    else:\n",
    "        break\n",
    "\n",
    "cv2.destroyAllWindows()"
   ]
  },
  {
   "cell_type": "code",
   "execution_count": 1,
   "metadata": {},
   "outputs": [],
   "source": [
    "# 드래그 하여 선택 후 엔터 입력하면 모자이크 처리됨\n",
    "\n",
    "import cv2\n",
    "\n",
    "# 모자이크에 사용할 축소 비율 (1/rate)\n",
    "rate = 15              \n",
    "win_title = 'mosaic'    \n",
    "img = cv2.imread('c:/workspace3/data/images/apple.jpg')\n",
    "\n",
    "while True:\n",
    "    x,y,w,h = cv2.selectROI(win_title, img, False) # 관심영역 선택\n",
    "\n",
    "    if w and h:\n",
    "        roi = img[y:y+h, x:x+w]   # 관심영역 지정\n",
    "\n",
    "        # 1/rate 비율로 축소\n",
    "        roi = cv2.resize(roi, (w//rate, h//rate))\n",
    "\n",
    "        # 원래 크기로 확대\n",
    "        roi = cv2.resize(roi, (w,h), interpolation=cv2.INTER_AREA)  \n",
    "        img[y:y+h, x:x+w] = roi  \n",
    "\n",
    "        cv2.imshow(win_title, img)\n",
    "    else:\n",
    "        break   \n",
    "\n",
    "cv2.destroyAllWindows()"
   ]
  }
 ],
 "metadata": {
  "kernelspec": {
   "display_name": "Python 3",
   "language": "python",
   "name": "python3"
  },
  "language_info": {
   "codemirror_mode": {
    "name": "ipython",
    "version": 3
   },
   "file_extension": ".py",
   "mimetype": "text/x-python",
   "name": "python",
   "nbconvert_exporter": "python",
   "pygments_lexer": "ipython3",
   "version": "3.9.13"
  },
  "orig_nbformat": 4
 },
 "nbformat": 4,
 "nbformat_minor": 2
}
