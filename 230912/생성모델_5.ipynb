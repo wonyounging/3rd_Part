{
 "cells": [
  {
   "cell_type": "markdown",
   "metadata": {},
   "source": [
    "### 정형데이터 공기오염 데이터셋"
   ]
  },
  {
   "cell_type": "code",
   "execution_count": 1,
   "metadata": {},
   "outputs": [
    {
     "data": {
      "text/html": [
       "<div>\n",
       "<style scoped>\n",
       "    .dataframe tbody tr th:only-of-type {\n",
       "        vertical-align: middle;\n",
       "    }\n",
       "\n",
       "    .dataframe tbody tr th {\n",
       "        vertical-align: top;\n",
       "    }\n",
       "\n",
       "    .dataframe thead th {\n",
       "        text-align: right;\n",
       "    }\n",
       "</style>\n",
       "<table border=\"1\" class=\"dataframe\">\n",
       "  <thead>\n",
       "    <tr style=\"text-align: right;\">\n",
       "      <th></th>\n",
       "      <th>pollution</th>\n",
       "      <th>dew</th>\n",
       "      <th>temp</th>\n",
       "      <th>pressure</th>\n",
       "      <th>w_dir</th>\n",
       "      <th>w_speed</th>\n",
       "      <th>snow</th>\n",
       "      <th>rain</th>\n",
       "    </tr>\n",
       "    <tr>\n",
       "      <th>year_month_day_hour</th>\n",
       "      <th></th>\n",
       "      <th></th>\n",
       "      <th></th>\n",
       "      <th></th>\n",
       "      <th></th>\n",
       "      <th></th>\n",
       "      <th></th>\n",
       "      <th></th>\n",
       "    </tr>\n",
       "  </thead>\n",
       "  <tbody>\n",
       "    <tr>\n",
       "      <th>2010-01-02 00:00:00</th>\n",
       "      <td>129.0</td>\n",
       "      <td>-16</td>\n",
       "      <td>-4.0</td>\n",
       "      <td>1020.0</td>\n",
       "      <td>SE</td>\n",
       "      <td>1.79</td>\n",
       "      <td>0</td>\n",
       "      <td>0</td>\n",
       "    </tr>\n",
       "    <tr>\n",
       "      <th>2010-01-02 01:00:00</th>\n",
       "      <td>148.0</td>\n",
       "      <td>-15</td>\n",
       "      <td>-4.0</td>\n",
       "      <td>1020.0</td>\n",
       "      <td>SE</td>\n",
       "      <td>2.68</td>\n",
       "      <td>0</td>\n",
       "      <td>0</td>\n",
       "    </tr>\n",
       "    <tr>\n",
       "      <th>2010-01-02 02:00:00</th>\n",
       "      <td>159.0</td>\n",
       "      <td>-11</td>\n",
       "      <td>-5.0</td>\n",
       "      <td>1021.0</td>\n",
       "      <td>SE</td>\n",
       "      <td>3.57</td>\n",
       "      <td>0</td>\n",
       "      <td>0</td>\n",
       "    </tr>\n",
       "    <tr>\n",
       "      <th>2010-01-02 03:00:00</th>\n",
       "      <td>181.0</td>\n",
       "      <td>-7</td>\n",
       "      <td>-5.0</td>\n",
       "      <td>1022.0</td>\n",
       "      <td>SE</td>\n",
       "      <td>5.36</td>\n",
       "      <td>1</td>\n",
       "      <td>0</td>\n",
       "    </tr>\n",
       "    <tr>\n",
       "      <th>2010-01-02 04:00:00</th>\n",
       "      <td>138.0</td>\n",
       "      <td>-7</td>\n",
       "      <td>-5.0</td>\n",
       "      <td>1022.0</td>\n",
       "      <td>SE</td>\n",
       "      <td>6.25</td>\n",
       "      <td>2</td>\n",
       "      <td>0</td>\n",
       "    </tr>\n",
       "    <tr>\n",
       "      <th>...</th>\n",
       "      <td>...</td>\n",
       "      <td>...</td>\n",
       "      <td>...</td>\n",
       "      <td>...</td>\n",
       "      <td>...</td>\n",
       "      <td>...</td>\n",
       "      <td>...</td>\n",
       "      <td>...</td>\n",
       "    </tr>\n",
       "    <tr>\n",
       "      <th>2014-12-31 19:00:00</th>\n",
       "      <td>8.0</td>\n",
       "      <td>-23</td>\n",
       "      <td>-2.0</td>\n",
       "      <td>1034.0</td>\n",
       "      <td>NW</td>\n",
       "      <td>231.97</td>\n",
       "      <td>0</td>\n",
       "      <td>0</td>\n",
       "    </tr>\n",
       "    <tr>\n",
       "      <th>2014-12-31 20:00:00</th>\n",
       "      <td>10.0</td>\n",
       "      <td>-22</td>\n",
       "      <td>-3.0</td>\n",
       "      <td>1034.0</td>\n",
       "      <td>NW</td>\n",
       "      <td>237.78</td>\n",
       "      <td>0</td>\n",
       "      <td>0</td>\n",
       "    </tr>\n",
       "    <tr>\n",
       "      <th>2014-12-31 21:00:00</th>\n",
       "      <td>10.0</td>\n",
       "      <td>-22</td>\n",
       "      <td>-3.0</td>\n",
       "      <td>1034.0</td>\n",
       "      <td>NW</td>\n",
       "      <td>242.70</td>\n",
       "      <td>0</td>\n",
       "      <td>0</td>\n",
       "    </tr>\n",
       "    <tr>\n",
       "      <th>2014-12-31 22:00:00</th>\n",
       "      <td>8.0</td>\n",
       "      <td>-22</td>\n",
       "      <td>-4.0</td>\n",
       "      <td>1034.0</td>\n",
       "      <td>NW</td>\n",
       "      <td>246.72</td>\n",
       "      <td>0</td>\n",
       "      <td>0</td>\n",
       "    </tr>\n",
       "    <tr>\n",
       "      <th>2014-12-31 23:00:00</th>\n",
       "      <td>12.0</td>\n",
       "      <td>-21</td>\n",
       "      <td>-3.0</td>\n",
       "      <td>1034.0</td>\n",
       "      <td>NW</td>\n",
       "      <td>249.85</td>\n",
       "      <td>0</td>\n",
       "      <td>0</td>\n",
       "    </tr>\n",
       "  </tbody>\n",
       "</table>\n",
       "<p>43800 rows × 8 columns</p>\n",
       "</div>"
      ],
      "text/plain": [
       "                     pollution  dew  temp  pressure w_dir  w_speed  snow  rain\n",
       "year_month_day_hour                                                           \n",
       "2010-01-02 00:00:00      129.0  -16  -4.0    1020.0    SE     1.79     0     0\n",
       "2010-01-02 01:00:00      148.0  -15  -4.0    1020.0    SE     2.68     0     0\n",
       "2010-01-02 02:00:00      159.0  -11  -5.0    1021.0    SE     3.57     0     0\n",
       "2010-01-02 03:00:00      181.0   -7  -5.0    1022.0    SE     5.36     1     0\n",
       "2010-01-02 04:00:00      138.0   -7  -5.0    1022.0    SE     6.25     2     0\n",
       "...                        ...  ...   ...       ...   ...      ...   ...   ...\n",
       "2014-12-31 19:00:00        8.0  -23  -2.0    1034.0    NW   231.97     0     0\n",
       "2014-12-31 20:00:00       10.0  -22  -3.0    1034.0    NW   237.78     0     0\n",
       "2014-12-31 21:00:00       10.0  -22  -3.0    1034.0    NW   242.70     0     0\n",
       "2014-12-31 22:00:00        8.0  -22  -4.0    1034.0    NW   246.72     0     0\n",
       "2014-12-31 23:00:00       12.0  -21  -3.0    1034.0    NW   249.85     0     0\n",
       "\n",
       "[43800 rows x 8 columns]"
      ]
     },
     "execution_count": 1,
     "metadata": {},
     "output_type": "execute_result"
    }
   ],
   "source": [
    "import pandas as pd\n",
    "\n",
    "df = pd.read_csv('c:/workspace3/data/pollution.csv', index_col=0)\n",
    "df"
   ]
  },
  {
   "cell_type": "code",
   "execution_count": 2,
   "metadata": {},
   "outputs": [
    {
     "data": {
      "text/plain": [
       "Index(['pollution', 'dew', 'temp', 'pressure', 'w_dir', 'w_speed', 'snow',\n",
       "       'rain'],\n",
       "      dtype='object')"
      ]
     },
     "execution_count": 2,
     "metadata": {},
     "output_type": "execute_result"
    }
   ],
   "source": [
    "df.columns"
   ]
  },
  {
   "cell_type": "code",
   "execution_count": 3,
   "metadata": {},
   "outputs": [
    {
     "data": {
      "text/plain": [
       "<Axes: >"
      ]
     },
     "execution_count": 3,
     "metadata": {},
     "output_type": "execute_result"
    },
    {
     "data": {
      "image/png": "[encoded data removed]",
      "text/plain": [
       "<Figure size 640x480 with 1 Axes>"
      ]
     },
     "metadata": {},
     "output_type": "display_data"
    }
   ],
   "source": [
    "df.boxplot()"
   ]
  },
  {
   "cell_type": "code",
   "execution_count": 4,
   "metadata": {},
   "outputs": [
    {
     "data": {
      "text/plain": [
       "array([0., 1., 2., 3.], dtype=float32)"
      ]
     },
     "execution_count": 4,
     "metadata": {},
     "output_type": "execute_result"
    }
   ],
   "source": [
    "from sklearn.preprocessing import LabelEncoder\n",
    "import numpy as np\n",
    "\n",
    "values = df.values\n",
    "\n",
    "encoder = LabelEncoder()\n",
    "\n",
    "# w_dr 변수 정수인코딩\n",
    "values[:,4] = encoder.fit_transform(values[:,4])\n",
    "values = values.astype('float32')\n",
    "np.unique(values[:,4])"
   ]
  },
  {
   "cell_type": "code",
   "execution_count": 5,
   "metadata": {},
   "outputs": [
    {
     "data": {
      "text/plain": [
       "array([[129.  , -16.  ,  -4.  , ...,   1.79,   0.  ,   0.  ],\n",
       "       [148.  , -15.  ,  -4.  , ...,   2.68,   0.  ,   0.  ],\n",
       "       [159.  , -11.  ,  -5.  , ...,   3.57,   0.  ,   0.  ],\n",
       "       ...,\n",
       "       [ 10.  , -22.  ,  -3.  , ..., 242.7 ,   0.  ,   0.  ],\n",
       "       [  8.  , -22.  ,  -4.  , ..., 246.72,   0.  ,   0.  ],\n",
       "       [ 12.  , -21.  ,  -3.  , ..., 249.85,   0.  ,   0.  ]],\n",
       "      dtype=float32)"
      ]
     },
     "execution_count": 5,
     "metadata": {},
     "output_type": "execute_result"
    }
   ],
   "source": [
    "values"
   ]
  },
  {
   "cell_type": "code",
   "execution_count": 6,
   "metadata": {},
   "outputs": [
    {
     "data": {
      "image/png": "[encoded data removed]",
      "text/plain": [
       "<Figure size 640x480 with 1 Axes>"
      ]
     },
     "metadata": {},
     "output_type": "display_data"
    }
   ],
   "source": [
    "import matplotlib.pyplot as plt\n",
    "from sklearn.preprocessing import StandardScaler\n",
    "\n",
    "scaler = StandardScaler()\n",
    "\n",
    "scaled = scaler.fit_transform(values)\n",
    "pd.DataFrame(scaled).boxplot()\n",
    "\n",
    "plt.show()"
   ]
  },
  {
   "cell_type": "code",
   "execution_count": 7,
   "metadata": {},
   "outputs": [],
   "source": [
    "real_data=scaled"
   ]
  },
  {
   "cell_type": "code",
   "execution_count": 8,
   "metadata": {},
   "outputs": [],
   "source": [
    "# 모델 파라미터 설정\n",
    "\n",
    "d_input=real_data.shape[1] #변수의 개수\n",
    "\n",
    "d_hidden = 32\n",
    "d_output = 1\n",
    "g_input = 32\n",
    "g_hidden = 32\n",
    "\n",
    "g_output = d_input"
   ]
  },
  {
   "cell_type": "code",
   "execution_count": 9,
   "metadata": {},
   "outputs": [],
   "source": [
    "from tensorflow.keras.layers import Input, Dense\n",
    "from tensorflow.keras.models import Model\n",
    "from tensorflow.keras.optimizers import RMSprop\n",
    "import numpy as np\n",
    "\n",
    "# fake data 생성\n",
    "def makeZ(m, n):\n",
    "    z = np.random.uniform(-1.0, 1.0, size=[m, n])\n",
    "\n",
    "    return z\n",
    "\n",
    "def myOptimizer(lr):\n",
    "\n",
    "    return RMSprop(learning_rate=lr)\n",
    "\n",
    "# 판별 모델\n",
    "def build_D():\n",
    "    d_x = Input(batch_shape=(None, d_input))\n",
    "    d_h = Dense(d_hidden, activation='relu')(d_x)\n",
    "    d_o = Dense(d_output, activation='sigmoid')(d_h)\n",
    "\n",
    "    d_model = Model(d_x, d_o)\n",
    "    d_model.compile(loss='binary_crossentropy', optimizer=myOptimizer(0.01))\n",
    "\n",
    "    return d_model"
   ]
  },
  {
   "cell_type": "code",
   "execution_count": 10,
   "metadata": {},
   "outputs": [],
   "source": [
    "from tensorflow.keras import backend as K\n",
    "\n",
    "K.clear_session()\n",
    "\n",
    "D = build_D()"
   ]
  },
  {
   "cell_type": "code",
   "execution_count": 11,
   "metadata": {},
   "outputs": [
    {
     "name": "stdout",
     "output_type": "stream",
     "text": [
      "Model: \"model\"\n",
      "_________________________________________________________________\n",
      " Layer (type)                Output Shape              Param #   \n",
      "=================================================================\n",
      " input_1 (InputLayer)        [(None, 8)]               0         \n",
      "                                                                 \n",
      " dense (Dense)               (None, 32)                288       \n",
      "                                                                 \n",
      " dense_1 (Dense)             (None, 1)                 33        \n",
      "                                                                 \n",
      "=================================================================\n",
      "Total params: 321\n",
      "Trainable params: 321\n",
      "Non-trainable params: 0\n",
      "_________________________________________________________________\n"
     ]
    }
   ],
   "source": [
    "D.summary()"
   ]
  },
  {
   "cell_type": "code",
   "execution_count": 12,
   "metadata": {},
   "outputs": [],
   "source": [
    "# 생성 모델\n",
    "\n",
    "def build_G():\n",
    "    g_x = Input(batch_shape=(None, g_input))    \n",
    "    g_h = Dense(g_hidden, activation='relu')(g_x)\n",
    "    g_o = Dense(g_output, activation='linear')(g_h)\n",
    "\n",
    "    g_model = Model(g_x, g_o)\n",
    "\n",
    "    return g_model\n",
    "\n",
    "# GAN 모델\n",
    "def build_GAN(discriminator, generator):\n",
    "    discriminator.trainable = False\n",
    "\n",
    "    z = Input(batch_shape=(None, g_input))\n",
    "    Gz = generator(z)\n",
    "#           가짜\n",
    "    DGz = discriminator(Gz)\n",
    "#              판별\n",
    "\n",
    "    gan_model = Model(z, DGz)\n",
    "    gan_model.compile(loss='binary_crossentropy', optimizer=myOptimizer(0.01))\n",
    "\n",
    "    return gan_model"
   ]
  },
  {
   "cell_type": "code",
   "execution_count": 13,
   "metadata": {},
   "outputs": [],
   "source": [
    "G = build_G()"
   ]
  },
  {
   "cell_type": "code",
   "execution_count": 14,
   "metadata": {},
   "outputs": [
    {
     "name": "stdout",
     "output_type": "stream",
     "text": [
      "Model: \"model_1\"\n",
      "_________________________________________________________________\n",
      " Layer (type)                Output Shape              Param #   \n",
      "=================================================================\n",
      " input_2 (InputLayer)        [(None, 32)]              0         \n",
      "                                                                 \n",
      " dense_2 (Dense)             (None, 32)                1056      \n",
      "                                                                 \n",
      " dense_3 (Dense)             (None, 8)                 264       \n",
      "                                                                 \n",
      "=================================================================\n",
      "Total params: 1,320\n",
      "Trainable params: 1,320\n",
      "Non-trainable params: 0\n",
      "_________________________________________________________________\n"
     ]
    }
   ],
   "source": [
    "G.summary()"
   ]
  },
  {
   "cell_type": "code",
   "execution_count": 18,
   "metadata": {},
   "outputs": [],
   "source": [
    "GAN = build_GAN(D, G)"
   ]
  },
  {
   "cell_type": "code",
   "execution_count": 19,
   "metadata": {},
   "outputs": [
    {
     "name": "stdout",
     "output_type": "stream",
     "text": [
      "Model: \"model_3\"\n",
      "_________________________________________________________________\n",
      " Layer (type)                Output Shape              Param #   \n",
      "=================================================================\n",
      " input_4 (InputLayer)        [(None, 32)]              0         \n",
      "                                                                 \n",
      " model_1 (Functional)        (None, 8)                 1320      \n",
      "                                                                 \n",
      " model (Functional)          (None, 1)                 321       \n",
      "                                                                 \n",
      "=================================================================\n",
      "Total params: 1,641\n",
      "Trainable params: 1,320\n",
      "Non-trainable params: 321\n",
      "_________________________________________________________________\n"
     ]
    }
   ],
   "source": [
    "GAN.summary()"
   ]
  },
  {
   "cell_type": "code",
   "execution_count": 34,
   "metadata": {},
   "outputs": [
    {
     "name": "stdout",
     "output_type": "stream",
     "text": [
      "1369/1369 [==============================] - 2s 1ms/step\n",
      "Epoch: 0, D-loss = 0.6242, G-loss = 0.8161\n",
      "1369/1369 [==============================] - 1s 1ms/step\n",
      "1369/1369 [==============================] - 1s 1ms/step\n",
      "1369/1369 [==============================] - 1s 1ms/step\n",
      "1369/1369 [==============================] - 1s 994us/step\n",
      "1369/1369 [==============================] - 1s 937us/step\n",
      "1369/1369 [==============================] - 2s 2ms/step\n",
      "1369/1369 [==============================] - 1s 988us/step\n",
      "1369/1369 [==============================] - 1s 968us/step\n",
      "1369/1369 [==============================] - 1s 982us/step\n",
      "1369/1369 [==============================] - 1s 915us/step\n",
      "Epoch: 10, D-loss = 0.6439, G-loss = 0.8446\n",
      "1369/1369 [==============================] - 1s 978us/step\n",
      "1369/1369 [==============================] - 1s 1ms/step\n",
      "1369/1369 [==============================] - 1s 936us/step\n",
      "1369/1369 [==============================] - 1s 982us/step\n",
      "1369/1369 [==============================] - 1s 963us/step\n",
      "1369/1369 [==============================] - 2s 1ms/step\n",
      "1369/1369 [==============================] - 2s 1ms/step\n",
      "1369/1369 [==============================] - 1s 1ms/step\n",
      "1369/1369 [==============================] - 2s 1ms/step\n",
      "1369/1369 [==============================] - 1s 1ms/step\n",
      "Epoch: 20, D-loss = 0.6502, G-loss = 0.7999\n",
      "1369/1369 [==============================] - 2s 1ms/step\n",
      "1369/1369 [==============================] - 1s 1ms/step\n",
      "1369/1369 [==============================] - 1s 1ms/step\n",
      "1369/1369 [==============================] - 1s 1ms/step\n",
      "1369/1369 [==============================] - 1s 1ms/step\n",
      "1369/1369 [==============================] - 1s 1ms/step\n",
      "1369/1369 [==============================] - 1s 1ms/step\n",
      "1369/1369 [==============================] - 1s 978us/step\n",
      "1369/1369 [==============================] - 1s 1000us/step\n",
      "1369/1369 [==============================] - 1s 1ms/step\n",
      "Epoch: 30, D-loss = 0.6318, G-loss = 0.7923\n",
      "1369/1369 [==============================] - 1s 1ms/step\n",
      "1369/1369 [==============================] - 1s 1ms/step\n",
      "1369/1369 [==============================] - 1s 967us/step\n",
      "1369/1369 [==============================] - 1s 961us/step\n",
      "1369/1369 [==============================] - 1s 965us/step\n",
      "1369/1369 [==============================] - 1s 976us/step\n",
      "1369/1369 [==============================] - 1s 949us/step\n",
      "1369/1369 [==============================] - 1s 993us/step\n",
      "1369/1369 [==============================] - 1s 964us/step\n",
      "1369/1369 [==============================] - 1s 1ms/step\n",
      "Epoch: 40, D-loss = 0.6392, G-loss = 0.8147\n",
      "1369/1369 [==============================] - 1s 1ms/step\n",
      "1369/1369 [==============================] - 1s 1ms/step\n",
      "1369/1369 [==============================] - 1s 979us/step\n",
      "1369/1369 [==============================] - 1s 981us/step\n",
      "1369/1369 [==============================] - 1s 1ms/step\n",
      "1369/1369 [==============================] - 1s 1ms/step\n",
      "1369/1369 [==============================] - 2s 1ms/step\n",
      "1369/1369 [==============================] - 2s 1ms/step\n",
      "1369/1369 [==============================] - 1s 992us/step\n",
      "1369/1369 [==============================] - 2s 1ms/step\n",
      "Epoch: 50, D-loss = 0.6262, G-loss = 0.8153\n",
      "1369/1369 [==============================] - 1s 1ms/step\n",
      "1369/1369 [==============================] - 2s 1ms/step\n",
      "1369/1369 [==============================] - 2s 1ms/step\n",
      "1369/1369 [==============================] - 1s 1ms/step\n",
      "1369/1369 [==============================] - 1s 1ms/step\n",
      "1369/1369 [==============================] - 1s 998us/step\n",
      "1369/1369 [==============================] - 1s 986us/step\n",
      "1369/1369 [==============================] - 1s 984us/step\n",
      "1369/1369 [==============================] - 1s 968us/step\n",
      "1369/1369 [==============================] - 1s 968us/step\n",
      "Epoch: 60, D-loss = 0.6310, G-loss = 0.8196\n",
      "1369/1369 [==============================] - 1s 975us/step\n",
      "1369/1369 [==============================] - 1s 997us/step\n",
      "1369/1369 [==============================] - 1s 1ms/step\n",
      "1369/1369 [==============================] - 1s 948us/step\n",
      "1369/1369 [==============================] - 1s 976us/step\n",
      "1369/1369 [==============================] - 1s 1ms/step\n",
      "1369/1369 [==============================] - 1s 1ms/step\n",
      "1369/1369 [==============================] - 1s 1ms/step\n",
      "1369/1369 [==============================] - 1s 987us/step\n",
      "1369/1369 [==============================] - 1s 1ms/step\n",
      "Epoch: 70, D-loss = 0.6430, G-loss = 0.8305\n",
      "1369/1369 [==============================] - 1s 1ms/step\n",
      "1369/1369 [==============================] - 1s 1ms/step\n",
      "1369/1369 [==============================] - 1s 1ms/step\n",
      "1369/1369 [==============================] - 2s 1ms/step\n",
      "1369/1369 [==============================] - 1s 1ms/step\n",
      "1369/1369 [==============================] - 1s 1ms/step\n",
      "1369/1369 [==============================] - 2s 1ms/step\n",
      "1369/1369 [==============================] - 2s 1ms/step\n",
      "1369/1369 [==============================] - 1s 1ms/step\n",
      "1369/1369 [==============================] - 1s 1ms/step\n",
      "Epoch: 80, D-loss = 0.6286, G-loss = 0.8076\n",
      "1369/1369 [==============================] - 1s 948us/step\n",
      "1369/1369 [==============================] - 1s 1ms/step\n",
      "1369/1369 [==============================] - 1s 1ms/step\n",
      "1369/1369 [==============================] - 1s 954us/step\n",
      "1369/1369 [==============================] - 1s 1ms/step\n",
      "1369/1369 [==============================] - 1s 922us/step\n",
      "1369/1369 [==============================] - 1s 902us/step\n",
      "1369/1369 [==============================] - 1s 902us/step\n",
      "1369/1369 [==============================] - 1s 1ms/step\n",
      "1369/1369 [==============================] - 1s 952us/step\n",
      "Epoch: 90, D-loss = 0.6196, G-loss = 0.8190\n",
      "1369/1369 [==============================] - 1s 1ms/step\n",
      "1369/1369 [==============================] - 1s 993us/step\n",
      "1369/1369 [==============================] - 2s 1ms/step\n",
      "1369/1369 [==============================] - 2s 1ms/step\n",
      "1369/1369 [==============================] - 2s 1ms/step\n",
      "1369/1369 [==============================] - 2s 1ms/step\n",
      "1369/1369 [==============================] - 2s 1ms/step\n",
      "1369/1369 [==============================] - 2s 1ms/step\n",
      "1369/1369 [==============================] - 2s 1ms/step\n",
      "1369/1369 [==============================] - 2s 1ms/step\n",
      "Epoch: 100, D-loss = 0.6274, G-loss = 0.8783\n",
      "1369/1369 [==============================] - 1s 1ms/step\n",
      "1369/1369 [==============================] - 2s 1ms/step\n",
      "1369/1369 [==============================] - 1s 1ms/step\n",
      "1369/1369 [==============================] - 1s 1ms/step\n",
      "1369/1369 [==============================] - 1s 1ms/step\n",
      "1369/1369 [==============================] - 1s 996us/step\n",
      "1369/1369 [==============================] - 1s 1ms/step\n",
      "1369/1369 [==============================] - 2s 1ms/step\n",
      "1369/1369 [==============================] - 2s 1ms/step\n",
      "1369/1369 [==============================] - 2s 1ms/step\n",
      "Epoch: 110, D-loss = 0.6360, G-loss = 0.9057\n",
      "1369/1369 [==============================] - 2s 1ms/step\n",
      "1369/1369 [==============================] - 2s 1ms/step\n",
      "1369/1369 [==============================] - 2s 1ms/step\n",
      "1369/1369 [==============================] - 2s 1ms/step\n",
      "1369/1369 [==============================] - 2s 1ms/step\n",
      "1369/1369 [==============================] - 2s 1ms/step\n",
      "1369/1369 [==============================] - 1s 1ms/step\n",
      "1369/1369 [==============================] - 2s 1ms/step\n",
      "1369/1369 [==============================] - 1s 1ms/step\n",
      "1369/1369 [==============================] - 1s 1ms/step\n",
      "Epoch: 120, D-loss = 0.6145, G-loss = 0.8498\n",
      "1369/1369 [==============================] - 1s 1ms/step\n",
      "1369/1369 [==============================] - 1s 1ms/step\n",
      "1369/1369 [==============================] - 1s 1ms/step\n",
      "1369/1369 [==============================] - 1s 1ms/step\n",
      "1369/1369 [==============================] - 1s 1ms/step\n",
      "1369/1369 [==============================] - 1s 1ms/step\n",
      "1369/1369 [==============================] - 1s 1ms/step\n",
      "1369/1369 [==============================] - 1s 999us/step\n",
      "1369/1369 [==============================] - 1s 1ms/step\n",
      "1369/1369 [==============================] - 1s 1ms/step\n",
      "Epoch: 130, D-loss = 0.6184, G-loss = 0.8631\n",
      "1369/1369 [==============================] - 1s 1ms/step\n",
      "1369/1369 [==============================] - 1s 1ms/step\n",
      "1369/1369 [==============================] - 2s 1ms/step\n",
      "1369/1369 [==============================] - 1s 1ms/step\n",
      "1369/1369 [==============================] - 2s 1ms/step\n",
      "1369/1369 [==============================] - 1s 1ms/step\n",
      "1369/1369 [==============================] - 1s 946us/step\n",
      "1369/1369 [==============================] - 1s 988us/step\n",
      "1369/1369 [==============================] - 1s 973us/step\n",
      "1369/1369 [==============================] - 1s 937us/step\n",
      "Epoch: 140, D-loss = 0.6202, G-loss = 0.8274\n",
      "1369/1369 [==============================] - 1s 996us/step\n",
      "1369/1369 [==============================] - 1s 954us/step\n",
      "1369/1369 [==============================] - 1s 900us/step\n",
      "1369/1369 [==============================] - 1s 1ms/step\n",
      "1369/1369 [==============================] - 1s 1ms/step\n",
      "1369/1369 [==============================] - 1s 913us/step\n",
      "1369/1369 [==============================] - 1s 932us/step\n",
      "1369/1369 [==============================] - 1s 999us/step\n",
      "1369/1369 [==============================] - 1s 1ms/step\n",
      "1369/1369 [==============================] - 1s 982us/step\n",
      "Epoch: 150, D-loss = 0.6143, G-loss = 0.7974\n",
      "1369/1369 [==============================] - 1s 968us/step\n",
      "1369/1369 [==============================] - 1s 1ms/step\n",
      "1369/1369 [==============================] - 1s 925us/step\n",
      "1369/1369 [==============================] - 1s 1ms/step\n",
      "1369/1369 [==============================] - 2s 1ms/step\n",
      "1369/1369 [==============================] - 1s 1ms/step\n",
      "1369/1369 [==============================] - 1s 1ms/step\n",
      "1369/1369 [==============================] - 1s 932us/step\n",
      "1369/1369 [==============================] - 1s 957us/step\n",
      "1369/1369 [==============================] - 1s 998us/step\n",
      "Epoch: 160, D-loss = 0.6379, G-loss = 0.7884\n",
      "1369/1369 [==============================] - 1s 948us/step\n",
      "1369/1369 [==============================] - 1s 948us/step\n",
      "1369/1369 [==============================] - 2s 1ms/step\n",
      "1369/1369 [==============================] - 2s 1ms/step\n",
      "1369/1369 [==============================] - 2s 1ms/step\n",
      "1369/1369 [==============================] - 1s 1ms/step\n",
      "1369/1369 [==============================] - 1s 1ms/step\n",
      "1369/1369 [==============================] - 1s 952us/step\n",
      "1369/1369 [==============================] - 1s 1ms/step\n",
      "1369/1369 [==============================] - 1s 1ms/step\n",
      "Epoch: 170, D-loss = 0.6260, G-loss = 0.8160\n",
      "1369/1369 [==============================] - 1s 1ms/step\n",
      "1369/1369 [==============================] - 1s 975us/step\n",
      "1369/1369 [==============================] - 1s 1ms/step\n",
      "1369/1369 [==============================] - 1s 1ms/step\n",
      "1369/1369 [==============================] - 1s 996us/step\n",
      "1369/1369 [==============================] - 2s 1ms/step\n",
      "1369/1369 [==============================] - 2s 1ms/step\n",
      "1369/1369 [==============================] - 1s 1ms/step\n",
      "1369/1369 [==============================] - 1s 1ms/step\n",
      "1369/1369 [==============================] - 2s 1ms/step\n",
      "Epoch: 180, D-loss = 0.6201, G-loss = 0.8358\n",
      "1369/1369 [==============================] - 1s 954us/step\n",
      "1369/1369 [==============================] - 1s 1ms/step\n",
      "1369/1369 [==============================] - 1s 992us/step\n",
      "1369/1369 [==============================] - 1s 1ms/step\n",
      "1369/1369 [==============================] - 1s 1ms/step\n",
      "1369/1369 [==============================] - 1s 1ms/step\n",
      "1369/1369 [==============================] - 1s 1ms/step\n",
      "1369/1369 [==============================] - 1s 1ms/step\n",
      "1369/1369 [==============================] - 1s 1ms/step\n",
      "1369/1369 [==============================] - 1s 998us/step\n",
      "Epoch: 190, D-loss = 0.6187, G-loss = 0.8464\n",
      "1369/1369 [==============================] - 1s 1ms/step\n",
      "1369/1369 [==============================] - 1s 1ms/step\n",
      "1369/1369 [==============================] - 2s 1ms/step\n",
      "1369/1369 [==============================] - 2s 1ms/step\n",
      "1369/1369 [==============================] - 2s 1ms/step\n",
      "1369/1369 [==============================] - 1s 1ms/step\n",
      "1369/1369 [==============================] - 1s 1ms/step\n",
      "1369/1369 [==============================] - 2s 1ms/step\n",
      "1369/1369 [==============================] - 2s 1ms/step\n",
      "1369/1369 [==============================] - 1s 1ms/step\n",
      "Epoch: 200, D-loss = 0.6165, G-loss = 0.8836\n",
      "1369/1369 [==============================] - 1s 1ms/step\n",
      "1369/1369 [==============================] - 1s 1ms/step\n",
      "1369/1369 [==============================] - 2s 1ms/step\n",
      "1369/1369 [==============================] - 2s 1ms/step\n",
      "1369/1369 [==============================] - 2s 1ms/step\n",
      "1369/1369 [==============================] - 2s 1ms/step\n",
      "1369/1369 [==============================] - 2s 1ms/step\n",
      "1369/1369 [==============================] - 2s 1ms/step\n",
      "1369/1369 [==============================] - 2s 1ms/step\n",
      "1369/1369 [==============================] - 2s 1ms/step\n",
      "Epoch: 210, D-loss = 0.5947, G-loss = 0.8970\n",
      "1369/1369 [==============================] - 2s 1ms/step\n",
      "1369/1369 [==============================] - 2s 1ms/step\n",
      "1369/1369 [==============================] - 2s 1ms/step\n",
      "1369/1369 [==============================] - 2s 1ms/step\n",
      "1369/1369 [==============================] - 2s 1ms/step\n",
      "1369/1369 [==============================] - 2s 1ms/step\n",
      "1369/1369 [==============================] - 2s 1ms/step\n",
      "1369/1369 [==============================] - 2s 1ms/step\n",
      "1369/1369 [==============================] - 2s 1ms/step\n",
      "1369/1369 [==============================] - 2s 1ms/step\n",
      "Epoch: 220, D-loss = 0.5855, G-loss = 0.8481\n",
      "1369/1369 [==============================] - 2s 1ms/step\n",
      "1369/1369 [==============================] - 2s 1ms/step\n",
      "1369/1369 [==============================] - 2s 1ms/step\n",
      "1369/1369 [==============================] - 2s 1ms/step\n",
      "1369/1369 [==============================] - 2s 1ms/step\n",
      "1369/1369 [==============================] - 2s 1ms/step\n",
      "1369/1369 [==============================] - 2s 1ms/step\n",
      "1369/1369 [==============================] - 2s 2ms/step\n",
      "1369/1369 [==============================] - 2s 1ms/step\n",
      "1369/1369 [==============================] - 2s 1ms/step\n",
      "Epoch: 230, D-loss = 0.6108, G-loss = 0.8405\n",
      "1369/1369 [==============================] - 2s 1ms/step\n",
      "1369/1369 [==============================] - 2s 1ms/step\n",
      "1369/1369 [==============================] - 2s 1ms/step\n",
      "1369/1369 [==============================] - 2s 1ms/step\n",
      "1369/1369 [==============================] - 2s 1ms/step\n",
      "1369/1369 [==============================] - 2s 1ms/step\n",
      "1369/1369 [==============================] - 2s 1ms/step\n",
      "1369/1369 [==============================] - 2s 1ms/step\n",
      "1369/1369 [==============================] - 2s 1ms/step\n",
      "1369/1369 [==============================] - 2s 1ms/step\n",
      "Epoch: 240, D-loss = 0.6006, G-loss = 0.8247\n",
      "1369/1369 [==============================] - 2s 1ms/step\n",
      "1369/1369 [==============================] - 2s 1ms/step\n",
      "1369/1369 [==============================] - 2s 1ms/step\n",
      "1369/1369 [==============================] - 2s 1ms/step\n",
      "1369/1369 [==============================] - 2s 1ms/step\n",
      "1369/1369 [==============================] - 2s 1ms/step\n",
      "1369/1369 [==============================] - 2s 1ms/step\n",
      "1369/1369 [==============================] - 2s 1ms/step\n",
      "1369/1369 [==============================] - 2s 1ms/step\n"
     ]
    }
   ],
   "source": [
    "n_batch_cnt = 5\n",
    "n_batch_size = int( real_data.shape[0] / n_batch_cnt)\n",
    "\n",
    "EPOCHS = 250\n",
    "\n",
    "for epoch in range(EPOCHS):\n",
    "    X = real_data[:]\n",
    "#                실제\n",
    "    Z = makeZ(m=X.shape[0], n=g_input)\n",
    "#                 가짜\n",
    "    Gz = G.predict(Z) # 가짜 데이터로부터 분포 생성\n",
    "\n",
    "    # discriminator 학습 데이터 준비\n",
    "    d_target = np.zeros(X.shape[0]*2)\n",
    "    d_target[:X.shape[0]] = 1   # 진짜 데이터\n",
    "    d_target[X.shape[0]:] = 0   # 가짜 데이터\n",
    "\n",
    "    bX_Gz = np.concatenate([X, Gz])    \n",
    "\n",
    "    # generator 학습 데이터 준비\n",
    "    g_target = np.zeros(Z.shape[0])\n",
    "    g_target[:] = 1\n",
    "\n",
    "    # discriminator 학습        \n",
    "    loss_D = D.train_on_batch(bX_Gz, d_target) # loss 계산\n",
    "\n",
    "    # generator 학습        \n",
    "    loss_G = GAN.train_on_batch(Z, g_target)\n",
    "\n",
    "    if epoch % 10 == 0:\n",
    "        print(\"Epoch: %d, D-loss = %.4f, G-loss = %.4f\" %(epoch, loss_D, loss_G))"
   ]
  },
  {
   "cell_type": "code",
   "execution_count": 35,
   "metadata": {},
   "outputs": [
    {
     "name": "stdout",
     "output_type": "stream",
     "text": [
      "1369/1369 [==============================] - 2s 1ms/step\n"
     ]
    },
    {
     "data": {
      "image/png": "[encoded data removed]",
      "text/plain": [
       "<Figure size 800x500 with 1 Axes>"
      ]
     },
     "metadata": {},
     "output_type": "display_data"
    }
   ],
   "source": [
    "import matplotlib.pyplot as plt\n",
    "import seaborn as sns\n",
    "\n",
    "# 학습 완료 후 데이터 분포 시각화\n",
    "z = makeZ(m=real_data.shape[0], n=g_input)\n",
    "fake_data = G.predict(z)\n",
    "\n",
    "plt.figure(figsize=(8, 5))\n",
    "sns.set_style('whitegrid')\n",
    "sns.kdeplot(fake_data[:, 0], color='red', bw_method=0.3, label='fake data')\n",
    "sns.kdeplot(real_data.reshape(-1,1)[:, 0], color='blue', bw_method=0.3, label='real data')\n",
    "plt.legend()\n",
    "\n",
    "plt.show()\n",
    "\n",
    "#실제 데이터와 분포가 매우 유사함"
   ]
  },
  {
   "cell_type": "code",
   "execution_count": 36,
   "metadata": {},
   "outputs": [],
   "source": [
    "real = scaler.inverse_transform(real_data)\n",
    "fake = scaler.inverse_transform(fake_data)"
   ]
  },
  {
   "cell_type": "code",
   "execution_count": 37,
   "metadata": {},
   "outputs": [
    {
     "data": {
      "text/plain": [
       "15.503995"
      ]
     },
     "execution_count": 37,
     "metadata": {},
     "output_type": "execute_result"
    }
   ],
   "source": [
    "from sklearn.metrics import mean_squared_error\n",
    "\n",
    "np.sqrt(mean_squared_error(real[:,3], fake[:,3]))"
   ]
  },
  {
   "cell_type": "code",
   "execution_count": 38,
   "metadata": {},
   "outputs": [
    {
     "data": {
      "image/png": "[encoded data removed]",
      "text/plain": [
       "<Figure size 640x480 with 1 Axes>"
      ]
     },
     "metadata": {},
     "output_type": "display_data"
    }
   ],
   "source": [
    "plt.plot(fake[::200,0], color='red', label='fake')\n",
    "plt.plot(real[::200,0], color='blue', label='real')\n",
    "plt.legend()\n",
    "\n",
    "plt.show()"
   ]
  },
  {
   "cell_type": "code",
   "execution_count": 39,
   "metadata": {},
   "outputs": [
    {
     "data": {
      "text/html": [
       "<div>\n",
       "<style scoped>\n",
       "    .dataframe tbody tr th:only-of-type {\n",
       "        vertical-align: middle;\n",
       "    }\n",
       "\n",
       "    .dataframe tbody tr th {\n",
       "        vertical-align: top;\n",
       "    }\n",
       "\n",
       "    .dataframe thead th {\n",
       "        text-align: right;\n",
       "    }\n",
       "</style>\n",
       "<table border=\"1\" class=\"dataframe\">\n",
       "  <thead>\n",
       "    <tr style=\"text-align: right;\">\n",
       "      <th></th>\n",
       "      <th>pollution</th>\n",
       "      <th>dew</th>\n",
       "      <th>temp</th>\n",
       "      <th>pressure</th>\n",
       "      <th>w_dir</th>\n",
       "      <th>w_speed</th>\n",
       "      <th>snow</th>\n",
       "      <th>rain</th>\n",
       "    </tr>\n",
       "  </thead>\n",
       "  <tbody>\n",
       "    <tr>\n",
       "      <th>0</th>\n",
       "      <td>14.626042</td>\n",
       "      <td>-4.926201</td>\n",
       "      <td>17.984051</td>\n",
       "      <td>1011.300354</td>\n",
       "      <td>0.249374</td>\n",
       "      <td>7.616221</td>\n",
       "      <td>0.023200</td>\n",
       "      <td>0.045061</td>\n",
       "    </tr>\n",
       "    <tr>\n",
       "      <th>1</th>\n",
       "      <td>19.678005</td>\n",
       "      <td>-9.759507</td>\n",
       "      <td>3.783913</td>\n",
       "      <td>1020.590820</td>\n",
       "      <td>0.878773</td>\n",
       "      <td>51.331562</td>\n",
       "      <td>0.000982</td>\n",
       "      <td>-0.015264</td>\n",
       "    </tr>\n",
       "    <tr>\n",
       "      <th>2</th>\n",
       "      <td>382.650421</td>\n",
       "      <td>22.510508</td>\n",
       "      <td>27.166069</td>\n",
       "      <td>1007.768860</td>\n",
       "      <td>1.964391</td>\n",
       "      <td>8.880092</td>\n",
       "      <td>0.016536</td>\n",
       "      <td>0.000390</td>\n",
       "    </tr>\n",
       "    <tr>\n",
       "      <th>3</th>\n",
       "      <td>106.988075</td>\n",
       "      <td>19.446423</td>\n",
       "      <td>23.736267</td>\n",
       "      <td>1006.285767</td>\n",
       "      <td>-0.494382</td>\n",
       "      <td>-0.892673</td>\n",
       "      <td>0.009328</td>\n",
       "      <td>-0.004096</td>\n",
       "    </tr>\n",
       "    <tr>\n",
       "      <th>4</th>\n",
       "      <td>43.298496</td>\n",
       "      <td>-28.342812</td>\n",
       "      <td>-12.119864</td>\n",
       "      <td>1032.799805</td>\n",
       "      <td>1.045579</td>\n",
       "      <td>9.296487</td>\n",
       "      <td>0.005575</td>\n",
       "      <td>-0.003164</td>\n",
       "    </tr>\n",
       "  </tbody>\n",
       "</table>\n",
       "</div>"
      ],
      "text/plain": [
       "    pollution        dew       temp     pressure     w_dir    w_speed  \\\n",
       "0   14.626042  -4.926201  17.984051  1011.300354  0.249374   7.616221   \n",
       "1   19.678005  -9.759507   3.783913  1020.590820  0.878773  51.331562   \n",
       "2  382.650421  22.510508  27.166069  1007.768860  1.964391   8.880092   \n",
       "3  106.988075  19.446423  23.736267  1006.285767 -0.494382  -0.892673   \n",
       "4   43.298496 -28.342812 -12.119864  1032.799805  1.045579   9.296487   \n",
       "\n",
       "       snow      rain  \n",
       "0  0.023200  0.045061  \n",
       "1  0.000982 -0.015264  \n",
       "2  0.016536  0.000390  \n",
       "3  0.009328 -0.004096  \n",
       "4  0.005575 -0.003164  "
      ]
     },
     "execution_count": 39,
     "metadata": {},
     "output_type": "execute_result"
    }
   ],
   "source": [
    "df2=pd.DataFrame(fake, columns=['pollution', 'dew', 'temp', 'pressure', 'w_dir', 'w_speed', 'snow','rain'])\n",
    "\n",
    "df2.head()"
   ]
  },
  {
   "cell_type": "code",
   "execution_count": 40,
   "metadata": {},
   "outputs": [],
   "source": [
    "df2.to_csv('c:/workspace3/data/pollution_gan.csv',index=False)"
   ]
  },
  {
   "cell_type": "code",
   "execution_count": null,
   "metadata": {},
   "outputs": [],
   "source": []
  }
 ],
 "metadata": {
  "kernelspec": {
   "display_name": "Python 3",
   "language": "python",
   "name": "python3"
  },
  "language_info": {
   "codemirror_mode": {
    "name": "ipython",
    "version": 3
   },
   "file_extension": ".py",
   "mimetype": "text/x-python",
   "name": "python",
   "nbconvert_exporter": "python",
   "pygments_lexer": "ipython3",
   "version": "3.9.13"
  },
  "orig_nbformat": 4
 },
 "nbformat": 4,
 "nbformat_minor": 2
}
