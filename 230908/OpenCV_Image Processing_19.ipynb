{
 "cells": [
  {
   "cell_type": "markdown",
   "metadata": {},
   "source": [
    "### 히스토그램 평탄화 3"
   ]
  },
  {
   "cell_type": "code",
   "execution_count": null,
   "metadata": {},
   "outputs": [],
   "source": [
    "import cv2 as cv\n",
    "import matplotlib.pyplot as plt\n",
    "\n",
    "img=cv.imread('c:/workspace3/data/images/mistyroad.jpg')\n",
    "gray=cv.cvtColor(img,cv.COLOR_BGR2GRAY)        \n",
    "\n",
    "plt.imshow(gray,cmap='gray')\n",
    "plt.xticks([])\n",
    "plt.yticks([])\n",
    "\n",
    "plt.show()"
   ]
  },
  {
   "cell_type": "code",
   "execution_count": null,
   "metadata": {},
   "outputs": [],
   "source": [
    "h=cv.calcHist([gray],[0],None,[256],[0,256])    \n",
    "\n",
    "plt.plot(h,color='r',linewidth=1)\n",
    "\n",
    "plt.show()"
   ]
  },
  {
   "cell_type": "code",
   "execution_count": null,
   "metadata": {},
   "outputs": [],
   "source": [
    "# 히스토그램 평활화\n",
    "\n",
    "equal=cv.equalizeHist(gray)   \n",
    "\n",
    "plt.imshow(equal,cmap='gray')\n",
    "plt.xticks([])\n",
    "plt.yticks([])\n",
    "\n",
    "plt.show()"
   ]
  },
  {
   "cell_type": "code",
   "execution_count": null,
   "metadata": {},
   "outputs": [],
   "source": [
    "h=cv.calcHist([equal],[0],None,[256],[0,256])    \n",
    "\n",
    "plt.plot(h,color='r',linewidth=1)\n",
    "plt.show()"
   ]
  }
 ],
 "metadata": {
  "language_info": {
   "name": "python"
  },
  "orig_nbformat": 4
 },
 "nbformat": 4,
 "nbformat_minor": 2
}
