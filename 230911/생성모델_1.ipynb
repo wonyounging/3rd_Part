{
 "cells": [
  {
   "cell_type": "markdown",
   "metadata": {},
   "source": [
    "### 공분산"
   ]
  },
  {
   "cell_type": "code",
   "execution_count": null,
   "metadata": {},
   "outputs": [],
   "source": [
    "# GAN(Generative Adversarial Network)\n",
    "\n",
    "# 적대적 생성 모델\n",
    "\n",
    "# 생성 모델 : 데이터의 형태를 만들어 내는 모델, 어떤 분포 혹은 분산 자체를 만들어내는 모델\n",
    "\n",
    "# 적대적 : 지폐위조범(Generator)과 경찰(Discriminator)\n",
    "\n",
    "# Generator: 새로운 데이터의 형태를 만들어 내는 모델, 판독 모델을 틀리도록 하는 역할(적대적 모델), 진짜 같은 가짜를 생성해내는 모델\n",
    "\n",
    "# Discriminator: 데이터 판독 모델(Real, Fake 판독)"
   ]
  },
  {
   "cell_type": "code",
   "execution_count": 6,
   "metadata": {},
   "outputs": [
    {
     "data": {
      "text/html": [
       "<div>\n",
       "<style scoped>\n",
       "    .dataframe tbody tr th:only-of-type {\n",
       "        vertical-align: middle;\n",
       "    }\n",
       "\n",
       "    .dataframe tbody tr th {\n",
       "        vertical-align: top;\n",
       "    }\n",
       "\n",
       "    .dataframe thead th {\n",
       "        text-align: right;\n",
       "    }\n",
       "</style>\n",
       "<table border=\"1\" class=\"dataframe\">\n",
       "  <thead>\n",
       "    <tr style=\"text-align: right;\">\n",
       "      <th></th>\n",
       "      <th>weekend</th>\n",
       "      <th>num.child</th>\n",
       "      <th>distance</th>\n",
       "      <th>rides</th>\n",
       "      <th>games</th>\n",
       "      <th>wait</th>\n",
       "      <th>clean</th>\n",
       "      <th>overall</th>\n",
       "    </tr>\n",
       "  </thead>\n",
       "  <tbody>\n",
       "    <tr>\n",
       "      <th>0</th>\n",
       "      <td>yes</td>\n",
       "      <td>0</td>\n",
       "      <td>114.648259</td>\n",
       "      <td>87</td>\n",
       "      <td>73</td>\n",
       "      <td>60</td>\n",
       "      <td>89</td>\n",
       "      <td>47</td>\n",
       "    </tr>\n",
       "    <tr>\n",
       "      <th>1</th>\n",
       "      <td>yes</td>\n",
       "      <td>2</td>\n",
       "      <td>27.014097</td>\n",
       "      <td>87</td>\n",
       "      <td>78</td>\n",
       "      <td>76</td>\n",
       "      <td>87</td>\n",
       "      <td>65</td>\n",
       "    </tr>\n",
       "    <tr>\n",
       "      <th>2</th>\n",
       "      <td>no</td>\n",
       "      <td>1</td>\n",
       "      <td>63.300975</td>\n",
       "      <td>85</td>\n",
       "      <td>80</td>\n",
       "      <td>70</td>\n",
       "      <td>88</td>\n",
       "      <td>61</td>\n",
       "    </tr>\n",
       "    <tr>\n",
       "      <th>3</th>\n",
       "      <td>yes</td>\n",
       "      <td>0</td>\n",
       "      <td>25.909931</td>\n",
       "      <td>88</td>\n",
       "      <td>72</td>\n",
       "      <td>66</td>\n",
       "      <td>89</td>\n",
       "      <td>37</td>\n",
       "    </tr>\n",
       "    <tr>\n",
       "      <th>4</th>\n",
       "      <td>no</td>\n",
       "      <td>4</td>\n",
       "      <td>54.718307</td>\n",
       "      <td>84</td>\n",
       "      <td>87</td>\n",
       "      <td>74</td>\n",
       "      <td>87</td>\n",
       "      <td>68</td>\n",
       "    </tr>\n",
       "  </tbody>\n",
       "</table>\n",
       "</div>"
      ],
      "text/plain": [
       "  weekend  num.child    distance  rides  games  wait  clean  overall\n",
       "0     yes          0  114.648259     87     73    60     89       47\n",
       "1     yes          2   27.014097     87     78    76     87       65\n",
       "2      no          1   63.300975     85     80    70     88       61\n",
       "3     yes          0   25.909931     88     72    66     89       37\n",
       "4      no          4   54.718307     84     87    74     87       68"
      ]
     },
     "execution_count": 6,
     "metadata": {},
     "output_type": "execute_result"
    }
   ],
   "source": [
    "import pandas as pd\n",
    "\n",
    "df=pd.read_csv('c:/workspace3/data/rides.csv')\n",
    "df.head()"
   ]
  },
  {
   "cell_type": "code",
   "execution_count": 7,
   "metadata": {},
   "outputs": [
    {
     "data": {
      "image/png": "[encoded data removed]",
      "text/plain": [
       "<Figure size 640x480 with 1 Axes>"
      ]
     },
     "metadata": {},
     "output_type": "display_data"
    }
   ],
   "source": [
    "import matplotlib.pyplot as plt\n",
    "\n",
    "plt.scatter(df.rides, df.overall)\n",
    "plt.show()\n",
    "\n",
    "# rides와 overall은 양의 상관관계가 있는 것으로 보임"
   ]
  },
  {
   "cell_type": "code",
   "execution_count": null,
   "metadata": {},
   "outputs": [],
   "source": [
    "#공분산(Covariance): 두 변수의 상관정도를 나타내는 값, 두 변수가 같은 방향으로 움직이는 정도\n",
    "\n",
    "#  x의 편차와 y의 편차를 곱한 값의 평균값\n",
    "\n",
    "# X 증가 => y 증가 => 양수\n",
    "# X 증가 => y 감소 => 음수\n",
    "\n",
    "# 공분산이 0이면 두 변수는 선형관계가 없음"
   ]
  },
  {
   "cell_type": "code",
   "execution_count": 8,
   "metadata": {},
   "outputs": [
    {
     "data": {
      "text/plain": [
       "50.82939078156313"
      ]
     },
     "execution_count": 8,
     "metadata": {},
     "output_type": "execute_result"
    }
   ],
   "source": [
    "import numpy as np\n",
    "\n",
    "np.cov(df.overall, df.rides)[0,1]\n",
    "\n",
    "# 양수이므로 양의 상관관계임\n",
    "# 공분산은 증가, 감소 방향을 이해할 수는 있으나 어느 정도의 상관관계인지 파악하기는 어려움"
   ]
  },
  {
   "cell_type": "code",
   "execution_count": 10,
   "metadata": {},
   "outputs": [
    {
     "name": "stdout",
     "output_type": "stream",
     "text": [
      "2.5\n",
      "0.0\n"
     ]
    }
   ],
   "source": [
    "print(np.cov([1,2,3,4,5], [2,3,4,5,6])[0,1])  # x,y가 같은 방향으로 증가하므로 양수\n",
    "print(np.cov([1,2,3,4,5], [3,3,3,3,3])[0,1])  # x의 변화에 y가 영향을 받지 않으므로 0"
   ]
  },
  {
   "cell_type": "code",
   "execution_count": 11,
   "metadata": {},
   "outputs": [
    {
     "name": "stdout",
     "output_type": "stream",
     "text": [
      "-2.5\n",
      "-25.0\n"
     ]
    }
   ],
   "source": [
    "print(np.cov([1,2,3,4,5], [5,4,3,2,1])[0,1])  # x,y의 증가 방향이 다르므로 음수\n",
    "print(np.cov([10,20,30,40,50], [5,4,3,2,1])[0,1])\n",
    "\n",
    "# 공분산은 변수의 단위에 크게 영향을 받는 단점이 있음.\n",
    "# 이것을 보완하기 위해 공분산을 표준화시킨 상관계수를 사용함"
   ]
  },
  {
   "cell_type": "code",
   "execution_count": null,
   "metadata": {},
   "outputs": [],
   "source": [
    "#상관계수 :  X와 Y가 함께 변하는 정도 / X와 Y가 각각 변하는 정도\n",
    "\n",
    "# 공분산을 표준편차의 곱으로 나눈 값(-1 ~ 1)\n",
    "\n",
    "# +1 : 완벽한 양의 상관관계, -1 : 완벽한 음의 상관관계\n",
    "\n",
    "# 0 : 선형관계가 없음\n",
    "\n",
    "# 피어슨 상관계수: 일반적으로 사용되는 방법, 숫자형-숫자형 변수, 정규분포인 경우 정확한 결과를 얻을 수 있음, 이상치에 민감함\n",
    "\n",
    "# 스피어만 상관계수: 서열척도의 경우 사용\n",
    "\n",
    "#   직선관계가 아니어도 상관관계가 있으면 1에 가까운 값을 갖게 됨\n",
    "\n",
    "# 상관분석은 선형관계를 설명할 수는 있으나 인과관계(원인과 결과)를 설명하기는 어려움\n",
    "\n",
    "# 원인과 결과를 설명하려면 회귀분석을 사용해야 함"
   ]
  },
  {
   "cell_type": "code",
   "execution_count": 12,
   "metadata": {},
   "outputs": [
    {
     "name": "stdout",
     "output_type": "stream",
     "text": [
      "-0.9999999999999999\n",
      "-1.0\n"
     ]
    }
   ],
   "source": [
    "print(np.corrcoef([1,2,3,4,5], [5,4,3,2,1])[0,1])  \n",
    "print(np.corrcoef([10,20,30,40,50], [5,4,3,2,1])[0,1])"
   ]
  },
  {
   "cell_type": "code",
   "execution_count": 13,
   "metadata": {},
   "outputs": [
    {
     "name": "stdout",
     "output_type": "stream",
     "text": [
      "[[175.42802856  78.90671455]\n",
      " [155.3110864   54.80499002]\n",
      " [170.80952374  74.79321101]\n",
      " [156.76522533  51.77614273]\n",
      " [166.77450804  60.21357876]]\n"
     ]
    }
   ],
   "source": [
    "import numpy as np\n",
    "\n",
    "X=np.array([[169,70],[172,68],[175,78],[163,58],[180,80],[159,76],[158,52],[173,69],[180,75],[155,50],[187,90],[170,66]])\n",
    "m=np.mean(X,axis=0)                    \n",
    "\n",
    "# rowvar row가 variable이 아님, column variable\n",
    "cv=np.cov(X,rowvar=False) #공분산\n",
    "\n",
    "#다변수 정규분포 랜덤 샘플\n",
    "gan=np.random.multivariate_normal(m,cv,5)    \n",
    "print(gan)"
   ]
  },
  {
   "cell_type": "code",
   "execution_count": 14,
   "metadata": {},
   "outputs": [],
   "source": [
    "from tensorflow.keras.datasets import mnist\n",
    "\n",
    "(x_train,y_train),(x_test,y_test)=mnist.load_data()    # 데이터셋 구성\n",
    "\n",
    "X=x_train[np.isin(y_train,[7])]                # class 7 선택\n",
    "X=X.reshape((X.shape[0],28*28))\n",
    "\n",
    "m=np.mean(X,axis=0)                    \n",
    "cv=np.cov(X,rowvar=False)\n",
    "gan=np.random.multivariate_normal(m,cv,5)"
   ]
  },
  {
   "cell_type": "code",
   "execution_count": 15,
   "metadata": {},
   "outputs": [
    {
     "data": {
      "image/png": "[encoded data removed]",
      "text/plain": [
       "<Figure size 1000x400 with 5 Axes>"
      ]
     },
     "metadata": {},
     "output_type": "display_data"
    }
   ],
   "source": [
    "import matplotlib.pyplot as plt\n",
    "\n",
    "plt.figure(figsize=(10,4))                \n",
    "\n",
    "for i in range(5):\n",
    "    plt.subplot(1,5,i+1)\n",
    "    plt.imshow(gan[i].reshape((28,28)),cmap='gray')\n",
    "    plt.xticks([])\n",
    "    plt.yticks([])\n",
    "\n",
    "plt.show()"
   ]
  },
  {
   "cell_type": "code",
   "execution_count": null,
   "metadata": {},
   "outputs": [],
   "source": []
  }
 ],
 "metadata": {
  "kernelspec": {
   "display_name": "Python 3",
   "language": "python",
   "name": "python3"
  },
  "language_info": {
   "codemirror_mode": {
    "name": "ipython",
    "version": 3
   },
   "file_extension": ".py",
   "mimetype": "text/x-python",
   "name": "python",
   "nbconvert_exporter": "python",
   "pygments_lexer": "ipython3",
   "version": "3.9.13"
  },
  "orig_nbformat": 4
 },
 "nbformat": 4,
 "nbformat_minor": 2
}
