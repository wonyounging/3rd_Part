{
 "cells": [
  {
   "cell_type": "markdown",
   "metadata": {},
   "source": [
    "### 마우스 클릭 이벤트"
   ]
  },
  {
   "cell_type": "code",
   "execution_count": 3,
   "metadata": {},
   "outputs": [],
   "source": [
    "import cv2\n",
    "\n",
    "title = 'mouse event'                \n",
    "img = cv2.imread('c:/workspace3/data/images/blank_500.jpg')\n",
    "cv2.imshow(title, img)                \n",
    "\n",
    "colors = {'black':(0,0,0),\n",
    "         'red' : (0,0,255),\n",
    "         'blue':(255,0,0),\n",
    "         'green': (0,255,0) }\n",
    "\n",
    "def onMouse(event, x, y, flags, param):          \n",
    "    color = colors['black']\n",
    "\n",
    "    if event == cv2.EVENT_LBUTTONDOWN:\n",
    "        # Ctrl & Shift\n",
    "        if flags & cv2.EVENT_FLAG_CTRLKEY and flags & cv2.EVENT_FLAG_SHIFTKEY :\n",
    "            color = colors['green']\n",
    "        elif flags & cv2.EVENT_FLAG_SHIFTKEY : # shift\n",
    "            color = colors['blue']\n",
    "        elif flags & cv2.EVENT_FLAG_CTRLKEY : # ctrl\n",
    "            color = colors['red']\n",
    "       \n",
    "        cv2.circle(img, (x,y), 30, color, -1)\n",
    "        cv2.imshow(title, img)        \n",
    "\n",
    "# 마우스 콜백 함수 등록\n",
    "cv2.setMouseCallback(title, onMouse)  \n",
    "\n",
    "while True:\n",
    "    if cv2.waitKey(0) & 0xFF == 27:  \n",
    "        break\n",
    " \n",
    "cv2.destroyAllWindows()"
   ]
  }
 ],
 "metadata": {
  "kernelspec": {
   "display_name": "Python 3",
   "language": "python",
   "name": "python3"
  },
  "language_info": {
   "codemirror_mode": {
    "name": "ipython",
    "version": 3
   },
   "file_extension": ".py",
   "mimetype": "text/x-python",
   "name": "python",
   "nbconvert_exporter": "python",
   "pygments_lexer": "ipython3",
   "version": "3.9.13"
  },
  "orig_nbformat": 4
 },
 "nbformat": 4,
 "nbformat_minor": 2
}
