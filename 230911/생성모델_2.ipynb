{
 "cells": [
  {
   "cell_type": "markdown",
   "metadata": {},
   "source": [
    "### 가우시안 혼합 모형"
   ]
  },
  {
   "cell_type": "code",
   "execution_count": 1,
   "metadata": {},
   "outputs": [
    {
     "name": "stdout",
     "output_type": "stream",
     "text": [
      "[0 0 0 0 0 0 0 0 0 0 0 0 0 0 0 0 0 0 0 0 0 0 0 0 0 0 0 0 0 0 0 0 0 0 0 0 0\n",
      " 0 0 0 0 0 0 0 0 0 0 0 0 0 2 2 2 2 2 2 2 2 2 2 2 2 2 2 2 2 2 2 1 2 1 2 1 2\n",
      " 2 2 2 1 2 2 2 2 2 1 2 2 2 2 2 2 2 2 2 2 2 2 2 2 2 2 1 1 1 1 1 1 1 1 1 1 1\n",
      " 1 1 1 1 1 1 1 1 1 1 1 1 1 1 1 1 1 1 1 1 1 1 1 1 1 1 1 1 1 1 1 1 1 1 1 1 1\n",
      " 1 1]\n",
      "target  gmm_cluster\n",
      "0       0              50\n",
      "1       2              45\n",
      "        1               5\n",
      "2       1              50\n",
      "Name: count, dtype: int64\n"
     ]
    }
   ],
   "source": [
    "from sklearn.datasets import load_iris\n",
    "from sklearn.cluster import KMeans\n",
    "from sklearn.mixture import GaussianMixture\n",
    "import pandas as pd\n",
    "\n",
    "iris = load_iris()\n",
    "\n",
    "df = pd.DataFrame(data=iris.data, columns=['sepal_length','sepal_width','petal_length','petal_width'])\n",
    "\n",
    "#확률 기반 군집화(데이터 포인트가 각 클러스터에 속할 확률 계산)\n",
    "gmm = GaussianMixture(n_components=3, random_state=0).fit(iris.data)\n",
    "lables = gmm.predict(iris.data)\n",
    "print(lables)\n",
    "\n",
    "df['gmm_cluster'] = lables\n",
    "df['target'] = iris.target\n",
    "\n",
    "result = df.groupby(['target'])['gmm_cluster'].value_counts()\n",
    "\n",
    "print(result)"
   ]
  },
  {
   "cell_type": "code",
   "execution_count": 2,
   "metadata": {},
   "outputs": [
    {
     "name": "stdout",
     "output_type": "stream",
     "text": [
      "target  kmeans_cluster\n",
      "0       1                 50\n",
      "1       0                 48\n",
      "        2                  2\n",
      "2       2                 36\n",
      "        0                 14\n",
      "Name: count, dtype: int64\n"
     ]
    }
   ],
   "source": [
    "kmeans = KMeans(n_clusters=3, random_state=0).fit(iris.data)\n",
    "lables = kmeans.predict(iris.data)\n",
    "\n",
    "df['kmeans_cluster'] = lables\n",
    "\n",
    "result = df.groupby(['target'])['kmeans_cluster'].value_counts()\n",
    "\n",
    "print(result)"
   ]
  },
  {
   "cell_type": "code",
   "execution_count": 3,
   "metadata": {},
   "outputs": [],
   "source": [
    "#학습 시간이 오래 걸림\n",
    "\n",
    "import numpy as np\n",
    "from tensorflow.keras.datasets import mnist\n",
    "from sklearn.mixture import GaussianMixture\n",
    "\n",
    "(x_train,y_train),(x_test,y_test)=mnist.load_data()\n",
    "\n",
    "X=x_train[np.isin(y_train,[0])] # class 0만 선택\n",
    "X=X.reshape((X.shape[0],28*28))\n",
    "\n",
    "gm=GaussianMixture(n_components=8).fit(X)  # 8개의 클러스터"
   ]
  },
  {
   "cell_type": "code",
   "execution_count": 4,
   "metadata": {},
   "outputs": [
    {
     "data": {
      "image/png": "[encoded data removed]",
      "text/plain": [
       "<Figure size 2000x400 with 8 Axes>"
      ]
     },
     "metadata": {},
     "output_type": "display_data"
    }
   ],
   "source": [
    "# 학습된 8개의 가우시안 평균 그래프\n",
    "\n",
    "import matplotlib.pyplot as plt\n",
    "\n",
    "plt.figure(figsize=(20,4))        \n",
    "\n",
    "for i in range(8):\n",
    "    plt.subplot(1,10,i+1)\n",
    "    plt.imshow(gm.means_[i].reshape((28,28)),cmap='gray')\n",
    "    plt.xticks([])\n",
    "    plt.yticks([])    \n",
    "\n",
    "plt.show()"
   ]
  },
  {
   "cell_type": "code",
   "execution_count": 5,
   "metadata": {},
   "outputs": [
    {
     "name": "stdout",
     "output_type": "stream",
     "text": [
      "[[-4.37040469e-04  2.40392227e-05 -1.38729266e-03 ...  1.54985372e-04\n",
      "   2.55223048e-04  3.14159949e-04]\n",
      " [ 3.51747660e-04  1.36533130e-03 -1.33948612e-03 ...  8.32174706e-04\n",
      "  -9.03977382e-04  2.69087119e-04]\n",
      " [-8.26984372e-04  5.41785509e-04 -8.02619052e-04 ...  1.16662579e-03\n",
      "   1.70351924e-04 -1.79170969e-03]\n",
      " ...\n",
      " [-2.13777772e-03 -1.78768858e-03 -1.74157094e-03 ... -1.68764722e-04\n",
      "  -1.27746887e-04 -6.94999429e-06]\n",
      " [-1.16882102e-03  5.40609285e-04  4.12525849e-04 ... -5.23288936e-04\n",
      "   1.91315977e-03 -2.73496085e-04]\n",
      " [ 5.65159824e-05  4.34974011e-05 -9.03035206e-04 ...  9.40413966e-05\n",
      "  -7.08003666e-05  5.72275681e-05]]\n"
     ]
    },
    {
     "data": {
      "image/png": "[encoded data removed]",
      "text/plain": [
       "<Figure size 1600x400 with 8 Axes>"
      ]
     },
     "metadata": {},
     "output_type": "display_data"
    }
   ],
   "source": [
    "#학습된 확률 기반으로 새로운 샘플 생성\n",
    "\n",
    "gan=gm.sample(n_samples=8)\n",
    "print(gan[0])\n",
    "\n",
    "plt.figure(figsize=(16,4))        \n",
    "\n",
    "for i in range(8):\n",
    "    plt.subplot(1,8,i+1)\n",
    "    plt.imshow(gan[0][i].reshape((28,28)),cmap='gray')\n",
    "    plt.xticks([])\n",
    "    plt.yticks([])\n",
    "  \n",
    "plt.show()"
   ]
  }
 ],
 "metadata": {
  "kernelspec": {
   "display_name": "Python 3",
   "language": "python",
   "name": "python3"
  },
  "language_info": {
   "codemirror_mode": {
    "name": "ipython",
    "version": 3
   },
   "file_extension": ".py",
   "mimetype": "text/x-python",
   "name": "python",
   "nbconvert_exporter": "python",
   "pygments_lexer": "ipython3",
   "version": "3.9.13"
  },
  "orig_nbformat": 4
 },
 "nbformat": 4,
 "nbformat_minor": 2
}
