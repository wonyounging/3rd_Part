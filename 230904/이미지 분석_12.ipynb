{
 "cells": [
  {
   "cell_type": "markdown",
   "metadata": {},
   "source": [
    "### 5flowers 파라미터 튜닝"
   ]
  },
  {
   "cell_type": "code",
   "execution_count": 1,
   "metadata": {},
   "outputs": [],
   "source": [
    "import matplotlib.pylab as plt\n",
    "import numpy as np\n",
    "import tensorflow as tf\n",
    "\n",
    "# 꽃 이름\n",
    "CLASS_NAMES = ['daisy','dandelion','roses','sunflowers', 'tulips']\n",
    "CLASS_NAMES\n",
    "\n",
    "IMG_HEIGHT = 224\n",
    "IMG_WIDTH = 224\n",
    "IMG_CHANNELS = 3\n",
    "\n",
    "#이미지 전처리\n",
    "def read_and_decode(filename, reshape_dims):\n",
    "  img = tf.io.read_file(filename)\n",
    "\n",
    "  # 3차원 uint8 텐서로 변환\n",
    "  img = tf.image.decode_jpeg(img, channels=IMG_CHANNELS)\n",
    "\n",
    "  # 0.0 ~ 1.0 정규화\n",
    "  img = tf.image.convert_image_dtype(img, tf.float32)\n",
    "\n",
    "  return tf.image.resize(img, reshape_dims)"
   ]
  },
  {
   "cell_type": "code",
   "execution_count": 2,
   "metadata": {},
   "outputs": [],
   "source": [
    "BATCH_SIZE = 32\n",
    "\n",
    "def decode_csv(csv_row):\n",
    "  record_defaults = [\"path\", \"flower\"]\n",
    "  filename, label_string = tf.io.decode_csv(csv_row, record_defaults)\n",
    "  img = read_and_decode(filename, [IMG_HEIGHT, IMG_WIDTH])\n",
    "  label = tf.argmax(tf.math.equal(CLASS_NAMES, label_string))\n",
    "\n",
    "  return img, label\n",
    "\n",
    "train_dataset = (tf.data.TextLineDataset(\"c:/workspace3/data/images/flowers/train_set.csv\").map(decode_csv)).take(800).batch(BATCH_SIZE)\n",
    "eval_dataset = (tf.data.TextLineDataset(\"c:/workspace3/data/images/flowers/eval_set.csv\").map(decode_csv)).take(200).batch(BATCH_SIZE)"
   ]
  },
  {
   "cell_type": "code",
   "execution_count": 5,
   "metadata": {},
   "outputs": [],
   "source": [
    "# ! pip install keras-tuner"
   ]
  },
  {
   "cell_type": "code",
   "execution_count": 7,
   "metadata": {},
   "outputs": [
    {
     "name": "stdout",
     "output_type": "stream",
     "text": [
      "Trial 2 Complete [00h 00m 40s]\n",
      "val_accuracy: 0.39500001072883606\n",
      "\n",
      "Best val_accuracy So Far: 0.39500001072883606\n",
      "Total elapsed time: 00h 00m 59s\n",
      "\n",
      "Search: Running Trial #3\n",
      "\n",
      "Value             |Best Value So Far |Hyperparameter\n",
      "0.00050883        |0.0042256         |lrate\n",
      "0.1               |0.01              |l2\n",
      "72                |112               |num_hidden\n",
      "\n",
      "Epoch 1/20\n",
      "25/25 [==============================] - 5s 200ms/step - loss: 24.5175 - accuracy: 0.2362 - val_loss: 13.4073 - val_accuracy: 0.3200\n",
      "Epoch 2/20\n",
      "25/25 [==============================] - 2s 66ms/step - loss: 9.6401 - accuracy: 0.3388 - val_loss: 8.5297 - val_accuracy: 0.2000\n",
      "Epoch 3/20\n",
      "25/25 [==============================] - 2s 88ms/step - loss: 6.6229 - accuracy: 0.3787 - val_loss: 5.6486 - val_accuracy: 0.3550\n",
      "Epoch 4/20\n",
      "25/25 [==============================] - 2s 61ms/step - loss: 4.9920 - accuracy: 0.4212 - val_loss: 4.6884 - val_accuracy: 0.3350\n",
      "Epoch 5/20\n",
      "25/25 [==============================] - 1s 59ms/step - loss: 3.9418 - accuracy: 0.4313 - val_loss: 4.0990 - val_accuracy: 0.3200\n",
      "Epoch 6/20\n",
      "25/25 [==============================] - 2s 60ms/step - loss: 3.8468 - accuracy: 0.4000 - val_loss: 3.6971 - val_accuracy: 0.3400\n",
      "Epoch 7/20\n",
      "25/25 [==============================] - 1s 56ms/step - loss: 4.0781 - accuracy: 0.4038 - val_loss: 4.2768 - val_accuracy: 0.3300\n",
      "Epoch 8/20\n",
      "25/25 [==============================] - 1s 60ms/step - loss: 3.5300 - accuracy: 0.4762 - val_loss: 3.4275 - val_accuracy: 0.3450\n",
      "Epoch 9/20\n",
      "25/25 [==============================] - 1s 60ms/step - loss: 3.2076 - accuracy: 0.4688 - val_loss: 5.2210 - val_accuracy: 0.2950\n",
      "Epoch 10/20\n",
      "24/25 [===========================>..] - ETA: 0s - loss: 3.4479 - accuracy: 0.4648"
     ]
    }
   ],
   "source": [
    "#하이퍼파라미터 튜닝\n",
    "\n",
    "import keras_tuner as kt\n",
    "\n",
    "def build_model(hp):\n",
    "  lrate = hp.Float('lrate', 1e-4, 1e-1, sampling='log')\n",
    "  l2 = hp.Choice('l2', values=[1e-1, 1e-2, 1e-3, 1e-4])\n",
    "  num_hidden = hp.Int('num_hidden', min_value=8, max_value=128, step=8)\n",
    "  regularizer = tf.keras.regularizers.l2(l2)\n",
    "\n",
    "  model = tf.keras.Sequential([\n",
    "              tf.keras.layers.Flatten(input_shape=(IMG_HEIGHT, IMG_WIDTH, IMG_CHANNELS)),\n",
    "              tf.keras.layers.Dense(num_hidden,\n",
    "                                    kernel_regularizer=regularizer,\n",
    "                                    activation=tf.keras.activations.relu),\n",
    "\n",
    "              tf.keras.layers.Dense(len(CLASS_NAMES),\n",
    "                                    kernel_regularizer=regularizer,\n",
    "                                    activation='softmax')\n",
    "  ])\n",
    "\n",
    "  model.compile(optimizer=tf.keras.optimizers.Adam(learning_rate=lrate),\n",
    "                loss=tf.keras.losses.SparseCategoricalCrossentropy(),\n",
    "                metrics=['accuracy'])\n",
    "  return model\n",
    "\n",
    "#확률적인 방법으로 최적의 하이퍼파라미터를 계산하는 방식\n",
    "#GridSearch : 모든 조합을 테스트하는 방식\n",
    "tuner = kt.BayesianOptimization(\n",
    "    build_model,\n",
    "    objective=kt.Objective('val_accuracy', 'max'),\n",
    "    max_trials=10)  \n",
    "\n",
    "tuner.search(\n",
    "    train_dataset, validation_data=eval_dataset,\n",
    "    epochs=20,\n",
    "    callbacks=[tf.keras.callbacks.EarlyStopping(patience=3)])"
   ]
  },
  {
   "cell_type": "code",
   "execution_count": null,
   "metadata": {},
   "outputs": [],
   "source": [
    "print(tuner.get_best_hyperparameters(2)[0].values)\n",
    "print(tuner.get_best_hyperparameters(2)[1].values)"
   ]
  },
  {
   "cell_type": "code",
   "execution_count": null,
   "metadata": {},
   "outputs": [],
   "source": [
    "batch_size = 16\n",
    "lrate = 0.0001\n",
    "l2 = 0\n",
    "dropout_prob = 0.2\n",
    "num_hidden = [32, 16]\n",
    "\n",
    "# layer의 파라미터, 출력값에 대한 패널티 설정\n",
    "# l1 : Manhattan distance\n",
    "# l2 : Euclidean distance\n",
    "\n",
    "#regularizer = tf.keras.regularizers.l1_l2(l1, l2)\n",
    "regularizer = tf.keras.regularizers.l2(l2)\n",
    "\n",
    "layers = [tf.keras.layers.Flatten(input_shape=(IMG_HEIGHT, IMG_WIDTH, IMG_CHANNELS))]\n",
    "\n",
    "for hno, nodes in enumerate(num_hidden):\n",
    "  layers.extend([\n",
    "    tf.keras.layers.Dense(nodes, kernel_regularizer=regularizer),\n",
    "    tf.keras.layers.BatchNormalization(),                          \n",
    "    tf.keras.layers.Activation('relu'),\n",
    "    tf.keras.layers.Dropout(rate=dropout_prob),                        \n",
    "  ])\n",
    "\n",
    "layers.append(\n",
    "    tf.keras.layers.Dense(len(CLASS_NAMES),\n",
    "                          kernel_regularizer=regularizer,\n",
    "                          activation='softmax')\n",
    ")\n",
    "\n",
    "model = tf.keras.Sequential(layers)\n",
    "\n",
    "model.compile(optimizer=tf.keras.optimizers.Adam(learning_rate=lrate),\n",
    "              loss=tf.keras.losses.SparseCategoricalCrossentropy(),\n",
    "              metrics=['accuracy'])"
   ]
  },
  {
   "cell_type": "code",
   "execution_count": null,
   "metadata": {},
   "outputs": [],
   "source": [
    "history = model.fit(train_dataset, validation_data=eval_dataset, epochs=10)"
   ]
  },
  {
   "cell_type": "code",
   "execution_count": null,
   "metadata": {},
   "outputs": [],
   "source": [
    "# 모델의 성능 그래프\n",
    "\n",
    "def training_plot(metrics, history):\n",
    "  f, ax = plt.subplots(1, len(metrics), figsize=(5*len(metrics), 5))\n",
    "\n",
    "  for idx, metric in enumerate(metrics):\n",
    "    ax[idx].plot(history.history[metric], ls='dashed')\n",
    "    ax[idx].set_xlabel(\"Epochs\")\n",
    "    ax[idx].set_ylabel(metric)\n",
    "    ax[idx].plot(history.history['val_' + metric]);\n",
    "    ax[idx].legend([metric, 'val_' + metric])"
   ]
  },
  {
   "cell_type": "code",
   "execution_count": null,
   "metadata": {},
   "outputs": [],
   "source": [
    "training_plot(['loss', 'accuracy'], history)"
   ]
  }
 ],
 "metadata": {
  "kernelspec": {
   "display_name": "Python 3",
   "language": "python",
   "name": "python3"
  },
  "language_info": {
   "codemirror_mode": {
    "name": "ipython",
    "version": 3
   },
   "file_extension": ".py",
   "mimetype": "text/x-python",
   "name": "python",
   "nbconvert_exporter": "python",
   "pygments_lexer": "ipython3",
   "version": "3.9.13"
  },
  "orig_nbformat": 4
 },
 "nbformat": 4,
 "nbformat_minor": 2
}
