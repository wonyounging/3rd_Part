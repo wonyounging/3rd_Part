{
 "cells": [
  {
   "cell_type": "markdown",
   "metadata": {},
   "source": [
    "### mnist(CNN)"
   ]
  },
  {
   "cell_type": "code",
   "execution_count": 1,
   "metadata": {},
   "outputs": [
    {
     "name": "stdout",
     "output_type": "stream",
     "text": [
      "[[0. 0. 0. 0. 0. 1. 0. 0. 0. 0.]\n",
      " [1. 0. 0. 0. 0. 0. 0. 0. 0. 0.]]\n"
     ]
    }
   ],
   "source": [
    "from keras.datasets import mnist\n",
    "from tensorflow.keras.utils import to_categorical\n",
    "\n",
    "#데이터 로딩\n",
    "(train_images, train_labels), (test_images, test_labels)=mnist.load_data()\n",
    "\n",
    "#케라스에서 처리할 수 있는 형태로 변환  샘플개수x가로x세로x차원\n",
    "train_images=train_images.reshape((60000,28,28,1))\n",
    "#                                   샘플수,w,h,c\n",
    "\n",
    "train_images=train_images.astype(\"float32\") / 255\n",
    "#                                       0.0 ~ 1.0\n",
    "\n",
    "test_images=test_images.reshape((10000,28,28,1))\n",
    "test_images=test_images.astype(\"float32\") / 255\n",
    "\n",
    "#원 핫 인코딩\n",
    "train_labels=to_categorical(train_labels)\n",
    "test_labels=to_categorical(test_labels)\n",
    "\n",
    "print(train_labels[:2])"
   ]
  },
  {
   "cell_type": "code",
   "execution_count": 2,
   "metadata": {},
   "outputs": [
    {
     "name": "stdout",
     "output_type": "stream",
     "text": [
      "Model: \"sequential\"\n",
      "_________________________________________________________________\n",
      " Layer (type)                Output Shape              Param #   \n",
      "=================================================================\n",
      " conv2d (Conv2D)             (None, 26, 26, 32)        320       \n",
      "                                                                 \n",
      " max_pooling2d (MaxPooling2D  (None, 13, 13, 32)       0         \n",
      " )                                                               \n",
      "                                                                 \n",
      " conv2d_1 (Conv2D)           (None, 11, 11, 64)        18496     \n",
      "                                                                 \n",
      " max_pooling2d_1 (MaxPooling  (None, 5, 5, 64)         0         \n",
      " 2D)                                                             \n",
      "                                                                 \n",
      " conv2d_2 (Conv2D)           (None, 3, 3, 64)          36928     \n",
      "                                                                 \n",
      " flatten (Flatten)           (None, 576)               0         \n",
      "                                                                 \n",
      " dense (Dense)               (None, 64)                36928     \n",
      "                                                                 \n",
      " dense_1 (Dense)             (None, 10)                650       \n",
      "                                                                 \n",
      "=================================================================\n",
      "Total params: 93,322\n",
      "Trainable params: 93,322\n",
      "Non-trainable params: 0\n",
      "_________________________________________________________________\n"
     ]
    }
   ],
   "source": [
    "from keras.layers import Conv2D,MaxPooling2D,Flatten,Dense  \n",
    "from keras.models import Sequential\n",
    "\n",
    "#모델 생성\n",
    "model=Sequential()\n",
    "\n",
    "#convolution layer, 필터개수 32, 필터크기 3x3,\n",
    "#입력데이터 28x28x1 (흑백이미지1, 컬러이미지3)\n",
    "model.add(Conv2D(32, (3,3), activation=\"relu\", input_shape=(28,28,1)))\n",
    "#                    (필터수, 필터사이즈)\n",
    "\n",
    "#맥스풀링 필터사이즈 2x2\n",
    "model.add(MaxPooling2D(2,2))\n",
    "model.add(Conv2D(64,(3,3),activation=\"relu\"))\n",
    "model.add(MaxPooling2D(2,2))\n",
    "model.add(Conv2D(64,(3,3),activation=\"relu\"))\n",
    "\n",
    "#fully connected layer로 변환(완전연결층)\n",
    "model.add(Flatten())    # 1차원으로 변환\n",
    "model.add(Dense(64,activation=\"relu\"))\n",
    "\n",
    "#출력층 10개의 숫자로 분류\n",
    "model.add(Dense(10,activation=\"softmax\"))          \n",
    "model.compile(optimizer=\"rmsprop\", loss=\"categorical_crossentropy\",metrics=[\"accuracy\"])\n",
    "\n",
    "model.summary()"
   ]
  },
  {
   "cell_type": "code",
   "execution_count": 3,
   "metadata": {},
   "outputs": [
    {
     "name": "stdout",
     "output_type": "stream",
     "text": [
      "Epoch 1/5\n",
      "1875/1875 [==============================] - 38s 13ms/step - loss: 0.1507 - accuracy: 0.9538\n",
      "Epoch 2/5\n",
      "1875/1875 [==============================] - 21s 11ms/step - loss: 0.0459 - accuracy: 0.9860\n",
      "Epoch 3/5\n",
      "1875/1875 [==============================] - 21s 11ms/step - loss: 0.0321 - accuracy: 0.9905\n",
      "Epoch 4/5\n",
      "1875/1875 [==============================] - 18s 10ms/step - loss: 0.0248 - accuracy: 0.9926\n",
      "Epoch 5/5\n",
      "1875/1875 [==============================] - 18s 9ms/step - loss: 0.0216 - accuracy: 0.9935\n"
     ]
    }
   ],
   "source": [
    "#모델 학습\n",
    "hist=model.fit(train_images, train_labels, epochs=5)"
   ]
  },
  {
   "cell_type": "code",
   "execution_count": 4,
   "metadata": {},
   "outputs": [
    {
     "name": "stdout",
     "output_type": "stream",
     "text": [
      "313/313 [==============================] - 2s 4ms/step - loss: 0.0387 - accuracy: 0.9886\n"
     ]
    },
    {
     "data": {
      "text/plain": [
       "(0.038673561066389084, 0.9886000156402588)"
      ]
     },
     "execution_count": 4,
     "metadata": {},
     "output_type": "execute_result"
    }
   ],
   "source": [
    "#검증용 데이터로 모델의 성능 평가\n",
    "\n",
    "test_loss,test_acc=model.evaluate(test_images, test_labels)\n",
    "\n",
    "test_loss,test_acc"
   ]
  },
  {
   "cell_type": "code",
   "execution_count": 5,
   "metadata": {},
   "outputs": [
    {
     "data": {
      "image/png": "[encoded data removed]",
      "text/plain": [
       "<Figure size 1200x800 with 1 Axes>"
      ]
     },
     "metadata": {},
     "output_type": "display_data"
    }
   ],
   "source": [
    "# 모델 학습 과정 표시\n",
    "\n",
    "import matplotlib.pyplot as plt\n",
    "\n",
    "plt.figure(figsize=(12,8))\n",
    "\n",
    "plt.plot(hist.history['loss']) #손실률\n",
    "plt.plot(hist.history['accuracy']) #정확도\n",
    "plt.legend(['loss','accuracy'])\n",
    "\n",
    "plt.grid()\n",
    "\n",
    "plt.show()"
   ]
  },
  {
   "cell_type": "code",
   "execution_count": 6,
   "metadata": {},
   "outputs": [],
   "source": [
    "model.save('c:/data/mnist/mnist.h5')"
   ]
  },
  {
   "cell_type": "code",
   "execution_count": null,
   "metadata": {},
   "outputs": [],
   "source": []
  }
 ],
 "metadata": {
  "kernelspec": {
   "display_name": "Python 3",
   "language": "python",
   "name": "python3"
  },
  "language_info": {
   "codemirror_mode": {
    "name": "ipython",
    "version": 3
   },
   "file_extension": ".py",
   "mimetype": "text/x-python",
   "name": "python",
   "nbconvert_exporter": "python",
   "pygments_lexer": "ipython3",
   "version": "3.9.13"
  },
  "orig_nbformat": 4
 },
 "nbformat": 4,
 "nbformat_minor": 2
}
