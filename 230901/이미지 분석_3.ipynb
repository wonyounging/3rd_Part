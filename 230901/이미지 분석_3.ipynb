{
 "cells": [
  {
   "cell_type": "markdown",
   "metadata": {},
   "source": [
    "### 정규화 - dropout"
   ]
  },
  {
   "cell_type": "code",
   "execution_count": 1,
   "metadata": {},
   "outputs": [],
   "source": [
    "import warnings\n",
    "warnings.filterwarnings(action='ignore')"
   ]
  },
  {
   "cell_type": "code",
   "execution_count": 2,
   "metadata": {},
   "outputs": [],
   "source": [
    "import torch\n",
    "\n",
    "USE_CUDA = torch.cuda.is_available()\n",
    "#                gpu  사용가능여부(True / False)\n",
    "DEVICE = torch.device(\"cuda\" if USE_CUDA else \"cpu\")"
   ]
  },
  {
   "cell_type": "code",
   "execution_count": 3,
   "metadata": {},
   "outputs": [],
   "source": [
    "EPOCHS = 5\n",
    "BATCH_SIZE = 64"
   ]
  },
  {
   "cell_type": "code",
   "execution_count": 4,
   "metadata": {},
   "outputs": [],
   "source": [
    "from torchvision import transforms, datasets\n",
    "\n",
    "#mnist 데이터셋 다운로드, transforms.Compose 텐서로 바꾸면서 0~1 정규화\n",
    "train_loader = torch.utils.data.DataLoader(\n",
    "\n",
    "    datasets.MNIST('c:/workspace3/data',\n",
    "#                       저장경로\n",
    "                   train=True,\n",
    "                   download=True,\n",
    "                   transform=transforms.Compose([transforms.RandomHorizontalFlip(),\n",
    "#                                                             랜덤 가로방향 전환    \n",
    "                                                 transforms.ToTensor(),\n",
    "                                                 transforms.Normalize((0.1307,), (0.3081,))])),\n",
    "#                                                                        평균        표준편차\n",
    "                   batch_size=BATCH_SIZE, shuffle=True)\n",
    "\n",
    "test_loader = torch.utils.data.DataLoader(\n",
    "    datasets.MNIST('c:/workspace3/data',\n",
    "                   train=False,\n",
    "                   transform=transforms.Compose([transforms.ToTensor(),\n",
    "                                                 transforms.Normalize((0.1307,), (0.3081,))])),\n",
    "                   batch_size=BATCH_SIZE, shuffle=True)"
   ]
  },
  {
   "cell_type": "code",
   "execution_count": 5,
   "metadata": {},
   "outputs": [],
   "source": [
    "import torch.nn as nn\n",
    "import torch.nn.functional as F\n",
    "\n",
    "class Net(nn.Module):\n",
    "    def __init__(self, dropout_p=0.2):\n",
    "        super(Net, self).__init__()\n",
    "        self.fc1 = nn.Linear(784, 256)\n",
    "#                            in , out\n",
    "        self.fc2 = nn.Linear(256, 128)\n",
    "        self.fc3 = nn.Linear(128, 10)\n",
    "        self.dropout_p = dropout_p\n",
    "\n",
    "    def forward(self, x):\n",
    "        x = x.view(-1, 784)     # 1차원 픽셀 784\n",
    "        x = F.relu(self.fc1(x))\n",
    "        x = F.dropout(x, training=self.training,\n",
    "                      p=self.dropout_p)\n",
    "        x = F.relu(self.fc2(x))\n",
    "        x = F.dropout(x, training=self.training,\n",
    "                      p=self.dropout_p)\n",
    "        x = self.fc3(x)\n",
    "        return x"
   ]
  },
  {
   "cell_type": "code",
   "execution_count": 6,
   "metadata": {},
   "outputs": [],
   "source": [
    "import torch.optim as optim\n",
    "\n",
    "#과적합과 정규화\n",
    "model        = Net(dropout_p=0.2).to(DEVICE)\n",
    "#                    드롭아웃 비율     cpu / gpu\n",
    "optimizer    = optim.SGD(model.parameters(), lr=0.01)\n",
    "#                  확률적 경사하강법            학습률"
   ]
  },
  {
   "cell_type": "code",
   "execution_count": 7,
   "metadata": {},
   "outputs": [],
   "source": [
    "def train(model, train_loader, optimizer):\n",
    "\n",
    "    model.train()\n",
    "#          학습모드 : 순전파 + 역전파\n",
    "#          추론모드 : 순전파\n",
    "\n",
    "    for _, (data, target) in enumerate(train_loader):\n",
    "#                                인덱스, 데이터\n",
    "        data, target = data.to(DEVICE), target.to(DEVICE)\n",
    "        optimizer.zero_grad()\n",
    "#                   경사 초기화\n",
    "        output = model(data)\n",
    "#                모델   입력\n",
    "        loss = F.cross_entropy(output, target)\n",
    "        loss.backward() # 역전파 계산\n",
    "        optimizer.step() # 수정"
   ]
  },
  {
   "cell_type": "code",
   "execution_count": 8,
   "metadata": {},
   "outputs": [],
   "source": [
    "def evaluate(model, test_loader):\n",
    "    model.eval()\n",
    "#          추론모드 : 순전파\n",
    "\n",
    "    test_loss = 0\n",
    "    correct = 0\n",
    "\n",
    "    with torch.no_grad():\n",
    "#              미분 X\n",
    "        for data, target in test_loader:\n",
    "            data, target = data.to(DEVICE), target.to(DEVICE)\n",
    "            output = model(data)\n",
    "\n",
    "            #크로스 엔트로피 계산\n",
    "            test_loss += F.cross_entropy(output, target, reduction='sum').item()\n",
    "\n",
    "            # softmax 연산(output에서 최대값 선택)\n",
    "            pred = output.max(1, keepdim=True)[1]\n",
    "            correct += pred.eq(target.view_as(pred)).sum().item()\n",
    "    test_loss /= len(test_loader.dataset)\n",
    "    test_accuracy = 100. * correct / len(test_loader.dataset)\n",
    "    \n",
    "    return test_loss, test_accuracy"
   ]
  },
  {
   "cell_type": "code",
   "execution_count": 9,
   "metadata": {},
   "outputs": [
    {
     "name": "stdout",
     "output_type": "stream",
     "text": [
      "[1] Test Loss: 0.5592, Accuracy: 82.21%\n",
      "[2] Test Loss: 0.4303, Accuracy: 86.45%\n",
      "[3] Test Loss: 0.3554, Accuracy: 89.13%\n",
      "[4] Test Loss: 0.2971, Accuracy: 90.86%\n"
     ]
    }
   ],
   "source": [
    "for epoch in range(1, EPOCHS + 1):\n",
    "    train(model, train_loader, optimizer)\n",
    "    test_loss, test_accuracy = evaluate(model, test_loader)    \n",
    "    print(f'[{epoch}] Test Loss: {test_loss:.4f}, Accuracy: {test_accuracy:.2f}%')"
   ]
  },
  {
   "cell_type": "code",
   "execution_count": null,
   "metadata": {},
   "outputs": [],
   "source": []
  }
 ],
 "metadata": {
  "kernelspec": {
   "display_name": "Python 3",
   "language": "python",
   "name": "python3"
  },
  "language_info": {
   "codemirror_mode": {
    "name": "ipython",
    "version": 3
   },
   "file_extension": ".py",
   "mimetype": "text/x-python",
   "name": "python",
   "nbconvert_exporter": "python",
   "pygments_lexer": "ipython3",
   "version": "3.9.13"
  },
  "orig_nbformat": 4
 },
 "nbformat": 4,
 "nbformat_minor": 2
}
