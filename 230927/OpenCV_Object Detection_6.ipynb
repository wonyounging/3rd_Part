{
 "cells": [
  {
   "cell_type": "markdown",
   "metadata": {},
   "source": [
    "### OCR_1"
   ]
  },
  {
   "cell_type": "code",
   "execution_count": null,
   "metadata": {},
   "outputs": [],
   "source": [
    "#pip install pytesseract\n",
    "# 프로그램 설치: https://github.com/UB-Mannheim/tesseract/wiki\n",
    "# path 추가 : C:\\Program Files\\Tesseract-OCR\n",
    "# 한글데이터 다운로드 https://github.com/tesseract-ocr/tessdata/\n",
    "# kor.traineddata => C:\\Program Files\\Tesseract-OCR\\tessdata"
   ]
  },
  {
   "cell_type": "code",
   "execution_count": null,
   "metadata": {},
   "outputs": [],
   "source": [
    "import cv2\n",
    "import pytesseract\n",
    "\n",
    "file_name = 'c:/workspace3/data/images/txt_eng.JPG'\n",
    "img = cv2.imread(file_name)  \n",
    "\n",
    "config = (\"-l eng --oem 1 --psm 11\")\n",
    "text = pytesseract.image_to_string(img, config=config)\n",
    "\n",
    "print(text)"
   ]
  },
  {
   "cell_type": "code",
   "execution_count": null,
   "metadata": {},
   "outputs": [],
   "source": [
    "file_name = 'c:/workspace3/data/images/txt_kor.JPG'\n",
    "img = cv2.imread(file_name)  \n",
    "\n",
    "config = (\"-l kor --oem 1 --psm 6\")  \n",
    "text = pytesseract.image_to_string(img, config=config)\n",
    "\n",
    "print(text)"
   ]
  },
  {
   "cell_type": "code",
   "execution_count": null,
   "metadata": {},
   "outputs": [],
   "source": []
  },
  {
   "cell_type": "code",
   "execution_count": null,
   "metadata": {},
   "outputs": [],
   "source": [
    "from PIL import Image\n",
    "import pytesseract\n",
    "\n",
    "image = Image.open('c:/data/images/kor_text2.png')\n",
    "pytesseract.pytesseract.tesseract_cmd = 'C:/Program Files/Tesseract-OCR/tesseract.exe'\n",
    "\n",
    "text = pytesseract.image_to_string(image, lang='kor')\n",
    "\n",
    "print(text)"
   ]
  }
 ],
 "metadata": {
  "kernelspec": {
   "display_name": "Python 3",
   "language": "python",
   "name": "python3"
  },
  "language_info": {
   "codemirror_mode": {
    "name": "ipython",
    "version": 3
   },
   "file_extension": ".py",
   "mimetype": "text/x-python",
   "name": "python",
   "nbconvert_exporter": "python",
   "pygments_lexer": "ipython3",
   "version": "3.9.13"
  },
  "orig_nbformat": 4
 },
 "nbformat": 4,
 "nbformat_minor": 2
}
