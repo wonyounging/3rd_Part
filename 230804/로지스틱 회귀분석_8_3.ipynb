{
 "cells": [
  {
   "cell_type": "markdown",
   "metadata": {},
   "source": [
    "##### 3. 복합 샘플링"
   ]
  },
  {
   "cell_type": "code",
   "execution_count": 1,
   "metadata": {},
   "outputs": [
    {
     "data": {
      "text/plain": [
       "y\n",
       "1    8941\n",
       "0    8645\n",
       "Name: count, dtype: int64"
      ]
     },
     "execution_count": 1,
     "metadata": {},
     "output_type": "execute_result"
    }
   ],
   "source": [
    "# SMOTE+ENN : SMOTE와 ENN을 섞은 방식\n",
    "\n",
    "# SMOTE : 소수 클래스의 샘플을 주변의 이웃을 고려해 약간씩 이동시킨 포인트들을 추가\n",
    "# ENN : 소수 클래스 주변의 다수 클래스 데이터를 삭제\n",
    "\n",
    "from sklearn.datasets import make_classification\n",
    "\n",
    "X, y = make_classification(n_samples=10000, n_features=2,  n_redundant=0, n_clusters_per_class=1, weights=[0.99], flip_y=0, random_state=1)\n",
    "\n",
    "from imblearn.combine import SMOTEENN\n",
    "import pandas as pd\n",
    "\n",
    "X_sample, y_sample = SMOTEENN(random_state=0).fit_resample(X, y)\n",
    "X_samp = pd.DataFrame(data=X_sample,columns=['a','b'] )\n",
    "y_samp = pd.DataFrame(data=y_sample,columns=['y'])\n",
    "\n",
    "y_samp.y.value_counts()"
   ]
  },
  {
   "cell_type": "code",
   "execution_count": 2,
   "metadata": {},
   "outputs": [
    {
     "data": {
      "text/plain": [
       "y\n",
       "0    9653\n",
       "1    9653\n",
       "Name: count, dtype: int64"
      ]
     },
     "execution_count": 2,
     "metadata": {},
     "output_type": "execute_result"
    }
   ],
   "source": [
    "# SMOTE+Tomek : SMOTE와 토멕링크 방법을 섞은 것\n",
    "\n",
    "# SMOTE : 소수 클래스의 샘플을 주변의 이웃을 고려해 약간씩 이동시킨 포인트들을 추가\n",
    "# 토멕링크 : 토멕링크 중에서 다수 클래스의 샘플들을 제거\n",
    "\n",
    "from imblearn.combine import SMOTETomek\n",
    "import pandas as pd\n",
    "\n",
    "X_sample, y_sample = SMOTETomek(random_state=0).fit_resample(X, y)\n",
    "X_samp = pd.DataFrame(data=X_sample,columns=['a','b'] )\n",
    "y_samp = pd.DataFrame(data=y_sample,columns=['y'])\n",
    "\n",
    "y_samp.y.value_counts()"
   ]
  },
  {
   "cell_type": "code",
   "execution_count": null,
   "metadata": {},
   "outputs": [],
   "source": []
  }
 ],
 "metadata": {
  "kernelspec": {
   "display_name": "Python 3",
   "language": "python",
   "name": "python3"
  },
  "language_info": {
   "codemirror_mode": {
    "name": "ipython",
    "version": 3
   },
   "file_extension": ".py",
   "mimetype": "text/x-python",
   "name": "python",
   "nbconvert_exporter": "python",
   "pygments_lexer": "ipython3",
   "version": "3.9.13"
  },
  "orig_nbformat": 4
 },
 "nbformat": 4,
 "nbformat_minor": 2
}
