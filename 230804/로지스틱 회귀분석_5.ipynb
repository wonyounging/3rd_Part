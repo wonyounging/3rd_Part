{
 "cells": [
  {
   "cell_type": "markdown",
   "metadata": {},
   "source": [
    "### 5) 로지스틱 회귀 모형의 Cost"
   ]
  },
  {
   "cell_type": "code",
   "execution_count": 9,
   "metadata": {},
   "outputs": [
    {
     "data": {
      "text/html": [
       "<div>\n",
       "<style scoped>\n",
       "    .dataframe tbody tr th:only-of-type {\n",
       "        vertical-align: middle;\n",
       "    }\n",
       "\n",
       "    .dataframe tbody tr th {\n",
       "        vertical-align: top;\n",
       "    }\n",
       "\n",
       "    .dataframe thead th {\n",
       "        text-align: right;\n",
       "    }\n",
       "</style>\n",
       "<table border=\"1\" class=\"dataframe\">\n",
       "  <thead>\n",
       "    <tr style=\"text-align: right;\">\n",
       "      <th></th>\n",
       "      <th>Survived</th>\n",
       "      <th>Pclass1</th>\n",
       "      <th>Pclass2</th>\n",
       "      <th>Pclass3</th>\n",
       "      <th>male</th>\n",
       "      <th>female</th>\n",
       "      <th>Age</th>\n",
       "      <th>SibSp</th>\n",
       "      <th>Parch</th>\n",
       "      <th>Fare</th>\n",
       "    </tr>\n",
       "  </thead>\n",
       "  <tbody>\n",
       "    <tr>\n",
       "      <th>0</th>\n",
       "      <td>0</td>\n",
       "      <td>0</td>\n",
       "      <td>0</td>\n",
       "      <td>1</td>\n",
       "      <td>1</td>\n",
       "      <td>0</td>\n",
       "      <td>22.0</td>\n",
       "      <td>1</td>\n",
       "      <td>0</td>\n",
       "      <td>7.2500</td>\n",
       "    </tr>\n",
       "    <tr>\n",
       "      <th>1</th>\n",
       "      <td>1</td>\n",
       "      <td>1</td>\n",
       "      <td>0</td>\n",
       "      <td>0</td>\n",
       "      <td>0</td>\n",
       "      <td>1</td>\n",
       "      <td>38.0</td>\n",
       "      <td>1</td>\n",
       "      <td>0</td>\n",
       "      <td>71.2833</td>\n",
       "    </tr>\n",
       "    <tr>\n",
       "      <th>2</th>\n",
       "      <td>1</td>\n",
       "      <td>0</td>\n",
       "      <td>0</td>\n",
       "      <td>1</td>\n",
       "      <td>0</td>\n",
       "      <td>1</td>\n",
       "      <td>26.0</td>\n",
       "      <td>0</td>\n",
       "      <td>0</td>\n",
       "      <td>7.9250</td>\n",
       "    </tr>\n",
       "    <tr>\n",
       "      <th>3</th>\n",
       "      <td>1</td>\n",
       "      <td>1</td>\n",
       "      <td>0</td>\n",
       "      <td>0</td>\n",
       "      <td>0</td>\n",
       "      <td>1</td>\n",
       "      <td>35.0</td>\n",
       "      <td>1</td>\n",
       "      <td>0</td>\n",
       "      <td>53.1000</td>\n",
       "    </tr>\n",
       "    <tr>\n",
       "      <th>4</th>\n",
       "      <td>0</td>\n",
       "      <td>0</td>\n",
       "      <td>0</td>\n",
       "      <td>1</td>\n",
       "      <td>1</td>\n",
       "      <td>0</td>\n",
       "      <td>35.0</td>\n",
       "      <td>0</td>\n",
       "      <td>0</td>\n",
       "      <td>8.0500</td>\n",
       "    </tr>\n",
       "  </tbody>\n",
       "</table>\n",
       "</div>"
      ],
      "text/plain": [
       "   Survived  Pclass1  Pclass2  Pclass3  male  female   Age  SibSp  Parch  \\\n",
       "0         0        0        0        1     1       0  22.0      1      0   \n",
       "1         1        1        0        0     0       1  38.0      1      0   \n",
       "2         1        0        0        1     0       1  26.0      0      0   \n",
       "3         1        1        0        0     0       1  35.0      1      0   \n",
       "4         0        0        0        1     1       0  35.0      0      0   \n",
       "\n",
       "      Fare  \n",
       "0   7.2500  \n",
       "1  71.2833  \n",
       "2   7.9250  \n",
       "3  53.1000  \n",
       "4   8.0500  "
      ]
     },
     "execution_count": 9,
     "metadata": {},
     "output_type": "execute_result"
    }
   ],
   "source": [
    "import pandas as pd\n",
    "\n",
    "df = pd.read_csv(\"c:/workspace3/data/train3.csv\")\n",
    "df.head()"
   ]
  },
  {
   "cell_type": "code",
   "execution_count": 10,
   "metadata": {},
   "outputs": [
    {
     "data": {
      "text/plain": [
       "Index(['Survived', 'Pclass1', 'Pclass2', 'Pclass3', 'male', 'female', 'Age',\n",
       "       'SibSp', 'Parch', 'Fare'],\n",
       "      dtype='object')"
      ]
     },
     "execution_count": 10,
     "metadata": {},
     "output_type": "execute_result"
    }
   ],
   "source": [
    "df.columns"
   ]
  },
  {
   "cell_type": "code",
   "execution_count": 11,
   "metadata": {},
   "outputs": [
    {
     "name": "stdout",
     "output_type": "stream",
     "text": [
      "     Pclass1  Pclass2  Pclass3  male  female   Age  SibSp  Parch     Fare\n",
      "0          0        0        1     1       0  22.0      1      0   7.2500\n",
      "1          1        0        0     0       1  38.0      1      0  71.2833\n",
      "2          0        0        1     0       1  26.0      0      0   7.9250\n",
      "3          1        0        0     0       1  35.0      1      0  53.1000\n",
      "4          0        0        1     1       0  35.0      0      0   8.0500\n",
      "..       ...      ...      ...   ...     ...   ...    ...    ...      ...\n",
      "886        0        1        0     1       0  27.0      0      0  13.0000\n",
      "887        1        0        0     0       1  19.0      0      0  30.0000\n",
      "888        0        0        1     0       1  30.0      1      2  23.4500\n",
      "889        1        0        0     1       0  26.0      0      0  30.0000\n",
      "890        0        0        1     1       0  32.0      0      0   7.7500\n",
      "\n",
      "[891 rows x 9 columns]\n",
      "0      0\n",
      "1      1\n",
      "2      1\n",
      "3      1\n",
      "4      0\n",
      "      ..\n",
      "886    0\n",
      "887    1\n",
      "888    0\n",
      "889    1\n",
      "890    0\n",
      "Name: Survived, Length: 891, dtype: int64\n"
     ]
    }
   ],
   "source": [
    "cols=['Pclass1', 'Pclass2', 'Pclass3', 'male',\n",
    "       'female', 'Age', 'SibSp', 'Parch', 'Fare']\n",
    "\n",
    "X = df[cols] # 독립변수\n",
    "y = df[\"Survived\"]\n",
    "\n",
    "print(X)\n",
    "print(y)"
   ]
  },
  {
   "cell_type": "code",
   "execution_count": 12,
   "metadata": {},
   "outputs": [
    {
     "name": "stdout",
     "output_type": "stream",
     "text": [
      "684\n",
      "684\n"
     ]
    }
   ],
   "source": [
    "#언더샘플링\n",
    "\n",
    "from imblearn.under_sampling import RandomUnderSampler\n",
    "\n",
    "X_sample, y_sample = RandomUnderSampler(random_state=0).fit_resample(X, y)\n",
    "X_samp = pd.DataFrame(data=X_sample,columns=cols )\n",
    "y_samp = pd.DataFrame(data=y_sample,columns=['Survived'])\n",
    "\n",
    "df2=pd.concat([X_samp,y_samp],axis=1)\n",
    "df2.Survived.value_counts()\n",
    "\n",
    "X = X_samp[cols] # 독립변수\n",
    "y = y_samp[\"Survived\"]\n",
    "\n",
    "print(len(X))\n",
    "print(len(y))"
   ]
  },
  {
   "cell_type": "code",
   "execution_count": 13,
   "metadata": {},
   "outputs": [],
   "source": [
    "from sklearn.model_selection import train_test_split\n",
    "\n",
    "X_train, X_test, y_train, y_test = train_test_split(X, y, test_size=0.2, stratify=y, random_state=0)"
   ]
  },
  {
   "cell_type": "code",
   "execution_count": 14,
   "metadata": {},
   "outputs": [
    {
     "name": "stdout",
     "output_type": "stream",
     "text": [
      "0.7641681901279708\n",
      "0.8029197080291971\n",
      "오분류 샘플수 : 27\n"
     ]
    }
   ],
   "source": [
    "from sklearn.linear_model import LogisticRegression\n",
    "\n",
    "model = LogisticRegression(C=1000.0, random_state=0)\n",
    "model.fit(X_train, y_train)\n",
    "print(model.score(X_train,y_train))  \n",
    "print(model.score(X_test,y_test))\n",
    "\n",
    "pred = model.predict(X_test)\n",
    "print(\"오분류 샘플수 : %d\" % (y_test != pred).sum())"
   ]
  },
  {
   "cell_type": "code",
   "execution_count": 15,
   "metadata": {},
   "outputs": [
    {
     "name": "stdout",
     "output_type": "stream",
     "text": [
      "0.8029197080291971\n",
      "0.8059701492537313\n",
      "0.7941176470588235\n",
      "0.8\n"
     ]
    }
   ],
   "source": [
    "from sklearn.metrics import precision_score, recall_score, f1_score\n",
    "from sklearn.metrics import accuracy_score\n",
    "\n",
    "print(accuracy_score(y_test,pred))  # 정확도\n",
    "print(precision_score(y_test,pred)) # ㅈ\n",
    "print(recall_score(y_test,pred))  \n",
    "print(f1_score(y_test,pred))"
   ]
  },
  {
   "cell_type": "code",
   "execution_count": 16,
   "metadata": {},
   "outputs": [
    {
     "data": {
      "text/plain": [
       "array([[2, 0],\n",
       "       [1, 3]], dtype=int64)"
      ]
     },
     "execution_count": 16,
     "metadata": {},
     "output_type": "execute_result"
    }
   ],
   "source": [
    "from sklearn.metrics import confusion_matrix\n",
    "\n",
    "y =    [1, 0, 1, 1, 0, 1]\n",
    "pred = [0, 0, 1, 1, 0, 1]\n",
    "\n",
    "confusion_matrix(y, pred)\n",
    "\n",
    "#        0   1\n",
    "#    0   2   0\n",
    "#    1   1   3"
   ]
  },
  {
   "cell_type": "code",
   "execution_count": 17,
   "metadata": {},
   "outputs": [
    {
     "name": "stdout",
     "output_type": "stream",
     "text": [
      "2 0 1 3\n"
     ]
    }
   ],
   "source": [
    "# TN(True Negative) : 0을 0으로 맞춘 경우\n",
    "# FP(False Positive) : 0인데 1로 틀린 경우\n",
    "# FN(False Negative) : 1인데 0으로 틀린 경우\n",
    "# TP(True Positive) : 1을 1로 맞춘 경우\n",
    "# ravel() 다차원배열을 1차원배열로 변환\n",
    "\n",
    "tn,fp,fn,tp = confusion_matrix(y, pred).ravel()\n",
    "\n",
    "print(tn,fp,fn,tp)"
   ]
  },
  {
   "cell_type": "code",
   "execution_count": 18,
   "metadata": {},
   "outputs": [
    {
     "data": {
      "text/plain": [
       "0.5"
      ]
     },
     "execution_count": 18,
     "metadata": {},
     "output_type": "execute_result"
    }
   ],
   "source": [
    "# precision(정확도, 정밀도) : 모델이 True라고 분류한 것 중에서 실제 True의 비율  \n",
    "# tp / (tp+fp)\n",
    "\n",
    "y =    [0, 1, 0, 0]\n",
    "pred = [0, 1, 1, 0]\n",
    "\n",
    "# 모델이 2개를 1로 분류하였으나 실제 1인 개수는 1이므로 정밀도는 0.5\n",
    "precision_score(y, pred)    # 모형의 정확도"
   ]
  },
  {
   "cell_type": "code",
   "execution_count": 19,
   "metadata": {},
   "outputs": [
    {
     "data": {
      "text/plain": [
       "0.5"
      ]
     },
     "execution_count": 19,
     "metadata": {},
     "output_type": "execute_result"
    }
   ],
   "source": [
    "# recall(재현율, 검출율) : 실제값이 True인 것 중에서 모델이 True라고 예측한 것의 비율  \n",
    "# tp / (tp+fn)\n",
    "# precision은 모델의 입장에서 recall은 실제 정답의 입장에서(바라보고자 하는 관점이 다름)\n",
    "# 일반적으로 precision과 recall은 반비례 관계\n",
    "\n",
    "y    = [0, 1, 1, 0]\n",
    "pred = [0, 1, 0, 0]\n",
    "\n",
    "# 실제값이 1인 개수 2, 모델이 1로 맞춘 개수 1\n",
    "recall_score(y, pred)   # 실제 정확도"
   ]
  },
  {
   "cell_type": "code",
   "execution_count": 20,
   "metadata": {},
   "outputs": [
    {
     "name": "stdout",
     "output_type": "stream",
     "text": [
      "              precision    recall  f1-score   support\n",
      "\n",
      "           0       0.33      1.00      0.50         1\n",
      "           1       1.00      0.33      0.50         3\n",
      "\n",
      "    accuracy                           0.50         4\n",
      "   macro avg       0.67      0.67      0.50         4\n",
      "weighted avg       0.83      0.50      0.50         4\n",
      "\n"
     ]
    }
   ],
   "source": [
    "from sklearn.metrics import classification_report\n",
    "\n",
    "# f1-score : precision과 recall의 조화평균(불균형 데이터셋에 많이 사용하는 평가 지표)\n",
    "#    2*p*r / p+r\n",
    "# support : 실제값의 개수(0이 1개, 1이 3개)\n",
    "# accuracy : 정확도\n",
    "# macro avg : 단순평균(모든 클래스를 동일한 비중으로 고려)\n",
    "# weighted avg : 각 클래스에 속하는 표본의 개수로 가중평균(f1-score와 같은 값)\n",
    "\n",
    "y    = np.array([0, 1, 1, 1])\n",
    "pred = np.array([0, 1, 0, 0])\n",
    "\n",
    "print(classification_report(y, pred))"
   ]
  },
  {
   "cell_type": "code",
   "execution_count": 21,
   "metadata": {},
   "outputs": [
    {
     "name": "stdout",
     "output_type": "stream",
     "text": [
      "[0.6496350364963503, 0.781021897810219, 0.8029197080291971, 0.8029197080291971, 0.8029197080291971, 0.8029197080291971, 0.8029197080291971]\n"
     ]
    }
   ],
   "source": [
    "# Cost : 기본값 1.0\n",
    "# Cost가 크면 과대적합\n",
    "# Cost가 낮으면 과소적합\n",
    "# 실험을 통해 최적의 Cost 값을 얻어내는 코드\n",
    "\n",
    "costs = [0.001, 0.01, 0.1, 1, 10, 100, 1000]\n",
    "results=[]\n",
    "\n",
    "for c in costs:\n",
    "    params = {'C':c, 'max_iter': 1000}\n",
    "    model = LogisticRegression(**params).fit(X_train, y_train)\n",
    "    score=model.score(X_test,y_test)\n",
    "    results.append(score)\n",
    "print(results)    "
   ]
  },
  {
   "cell_type": "code",
   "execution_count": 22,
   "metadata": {},
   "outputs": [
    {
     "name": "stdout",
     "output_type": "stream",
     "text": [
      "최고 정확도: 0.8029197080291971\n",
      "최적의 C: 0.1\n"
     ]
    },
    {
     "data": {
      "text/plain": [
       "Text(0, 0.5, 'Accuracy')"
      ]
     },
     "execution_count": 22,
     "metadata": {},
     "output_type": "execute_result"
    },
    {
     "data": {
      "image/png": "[encoded data removed]",
      "text/plain": [
       "<Figure size 640x480 with 1 Axes>"
      ]
     },
     "metadata": {},
     "output_type": "display_data"
    }
   ],
   "source": [
    "import matplotlib.pyplot as plt\n",
    "import numpy as np\n",
    "\n",
    "m=max(results)\n",
    "for i,a in enumerate(results):\n",
    "# 인덱스,값\n",
    "    if a==m:\n",
    "        n=i\n",
    "        break\n",
    "print('최고 정확도:',m)\n",
    "print('최적의 C:',costs[n])\n",
    "\n",
    "plt.rcParams[\"font.size\"]=15\n",
    "plt.plot(range(len(costs)), results)\n",
    "plt.xlabel('Cost')\n",
    "plt.ylabel('Accuracy')"
   ]
  }
 ],
 "metadata": {
  "kernelspec": {
   "display_name": "Python 3",
   "language": "python",
   "name": "python3"
  },
  "language_info": {
   "codemirror_mode": {
    "name": "ipython",
    "version": 3
   },
   "file_extension": ".py",
   "mimetype": "text/x-python",
   "name": "python",
   "nbconvert_exporter": "python",
   "pygments_lexer": "ipython3",
   "version": "3.9.13"
  },
  "orig_nbformat": 4
 },
 "nbformat": 4,
 "nbformat_minor": 2
}
