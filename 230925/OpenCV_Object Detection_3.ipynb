{
 "cells": [
  {
   "cell_type": "markdown",
   "metadata": {},
   "source": [
    "### 객체인식-DETR-restnet"
   ]
  },
  {
   "cell_type": "code",
   "execution_count": 5,
   "metadata": {},
   "outputs": [
    {
     "name": "stderr",
     "output_type": "stream",
     "text": [
      "Some weights of the model checkpoint at facebook/detr-resnet-50 were not used when initializing DetrForObjectDetection: ['model.backbone.conv_encoder.model.layer4.0.downsample.1.num_batches_tracked', 'model.backbone.conv_encoder.model.layer1.0.downsample.1.num_batches_tracked', 'model.backbone.conv_encoder.model.layer2.0.downsample.1.num_batches_tracked', 'model.backbone.conv_encoder.model.layer3.0.downsample.1.num_batches_tracked']\n",
      "- This IS expected if you are initializing DetrForObjectDetection from the checkpoint of a model trained on another task or with another architecture (e.g. initializing a BertForSequenceClassification model from a BertForPreTraining model).\n",
      "- This IS NOT expected if you are initializing DetrForObjectDetection from the checkpoint of a model that you expect to be exactly identical (initializing a BertForSequenceClassification model from a BertForSequenceClassification model).\n"
     ]
    },
    {
     "ename": "error",
     "evalue": "OpenCV(4.8.0) D:\\a\\opencv-python\\opencv-python\\opencv\\modules\\highgui\\src\\window.cpp:1272: error: (-2:Unspecified error) The function is not implemented. Rebuild the library with Windows, GTK+ 2.x or Cocoa support. If you are on Ubuntu or Debian, install libgtk2.0-dev and pkg-config, then re-run cmake or configure script in function 'cvShowImage'\n",
     "output_type": "error",
     "traceback": [
      "\u001b[1;31m---------------------------------------------------------------------------\u001b[0m",
      "\u001b[1;31merror\u001b[0m                                     Traceback (most recent call last)",
      "\u001b[1;32mc:\\workspace3\\230925\\OpenCV_Object Detection_3.ipynb 셀 2\u001b[0m line \u001b[0;36m3\n\u001b[0;32m     <a href='vscode-notebook-cell:/c%3A/workspace3/230925/OpenCV_Object%20Detection_3.ipynb#W2sZmlsZQ%3D%3D?line=26'>27</a>\u001b[0m         cv\u001b[39m.\u001b[39mrectangle(im,(cx\u001b[39m-\u001b[39mw\u001b[39m/\u001b[39m\u001b[39m/\u001b[39m\u001b[39m2\u001b[39m,cy\u001b[39m-\u001b[39mh\u001b[39m/\u001b[39m\u001b[39m/\u001b[39m\u001b[39m2\u001b[39m),(cx\u001b[39m+\u001b[39mw\u001b[39m/\u001b[39m\u001b[39m/\u001b[39m\u001b[39m2\u001b[39m,cy\u001b[39m+\u001b[39mh\u001b[39m/\u001b[39m\u001b[39m/\u001b[39m\u001b[39m2\u001b[39m),colors[predicted_label],\u001b[39m2\u001b[39m)\n\u001b[0;32m     <a href='vscode-notebook-cell:/c%3A/workspace3/230925/OpenCV_Object%20Detection_3.ipynb#W2sZmlsZQ%3D%3D?line=27'>28</a>\u001b[0m         cv\u001b[39m.\u001b[39mputText(im,name\u001b[39m+\u001b[39m\u001b[39mstr\u001b[39m(prob),(cx\u001b[39m-\u001b[39mw\u001b[39m/\u001b[39m\u001b[39m/\u001b[39m\u001b[39m2\u001b[39m,cy\u001b[39m-\u001b[39mh\u001b[39m/\u001b[39m\u001b[39m/\u001b[39m\u001b[39m2\u001b[39m\u001b[39m-\u001b[39m\u001b[39m5\u001b[39m),cv\u001b[39m.\u001b[39mFONT_HERSHEY_SIMPLEX,\u001b[39m0.6\u001b[39m,colors[predicted_label],\u001b[39m1\u001b[39m)\n\u001b[1;32m---> <a href='vscode-notebook-cell:/c%3A/workspace3/230925/OpenCV_Object%20Detection_3.ipynb#W2sZmlsZQ%3D%3D?line=29'>30</a>\u001b[0m cv\u001b[39m.\u001b[39;49mimshow(\u001b[39m'\u001b[39;49m\u001b[39mDETR\u001b[39;49m\u001b[39m'\u001b[39;49m,im)\n\u001b[0;32m     <a href='vscode-notebook-cell:/c%3A/workspace3/230925/OpenCV_Object%20Detection_3.ipynb#W2sZmlsZQ%3D%3D?line=30'>31</a>\u001b[0m cv\u001b[39m.\u001b[39mwaitKey()      \n\u001b[0;32m     <a href='vscode-notebook-cell:/c%3A/workspace3/230925/OpenCV_Object%20Detection_3.ipynb#W2sZmlsZQ%3D%3D?line=31'>32</a>\u001b[0m cv\u001b[39m.\u001b[39mdestroyAllWindows()\n",
      "\u001b[1;31merror\u001b[0m: OpenCV(4.8.0) D:\\a\\opencv-python\\opencv-python\\opencv\\modules\\highgui\\src\\window.cpp:1272: error: (-2:Unspecified error) The function is not implemented. Rebuild the library with Windows, GTK+ 2.x or Cocoa support. If you are on Ubuntu or Debian, install libgtk2.0-dev and pkg-config, then re-run cmake or configure script in function 'cvShowImage'\n"
     ]
    }
   ],
   "source": [
    "from transformers import DetrFeatureExtractor, DetrForObjectDetection\n",
    "from PIL import Image\n",
    "\n",
    "img=Image.open('c:/workspace3/data/images/BSDS_361010.jpg')\n",
    "\n",
    "#DETR (Detection with Transformer) resnet\n",
    "feature_extractor=DetrFeatureExtractor.from_pretrained('facebook/detr-resnet-50')\n",
    "model=DetrForObjectDetection.from_pretrained('facebook/detr-resnet-50')\n",
    "inputs=feature_extractor(img,return_tensors='pt')\n",
    "\n",
    "res=model(**inputs)\n",
    "\n",
    "import numpy as np\n",
    "import cv2 as cv\n",
    "\n",
    "colors=np.random.uniform(0,255,size=(100,3))    \n",
    "im=cv.cvtColor(np.array(img),cv.COLOR_BGR2RGB)\n",
    "\n",
    "for i in range(res.logits.shape[1]):\n",
    "    predicted_label=res.logits[0,i].argmax(-1).item()\n",
    "\n",
    "    if predicted_label!=91:\n",
    "        name=model.config.id2label[predicted_label]\n",
    "        prob='{:.2f}'.format(float(res.logits[0,i].softmax(dim=0)[predicted_label]))\n",
    "        cx,cy=int(481*res.pred_boxes[0,i,0]),int(321*res.pred_boxes[0,i,1])\n",
    "        w,h=int(481*res.pred_boxes[0,i,2]),int(321*res.pred_boxes[0,i,3])\n",
    "        cv.rectangle(im,(cx-w//2,cy-h//2),(cx+w//2,cy+h//2),colors[predicted_label],2)\n",
    "        cv.putText(im,name+str(prob),(cx-w//2,cy-h//2-5),cv.FONT_HERSHEY_SIMPLEX,0.6,colors[predicted_label],1)\n",
    "\n",
    "cv.imshow('DETR',im)\n",
    "cv.waitKey()      \n",
    "cv.destroyAllWindows()"
   ]
  },
  {
   "cell_type": "code",
   "execution_count": 2,
   "metadata": {},
   "outputs": [],
   "source": [
    "import sys\n",
    "sys.path.append(\"C:/opencv/build/python/cv2/python-3.9\")"
   ]
  }
 ],
 "metadata": {
  "kernelspec": {
   "display_name": "Python 3",
   "language": "python",
   "name": "python3"
  },
  "language_info": {
   "codemirror_mode": {
    "name": "ipython",
    "version": 3
   },
   "file_extension": ".py",
   "mimetype": "text/x-python",
   "name": "python",
   "nbconvert_exporter": "python",
   "pygments_lexer": "ipython3",
   "version": "3.9.13"
  },
  "orig_nbformat": 4
 },
 "nbformat": 4,
 "nbformat_minor": 2
}
