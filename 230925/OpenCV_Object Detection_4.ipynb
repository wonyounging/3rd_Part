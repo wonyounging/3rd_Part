{
 "cells": [
  {
   "cell_type": "markdown",
   "metadata": {},
   "source": [
    "### 객체인식-YOLO"
   ]
  },
  {
   "cell_type": "code",
   "execution_count": 6,
   "metadata": {},
   "outputs": [
    {
     "ename": "error",
     "evalue": "OpenCV(4.8.0) D:\\a\\opencv-python\\opencv-python\\opencv\\modules\\highgui\\src\\window.cpp:1272: error: (-2:Unspecified error) The function is not implemented. Rebuild the library with Windows, GTK+ 2.x or Cocoa support. If you are on Ubuntu or Debian, install libgtk2.0-dev and pkg-config, then re-run cmake or configure script in function 'cvShowImage'\n",
     "output_type": "error",
     "traceback": [
      "\u001b[1;31m---------------------------------------------------------------------------\u001b[0m",
      "\u001b[1;31merror\u001b[0m                                     Traceback (most recent call last)",
      "\u001b[1;32mc:\\workspace3\\230925\\OpenCV_Object Detection_4.ipynb 셀 2\u001b[0m line \u001b[0;36m6\n\u001b[0;32m     <a href='vscode-notebook-cell:/c%3A/workspace3/230925/OpenCV_Object%20Detection_4.ipynb#W0sZmlsZQ%3D%3D?line=65'>66</a>\u001b[0m     cv2\u001b[39m.\u001b[39mrectangle(img,(x1,y1),(x2,y2),colors[\u001b[39mid\u001b[39m],\u001b[39m2\u001b[39m)\n\u001b[0;32m     <a href='vscode-notebook-cell:/c%3A/workspace3/230925/OpenCV_Object%20Detection_4.ipynb#W0sZmlsZQ%3D%3D?line=66'>67</a>\u001b[0m     cv2\u001b[39m.\u001b[39mputText(img,text,(x1,y1\u001b[39m+\u001b[39m\u001b[39m30\u001b[39m),cv2\u001b[39m.\u001b[39mFONT_HERSHEY_PLAIN,\u001b[39m1.5\u001b[39m,colors[\u001b[39mid\u001b[39m],\u001b[39m2\u001b[39m)\n\u001b[1;32m---> <a href='vscode-notebook-cell:/c%3A/workspace3/230925/OpenCV_Object%20Detection_4.ipynb#W0sZmlsZQ%3D%3D?line=68'>69</a>\u001b[0m cv2\u001b[39m.\u001b[39;49mimshow(\u001b[39m\"\u001b[39;49m\u001b[39mObject detection by YOLO v.3\u001b[39;49m\u001b[39m\"\u001b[39;49m,img)\n\u001b[0;32m     <a href='vscode-notebook-cell:/c%3A/workspace3/230925/OpenCV_Object%20Detection_4.ipynb#W0sZmlsZQ%3D%3D?line=69'>70</a>\u001b[0m cv2\u001b[39m.\u001b[39mwaitKey()\n\u001b[0;32m     <a href='vscode-notebook-cell:/c%3A/workspace3/230925/OpenCV_Object%20Detection_4.ipynb#W0sZmlsZQ%3D%3D?line=70'>71</a>\u001b[0m cv2\u001b[39m.\u001b[39mdestroyAllWindows()\n",
      "\u001b[1;31merror\u001b[0m: OpenCV(4.8.0) D:\\a\\opencv-python\\opencv-python\\opencv\\modules\\highgui\\src\\window.cpp:1272: error: (-2:Unspecified error) The function is not implemented. Rebuild the library with Windows, GTK+ 2.x or Cocoa support. If you are on Ubuntu or Debian, install libgtk2.0-dev and pkg-config, then re-run cmake or configure script in function 'cvShowImage'\n"
     ]
    }
   ],
   "source": [
    "# yolo 모델(YOLO: Real-Time Object Detection)\n",
    "# You Only Look Once, Real-Time Object Detection\n",
    "\n",
    "# 이미지를 일정 분할로 그리드한 후 분류\n",
    "# 320 × 320 : fast, low accuracy\n",
    "# 609 × 609 : slow, high accuracy\n",
    "# 416 × 416 : medium\n",
    "\n",
    "import numpy as np\n",
    "import cv2\n",
    "import sys\n",
    "\n",
    "def construct_yolo_v3():\n",
    "    f=open('coco_names.txt', 'r')\n",
    "    class_names=[line.strip() for line in f.readlines()]\n",
    "    model=cv2.dnn.readNet('yolov3.weights','yolov3.cfg')\n",
    "    layer_names=model.getLayerNames()\n",
    "    out_layers=[layer_names[i-1] for i in model.getUnconnectedOutLayers()]    \n",
    "\n",
    "    return model,out_layers,class_names\n",
    "\n",
    "def yolo_detect(img,yolo_model,out_layers):\n",
    "    height,width=img.shape[0],img.shape[1]\n",
    "    test_img=cv2.dnn.blobFromImage(img,1.0/256,(448,448),(0,0,0),swapRB=True)\n",
    "    yolo_model.setInput(test_img)\n",
    "    output3=yolo_model.forward(out_layers)\n",
    "\n",
    "    box,conf,id=[],[],[]        # 박스, 신뢰도, 클래스\n",
    "\n",
    "    for output in output3:\n",
    "        for vec85 in output:\n",
    "            scores=vec85[5:]\n",
    "            class_id=np.argmax(scores)\n",
    "            confidence=scores[class_id]\n",
    "\n",
    "            if confidence>0.5:    # 신뢰도가 50% 이상만 선택\n",
    "                centerx,centery=int(vec85[0]*width),int(vec85[1]*height)\n",
    "                w,h=int(vec85[2]*width),int(vec85[3]*height)\n",
    "                x,y=int(centerx-w/2),int(centery-h/2)\n",
    "\n",
    "                box.append([x,y,x+w,y+h])\n",
    "                conf.append(float(confidence))\n",
    "                id.append(class_id)           \n",
    "\n",
    "    # 노이즈 제거 : Non maximum suppression, 최대가 아닌 박스들을 제거하는 기법\n",
    "    #              비  최대       억제\n",
    "    ind=cv2.dnn.NMSBoxes(box,conf,0.5,0.4)\n",
    "    objects=[box[i]+[conf[i]]+[id[i]] for i in range(len(box)) if i in ind]\n",
    "\n",
    "    return objects\n",
    "\n",
    "# YOLO 모델 생성\n",
    "model,out_layers,class_names=construct_yolo_v3()        \n",
    "colors=np.random.uniform(0,255,size=(len(class_names),3))\n",
    "img=cv2.imread('c:/workspace3/data/images/soccer.jpg')\n",
    "\n",
    "if img is None: sys.exit('파일이 없습니다.')\n",
    "\n",
    "# 객체 인식\n",
    "res=yolo_detect(img,model,out_layers)    \n",
    "\n",
    "for i in range(len(res)):            \n",
    "    x1,y1,x2,y2,confidence,id=res[i]\n",
    "    text=str(class_names[id])+'%.3f'%confidence\n",
    "\n",
    "    cv2.rectangle(img,(x1,y1),(x2,y2),colors[id],2)\n",
    "    cv2.putText(img,text,(x1,y1+30),cv2.FONT_HERSHEY_PLAIN,1.5,colors[id],2)\n",
    "\n",
    "cv2.imshow(\"Object detection by YOLO v.3\",img)\n",
    "cv2.waitKey()\n",
    "cv2.destroyAllWindows()\n",
    "\n",
    "# 마지막으로 모든 정보를 추출하여 화면에 표시합니다.\n",
    "\n",
    "# Box : 감지된 개체를 둘러싼 사각형의 좌표\n",
    "# Label : 감지된 물체의 이름\n",
    "# Confidence : 0에서 1까지의 탐지에 대한 신뢰도"
   ]
  }
 ],
 "metadata": {
  "kernelspec": {
   "display_name": "Python 3",
   "language": "python",
   "name": "python3"
  },
  "language_info": {
   "codemirror_mode": {
    "name": "ipython",
    "version": 3
   },
   "file_extension": ".py",
   "mimetype": "text/x-python",
   "name": "python",
   "nbconvert_exporter": "python",
   "pygments_lexer": "ipython3",
   "version": "3.9.13"
  },
  "orig_nbformat": 4
 },
 "nbformat": 4,
 "nbformat_minor": 2
}
