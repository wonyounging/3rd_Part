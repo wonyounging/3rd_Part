{
 "cells": [
  {
   "cell_type": "markdown",
   "metadata": {},
   "source": [
    "### frozen lake Q-learning"
   ]
  },
  {
   "cell_type": "code",
   "execution_count": 1,
   "metadata": {},
   "outputs": [],
   "source": [
    "# Q러닝 방법\n",
    "\n",
    "# 특정 상황에서 특정한 행동을 할 때 최적의 Policy를 학습하는 방법\n",
    "\n",
    "# Q: 현재 상태에서 취한 행동의 보상에 대한 quality\n",
    "\n",
    "import gym\n",
    "\n",
    "import numpy as np\n",
    "\n",
    "# 환경 생성\n",
    "\n",
    "env = gym.make('FrozenLake-v1')"
   ]
  },
  {
   "cell_type": "code",
   "execution_count": 2,
   "metadata": {},
   "outputs": [
    {
     "data": {
      "text/plain": [
       "array([[0., 0., 0., 0.],\n",
       "       [0., 0., 0., 0.],\n",
       "       [0., 0., 0., 0.],\n",
       "       [0., 0., 0., 0.],\n",
       "       [0., 0., 0., 0.],\n",
       "       [0., 0., 0., 0.],\n",
       "       [0., 0., 0., 0.],\n",
       "       [0., 0., 0., 0.],\n",
       "       [0., 0., 0., 0.],\n",
       "       [0., 0., 0., 0.],\n",
       "       [0., 0., 0., 0.],\n",
       "       [0., 0., 0., 0.],\n",
       "       [0., 0., 0., 0.],\n",
       "       [0., 0., 0., 0.],\n",
       "       [0., 0., 0., 0.],\n",
       "       [0., 0., 0., 0.]])"
      ]
     },
     "execution_count": 2,
     "metadata": {},
     "output_type": "execute_result"
    }
   ],
   "source": [
    "# Q값을 저장할 테이블을 초기화\n",
    "\n",
    "# rows: cell의 수\n",
    "\n",
    "# cols: 이동할 수 있는 방향의 수\n",
    "\n",
    "q_func = np.zeros((16, 4))\n",
    "q_func"
   ]
  },
  {
   "cell_type": "code",
   "execution_count": 3,
   "metadata": {},
   "outputs": [
    {
     "name": "stderr",
     "output_type": "stream",
     "text": [
      "c:\\Python3.9.13\\lib\\site-packages\\gym\\utils\\passive_env_checker.py:233: DeprecationWarning: `np.bool8` is a deprecated alias for `np.bool_`.  (Deprecated NumPy 1.24)\n",
      "  if not isinstance(terminated, (bool, np.bool8)):\n"
     ]
    }
   ],
   "source": [
    "# 총 보상\n",
    "\n",
    "total_reward = 0.0\n",
    "\n",
    "# 게임 시작\n",
    "\n",
    "for i_episode in range(10000):\n",
    "\n",
    "    # 초기화\n",
    "\n",
    "    observation = env.reset()[0]\n",
    "\n",
    "    # 현재 게임의 보상\n",
    "\n",
    "    episode_reward = 0.0\n",
    "\n",
    "    \n",
    "\n",
    "    for t in range(100):\n",
    "\n",
    "        # 1턴 실행 후의 위치를 현재 위치로 설정\n",
    "\n",
    "        current_state = observation\n",
    "\n",
    "        \n",
    "\n",
    "        #랜덤값이 0.1 미만이면\n",
    "\n",
    "        if np.random.rand() < 0.1:\n",
    "\n",
    "            # 무작위로 행동을 선택함\n",
    "\n",
    "            action = env.action_space.sample()\n",
    "\n",
    "        else:\n",
    "\n",
    "            # Q값이 최대가 되는 행동을 선택함\n",
    "\n",
    "            action = np.argmax(q_func[current_state])\n",
    "\n",
    "        # 1턴 실행\n",
    "        # observatoin: 에이전트의 위치, reward : 행동의 결과로 받은 보상, done: 게임 종료 여부,\n",
    "\n",
    "        # info: 행동을 취할 확률\n",
    "\n",
    "        observation, reward, done, _, info = env.step(action)\n",
    "\n",
    "        \n",
    "\n",
    "        # Q값 업데이트(학습률 0.3, 할인율 0.99)\n",
    "\n",
    "        # 학습률: 초반에는 행동-보상에 대한 경험 부족으로 학습률을 낮추는 것이 좋음, 학습이 진행될수록 경험이 쌓이므로 학습률을 높이는 것이 좋음\n",
    "\n",
    "        # 할인율을 곱하고 보상을 더한 값으로 Q를 업데이트\n",
    "\n",
    "        # 할인율(미래 가치를 현재 가치로 환산, 미래 가치에 대한 보상)\n",
    "\n",
    "        # 할인율이 너무 작으면 바로 다음 행동에만 관심(근시안적), 할인율이 너무 높으면 미래의 보상을 기대하여 원시안적인 행동\n",
    "\n",
    "        q_func[current_state,action] += 0.3 * (reward + 0.99 * np.max(q_func[observation,:]) - q_func[current_state,action])\n",
    "\n",
    "        # 종료\n",
    "\n",
    "        if done:\n",
    "\n",
    "            # 현재 게임 보상 누적 계산\n",
    "\n",
    "            episode_reward += reward\n",
    "\n",
    "            \n",
    "\n",
    "    # 총 보상 누적 계산\n",
    "\n",
    "    total_reward += episode_reward"
   ]
  },
  {
   "cell_type": "code",
   "execution_count": 4,
   "metadata": {},
   "outputs": [
    {
     "name": "stdout",
     "output_type": "stream",
     "text": [
      "1951.0\n",
      "0.1951\n"
     ]
    }
   ],
   "source": [
    "# 총 보상 출력\n",
    "print(total_reward)\n",
    "\n",
    "# 게임당 평균 보상 출력\n",
    "print(total_reward/10000)"
   ]
  },
  {
   "cell_type": "code",
   "execution_count": 5,
   "metadata": {},
   "outputs": [
    {
     "data": {
      "text/plain": [
       "array([[0.60302147, 0.57821768, 0.57900051, 0.56832883],\n",
       "       [0.43971746, 0.33984252, 0.23706362, 0.56321824],\n",
       "       [0.45410315, 0.45223527, 0.46622286, 0.52969238],\n",
       "       [0.21301842, 0.21362983, 0.29834325, 0.50275113],\n",
       "       [0.62884804, 0.44996668, 0.59120585, 0.60383932],\n",
       "       [0.        , 0.        , 0.        , 0.        ],\n",
       "       [0.22213372, 0.01726342, 0.32189036, 0.00911149],\n",
       "       [0.        , 0.        , 0.        , 0.        ],\n",
       "       [0.19428954, 0.46339406, 0.46892885, 0.67497066],\n",
       "       [0.32116647, 0.6777264 , 0.57456724, 0.44067703],\n",
       "       [0.55434568, 0.47945188, 0.25478901, 0.43715   ],\n",
       "       [0.        , 0.        , 0.        , 0.        ],\n",
       "       [0.        , 0.        , 0.        , 0.        ],\n",
       "       [0.57429359, 0.73183299, 0.88288436, 0.4955061 ],\n",
       "       [0.82804594, 0.90957383, 0.83117876, 0.77211357],\n",
       "       [0.        , 0.        , 0.        , 0.        ]])"
      ]
     },
     "execution_count": 5,
     "metadata": {},
     "output_type": "execute_result"
    }
   ],
   "source": [
    "# 학습된 Q값을 출력\n",
    "\n",
    "q_func"
   ]
  },
  {
   "cell_type": "code",
   "execution_count": 6,
   "metadata": {},
   "outputs": [
    {
     "name": "stderr",
     "output_type": "stream",
     "text": [
      "c:\\Python3.9.13\\lib\\site-packages\\gym\\wrappers\\record_video.py:75: UserWarning: \u001b[33mWARN: Overwriting existing videos at c:\\workspace3\\230925\\video folder (try specifying a different `video_folder` for the `RecordVideo` wrapper if this is not desired)\u001b[0m\n",
      "  logger.warn(\n"
     ]
    },
    {
     "name": "stdout",
     "output_type": "stream",
     "text": [
      "Moviepy - Building video c:\\workspace3\\230925\\video\\lake-qlearning-episode-0.mp4.\n",
      "Moviepy - Writing video c:\\workspace3\\230925\\video\\lake-qlearning-episode-0.mp4\n",
      "\n"
     ]
    },
    {
     "name": "stderr",
     "output_type": "stream",
     "text": [
      "                                                  \r"
     ]
    },
    {
     "name": "stdout",
     "output_type": "stream",
     "text": [
      "Moviepy - Done !\n",
      "Moviepy - video ready c:\\workspace3\\230925\\video\\lake-qlearning-episode-0.mp4\n",
      "Moviepy - Building video c:\\workspace3\\230925\\video\\lake-qlearning-episode-1.mp4.\n",
      "Moviepy - Writing video c:\\workspace3\\230925\\video\\lake-qlearning-episode-1.mp4\n",
      "\n"
     ]
    },
    {
     "name": "stderr",
     "output_type": "stream",
     "text": [
      "                                                   \r"
     ]
    },
    {
     "name": "stdout",
     "output_type": "stream",
     "text": [
      "Moviepy - Done !\n",
      "Moviepy - video ready c:\\workspace3\\230925\\video\\lake-qlearning-episode-1.mp4\n",
      "Moviepy - Building video c:\\workspace3\\230925\\video\\lake-qlearning-episode-8.mp4.\n",
      "Moviepy - Writing video c:\\workspace3\\230925\\video\\lake-qlearning-episode-8.mp4\n",
      "\n"
     ]
    },
    {
     "name": "stderr",
     "output_type": "stream",
     "text": [
      "                                                   \r"
     ]
    },
    {
     "name": "stdout",
     "output_type": "stream",
     "text": [
      "Moviepy - Done !\n",
      "Moviepy - video ready c:\\workspace3\\230925\\video\\lake-qlearning-episode-8.mp4\n",
      "Moviepy - Building video c:\\workspace3\\230925\\video\\lake-qlearning-episode-27.mp4.\n",
      "Moviepy - Writing video c:\\workspace3\\230925\\video\\lake-qlearning-episode-27.mp4\n",
      "\n"
     ]
    },
    {
     "name": "stderr",
     "output_type": "stream",
     "text": [
      "                                                   \r"
     ]
    },
    {
     "name": "stdout",
     "output_type": "stream",
     "text": [
      "Moviepy - Done !\n",
      "Moviepy - video ready c:\\workspace3\\230925\\video\\lake-qlearning-episode-27.mp4\n",
      "Moviepy - Building video c:\\workspace3\\230925\\video\\lake-qlearning-episode-64.mp4.\n",
      "Moviepy - Writing video c:\\workspace3\\230925\\video\\lake-qlearning-episode-64.mp4\n",
      "\n"
     ]
    },
    {
     "name": "stderr",
     "output_type": "stream",
     "text": [
      "                                                   \r"
     ]
    },
    {
     "name": "stdout",
     "output_type": "stream",
     "text": [
      "Moviepy - Done !\n",
      "Moviepy - video ready c:\\workspace3\\230925\\video\\lake-qlearning-episode-64.mp4\n",
      "Moviepy - Building video c:\\workspace3\\230925\\video\\lake-qlearning-episode-125.mp4.\n",
      "Moviepy - Writing video c:\\workspace3\\230925\\video\\lake-qlearning-episode-125.mp4\n",
      "\n"
     ]
    },
    {
     "name": "stderr",
     "output_type": "stream",
     "text": [
      "                                                   \r"
     ]
    },
    {
     "name": "stdout",
     "output_type": "stream",
     "text": [
      "Moviepy - Done !\n",
      "Moviepy - video ready c:\\workspace3\\230925\\video\\lake-qlearning-episode-125.mp4\n",
      "Moviepy - Building video c:\\workspace3\\230925\\video\\lake-qlearning-episode-216.mp4.\n",
      "Moviepy - Writing video c:\\workspace3\\230925\\video\\lake-qlearning-episode-216.mp4\n",
      "\n"
     ]
    },
    {
     "name": "stderr",
     "output_type": "stream",
     "text": [
      "                                                   "
     ]
    },
    {
     "name": "stdout",
     "output_type": "stream",
     "text": [
      "Moviepy - Done !\n",
      "Moviepy - video ready c:\\workspace3\\230925\\video\\lake-qlearning-episode-216.mp4\n"
     ]
    },
    {
     "name": "stderr",
     "output_type": "stream",
     "text": [
      "\r"
     ]
    },
    {
     "name": "stdout",
     "output_type": "stream",
     "text": [
      "Moviepy - Building video c:\\workspace3\\230925\\video\\lake-qlearning-episode-343.mp4.\n",
      "Moviepy - Writing video c:\\workspace3\\230925\\video\\lake-qlearning-episode-343.mp4\n",
      "\n"
     ]
    },
    {
     "name": "stderr",
     "output_type": "stream",
     "text": [
      "                                                   "
     ]
    },
    {
     "name": "stdout",
     "output_type": "stream",
     "text": [
      "Moviepy - Done !\n",
      "Moviepy - video ready c:\\workspace3\\230925\\video\\lake-qlearning-episode-343.mp4\n"
     ]
    },
    {
     "name": "stderr",
     "output_type": "stream",
     "text": [
      "\r"
     ]
    },
    {
     "name": "stdout",
     "output_type": "stream",
     "text": [
      "Moviepy - Building video c:\\workspace3\\230925\\video\\lake-qlearning-episode-512.mp4.\n",
      "Moviepy - Writing video c:\\workspace3\\230925\\video\\lake-qlearning-episode-512.mp4\n",
      "\n"
     ]
    },
    {
     "name": "stderr",
     "output_type": "stream",
     "text": [
      "                                                   "
     ]
    },
    {
     "name": "stdout",
     "output_type": "stream",
     "text": [
      "Moviepy - Done !\n",
      "Moviepy - video ready c:\\workspace3\\230925\\video\\lake-qlearning-episode-512.mp4\n"
     ]
    },
    {
     "name": "stderr",
     "output_type": "stream",
     "text": [
      "\r"
     ]
    },
    {
     "name": "stdout",
     "output_type": "stream",
     "text": [
      "Moviepy - Building video c:\\workspace3\\230925\\video\\lake-qlearning-episode-729.mp4.\n",
      "Moviepy - Writing video c:\\workspace3\\230925\\video\\lake-qlearning-episode-729.mp4\n",
      "\n"
     ]
    },
    {
     "name": "stderr",
     "output_type": "stream",
     "text": [
      "                                                   "
     ]
    },
    {
     "name": "stdout",
     "output_type": "stream",
     "text": [
      "Moviepy - Done !\n",
      "Moviepy - video ready c:\\workspace3\\230925\\video\\lake-qlearning-episode-729.mp4\n"
     ]
    },
    {
     "name": "stderr",
     "output_type": "stream",
     "text": [
      "\r"
     ]
    }
   ],
   "source": [
    "#학습된 Q값을 사용하여 게임 진행\n",
    "\n",
    "# 총 보상\n",
    "\n",
    "total_reward = 0.0\n",
    "\n",
    "frames=[]\n",
    "\n",
    "from gym.wrappers.record_video import RecordVideo\n",
    "from IPython.display import Video\n",
    "\n",
    "env = gym.make(\"FrozenLake-v1\", render_mode='rgb_array')\n",
    "\n",
    "env = RecordVideo(env, \"video\", name_prefix=\"lake-qlearning\")\n",
    "\n",
    "env.reset(seed=42)\n",
    "\n",
    "# 게임 시작\n",
    "\n",
    "for i_episode in range(730):\n",
    "\n",
    "    \n",
    "\n",
    "    # 초기화\n",
    "\n",
    "    observation = env.reset()[0]\n",
    "\n",
    "    # 현재 게임의 보상\n",
    "\n",
    "    episode_reward = 0.0\n",
    "\n",
    "    \n",
    "\n",
    "    for t in range(100):\n",
    "\n",
    "        # 1턴 실행 후의 위치를 현재 위치로 삼음\n",
    "\n",
    "        current_state = observation\n",
    "\n",
    "        \n",
    "\n",
    "        # Q값이 최대가 되는 행동을 선택함\n",
    "\n",
    "        action = np.argmax(q_func[current_state])\n",
    "\n",
    "        \n",
    "\n",
    "        # 1턴 실행\n",
    "\n",
    "        observation, reward, done, _, info = env.step(action)\n",
    "\n",
    "        # 종료\n",
    "\n",
    "        if done:\n",
    "\n",
    "            # 현재 게임 보상 누적 계산\n",
    "\n",
    "            episode_reward += reward\n",
    "\n",
    "    \n",
    "\n",
    "    # 총 보상 누적 계산\n",
    "\n",
    "    total_reward += episode_reward\n",
    "\n",
    "env.close()"
   ]
  },
  {
   "cell_type": "code",
   "execution_count": 7,
   "metadata": {},
   "outputs": [
    {
     "data": {
      "text/html": [
       "<video controls  >\n",
       " <source src=\"data:video/mp4;base64,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\" type=\"video/mp4\">\n",
       " Your browser does not support the video tag.\n",
       " </video>"
      ],
      "text/plain": [
       "<IPython.core.display.Video object>"
      ]
     },
     "execution_count": 7,
     "metadata": {},
     "output_type": "execute_result"
    }
   ],
   "source": [
    "Video(\"video/lake-qlearning-episode-0.mp4\", embed=True)"
   ]
  },
  {
   "cell_type": "code",
   "execution_count": 8,
   "metadata": {},
   "outputs": [
    {
     "name": "stdout",
     "output_type": "stream",
     "text": [
      "556.0\n",
      "0.556\n"
     ]
    }
   ],
   "source": [
    "# 총 보상 출력\n",
    "\n",
    "print(total_reward)\n",
    "\n",
    "# 게임당 평균 보상 출력\n",
    "\n",
    "print(total_reward/1000)\n",
    "\n"
   ]
  },
  {
   "cell_type": "code",
   "execution_count": 9,
   "metadata": {},
   "outputs": [],
   "source": [
    "from IPython.display import clear_output\n",
    "from time import sleep\n",
    "\n",
    "def print_frames(frames):\n",
    "    for i, frame in enumerate(frames):\n",
    "        clear_output(wait=True)\n",
    "\n",
    "        print(frame['frame'])\n",
    "        print(f\"Timestep: {i + 1}\")\n",
    "        print(f\"State: {frame['state']}\")\n",
    "        print(f\"Action: {frame['action']}\")\n",
    "        print(f\"Reward: {frame['reward']}\")\n",
    "        sleep(.1)\n",
    "\n",
    "print_frames(frames)"
   ]
  },
  {
   "cell_type": "code",
   "execution_count": null,
   "metadata": {},
   "outputs": [],
   "source": []
  },
  {
   "cell_type": "code",
   "execution_count": null,
   "metadata": {},
   "outputs": [],
   "source": []
  }
 ],
 "metadata": {
  "kernelspec": {
   "display_name": "Python 3",
   "language": "python",
   "name": "python3"
  },
  "language_info": {
   "codemirror_mode": {
    "name": "ipython",
    "version": 3
   },
   "file_extension": ".py",
   "mimetype": "text/x-python",
   "name": "python",
   "nbconvert_exporter": "python",
   "pygments_lexer": "ipython3",
   "version": "3.9.13"
  },
  "orig_nbformat": 4
 },
 "nbformat": 4,
 "nbformat_minor": 2
}
