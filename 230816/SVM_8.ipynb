{
 "cells": [
  {
   "cell_type": "markdown",
   "metadata": {},
   "source": [
    " # cross_val_score(교차검증) 2"
   ]
  },
  {
   "cell_type": "code",
   "execution_count": 2,
   "metadata": {},
   "outputs": [
    {
     "data": {
      "text/html": [
       "<div>\n",
       "<style scoped>\n",
       "    .dataframe tbody tr th:only-of-type {\n",
       "        vertical-align: middle;\n",
       "    }\n",
       "\n",
       "    .dataframe tbody tr th {\n",
       "        vertical-align: top;\n",
       "    }\n",
       "\n",
       "    .dataframe thead th {\n",
       "        text-align: right;\n",
       "    }\n",
       "</style>\n",
       "<table border=\"1\" class=\"dataframe\">\n",
       "  <thead>\n",
       "    <tr style=\"text-align: right;\">\n",
       "      <th></th>\n",
       "      <th>SepalLength</th>\n",
       "      <th>SepalWidth</th>\n",
       "      <th>PetalLength</th>\n",
       "      <th>PetalWidth</th>\n",
       "      <th>Name</th>\n",
       "      <th>Species</th>\n",
       "    </tr>\n",
       "  </thead>\n",
       "  <tbody>\n",
       "    <tr>\n",
       "      <th>0</th>\n",
       "      <td>5.1</td>\n",
       "      <td>3.5</td>\n",
       "      <td>1.4</td>\n",
       "      <td>0.2</td>\n",
       "      <td>setosa</td>\n",
       "      <td>0</td>\n",
       "    </tr>\n",
       "    <tr>\n",
       "      <th>1</th>\n",
       "      <td>4.9</td>\n",
       "      <td>3.0</td>\n",
       "      <td>1.4</td>\n",
       "      <td>0.2</td>\n",
       "      <td>setosa</td>\n",
       "      <td>0</td>\n",
       "    </tr>\n",
       "    <tr>\n",
       "      <th>2</th>\n",
       "      <td>4.7</td>\n",
       "      <td>3.2</td>\n",
       "      <td>1.3</td>\n",
       "      <td>0.2</td>\n",
       "      <td>setosa</td>\n",
       "      <td>0</td>\n",
       "    </tr>\n",
       "    <tr>\n",
       "      <th>3</th>\n",
       "      <td>4.6</td>\n",
       "      <td>3.1</td>\n",
       "      <td>1.5</td>\n",
       "      <td>0.2</td>\n",
       "      <td>setosa</td>\n",
       "      <td>0</td>\n",
       "    </tr>\n",
       "    <tr>\n",
       "      <th>4</th>\n",
       "      <td>5.0</td>\n",
       "      <td>3.6</td>\n",
       "      <td>1.4</td>\n",
       "      <td>0.2</td>\n",
       "      <td>setosa</td>\n",
       "      <td>0</td>\n",
       "    </tr>\n",
       "  </tbody>\n",
       "</table>\n",
       "</div>"
      ],
      "text/plain": [
       "   SepalLength  SepalWidth  PetalLength  PetalWidth    Name  Species\n",
       "0          5.1         3.5          1.4         0.2  setosa        0\n",
       "1          4.9         3.0          1.4         0.2  setosa        0\n",
       "2          4.7         3.2          1.3         0.2  setosa        0\n",
       "3          4.6         3.1          1.5         0.2  setosa        0\n",
       "4          5.0         3.6          1.4         0.2  setosa        0"
      ]
     },
     "execution_count": 2,
     "metadata": {},
     "output_type": "execute_result"
    }
   ],
   "source": [
    "import pandas as pd\n",
    "\n",
    "df = pd.read_csv(\"c:/workspace3/data/iris.csv\")\n",
    "df.head()"
   ]
  },
  {
   "cell_type": "code",
   "execution_count": 3,
   "metadata": {},
   "outputs": [],
   "source": [
    "cols=['SepalLength', 'SepalWidth', 'PetalLength', 'PetalWidth']\n",
    "\n",
    "X = df[cols]\n",
    "y = df['Species']"
   ]
  },
  {
   "cell_type": "code",
   "execution_count": 4,
   "metadata": {},
   "outputs": [
    {
     "name": "stdout",
     "output_type": "stream",
     "text": [
      "1 fold\n",
      "0.9666666666666667\n",
      "1.0\n",
      "2 fold\n",
      "0.9583333333333334\n",
      "1.0\n",
      "3 fold\n",
      "0.975\n",
      "0.9333333333333333\n",
      "4 fold\n",
      "0.9833333333333333\n",
      "0.9333333333333333\n",
      "5 fold\n",
      "0.9666666666666667\n",
      "1.0\n",
      "\n",
      "average\n",
      "0.97\n",
      "0.9733333333333334\n",
      "\n",
      "max\n",
      "1.0\n"
     ]
    }
   ],
   "source": [
    "import numpy as np\n",
    "from sklearn.svm import SVC  \n",
    "from sklearn.model_selection import StratifiedKFold\n",
    "\n",
    "#같은 비율로 샘플링하는 KFold 모형\n",
    "#회귀분석 : KFold, 분류: StratifiedKFold\n",
    "skf = StratifiedKFold(n_splits=5,shuffle=True,random_state=10)\n",
    "i=1\n",
    "\n",
    "train_scores=[]\n",
    "test_scores=[]\n",
    "\n",
    "for train_index, test_index in skf.split(X,y):\n",
    "    print(i,'fold')\n",
    "    X_train, X_test = X.iloc[train_index,], X.iloc[test_index,]\n",
    "#                       숫자,               인덱스\n",
    "    y_train, y_test = y[train_index], y[test_index]\n",
    "    model = SVC(random_state=10)\n",
    "    model.fit(X_train, y_train)\n",
    "    score = model.score(X_train, y_train)\n",
    "    print(score)\n",
    "    train_scores.append(score)\n",
    "    score = model.score(X_test, y_test)\n",
    "    print(score)\n",
    "    test_scores.append(score)\n",
    "    i+=1   \n",
    "\n",
    "print('\\naverage')\n",
    "print(np.mean(train_scores))\n",
    "print(np.mean(test_scores))\n",
    "print('\\nmax')\n",
    "print(np.max(test_scores))"
   ]
  },
  {
   "cell_type": "code",
   "execution_count": 5,
   "metadata": {},
   "outputs": [
    {
     "name": "stdout",
     "output_type": "stream",
     "text": [
      "K : 1, train score's mean 1.000000\n",
      "K : 1, test score's mean 0.960000\n",
      "K : 2, train score's mean 0.976667\n",
      "K : 2, test score's mean 0.953333\n",
      "K : 3, train score's mean 0.965000\n",
      "K : 3, test score's mean 0.960000\n",
      "K : 4, train score's mean 0.973333\n",
      "K : 4, test score's mean 0.960000\n",
      "K : 5, train score's mean 0.970000\n",
      "K : 5, test score's mean 0.953333\n",
      "K : 6, train score's mean 0.975000\n",
      "K : 6, test score's mean 0.953333\n",
      "K : 7, train score's mean 0.980000\n",
      "K : 7, test score's mean 0.960000\n",
      "K : 8, train score's mean 0.973333\n",
      "K : 8, test score's mean 0.966667\n",
      "K : 9, train score's mean 0.976667\n",
      "K : 9, test score's mean 0.960000\n",
      "K : 10, train score's mean 0.975000\n",
      "K : 10, test score's mean 0.960000\n",
      "최고 정확도: 0.9666666666666668\n",
      "최적의 k: 8\n"
     ]
    }
   ],
   "source": [
    "# 경고메시지를 출력하지 않는 옵션\n",
    "\n",
    "import warnings  \n",
    "warnings.filterwarnings(\"ignore\")\n",
    "from sklearn.neighbors import KNeighborsClassifier\n",
    "\n",
    "kf = StratifiedKFold(5, shuffle=True, random_state=0)\n",
    "k_range = list(range(1, 11))\n",
    "\n",
    "means_tr = []\n",
    "means_te = []\n",
    "\n",
    "for k in k_range:\n",
    "    train_scores = []\n",
    "    test_scores = []\n",
    "\n",
    "    knn = KNeighborsClassifier(n_neighbors=k)\n",
    "\n",
    "    for train, test in kf.split(X,y):\n",
    "        X_train, X_test, y_train, y_test = X.iloc[train,], X.iloc[test,], y[train], y[test]\n",
    "        knn.fit(X_train, y_train)\n",
    "        score = knn.score(X_train, y_train)\n",
    "        train_scores.append(score)\n",
    "        score = knn.score(X_test, y_test)\n",
    "        test_scores.append(score)\n",
    "        #print('k: %d, test score : %f' % (k, score))\n",
    "\n",
    "    mean_tr=np.mean(train_scores)\n",
    "    mean_te=np.mean(test_scores)\n",
    "\n",
    "    print(\"K : %d, train score's mean %f\" % (k, mean_tr))\n",
    "    print(\"K : %d, test score's mean %f\" % (k, mean_te))\n",
    "\n",
    "    means_tr.append(mean_tr)\n",
    "    means_te.append(mean_te)\n",
    "\n",
    "max_score=max(means_te)    \n",
    "print('최고 정확도:',max_score)\n",
    "\n",
    "idx=np.where(means_te==max_score)[0][0]\n",
    "print('최적의 k:',k_range[idx])"
   ]
  },
  {
   "cell_type": "code",
   "execution_count": 6,
   "metadata": {},
   "outputs": [],
   "source": [
    "import matplotlib.pyplot as plt\n",
    "\n",
    "plt.rcParams[\"font.size\"]=15"
   ]
  },
  {
   "cell_type": "code",
   "execution_count": 7,
   "metadata": {},
   "outputs": [
    {
     "data": {
      "text/plain": [
       "<matplotlib.legend.Legend at 0x27546adc9d0>"
      ]
     },
     "execution_count": 7,
     "metadata": {},
     "output_type": "execute_result"
    },
    {
     "data": {
      "image/png": "[encoded data removed]",
      "text/plain": [
       "<Figure size 640x480 with 1 Axes>"
      ]
     },
     "metadata": {},
     "output_type": "display_data"
    }
   ],
   "source": [
    "plt.plot(k_range, means_tr, label=\"Train\")\n",
    "plt.plot(k_range, means_te, label=\"Test\")\n",
    "plt.ylabel(\"Accuracy\")\n",
    "plt.xlabel(\"k\")\n",
    "plt.legend()"
   ]
  },
  {
   "cell_type": "code",
   "execution_count": 8,
   "metadata": {},
   "outputs": [
    {
     "name": "stdout",
     "output_type": "stream",
     "text": [
      "[1.         1.         0.93333333 0.93333333 1.        ]\n",
      "97.33333333333334\n",
      "100.0\n"
     ]
    }
   ],
   "source": [
    "from sklearn.model_selection import cross_val_score\n",
    "\n",
    "svm = SVC(random_state=0)\n",
    "skf = StratifiedKFold(n_splits=5,shuffle=True,random_state=10)\n",
    "\n",
    "#교차검증을 자동으로 수행하는 함수\n",
    "result=cross_val_score(svm, X, y, cv=skf)\n",
    "\n",
    "print(result)\n",
    "print(np.mean(result)*100)\n",
    "print(np.max(result)*100)"
   ]
  }
 ],
 "metadata": {
  "kernelspec": {
   "display_name": "Python 3",
   "language": "python",
   "name": "python3"
  },
  "language_info": {
   "codemirror_mode": {
    "name": "ipython",
    "version": 3
   },
   "file_extension": ".py",
   "mimetype": "text/x-python",
   "name": "python",
   "nbconvert_exporter": "python",
   "pygments_lexer": "ipython3",
   "version": "3.9.13"
  },
  "orig_nbformat": 4
 },
 "nbformat": 4,
 "nbformat_minor": 2
}
