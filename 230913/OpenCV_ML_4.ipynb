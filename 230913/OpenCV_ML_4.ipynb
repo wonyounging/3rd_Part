{
 "cells": [
  {
   "cell_type": "markdown",
   "metadata": {},
   "source": [
    "### KMeans-색상선택 2"
   ]
  },
  {
   "cell_type": "code",
   "execution_count": 3,
   "metadata": {},
   "outputs": [
    {
     "name": "stdout",
     "output_type": "stream",
     "text": [
      "중심좌표: [[ 52 142 121]\n",
      " [180 206 213]\n",
      " [ 97 138 132]\n",
      " [ 16  31  28]\n",
      " [113 178 175]\n",
      " [ 47 177 158]\n",
      " [ 59 203 192]\n",
      " [ 56 107  94]\n",
      " [ 44  51 130]\n",
      " [ 32  76  59]\n",
      " [ 21  60  90]\n",
      " [ 72  53 163]\n",
      " [ 24  18 117]\n",
      " [110  91 186]\n",
      " [231 231 232]\n",
      " [164 173 191]]\n"
     ]
    }
   ],
   "source": [
    "import numpy as np\n",
    "import cv2\n",
    "\n",
    "K = 16 # cluster 개수(16컬러)\n",
    "\n",
    "img = cv2.imread('c:/workspace3/data/images/apple.jpg')\n",
    "data = img.reshape((-1,3)).astype(np.float32)\n",
    "\n",
    "# 최대 10회 반복, 1픽셀 이하이면 종료\n",
    "criteria = (cv2.TERM_CRITERIA_EPS + cv2.TERM_CRITERIA_MAX_ITER, 10, 1.0)\n",
    "\n",
    "# 클러스터링(K 클러스터 개수, criteria 종료 기준)\n",
    "ret,label,center=cv2.kmeans(data,K,None,criteria,10,cv2.KMEANS_RANDOM_CENTERS)\n",
    "\n",
    "center = np.uint8(center)\n",
    "print('중심좌표:',center)\n",
    "\n",
    "res = center[label.flatten()]\n",
    "res = res.reshape((img.shape))\n",
    "\n",
    "merged = np.hstack((img, res))\n",
    "\n",
    "cv2.imshow('KMeans Color',merged)\n",
    "cv2.waitKey(0)\n",
    "\n",
    "cv2.destroyAllWindows()"
   ]
  }
 ],
 "metadata": {
  "kernelspec": {
   "display_name": "Python 3",
   "language": "python",
   "name": "python3"
  },
  "language_info": {
   "codemirror_mode": {
    "name": "ipython",
    "version": 3
   },
   "file_extension": ".py",
   "mimetype": "text/x-python",
   "name": "python",
   "nbconvert_exporter": "python",
   "pygments_lexer": "ipython3",
   "version": "3.9.13"
  },
  "orig_nbformat": 4
 },
 "nbformat": 4,
 "nbformat_minor": 2
}
