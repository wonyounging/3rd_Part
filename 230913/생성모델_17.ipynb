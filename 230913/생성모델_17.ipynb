{
 "cells": [
  {
   "cell_type": "markdown",
   "metadata": {},
   "source": [
    "### celeba 이미지 데이터 생성"
   ]
  },
  {
   "cell_type": "code",
   "execution_count": 1,
   "metadata": {},
   "outputs": [
    {
     "name": "stdout",
     "output_type": "stream",
     "text": [
      "CPU times: total: 0 ns\n",
      "Wall time: 0 ns\n",
      "images done ..  1000\n",
      "images done ..  2000\n",
      "images done ..  3000\n",
      "images done ..  4000\n",
      "images done ..  5000\n",
      "images done ..  6000\n",
      "images done ..  7000\n",
      "images done ..  8000\n",
      "images done ..  9000\n",
      "images done ..  10000\n",
      "images done ..  11000\n",
      "images done ..  12000\n",
      "images done ..  13000\n",
      "images done ..  14000\n",
      "images done ..  15000\n",
      "images done ..  16000\n",
      "images done ..  17000\n",
      "images done ..  18000\n",
      "images done ..  19000\n",
      "images done ..  20000\n"
     ]
    }
   ],
   "source": [
    "# CelebA : 유명인(Celebrity) 얼굴 데이터셋(Face Dataset)\n",
    "\n",
    "# 변수 40개, 20만개 이상의 이미지\n",
    "# http://mmlab.ie.cuhk.edu.hk/projects/CelebA.html\n",
    "\n",
    "%time\n",
    "\n",
    "#이미지 파일들을 h5py 파일로 압축하는 과정(오래걸림, 15~20분)\n",
    "import h5py\n",
    "import zipfile\n",
    "import imageio\n",
    "import os\n",
    "\n",
    "hdf5_file = 'c:/workspace3/data/images/celeba/celeba_aligned_small.h5py'\n",
    "total_images = 20000\n",
    "\n",
    "with h5py.File(hdf5_file, 'w') as hf:\n",
    "    count = 0\n",
    "    with zipfile.ZipFile('c:/workspace3/data/images/celeba/img_align_celeba.zip', 'r') as zf:\n",
    "      for i in zf.namelist():\n",
    "        if (i[-4:] == '.jpg'):\n",
    "          # extract image\n",
    "          ofile = zf.extract(i)\n",
    "          img = imageio.v2.imread(ofile)\n",
    "          os.remove(ofile)\n",
    "\n",
    "          # 이미지 데이터를 h5py 모델에 추가하는 과정\n",
    "          hf.create_dataset('c:/workspace3/data/images/celeba/img_align_celeba/'+str(count)+'.jpg', data=img, compression=\"gzip\", compression_opts=9)\n",
    "       \n",
    "          count = count + 1\n",
    "          if count%1000 == 0:\n",
    "            print(\"images done .. \", count)\n",
    "          if count == total_images:\n",
    "            break"
   ]
  },
  {
   "cell_type": "code",
   "execution_count": 3,
   "metadata": {},
   "outputs": [
    {
     "ename": "KeyError",
     "evalue": "\"Unable to open object (object 'img_align_celeba' doesn't exist)\"",
     "output_type": "error",
     "traceback": [
      "\u001b[1;31m---------------------------------------------------------------------------\u001b[0m",
      "\u001b[1;31mKeyError\u001b[0m                                  Traceback (most recent call last)",
      "\u001b[1;32mc:\\workspace3\\230913\\생성모델_17.ipynb 셀 3\u001b[0m line \u001b[0;36m6\n\u001b[0;32m      <a href='vscode-notebook-cell:/c%3A/workspace3/230913/%EC%83%9D%EC%84%B1%EB%AA%A8%EB%8D%B8_17.ipynb#W3sZmlsZQ%3D%3D?line=2'>3</a>\u001b[0m \u001b[39mimport\u001b[39;00m \u001b[39mh5py\u001b[39;00m\n\u001b[0;32m      <a href='vscode-notebook-cell:/c%3A/workspace3/230913/%EC%83%9D%EC%84%B1%EB%AA%A8%EB%8D%B8_17.ipynb#W3sZmlsZQ%3D%3D?line=4'>5</a>\u001b[0m \u001b[39mwith\u001b[39;00m h5py\u001b[39m.\u001b[39mFile(\u001b[39m'\u001b[39m\u001b[39mc:/workspace3/data/images/celeba/celeba_aligned_small.h5py\u001b[39m\u001b[39m'\u001b[39m, \u001b[39m'\u001b[39m\u001b[39mr\u001b[39m\u001b[39m'\u001b[39m) \u001b[39mas\u001b[39;00m fp:\n\u001b[1;32m----> <a href='vscode-notebook-cell:/c%3A/workspace3/230913/%EC%83%9D%EC%84%B1%EB%AA%A8%EB%8D%B8_17.ipynb#W3sZmlsZQ%3D%3D?line=5'>6</a>\u001b[0m   dataset \u001b[39m=\u001b[39m fp[\u001b[39m'\u001b[39;49m\u001b[39mimg_align_celeba\u001b[39;49m\u001b[39m'\u001b[39;49m]\n\u001b[0;32m      <a href='vscode-notebook-cell:/c%3A/workspace3/230913/%EC%83%9D%EC%84%B1%EB%AA%A8%EB%8D%B8_17.ipynb#W3sZmlsZQ%3D%3D?line=6'>7</a>\u001b[0m   image \u001b[39m=\u001b[39m np\u001b[39m.\u001b[39marray(dataset[\u001b[39m'\u001b[39m\u001b[39m11.jpg\u001b[39m\u001b[39m'\u001b[39m])\n\u001b[0;32m      <a href='vscode-notebook-cell:/c%3A/workspace3/230913/%EC%83%9D%EC%84%B1%EB%AA%A8%EB%8D%B8_17.ipynb#W3sZmlsZQ%3D%3D?line=8'>9</a>\u001b[0m   plt\u001b[39m.\u001b[39mimshow(image, interpolation\u001b[39m=\u001b[39m\u001b[39m'\u001b[39m\u001b[39mnone\u001b[39m\u001b[39m'\u001b[39m)  \n",
      "File \u001b[1;32mh5py\\_objects.pyx:54\u001b[0m, in \u001b[0;36mh5py._objects.with_phil.wrapper\u001b[1;34m()\u001b[0m\n",
      "File \u001b[1;32mh5py\\_objects.pyx:55\u001b[0m, in \u001b[0;36mh5py._objects.with_phil.wrapper\u001b[1;34m()\u001b[0m\n",
      "File \u001b[1;32mc:\\Python3.9.13\\lib\\site-packages\\h5py\\_hl\\group.py:357\u001b[0m, in \u001b[0;36mGroup.__getitem__\u001b[1;34m(self, name)\u001b[0m\n\u001b[0;32m    355\u001b[0m         \u001b[39mraise\u001b[39;00m \u001b[39mValueError\u001b[39;00m(\u001b[39m\"\u001b[39m\u001b[39mInvalid HDF5 object reference\u001b[39m\u001b[39m\"\u001b[39m)\n\u001b[0;32m    356\u001b[0m \u001b[39melif\u001b[39;00m \u001b[39misinstance\u001b[39m(name, (\u001b[39mbytes\u001b[39m, \u001b[39mstr\u001b[39m)):\n\u001b[1;32m--> 357\u001b[0m     oid \u001b[39m=\u001b[39m h5o\u001b[39m.\u001b[39;49mopen(\u001b[39mself\u001b[39;49m\u001b[39m.\u001b[39;49mid, \u001b[39mself\u001b[39;49m\u001b[39m.\u001b[39;49m_e(name), lapl\u001b[39m=\u001b[39;49m\u001b[39mself\u001b[39;49m\u001b[39m.\u001b[39;49m_lapl)\n\u001b[0;32m    358\u001b[0m \u001b[39melse\u001b[39;00m:\n\u001b[0;32m    359\u001b[0m     \u001b[39mraise\u001b[39;00m \u001b[39mTypeError\u001b[39;00m(\u001b[39m\"\u001b[39m\u001b[39mAccessing a group is done with bytes or str, \u001b[39m\u001b[39m\"\u001b[39m\n\u001b[0;32m    360\u001b[0m                     \u001b[39m\"\u001b[39m\u001b[39mnot \u001b[39m\u001b[39m{}\u001b[39;00m\u001b[39m\"\u001b[39m\u001b[39m.\u001b[39mformat(\u001b[39mtype\u001b[39m(name)))\n",
      "File \u001b[1;32mh5py\\_objects.pyx:54\u001b[0m, in \u001b[0;36mh5py._objects.with_phil.wrapper\u001b[1;34m()\u001b[0m\n",
      "File \u001b[1;32mh5py\\_objects.pyx:55\u001b[0m, in \u001b[0;36mh5py._objects.with_phil.wrapper\u001b[1;34m()\u001b[0m\n",
      "File \u001b[1;32mh5py\\h5o.pyx:190\u001b[0m, in \u001b[0;36mh5py.h5o.open\u001b[1;34m()\u001b[0m\n",
      "\u001b[1;31mKeyError\u001b[0m: \"Unable to open object (object 'img_align_celeba' doesn't exist)\""
     ]
    }
   ],
   "source": [
    "import matplotlib.pyplot as plt\n",
    "import numpy as np\n",
    "import h5py\n",
    "\n",
    "with h5py.File('c:/workspace3/data/images/celeba/celeba_aligned_small.h5py', 'r') as fp:\n",
    "  dataset = fp['img_align_celeba']\n",
    "  image = np.array(dataset['11.jpg'])\n",
    "\n",
    "  plt.imshow(image, interpolation='none')  "
   ]
  },
  {
   "cell_type": "code",
   "execution_count": null,
   "metadata": {},
   "outputs": [],
   "source": [
    "image.shape"
   ]
  }
 ],
 "metadata": {
  "kernelspec": {
   "display_name": "Python 3",
   "language": "python",
   "name": "python3"
  },
  "language_info": {
   "codemirror_mode": {
    "name": "ipython",
    "version": 3
   },
   "file_extension": ".py",
   "mimetype": "text/x-python",
   "name": "python",
   "nbconvert_exporter": "python",
   "pygments_lexer": "ipython3",
   "version": "3.9.13"
  },
  "orig_nbformat": 4
 },
 "nbformat": 4,
 "nbformat_minor": 2
}
