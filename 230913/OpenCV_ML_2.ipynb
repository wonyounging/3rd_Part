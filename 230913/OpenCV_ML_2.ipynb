{
 "cells": [
  {
   "cell_type": "markdown",
   "metadata": {},
   "source": [
    "### SVM-이미지분류"
   ]
  },
  {
   "cell_type": "code",
   "execution_count": 6,
   "metadata": {},
   "outputs": [],
   "source": [
    "#pip install opencv-contrib-python\n",
    "\n",
    "import cv2\n",
    "import numpy as np\n",
    "\n",
    "categories =  ['airplanes', 'Motorbikes' ]\n",
    "\n",
    "dict_file = 'c:/workspace3/data/images/plane_bike_dict.npy'\n",
    "svm_model_file = 'c://workspace3/data/images/plane_bike_svm.xml'\n",
    "\n",
    "imgs = ['c:/workspace3/data/images/aircraft.jpg','c:/workspace3/data/images/jetstar.jpg',\n",
    "        'c:/workspace3/data/images/motorcycle.jpg', 'c:/workspace3/data/images/motorbike.jpg']\n",
    "\n",
    "# 특징 추출기(SIFT) 생성\n",
    "detector = cv2.SIFT_create()\n",
    "\n",
    "# BOWImgDescriptorExtractor() : 자연어 처리의 Bow(Bag of Words) 알고리즘을 컴퓨터 비전 분야에 활용하여 특징 디스크립터를 추출하는 클래스\n",
    "bowextractor = cv2.BOWImgDescriptorExtractor(detector, \\\n",
    "                                             cv2.BFMatcher(cv2.NORM_L2))\n",
    "bowextractor.setVocabulary(np.load(dict_file))\n",
    "\n",
    "svm  = cv2.ml.SVM_load(svm_model_file)\n",
    "\n",
    "# 이미지 테스트\n",
    "for i, path in enumerate(imgs):\n",
    "    img = cv2.imread(path)\n",
    "    gray = cv2.cvtColor(img, cv2.COLOR_BGR2GRAY)\n",
    "\n",
    "    # 테스트 이미지에서 BOW 히스토그램 추출\n",
    "    hist = bowextractor.compute(gray, detector.detect(gray))\n",
    "\n",
    "    # SVM 예측\n",
    "    ret, result = svm.predict(hist)\n",
    "\n",
    "    # 결과 표시\n",
    "    name = categories[int(result[0][0])]\n",
    "    txt, base = cv2.getTextSize(name, cv2.FONT_HERSHEY_PLAIN, 2, 3)\n",
    "\n",
    "    x,y = 10, 50\n",
    "\n",
    "    cv2.rectangle(img, (x,y-base-txt[1]), (x+txt[0], y+txt[1]), (30,30,30), -1)\n",
    "    cv2.putText(img, name, (x,y), cv2.FONT_HERSHEY_PLAIN, \\\n",
    "                                 2, (0,255,0), 2, cv2.LINE_AA)\n",
    "\n",
    "    cv2.imshow(path, img)\n",
    "\n",
    "cv2.waitKey(0)\n",
    "cv2.destroyAllWindows()"
   ]
  }
 ],
 "metadata": {
  "kernelspec": {
   "display_name": "Python 3",
   "language": "python",
   "name": "python3"
  },
  "language_info": {
   "codemirror_mode": {
    "name": "ipython",
    "version": 3
   },
   "file_extension": ".py",
   "mimetype": "text/x-python",
   "name": "python",
   "nbconvert_exporter": "python",
   "pygments_lexer": "ipython3",
   "version": "3.9.13"
  },
  "orig_nbformat": 4
 },
 "nbformat": 4,
 "nbformat_minor": 2
}
