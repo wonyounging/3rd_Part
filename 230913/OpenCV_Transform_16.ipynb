{
 "cells": [
  {
   "cell_type": "markdown",
   "metadata": {},
   "source": [
    "### 투시변환"
   ]
  },
  {
   "cell_type": "code",
   "execution_count": 1,
   "metadata": {},
   "outputs": [],
   "source": [
    "import numpy as np\n",
    "import cv2\n",
    "\n",
    "img1 = cv2.imread(\"c:/workspace3/data/images/winter.jpg\", cv2.IMREAD_GRAYSCALE)\n",
    "img1 = cv2.resize(img1, (320, 240))\n",
    "\n",
    "# 투시 변환 수행\n",
    "h, w = img1.shape\n",
    "\n",
    "point1_src = np.float32([[1,1], [w-10,10], [5,h-5], [w-4,h-4]])\n",
    "point1_dst = np.float32([[15,15], [w-60,15], [10,h-25], [w-100,h-50]])\n",
    "\n",
    "point2_src = np.float32([[148,145], [168,144], [136,223], [188,222]])\n",
    "point2_dst = np.float32([[136,145], [188,144], [136,223], [188,222]])\n",
    "\n",
    "#이미지 변환\n",
    "per_mat1 = cv2.getPerspectiveTransform(point1_src, point1_dst)\n",
    "per_mat2 = cv2.getPerspectiveTransform(point2_src, point2_dst)\n",
    "\n",
    "#원근 변환\n",
    "res1 = cv2.warpPerspective(img1, per_mat1, (w,h))\n",
    "res2 = cv2.warpPerspective(img1, per_mat2, (w,h))\n",
    "\n",
    "displays = [(\"input1\", img1),\n",
    "            (\"res1\", res1),\n",
    "            (\"res2\", res2)]\n",
    "\n",
    "for (name, out) in displays:\n",
    "    cv2.imshow(name, out)\n",
    "\n",
    "cv2.waitKey(0)\n",
    "cv2.destroyAllWindows()"
   ]
  },
  {
   "cell_type": "code",
   "execution_count": null,
   "metadata": {},
   "outputs": [],
   "source": []
  }
 ],
 "metadata": {
  "kernelspec": {
   "display_name": "Python 3",
   "language": "python",
   "name": "python3"
  },
  "language_info": {
   "codemirror_mode": {
    "name": "ipython",
    "version": 3
   },
   "file_extension": ".py",
   "mimetype": "text/x-python",
   "name": "python",
   "nbconvert_exporter": "python",
   "pygments_lexer": "ipython3",
   "version": "3.9.13"
  },
  "orig_nbformat": 4
 },
 "nbformat": 4,
 "nbformat_minor": 2
}
