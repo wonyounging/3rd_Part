{
 "cells": [
  {
   "cell_type": "markdown",
   "metadata": {},
   "source": [
    "### VAE 모형"
   ]
  },
  {
   "cell_type": "code",
   "execution_count": null,
   "metadata": {},
   "outputs": [],
   "source": [
    "# VAE(Variational AutoEncoder) 모델\n",
    "\n",
    "# Auto Encoder 개념을 활용한 생성 모델\n",
    "# 잠재 공간(z)에 확률 분포를 저장하여 평균과 분산 파라미터 생성\n",
    "# input image X를 잘 설명하는 feature를 추출하여 latent vector z에 담고 이 z를 통해 X와 유사하지만 완전히 새로운 데이터를 생성해 내는 것\n",
    "\n",
    "# 예를 들어 한국인의 얼굴을 그리기 위해 눈, 코, 입 등의 feature를 Latent vector z에 담고, 그 z를 이용해 그럴듯한 한국인의 얼굴을 그려내는 것"
   ]
  },
  {
   "cell_type": "code",
   "execution_count": null,
   "metadata": {},
   "outputs": [],
   "source": [
    "#   auto encoder\n",
    "#   input   encoder     decoder     output\n",
    "#           압축        복원\n",
    "#           확률분포    "
   ]
  },
  {
   "cell_type": "code",
   "execution_count": 1,
   "metadata": {},
   "outputs": [],
   "source": [
    "import numpy as np\n",
    "from tensorflow.keras.datasets import mnist\n",
    "from tensorflow.keras.layers import Input,Dense,Flatten,Reshape,Conv2D,Conv2DTranspose,Lambda\n",
    "from tensorflow.keras.models import Model\n",
    "import tensorflow as tf\n",
    "import keras\n",
    "import matplotlib.pyplot as plt\n",
    "from keras import backend as K\n",
    "\n",
    "(x_train,y_train),(x_test,y_test)=mnist.load_data()\n",
    "\n",
    "x_train=x_train.astype('float32')/255.\n",
    "x_test=x_test.astype('float32')/255.\n",
    "\n",
    "x_train=np.reshape(x_train,(len(x_train),28,28,1))\n",
    "x_test=np.reshape(x_test,(len(x_test),28,28,1))"
   ]
  },
  {
   "cell_type": "code",
   "execution_count": 2,
   "metadata": {},
   "outputs": [
    {
     "name": "stdout",
     "output_type": "stream",
     "text": [
      "tf.Tensor([3], shape=(1,), dtype=int32)\n",
      "tf.Tensor([1 3], shape=(2,), dtype=int32)\n"
     ]
    }
   ],
   "source": [
    "# K.shape 설명\n",
    "\n",
    "a=[10,20,30]\n",
    "print(K.shape(a)) # 1차원\n",
    "\n",
    "b=[[10,20,30]]\n",
    "print(K.shape(b)) # [1 3], shape=(2,), 1행 3열, 2차원"
   ]
  },
  {
   "cell_type": "code",
   "execution_count": 3,
   "metadata": {},
   "outputs": [
    {
     "data": {
      "text/plain": [
       "<tf.Tensor: shape=(), dtype=float32, numpy=2.7182817>"
      ]
     },
     "execution_count": 3,
     "metadata": {},
     "output_type": "execute_result"
    }
   ],
   "source": [
    "# K.exp 설명\n",
    "\n",
    "# 밑이 자연상수 e인 지수함수(e^x)로 변환\n",
    "K.exp(1.0)"
   ]
  },
  {
   "cell_type": "code",
   "execution_count": 4,
   "metadata": {},
   "outputs": [],
   "source": [
    "zdim=32                           \n",
    "\n",
    "def sampling(args):\n",
    "    #평균, 로그분산\n",
    "    z_mean,z_log_var=args\n",
    "\n",
    "    # epsilon : 임의의 실수값\n",
    "    epsilon=K.random_normal(shape=(K.shape(z_mean)[0],zdim),mean=0.0,stddev=0.1)\n",
    "\n",
    "    return z_mean+K.exp(0.5*z_log_var)*epsilon"
   ]
  },
  {
   "cell_type": "code",
   "execution_count": 5,
   "metadata": {},
   "outputs": [
    {
     "name": "stdout",
     "output_type": "stream",
     "text": [
      "Model: \"model\"\n",
      "__________________________________________________________________________________________________\n",
      " Layer (type)                   Output Shape         Param #     Connected to                     \n",
      "==================================================================================================\n",
      " input_1 (InputLayer)           [(None, 28, 28, 1)]  0           []                               \n",
      "                                                                                                  \n",
      " conv2d (Conv2D)                (None, 28, 28, 32)   320         ['input_1[0][0]']                \n",
      "                                                                                                  \n",
      " conv2d_1 (Conv2D)              (None, 14, 14, 64)   18496       ['conv2d[0][0]']                 \n",
      "                                                                                                  \n",
      " conv2d_2 (Conv2D)              (None, 7, 7, 64)     36928       ['conv2d_1[0][0]']               \n",
      "                                                                                                  \n",
      " conv2d_3 (Conv2D)              (None, 7, 7, 64)     36928       ['conv2d_2[0][0]']               \n",
      "                                                                                                  \n",
      " flatten (Flatten)              (None, 3136)         0           ['conv2d_3[0][0]']               \n",
      "                                                                                                  \n",
      " dense (Dense)                  (None, 32)           100384      ['flatten[0][0]']                \n",
      "                                                                                                  \n",
      " dense_1 (Dense)                (None, 32)           100384      ['flatten[0][0]']                \n",
      "                                                                                                  \n",
      " lambda (Lambda)                (None, 32)           0           ['dense[0][0]',                  \n",
      "                                                                  'dense_1[0][0]']                \n",
      "                                                                                                  \n",
      "==================================================================================================\n",
      "Total params: 293,440\n",
      "Trainable params: 293,440\n",
      "Non-trainable params: 0\n",
      "__________________________________________________________________________________________________\n"
     ]
    }
   ],
   "source": [
    "encoder_input=Input(shape=(28,28,1))        \n",
    "#                           압축\n",
    "\n",
    "x=Conv2D(32,(3,3),activation='relu',padding='same',strides=(1,1))(encoder_input)\n",
    "x=Conv2D(64,(3,3),activation='relu',padding='same',strides=(2,2))(x)\n",
    "x=Conv2D(64,(3,3),activation='relu',padding='same',strides=(2,2))(x)\n",
    "x=Conv2D(64,(3,3),activation='relu',padding='same',strides=(1,1))(x)\n",
    "\n",
    "x=Flatten()(x)\n",
    "\n",
    "z_mean=Dense(zdim)(x)\n",
    "z_log_var=Dense(zdim)(x)\n",
    "\n",
    "encoder_output=Lambda(sampling)([z_mean,z_log_var])\n",
    "#                       입력          출럭\n",
    "model_encoder=Model(encoder_input,[z_mean,z_log_var,encoder_output])\n",
    "\n",
    "model_encoder.summary()"
   ]
  },
  {
   "cell_type": "code",
   "execution_count": 6,
   "metadata": {},
   "outputs": [
    {
     "name": "stdout",
     "output_type": "stream",
     "text": [
      "Model: \"model_1\"\n",
      "_________________________________________________________________\n",
      " Layer (type)                Output Shape              Param #   \n",
      "=================================================================\n",
      " input_2 (InputLayer)        [(None, 32)]              0         \n",
      "                                                                 \n",
      " dense_2 (Dense)             (None, 3136)              103488    \n",
      "                                                                 \n",
      " reshape (Reshape)           (None, 7, 7, 64)          0         \n",
      "                                                                 \n",
      " conv2d_transpose (Conv2DTra  (None, 7, 7, 64)         36928     \n",
      " nspose)                                                         \n",
      "                                                                 \n",
      " conv2d_transpose_1 (Conv2DT  (None, 14, 14, 64)       36928     \n",
      " ranspose)                                                       \n",
      "                                                                 \n",
      " conv2d_transpose_2 (Conv2DT  (None, 28, 28, 32)       18464     \n",
      " ranspose)                                                       \n",
      "                                                                 \n",
      " conv2d_transpose_3 (Conv2DT  (None, 28, 28, 1)        289       \n",
      " ranspose)                                                       \n",
      "                                                                 \n",
      "=================================================================\n",
      "Total params: 196,097\n",
      "Trainable params: 196,097\n",
      "Non-trainable params: 0\n",
      "_________________________________________________________________\n"
     ]
    }
   ],
   "source": [
    "decoder_input=Input(shape=(zdim,))        \n",
    "#                       32 확률분포값\n",
    "\n",
    "x=Dense(3136)(decoder_input)\n",
    "x=Reshape((7,7,64))(x)\n",
    "\n",
    "x=Conv2DTranspose(64,(3,3),activation='relu',padding='same',strides=(1,1))(x)\n",
    "x=Conv2DTranspose(64,(3,3),activation='relu',padding='same',strides=(2,2))(x)\n",
    "x=Conv2DTranspose(32,(3,3),activation='relu',padding='same',strides=(2,2))(x)\n",
    "x=Conv2DTranspose(1,(3,3),activation='sigmoid',padding='same',strides=(1,1))(x)\n",
    "\n",
    "decoder_output=x\n",
    "\n",
    "model_decoder=Model(decoder_input,decoder_output)\n",
    "#                                   28x28 이미지\n",
    "\n",
    "model_decoder.summary()"
   ]
  },
  {
   "cell_type": "code",
   "execution_count": 7,
   "metadata": {},
   "outputs": [
    {
     "name": "stdout",
     "output_type": "stream",
     "text": [
      "Model: \"model_2\"\n",
      "__________________________________________________________________________________________________\n",
      " Layer (type)                   Output Shape         Param #     Connected to                     \n",
      "==================================================================================================\n",
      " input_1 (InputLayer)           [(None, 28, 28, 1)]  0           []                               \n",
      "                                                                                                  \n",
      " conv2d (Conv2D)                (None, 28, 28, 32)   320         ['input_1[0][0]']                \n",
      "                                                                                                  \n",
      " conv2d_1 (Conv2D)              (None, 14, 14, 64)   18496       ['conv2d[0][0]']                 \n",
      "                                                                                                  \n",
      " conv2d_2 (Conv2D)              (None, 7, 7, 64)     36928       ['conv2d_1[0][0]']               \n",
      "                                                                                                  \n",
      " conv2d_3 (Conv2D)              (None, 7, 7, 64)     36928       ['conv2d_2[0][0]']               \n",
      "                                                                                                  \n",
      " flatten (Flatten)              (None, 3136)         0           ['conv2d_3[0][0]']               \n",
      "                                                                                                  \n",
      " dense (Dense)                  (None, 32)           100384      ['flatten[0][0]']                \n",
      "                                                                                                  \n",
      " dense_1 (Dense)                (None, 32)           100384      ['flatten[0][0]']                \n",
      "                                                                                                  \n",
      " lambda (Lambda)                (None, 32)           0           ['dense[0][0]',                  \n",
      "                                                                  'dense_1[0][0]']                \n",
      "                                                                                                  \n",
      " model_1 (Functional)           (None, 28, 28, 1)    196097      ['lambda[0][0]']                 \n",
      "                                                                                                  \n",
      " tf.__operators__.add (TFOpLamb  (None, 32)          0           ['dense_1[0][0]']                \n",
      " da)                                                                                              \n",
      "                                                                                                  \n",
      " tf.math.square (TFOpLambda)    (None, 32)           0           ['dense[0][0]']                  \n",
      "                                                                                                  \n",
      " tf.cast (TFOpLambda)           (None, 28, 28, 1)    0           ['input_1[0][0]']                \n",
      "                                                                                                  \n",
      " tf.convert_to_tensor (TFOpLamb  (None, 28, 28, 1)   0           ['model_1[0][0]']                \n",
      " da)                                                                                              \n",
      "                                                                                                  \n",
      " tf.math.subtract (TFOpLambda)  (None, 32)           0           ['tf.__operators__.add[0][0]',   \n",
      "                                                                  'tf.math.square[0][0]']         \n",
      "                                                                                                  \n",
      " tf.math.exp (TFOpLambda)       (None, 32)           0           ['dense_1[0][0]']                \n",
      "                                                                                                  \n",
      " tf.keras.backend.binary_crosse  (None, 28, 28, 1)   0           ['tf.cast[0][0]',                \n",
      " ntropy (TFOpLambda)                                              'tf.convert_to_tensor[0][0]']   \n",
      "                                                                                                  \n",
      " tf.math.subtract_1 (TFOpLambda  (None, 32)          0           ['tf.math.subtract[0][0]',       \n",
      " )                                                                'tf.math.exp[0][0]']            \n",
      "                                                                                                  \n",
      " tf.math.reduce_mean (TFOpLambd  (None, 28, 28)      0           ['tf.keras.backend.binary_crossen\n",
      " a)                                                              tropy[0][0]']                    \n",
      "                                                                                                  \n",
      " tf.math.multiply (TFOpLambda)  (None, 32)           0           ['tf.math.subtract_1[0][0]']     \n",
      "                                                                                                  \n",
      " tf.math.reduce_sum (TFOpLambda  (None,)             0           ['tf.math.reduce_mean[0][0]']    \n",
      " )                                                                                                \n",
      "                                                                                                  \n",
      " tf.math.reduce_sum_1 (TFOpLamb  (None,)             0           ['tf.math.multiply[0][0]']       \n",
      " da)                                                                                              \n",
      "                                                                                                  \n",
      " tf.math.reduce_mean_1 (TFOpLam  ()                  0           ['tf.math.reduce_sum[0][0]']     \n",
      " bda)                                                                                             \n",
      "                                                                                                  \n",
      " tf.math.reduce_mean_2 (TFOpLam  ()                  0           ['tf.math.reduce_sum_1[0][0]']   \n",
      " bda)                                                                                             \n",
      "                                                                                                  \n",
      " tf.__operators__.add_1 (TFOpLa  ()                  0           ['tf.math.reduce_mean_1[0][0]',  \n",
      " mbda)                                                            'tf.math.reduce_mean_2[0][0]']  \n",
      "                                                                                                  \n",
      " add_loss (AddLoss)             ()                   0           ['tf.__operators__.add_1[0][0]'] \n",
      "                                                                                                  \n",
      "==================================================================================================\n",
      "Total params: 489,537\n",
      "Trainable params: 489,537\n",
      "Non-trainable params: 0\n",
      "__________________________________________________________________________________________________\n"
     ]
    }
   ],
   "source": [
    "model_input=encoder_input\n",
    "model_output=model_decoder(encoder_output)\n",
    "\n",
    "model=Model(model_input,model_output)\n",
    "\n",
    "reconstruction_loss=tf.reduce_mean(tf.reduce_sum(keras.losses.binary_crossentropy(model_input,model_output),axis=(1,2)))\n",
    "\n",
    "kl_loss=-0.5*(1+z_log_var-tf.square(z_mean)-tf.exp(z_log_var))\n",
    "kl_loss=tf.reduce_mean(tf.reduce_sum(kl_loss,axis=1))\n",
    "\n",
    "total_loss=reconstruction_loss+kl_loss\n",
    "\n",
    "model.add_loss(total_loss)\n",
    "model.compile(optimizer='adam')\n",
    "\n",
    "model.summary()"
   ]
  },
  {
   "cell_type": "code",
   "execution_count": 8,
   "metadata": {},
   "outputs": [
    {
     "name": "stdout",
     "output_type": "stream",
     "text": [
      "Epoch 1/5\n",
      "469/469 [==============================] - 44s 79ms/step - loss: 128.6266 - val_loss: 75.7920\n",
      "Epoch 2/5\n",
      "469/469 [==============================] - 36s 78ms/step - loss: 72.6773 - val_loss: 69.7116\n",
      "Epoch 3/5\n",
      "469/469 [==============================] - 36s 77ms/step - loss: 69.2294 - val_loss: 68.1731\n",
      "Epoch 4/5\n",
      "469/469 [==============================] - 38s 81ms/step - loss: 67.8247 - val_loss: 67.0828\n",
      "Epoch 5/5\n",
      "469/469 [==============================] - 35s 74ms/step - loss: 67.0438 - val_loss: 66.1502\n"
     ]
    },
    {
     "data": {
      "text/plain": [
       "<keras.callbacks.History at 0x28d042087c0>"
      ]
     },
     "execution_count": 8,
     "metadata": {},
     "output_type": "execute_result"
    }
   ],
   "source": [
    "model.fit(x_train,x_train,epochs=5,batch_size=128,validation_data=(x_test,x_test))"
   ]
  },
  {
   "cell_type": "code",
   "execution_count": 9,
   "metadata": {},
   "outputs": [
    {
     "name": "stdout",
     "output_type": "stream",
     "text": [
      "1/1 [==============================] - 0s 191ms/step\n",
      "9 4\n",
      "1/1 [==============================] - 0s 168ms/step\n"
     ]
    },
    {
     "data": {
      "image/png": "[encoded data removed]",
      "text/plain": [
       "<Figure size 2000x400 with 11 Axes>"
      ]
     },
     "metadata": {},
     "output_type": "display_data"
    }
   ],
   "source": [
    "# 랜덤으로 2개 샘플 선택\n",
    "\n",
    "i=np.random.randint(x_test.shape[0])\n",
    "j=np.random.randint(x_test.shape[0])\n",
    "\n",
    "x=np.array((x_test[i],x_test[j]))\n",
    "z=model_encoder.predict(x)[2] # encoder_output\n",
    "print(y_test[i],y_test[j])\n",
    "\n",
    "# 영배열\n",
    "zz=np.zeros((11,zdim))         # 11 x 32\n",
    "#                                11개 32개 벡터\n",
    "\n",
    "alpha=[0.0,0.1,0.2,0.3,0.4,0.5,0.6,0.7,0.8,0.9,1.0]\n",
    "\n",
    "for i in range(11):\n",
    "    zz[i]=(1.0-alpha[i])*z[0]+alpha[i]*z[1] # z[0] z_mean , z[1] z_log_var\n",
    "\n",
    "gen=model_decoder.predict(zz)\n",
    "\n",
    "plt.figure(figsize=(20,4))\n",
    "\n",
    "for i in range(11):\n",
    "    plt.subplot(1,11,i+1)\n",
    "\n",
    "    plt.imshow(gen[i].reshape(28,28),cmap='gray')\n",
    "\n",
    "    plt.xticks([])\n",
    "    plt.yticks([])\n",
    "\n",
    "    plt.title(str(alpha[i]))"
   ]
  },
  {
   "cell_type": "code",
   "execution_count": null,
   "metadata": {},
   "outputs": [],
   "source": []
  }
 ],
 "metadata": {
  "kernelspec": {
   "display_name": "Python 3",
   "language": "python",
   "name": "python3"
  },
  "language_info": {
   "codemirror_mode": {
    "name": "ipython",
    "version": 3
   },
   "file_extension": ".py",
   "mimetype": "text/x-python",
   "name": "python",
   "nbconvert_exporter": "python",
   "pygments_lexer": "ipython3",
   "version": "3.9.13"
  },
  "orig_nbformat": 4
 },
 "nbformat": 4,
 "nbformat_minor": 2
}
