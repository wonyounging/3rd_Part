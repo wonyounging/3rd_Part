{
 "cells": [
  {
   "cell_type": "markdown",
   "metadata": {},
   "source": [
    "### korean number 모형 테스트"
   ]
  },
  {
   "cell_type": "code",
   "execution_count": null,
   "metadata": {},
   "outputs": [],
   "source": [
    "import tensorflow as tf\n",
    "\n",
    "generator = tf.keras.models.load_model('korean_number_gen.h5')\n",
    "generator.summary()"
   ]
  },
  {
   "cell_type": "code",
   "execution_count": null,
   "metadata": {},
   "outputs": [],
   "source": [
    "from matplotlib import pyplot as plt\n",
    "import PIL\n",
    "\n",
    "plt.figure(figsize=(10,10))\n",
    "\n",
    "img=PIL.Image.open('image_at_epoch_0100.png')\n",
    "\n",
    "plt.imshow(img, 'gray')\n",
    "plt.title('epoch 100')\n",
    "plt.axis('off')\n",
    "\n",
    "plt.show()"
   ]
  },
  {
   "cell_type": "code",
   "execution_count": null,
   "metadata": {},
   "outputs": [],
   "source": [
    "noise_dim = 100\n",
    "num_examples_to_generate = 64\n",
    "\n",
    "seed = tf.random.normal([num_examples_to_generate, noise_dim])\n",
    "predictions = generator(seed, training=False)\n",
    "\n",
    "fig = plt.figure(figsize=(8,8))\n",
    "\n",
    "for i in range(predictions.shape[0]):\n",
    "    plt.subplot(8, 8, i+1)\n",
    "    plt.imshow(predictions[i, :, :, 0] * 127.5 + 127.5, cmap='gray')\n",
    "    plt.axis('off')"
   ]
  }
 ],
 "metadata": {
  "language_info": {
   "name": "python"
  },
  "orig_nbformat": 4
 },
 "nbformat": 4,
 "nbformat_minor": 2
}
