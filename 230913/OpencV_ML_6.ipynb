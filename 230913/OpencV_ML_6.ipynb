{
 "cells": [
  {
   "cell_type": "markdown",
   "metadata": {},
   "source": [
    "### CNN-mnist"
   ]
  },
  {
   "cell_type": "code",
   "execution_count": 1,
   "metadata": {},
   "outputs": [
    {
     "name": "stdout",
     "output_type": "stream",
     "text": [
      "Epoch 1/2\n",
      "469/469 - 10s - loss: 0.2288 - accuracy: 0.9268 - val_loss: 0.0383 - val_accuracy: 0.9867 - 10s/epoch - 20ms/step\n",
      "Epoch 2/2\n",
      "469/469 - 7s - loss: 0.0670 - accuracy: 0.9790 - val_loss: 0.0303 - val_accuracy: 0.9912 - 7s/epoch - 14ms/step\n"
     ]
    },
    {
     "data": {
      "text/plain": [
       "99.11999702453613"
      ]
     },
     "execution_count": 1,
     "metadata": {},
     "output_type": "execute_result"
    }
   ],
   "source": [
    "import numpy as np\n",
    "import tensorflow as tf\n",
    "import tensorflow.keras.datasets as ds\n",
    "from tensorflow.keras.models import Sequential\n",
    "from tensorflow.keras.layers import Conv2D,MaxPooling2D,Flatten,Dropout,Dense\n",
    "from tensorflow.keras.optimizers import Adam\n",
    "\n",
    "(x_train,y_train),(x_test,y_test)=ds.mnist.load_data()\n",
    "\n",
    "x_train=x_train.reshape(60000,28,28,1)\n",
    "x_test=x_test.reshape(10000,28,28,1)\n",
    "\n",
    "x_train=x_train.astype(np.float32)/255.0\n",
    "x_test=x_test.astype(np.float32)/255.0\n",
    "\n",
    "y_train=tf.keras.utils.to_categorical(y_train,10)\n",
    "y_test=tf.keras.utils.to_categorical(y_test,10)\n",
    "\n",
    "cnn=Sequential()\n",
    "\n",
    "cnn.add(Conv2D(32,(3,3),activation='relu',input_shape=(28,28,1)))\n",
    "cnn.add(Conv2D(32,(3,3),activation='relu'))\n",
    "cnn.add(MaxPooling2D(pool_size=(2,2)))\n",
    "cnn.add(Dropout(0.25))\n",
    "\n",
    "cnn.add(Conv2D(64,(3,3),activation='relu'))\n",
    "cnn.add(Conv2D(64,(3,3),activation='relu'))\n",
    "cnn.add(MaxPooling2D(pool_size=(2,2)))\n",
    "cnn.add(Dropout(0.25))\n",
    "\n",
    "cnn.add(Flatten())  # 1차원으로\n",
    "\n",
    "cnn.add(Dense(units=512,activation='relu'))\n",
    "cnn.add(Dropout(0.5))\n",
    "\n",
    "cnn.add(Dense(units=10,activation='softmax'))\n",
    "cnn.compile(loss='categorical_crossentropy',optimizer=Adam(learning_rate=0.001),metrics=['accuracy'])\n",
    "\n",
    "hist=cnn.fit(x_train,y_train,batch_size=128,epochs=2,validation_data=(x_test,y_test),verbose=2)\n",
    "\n",
    "cnn.save('cnn_v2.h5')\n",
    "\n",
    "res=cnn.evaluate(x_test,y_test,verbose=0)\n",
    "\n",
    "res[1]*100"
   ]
  }
 ],
 "metadata": {
  "kernelspec": {
   "display_name": "Python 3",
   "language": "python",
   "name": "python3"
  },
  "language_info": {
   "codemirror_mode": {
    "name": "ipython",
    "version": 3
   },
   "file_extension": ".py",
   "mimetype": "text/x-python",
   "name": "python",
   "nbconvert_exporter": "python",
   "pygments_lexer": "ipython3",
   "version": "3.9.13"
  },
  "orig_nbformat": 4
 },
 "nbformat": 4,
 "nbformat_minor": 2
}
