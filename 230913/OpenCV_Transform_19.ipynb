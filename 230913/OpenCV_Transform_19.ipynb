{
 "cells": [
  {
   "cell_type": "markdown",
   "metadata": {},
   "source": [
    "### ROI CROP 마우스 이벤트"
   ]
  },
  {
   "cell_type": "code",
   "execution_count": 2,
   "metadata": {},
   "outputs": [
    {
     "name": "stdout",
     "output_type": "stream",
     "text": [
      "x:281, y:203, w:95, h:76\n",
      "x:283, y:127, w:92, h:77\n",
      "x:110, y:84, w:448, h:329\n"
     ]
    }
   ],
   "source": [
    "import cv2\n",
    "import numpy as np\n",
    "\n",
    "#마우스 드래그 상태\n",
    "isDragging = False\n",
    "\n",
    "# roi 좌표                    \n",
    "x0, y0, w, h = -1,-1,-1,-1\n",
    "\n",
    "blue, red = (255,0,0),(0,0,255)\n",
    "\n",
    "def onMouse(event,x,y,flags,param):    \n",
    "    global isDragging, x0, y0, img    \n",
    "    if event == cv2.EVENT_LBUTTONDOWN:  \n",
    "        isDragging = True #드래그 시작\n",
    "        x0 = x\n",
    "        y0 = y\n",
    "    elif event == cv2.EVENT_MOUSEMOVE:  \n",
    "        if isDragging:                \n",
    "            #이미지 복사\n",
    "            img_draw = img.copy()      \n",
    "\n",
    "            #드래그 영역 출력\n",
    "            cv2.rectangle(img_draw, (x0, y0), (x, y), blue, 2)\n",
    "            cv2.imshow('img', img_draw)\n",
    "    elif event == cv2.EVENT_LBUTTONUP:  \n",
    "        if isDragging:            \n",
    "            #드래그 중지      \n",
    "            isDragging = False        \n",
    "\n",
    "            # drag width  \n",
    "            w = x - x0                \n",
    "            # drag height\n",
    "            h = y - y0                \n",
    "            print(\"x:%d, y:%d, w:%d, h:%d\" % (x0, y0, w, h))\n",
    "            if w > 0 and h > 0:        \n",
    "                img_draw = img.copy()  \n",
    "                # roi에 사각형\n",
    "                cv2.rectangle(img_draw, (x0, y0), (x, y), red, 2)\n",
    "                cv2.imshow('img', img_draw)\n",
    "                roi = img[y0:y0+h, x0:x0+w]\n",
    "\n",
    "                # ROI 지정 영역을 새창으로 표시\n",
    "                cv2.imshow('cropped', roi)  \n",
    "\n",
    "                # 새 창 좌표 이동\n",
    "                cv2.moveWindow('cropped', 0, 0)\n",
    "                cv2.imwrite('c:/workspace3/data/images/cropped.jpg', roi)\n",
    "            else:\n",
    "                cv2.imshow('img', img)  \n",
    "\n",
    "img = cv2.imread('c:/workspace3/data/images/img5.jpg')\n",
    "\n",
    "cv2.imshow('img', img)\n",
    "cv2.setMouseCallback('img', onMouse) # 마우스 이벤트 등록\n",
    "#                     객체    함수\n",
    "cv2.waitKey()\n",
    "cv2.destroyAllWindows()"
   ]
  }
 ],
 "metadata": {
  "kernelspec": {
   "display_name": "Python 3",
   "language": "python",
   "name": "python3"
  },
  "language_info": {
   "codemirror_mode": {
    "name": "ipython",
    "version": 3
   },
   "file_extension": ".py",
   "mimetype": "text/x-python",
   "name": "python",
   "nbconvert_exporter": "python",
   "pygments_lexer": "ipython3",
   "version": "3.9.13"
  },
  "orig_nbformat": 4
 },
 "nbformat": 4,
 "nbformat_minor": 2
}
