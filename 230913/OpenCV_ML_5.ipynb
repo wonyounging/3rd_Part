{
 "cells": [
  {
   "cell_type": "markdown",
   "metadata": {},
   "source": [
    "### Keras Tuner"
   ]
  },
  {
   "cell_type": "code",
   "execution_count": 2,
   "metadata": {},
   "outputs": [],
   "source": [
    "# ! pip install keras-tuner"
   ]
  },
  {
   "cell_type": "code",
   "execution_count": 3,
   "metadata": {},
   "outputs": [],
   "source": [
    "import keras_tuner as kt\n",
    "from tensorflow import keras"
   ]
  },
  {
   "cell_type": "code",
   "execution_count": 4,
   "metadata": {},
   "outputs": [],
   "source": [
    "(x_train, y_train), (x_test, y_test) = keras.datasets.fashion_mnist.load_data()\n",
    "\n",
    "x_train, x_val = x_train[:-10000], x_train[-10000:]\n",
    "y_train, y_val = y_train[:-10000], y_train[-10000:]"
   ]
  },
  {
   "cell_type": "code",
   "execution_count": 5,
   "metadata": {},
   "outputs": [],
   "source": [
    "x_train = x_train.reshape((-1, 28, 28, 1)) / 255.0\n",
    "x_test = x_test.reshape((-1, 28, 28, 1)) / 255.0\n",
    "x_val = x_val.reshape((-1, 28, 28, 1)) / 255.0"
   ]
  },
  {
   "cell_type": "code",
   "execution_count": 6,
   "metadata": {},
   "outputs": [],
   "source": [
    "def build_model(hp):\n",
    "    inputs = keras.Input(shape=(28, 28, 1))\n",
    "\n",
    "    filters = hp.Int(\"filters_1\", min_value=16, max_value=64, step=16)\n",
    "    x = keras.layers.Conv2D(filters, 3, activation=\"relu\")(inputs)\n",
    "    x = keras.layers.MaxPooling2D(pool_size=2)(x)\n",
    "\n",
    "    filters = hp.Int(\"filters_2\", min_value=32, max_value=128, step=16)\n",
    "    x = keras.layers.Conv2D(filters, 3, activation=\"relu\")(x)\n",
    "    x = keras.layers.MaxPooling2D(pool_size=2)(x)\n",
    "\n",
    "    filters = hp.Int(\"filters_3\", min_value=32, max_value=128, step=16)\n",
    "    x = keras.layers.Conv2D(filters, 3, activation=\"relu\")(x)\n",
    "    x = keras.layers.MaxPooling2D(pool_size=2)(x)\n",
    "\n",
    "    x = keras.layers.Flatten()(x)\n",
    "\n",
    "    outputs = keras.layers.Dense(10, activation=\"softmax\")(x)\n",
    "\n",
    "    model = keras.Model(inputs, outputs)\n",
    "\n",
    "    optimizer = hp.Choice(\"optimizer\", values=[\"rmsprop\", \"adam\"])\n",
    "    lr = hp.Float(\"lr\", min_value=1e-3, max_value=1e-2, sampling=\"log\")\n",
    "\n",
    "    if optimizer == \"rmsprop\":\n",
    "        opt = keras.optimizers.RMSprop(learning_rate=lr)\n",
    "    else:\n",
    "        opt = keras.optimizers.Adam(learning_rate=lr)\n",
    "\n",
    "    model.compile(opt, loss=\"sparse_categorical_crossentropy\",\n",
    "\n",
    "                  metrics=[\"accuracy\"])\n",
    "\n",
    "    return model"
   ]
  },
  {
   "cell_type": "code",
   "execution_count": 7,
   "metadata": {},
   "outputs": [
    {
     "name": "stdout",
     "output_type": "stream",
     "text": [
      "Model: \"model\"\n",
      "_________________________________________________________________\n",
      " Layer (type)                Output Shape              Param #   \n",
      "=================================================================\n",
      " input_1 (InputLayer)        [(None, 28, 28, 1)]       0         \n",
      "                                                                 \n",
      " conv2d (Conv2D)             (None, 26, 26, 16)        160       \n",
      "                                                                 \n",
      " max_pooling2d (MaxPooling2D  (None, 13, 13, 16)       0         \n",
      " )                                                               \n",
      "                                                                 \n",
      " conv2d_1 (Conv2D)           (None, 11, 11, 32)        4640      \n",
      "                                                                 \n",
      " max_pooling2d_1 (MaxPooling  (None, 5, 5, 32)         0         \n",
      " 2D)                                                             \n",
      "                                                                 \n",
      " conv2d_2 (Conv2D)           (None, 3, 3, 32)          9248      \n",
      "                                                                 \n",
      " max_pooling2d_2 (MaxPooling  (None, 1, 1, 32)         0         \n",
      " 2D)                                                             \n",
      "                                                                 \n",
      " flatten (Flatten)           (None, 32)                0         \n",
      "                                                                 \n",
      " dense (Dense)               (None, 10)                330       \n",
      "                                                                 \n",
      "=================================================================\n",
      "Total params: 14,378\n",
      "Trainable params: 14,378\n",
      "Non-trainable params: 0\n",
      "_________________________________________________________________\n"
     ]
    }
   ],
   "source": [
    "model = build_model(kt.HyperParameters())\n",
    "\n",
    "model.summary()"
   ]
  },
  {
   "cell_type": "code",
   "execution_count": 8,
   "metadata": {},
   "outputs": [
    {
     "name": "stdout",
     "output_type": "stream",
     "text": [
      "Search space summary\n",
      "Default search space size: 5\n",
      "filters_1 (Int)\n",
      "{'default': None, 'conditions': [], 'min_value': 16, 'max_value': 64, 'step': 16, 'sampling': 'linear'}\n",
      "filters_2 (Int)\n",
      "{'default': None, 'conditions': [], 'min_value': 32, 'max_value': 128, 'step': 16, 'sampling': 'linear'}\n",
      "filters_3 (Int)\n",
      "{'default': None, 'conditions': [], 'min_value': 32, 'max_value': 128, 'step': 16, 'sampling': 'linear'}\n",
      "optimizer (Choice)\n",
      "{'default': 'rmsprop', 'conditions': [], 'values': ['rmsprop', 'adam'], 'ordered': False}\n",
      "lr (Float)\n",
      "{'default': 0.001, 'conditions': [], 'min_value': 0.001, 'max_value': 0.01, 'step': None, 'sampling': 'log'}\n"
     ]
    }
   ],
   "source": [
    "tuner = kt.RandomSearch(build_model, objective=\"val_accuracy\", max_trials=30, seed=0)\n",
    "\n",
    "tuner.search_space_summary()"
   ]
  },
  {
   "cell_type": "code",
   "execution_count": 9,
   "metadata": {},
   "outputs": [
    {
     "name": "stdout",
     "output_type": "stream",
     "text": [
      "Trial 30 Complete [00h 00m 04s]\n",
      "val_accuracy: 0.7889999747276306\n",
      "\n",
      "Best val_accuracy So Far: 0.7889999747276306\n",
      "Total elapsed time: 00h 02m 31s\n",
      "INFO:tensorflow:Oracle triggered exit\n"
     ]
    }
   ],
   "source": [
    "#오래 걸림\n",
    "\n",
    "tuner.search(x_train[:1000], y_train[:1000], batch_size=32, epochs=10, validation_data=(x_val[:1000], y_val[:1000]))"
   ]
  },
  {
   "cell_type": "code",
   "execution_count": 10,
   "metadata": {},
   "outputs": [
    {
     "name": "stdout",
     "output_type": "stream",
     "text": [
      "Results summary\n",
      "Results in .\\untitled_project\n",
      "Showing 10 best trials\n",
      "Objective(name=\"val_accuracy\", direction=\"max\")\n",
      "\n",
      "Trial 29 summary\n",
      "Hyperparameters:\n",
      "filters_1: 32\n",
      "filters_2: 128\n",
      "filters_3: 112\n",
      "optimizer: adam\n",
      "lr: 0.004690191543688214\n",
      "Score: 0.7889999747276306\n",
      "\n",
      "Trial 21 summary\n",
      "Hyperparameters:\n",
      "filters_1: 48\n",
      "filters_2: 80\n",
      "filters_3: 48\n",
      "optimizer: adam\n",
      "lr: 0.002294874416101842\n",
      "Score: 0.7839999794960022\n",
      "\n",
      "Trial 15 summary\n",
      "Hyperparameters:\n",
      "filters_1: 48\n",
      "filters_2: 48\n",
      "filters_3: 128\n",
      "optimizer: adam\n",
      "lr: 0.009317336892175974\n",
      "Score: 0.781000018119812\n",
      "\n",
      "Trial 22 summary\n",
      "Hyperparameters:\n",
      "filters_1: 48\n",
      "filters_2: 32\n",
      "filters_3: 96\n",
      "optimizer: adam\n",
      "lr: 0.0042398398536545355\n",
      "Score: 0.7799999713897705\n",
      "\n",
      "Trial 02 summary\n",
      "Hyperparameters:\n",
      "filters_1: 32\n",
      "filters_2: 48\n",
      "filters_3: 80\n",
      "optimizer: adam\n",
      "lr: 0.0027907795551781215\n",
      "Score: 0.7789999842643738\n",
      "\n",
      "Trial 08 summary\n",
      "Hyperparameters:\n",
      "filters_1: 32\n",
      "filters_2: 48\n",
      "filters_3: 48\n",
      "optimizer: adam\n",
      "lr: 0.0034750681348181137\n",
      "Score: 0.7789999842643738\n",
      "\n",
      "Trial 14 summary\n",
      "Hyperparameters:\n",
      "filters_1: 64\n",
      "filters_2: 48\n",
      "filters_3: 96\n",
      "optimizer: adam\n",
      "lr: 0.0019837937886676544\n",
      "Score: 0.7760000228881836\n",
      "\n",
      "Trial 19 summary\n",
      "Hyperparameters:\n",
      "filters_1: 32\n",
      "filters_2: 128\n",
      "filters_3: 64\n",
      "optimizer: adam\n",
      "lr: 0.003573076262468944\n",
      "Score: 0.7760000228881836\n",
      "\n",
      "Trial 05 summary\n",
      "Hyperparameters:\n",
      "filters_1: 32\n",
      "filters_2: 80\n",
      "filters_3: 96\n",
      "optimizer: adam\n",
      "lr: 0.008361615308080576\n",
      "Score: 0.7749999761581421\n",
      "\n",
      "Trial 00 summary\n",
      "Hyperparameters:\n",
      "filters_1: 32\n",
      "filters_2: 32\n",
      "filters_3: 80\n",
      "optimizer: adam\n",
      "lr: 0.006311310775150927\n",
      "Score: 0.7720000147819519\n"
     ]
    }
   ],
   "source": [
    "tuner.results_summary()"
   ]
  },
  {
   "cell_type": "code",
   "execution_count": 11,
   "metadata": {},
   "outputs": [
    {
     "data": {
      "text/plain": [
       "{'filters_1': 32,\n",
       " 'filters_2': 128,\n",
       " 'filters_3': 112,\n",
       " 'optimizer': 'adam',\n",
       " 'lr': 0.004690191543688214}"
      ]
     },
     "execution_count": 11,
     "metadata": {},
     "output_type": "execute_result"
    }
   ],
   "source": [
    "best_hps = tuner.get_best_hyperparameters(1)\n",
    "best_hps[0].values"
   ]
  },
  {
   "cell_type": "code",
   "execution_count": 12,
   "metadata": {},
   "outputs": [],
   "source": [
    "best_models = tuner.get_best_models(1)\n",
    "final_model = best_models[0]"
   ]
  },
  {
   "cell_type": "code",
   "execution_count": 13,
   "metadata": {},
   "outputs": [
    {
     "name": "stdout",
     "output_type": "stream",
     "text": [
      "313/313 [==============================] - 1s 3ms/step - loss: 0.7104 - accuracy: 0.7832\n"
     ]
    },
    {
     "data": {
      "text/plain": [
       "[0.7104488015174866, 0.7832000255584717]"
      ]
     },
     "execution_count": 13,
     "metadata": {},
     "output_type": "execute_result"
    }
   ],
   "source": [
    "final_model.evaluate(x_test, y_test)"
   ]
  },
  {
   "cell_type": "code",
   "execution_count": null,
   "metadata": {},
   "outputs": [],
   "source": []
  }
 ],
 "metadata": {
  "kernelspec": {
   "display_name": "Python 3",
   "language": "python",
   "name": "python3"
  },
  "language_info": {
   "codemirror_mode": {
    "name": "ipython",
    "version": 3
   },
   "file_extension": ".py",
   "mimetype": "text/x-python",
   "name": "python",
   "nbconvert_exporter": "python",
   "pygments_lexer": "ipython3",
   "version": "3.9.13"
  },
  "orig_nbformat": 4
 },
 "nbformat": 4,
 "nbformat_minor": 2
}
