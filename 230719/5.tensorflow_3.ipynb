{
 "cells": [
  {
   "cell_type": "markdown",
   "metadata": {},
   "source": [
    "# iris"
   ]
  },
  {
   "cell_type": "code",
   "execution_count": 1,
   "metadata": {},
   "outputs": [],
   "source": [
    "# 독립변수 4\n",
    "# 종속변수 1\n",
    "\n",
    "#    원-핫 인코딩\n",
    "# 0      =>      100\n",
    "# 1      =>      010\n",
    "# 2      =>      001"
   ]
  },
  {
   "cell_type": "code",
   "execution_count": 2,
   "metadata": {},
   "outputs": [
    {
     "data": {
      "text/html": [
       "<div>\n",
       "<style scoped>\n",
       "    .dataframe tbody tr th:only-of-type {\n",
       "        vertical-align: middle;\n",
       "    }\n",
       "\n",
       "    .dataframe tbody tr th {\n",
       "        vertical-align: top;\n",
       "    }\n",
       "\n",
       "    .dataframe thead th {\n",
       "        text-align: right;\n",
       "    }\n",
       "</style>\n",
       "<table border=\"1\" class=\"dataframe\">\n",
       "  <thead>\n",
       "    <tr style=\"text-align: right;\">\n",
       "      <th></th>\n",
       "      <th>sepal_length</th>\n",
       "      <th>sepal_width</th>\n",
       "      <th>petal_length</th>\n",
       "      <th>petal_width</th>\n",
       "      <th>species</th>\n",
       "    </tr>\n",
       "  </thead>\n",
       "  <tbody>\n",
       "    <tr>\n",
       "      <th>0</th>\n",
       "      <td>5.1</td>\n",
       "      <td>3.5</td>\n",
       "      <td>1.4</td>\n",
       "      <td>0.2</td>\n",
       "      <td>setosa</td>\n",
       "    </tr>\n",
       "    <tr>\n",
       "      <th>1</th>\n",
       "      <td>4.9</td>\n",
       "      <td>3.0</td>\n",
       "      <td>1.4</td>\n",
       "      <td>0.2</td>\n",
       "      <td>setosa</td>\n",
       "    </tr>\n",
       "    <tr>\n",
       "      <th>2</th>\n",
       "      <td>4.7</td>\n",
       "      <td>3.2</td>\n",
       "      <td>1.3</td>\n",
       "      <td>0.2</td>\n",
       "      <td>setosa</td>\n",
       "    </tr>\n",
       "    <tr>\n",
       "      <th>3</th>\n",
       "      <td>4.6</td>\n",
       "      <td>3.1</td>\n",
       "      <td>1.5</td>\n",
       "      <td>0.2</td>\n",
       "      <td>setosa</td>\n",
       "    </tr>\n",
       "    <tr>\n",
       "      <th>4</th>\n",
       "      <td>5.0</td>\n",
       "      <td>3.6</td>\n",
       "      <td>1.4</td>\n",
       "      <td>0.2</td>\n",
       "      <td>setosa</td>\n",
       "    </tr>\n",
       "  </tbody>\n",
       "</table>\n",
       "</div>"
      ],
      "text/plain": [
       "   sepal_length  sepal_width  petal_length  petal_width species\n",
       "0           5.1          3.5           1.4          0.2  setosa\n",
       "1           4.9          3.0           1.4          0.2  setosa\n",
       "2           4.7          3.2           1.3          0.2  setosa\n",
       "3           4.6          3.1           1.5          0.2  setosa\n",
       "4           5.0          3.6           1.4          0.2  setosa"
      ]
     },
     "execution_count": 2,
     "metadata": {},
     "output_type": "execute_result"
    }
   ],
   "source": [
    "import seaborn as sns\n",
    "\n",
    "#붓꽃 데이터셋 로딩\n",
    "iris = sns.load_dataset(\"iris\")\n",
    "\n",
    "iris.head()"
   ]
  },
  {
   "cell_type": "code",
   "execution_count": 3,
   "metadata": {},
   "outputs": [
    {
     "data": {
      "text/plain": [
       "array(['setosa', 'versicolor', 'virginica'], dtype=object)"
      ]
     },
     "execution_count": 3,
     "metadata": {},
     "output_type": "execute_result"
    }
   ],
   "source": [
    "#품종 확인\n",
    "iris['species'].unique()"
   ]
  },
  {
   "cell_type": "code",
   "execution_count": 4,
   "metadata": {},
   "outputs": [
    {
     "name": "stdout",
     "output_type": "stream",
     "text": [
      "['setosa' 'setosa' 'setosa' 'setosa' 'setosa']\n",
      "[0 0 0 0 0]\n",
      "[[ True False False]\n",
      " [ True False False]\n",
      " [ True False False]\n",
      " [ True False False]\n",
      " [ True False False]]\n"
     ]
    }
   ],
   "source": [
    "from sklearn.preprocessing import LabelEncoder\n",
    "import pandas as pd\n",
    "\n",
    "X=iris.iloc[:, :4].values # 독립변수\n",
    "y=iris.iloc[:,4].values  #종속변수\n",
    "\n",
    "print(y[:5])\n",
    "\n",
    "encoder=LabelEncoder() #문자열에 label을 붙임\n",
    "\n",
    "y1=encoder.fit_transform(y)\n",
    "print(y1[:5])\n",
    "\n",
    "y2=pd.get_dummies(y1).values #종속변수에 대한 원핫인코딩 처리\n",
    "print(y2[:5])"
   ]
  },
  {
   "cell_type": "code",
   "execution_count": 5,
   "metadata": {},
   "outputs": [],
   "source": [
    "from sklearn.model_selection import train_test_split\n",
    "\n",
    "#학습용, 검증용 데이터셋 구분\n",
    "X_train, X_test, y_train, y_test = train_test_split(X, y2, test_size=0.2, stratify=y,random_state=10)"
   ]
  },
  {
   "cell_type": "code",
   "execution_count": 6,
   "metadata": {},
   "outputs": [],
   "source": [
    "from keras.models import Sequential\n",
    "from keras.layers import Dense\n",
    "from keras.optimizers import SGD\n",
    "\n",
    "#모델 생성\n",
    "model = Sequential()\n",
    "\n",
    "model.add(Dense(64,input_shape=(4,),activation='relu'))\n",
    "#               output(64)    input(4)\n",
    "model.add(Dense(64,activation='relu'))\n",
    "model.add(Dense(3,activation='softmax'))\n",
    "\n",
    "#       input   hidden-1    hidden-2    output\n",
    "#       4       64          64          3\n",
    "\n",
    "sgd = SGD(learning_rate=0.01)   # rate 값이 작으면 정밀하게 검사함 -> 속도가 늦어짐 / 크게하면 최저점을 지날 수 있음\n",
    "#       확률적 경사 하강법\n",
    "#       (경사 하강법 : 모든 샘플을 검사함 -> 확률적 경사 하강법 : 한 사이클에 랜덤으로 샘플을 뽑아 기울기를 검사함)\n",
    "model.compile(loss='categorical_crossentropy', optimizer=sgd, metrics=['accuracy'])\n",
    "#                   다분류                                                정확도"
   ]
  },
  {
   "cell_type": "code",
   "execution_count": 7,
   "metadata": {},
   "outputs": [
    {
     "name": "stdout",
     "output_type": "stream",
     "text": [
      "Model: \"sequential\"\n",
      "_________________________________________________________________\n",
      " Layer (type)                Output Shape              Param #   \n",
      "=================================================================\n",
      " dense (Dense)               (None, 64)                320       \n",
      "                                                                 \n",
      " dense_1 (Dense)             (None, 64)                4160      \n",
      "                                                                 \n",
      " dense_2 (Dense)             (None, 3)                 195       \n",
      "                                                                 \n",
      "=================================================================\n",
      "Total params: 4675 (18.26 KB)\n",
      "Trainable params: 4675 (18.26 KB)\n",
      "Non-trainable params: 0 (0.00 Byte)\n",
      "_________________________________________________________________\n"
     ]
    }
   ],
   "source": [
    "model.summary()"
   ]
  },
  {
   "cell_type": "code",
   "execution_count": 8,
   "metadata": {},
   "outputs": [
    {
     "data": {
      "image/png": "[encoded data removed]",
      "text/plain": [
       "<IPython.core.display.Image object>"
      ]
     },
     "execution_count": 8,
     "metadata": {},
     "output_type": "execute_result"
    }
   ],
   "source": [
    "from keras.utils import plot_model  \n",
    "\n",
    "plot_model(model,show_shapes=True)"
   ]
  },
  {
   "cell_type": "code",
   "execution_count": null,
   "metadata": {},
   "outputs": [],
   "source": [
    "# train       test\n",
    "# 8           2\n",
    "# 7           3\n",
    "\n",
    "# validation은 학습에 직접 참여하지 않음 조기학습에 사용\n",
    "#train     validation      test\n"
   ]
  },
  {
   "cell_type": "code",
   "execution_count": 9,
   "metadata": {},
   "outputs": [
    {
     "name": "stdout",
     "output_type": "stream",
     "text": [
      "Epoch 1/100\n",
      "3/3 [==============================] - 1s 102ms/step - loss: 1.4257 - accuracy: 0.2917 - val_loss: 1.1475 - val_accuracy: 0.5000 - lr: 0.0100\n",
      "Epoch 2/100\n",
      "3/3 [==============================] - 0s 22ms/step - loss: 1.1637 - accuracy: 0.2396 - val_loss: 1.1329 - val_accuracy: 0.0833 - lr: 0.0100\n",
      "Epoch 3/100\n",
      "3/3 [==============================] - 0s 22ms/step - loss: 1.0905 - accuracy: 0.2917 - val_loss: 1.0968 - val_accuracy: 0.2083 - lr: 0.0100\n",
      "Epoch 4/100\n",
      "3/3 [==============================] - 0s 21ms/step - loss: 1.0547 - accuracy: 0.2604 - val_loss: 1.0863 - val_accuracy: 0.1250 - lr: 0.0100\n",
      "Epoch 5/100\n",
      "1/3 [=========>....................] - ETA: 0s - loss: 1.0625 - accuracy: 0.2812"
     ]
    },
    {
     "name": "stderr",
     "output_type": "stream",
     "text": [
      "c:\\Python3.9.13\\lib\\site-packages\\keras\\src\\engine\\training.py:3000: UserWarning: You are saving your model as an HDF5 file via `model.save()`. This file format is considered legacy. We recommend using instead the native Keras format, e.g. `model.save('my_model.keras')`.\n",
      "  saving_api.save_model(\n"
     ]
    },
    {
     "name": "stdout",
     "output_type": "stream",
     "text": [
      "3/3 [==============================] - 0s 21ms/step - loss: 1.0308 - accuracy: 0.3333 - val_loss: 1.0538 - val_accuracy: 0.2917 - lr: 0.0100\n",
      "Epoch 6/100\n",
      "3/3 [==============================] - 0s 22ms/step - loss: 1.0110 - accuracy: 0.3229 - val_loss: 1.0216 - val_accuracy: 0.3750 - lr: 0.0100\n",
      "Epoch 7/100\n",
      "3/3 [==============================] - 0s 21ms/step - loss: 0.9895 - accuracy: 0.3854 - val_loss: 0.9953 - val_accuracy: 0.6250 - lr: 0.0100\n",
      "Epoch 8/100\n",
      "3/3 [==============================] - 0s 21ms/step - loss: 0.9709 - accuracy: 0.4167 - val_loss: 0.9518 - val_accuracy: 0.8333 - lr: 0.0100\n",
      "Epoch 9/100\n",
      "3/3 [==============================] - 0s 21ms/step - loss: 0.9470 - accuracy: 0.6458 - val_loss: 0.9370 - val_accuracy: 0.9167 - lr: 0.0100\n",
      "Epoch 10/100\n",
      "3/3 [==============================] - 0s 21ms/step - loss: 0.9289 - accuracy: 0.6250 - val_loss: 0.9137 - val_accuracy: 0.9167 - lr: 0.0100\n",
      "Epoch 11/100\n",
      "3/3 [==============================] - 0s 21ms/step - loss: 0.9223 - accuracy: 0.6771 - val_loss: 0.9091 - val_accuracy: 0.6667 - lr: 0.0100\n",
      "Epoch 12/100\n",
      "3/3 [==============================] - 0s 21ms/step - loss: 0.9049 - accuracy: 0.5729 - val_loss: 0.8845 - val_accuracy: 0.7917 - lr: 0.0100\n",
      "Epoch 13/100\n",
      "3/3 [==============================] - 0s 23ms/step - loss: 0.8807 - accuracy: 0.7812 - val_loss: 0.8494 - val_accuracy: 0.9167 - lr: 0.0100\n",
      "Epoch 14/100\n",
      "3/3 [==============================] - 0s 21ms/step - loss: 0.8703 - accuracy: 0.7083 - val_loss: 0.8322 - val_accuracy: 0.7917 - lr: 0.0100\n",
      "Epoch 15/100\n",
      "3/3 [==============================] - 0s 20ms/step - loss: 0.8690 - accuracy: 0.5104 - val_loss: 0.8318 - val_accuracy: 0.6667 - lr: 0.0100\n",
      "Epoch 16/100\n",
      "3/3 [==============================] - 0s 21ms/step - loss: 0.8423 - accuracy: 0.7604 - val_loss: 0.8019 - val_accuracy: 0.6667 - lr: 0.0100\n",
      "Epoch 17/100\n",
      "3/3 [==============================] - 0s 22ms/step - loss: 0.8283 - accuracy: 0.6771 - val_loss: 0.7763 - val_accuracy: 0.9167 - lr: 0.0100\n",
      "Epoch 18/100\n",
      "3/3 [==============================] - 0s 22ms/step - loss: 0.8146 - accuracy: 0.7083 - val_loss: 0.7646 - val_accuracy: 0.8750 - lr: 0.0100\n",
      "Epoch 19/100\n",
      "3/3 [==============================] - 0s 21ms/step - loss: 0.7971 - accuracy: 0.8958 - val_loss: 0.7398 - val_accuracy: 0.9167 - lr: 0.0100\n",
      "Epoch 20/100\n",
      "3/3 [==============================] - 0s 21ms/step - loss: 0.7841 - accuracy: 0.7917 - val_loss: 0.7203 - val_accuracy: 0.9167 - lr: 0.0100\n",
      "Epoch 21/100\n",
      "3/3 [==============================] - 0s 20ms/step - loss: 0.7693 - accuracy: 0.7812 - val_loss: 0.7044 - val_accuracy: 0.8750 - lr: 0.0100\n",
      "Epoch 22/100\n",
      "3/3 [==============================] - 0s 22ms/step - loss: 0.7562 - accuracy: 0.8542 - val_loss: 0.6910 - val_accuracy: 0.7917 - lr: 0.0100\n",
      "Epoch 23/100\n",
      "3/3 [==============================] - 0s 21ms/step - loss: 0.7406 - accuracy: 0.7604 - val_loss: 0.6643 - val_accuracy: 1.0000 - lr: 0.0100\n",
      "Epoch 24/100\n",
      "3/3 [==============================] - 0s 22ms/step - loss: 0.7316 - accuracy: 0.8646 - val_loss: 0.6467 - val_accuracy: 1.0000 - lr: 0.0100\n",
      "Epoch 25/100\n",
      "3/3 [==============================] - 0s 22ms/step - loss: 0.7257 - accuracy: 0.7396 - val_loss: 0.6393 - val_accuracy: 1.0000 - lr: 0.0100\n",
      "Epoch 26/100\n",
      "3/3 [==============================] - 0s 21ms/step - loss: 0.7052 - accuracy: 0.9375 - val_loss: 0.6202 - val_accuracy: 1.0000 - lr: 0.0100\n",
      "Epoch 27/100\n",
      "3/3 [==============================] - 0s 21ms/step - loss: 0.6963 - accuracy: 0.9062 - val_loss: 0.6002 - val_accuracy: 1.0000 - lr: 0.0100\n",
      "Epoch 28/100\n",
      "3/3 [==============================] - 0s 22ms/step - loss: 0.6853 - accuracy: 0.9375 - val_loss: 0.5896 - val_accuracy: 1.0000 - lr: 0.0100\n",
      "Epoch 29/100\n",
      "3/3 [==============================] - 0s 21ms/step - loss: 0.6745 - accuracy: 0.9479 - val_loss: 0.5762 - val_accuracy: 1.0000 - lr: 0.0100\n",
      "Epoch 30/100\n",
      "3/3 [==============================] - 0s 14ms/step - loss: 0.6682 - accuracy: 0.7708 - val_loss: 0.5767 - val_accuracy: 0.9167 - lr: 0.0100\n",
      "Epoch 31/100\n",
      "3/3 [==============================] - 0s 22ms/step - loss: 0.6536 - accuracy: 0.9271 - val_loss: 0.5591 - val_accuracy: 1.0000 - lr: 0.0100\n",
      "Epoch 32/100\n",
      "3/3 [==============================] - 0s 23ms/step - loss: 0.6463 - accuracy: 0.9167 - val_loss: 0.5419 - val_accuracy: 1.0000 - lr: 0.0100\n",
      "Epoch 33/100\n",
      "3/3 [==============================] - 0s 24ms/step - loss: 0.6415 - accuracy: 0.8854 - val_loss: 0.5258 - val_accuracy: 0.9583 - lr: 0.0100\n",
      "Epoch 34/100\n",
      "3/3 [==============================] - 0s 22ms/step - loss: 0.6282 - accuracy: 0.9167 - val_loss: 0.5169 - val_accuracy: 0.9583 - lr: 0.0100\n",
      "Epoch 35/100\n",
      "3/3 [==============================] - 0s 22ms/step - loss: 0.6299 - accuracy: 0.7812 - val_loss: 0.5092 - val_accuracy: 1.0000 - lr: 0.0100\n",
      "Epoch 36/100\n",
      "3/3 [==============================] - 0s 21ms/step - loss: 0.6102 - accuracy: 0.9583 - val_loss: 0.5006 - val_accuracy: 1.0000 - lr: 0.0100\n",
      "Epoch 37/100\n",
      "3/3 [==============================] - 0s 22ms/step - loss: 0.6052 - accuracy: 0.9167 - val_loss: 0.4924 - val_accuracy: 1.0000 - lr: 0.0100\n",
      "Epoch 38/100\n",
      "3/3 [==============================] - 0s 21ms/step - loss: 0.5953 - accuracy: 0.9167 - val_loss: 0.4891 - val_accuracy: 1.0000 - lr: 0.0100\n",
      "Epoch 39/100\n",
      "3/3 [==============================] - 0s 20ms/step - loss: 0.5933 - accuracy: 0.8750 - val_loss: 0.4872 - val_accuracy: 0.9167 - lr: 0.0100\n",
      "Epoch 40/100\n",
      "3/3 [==============================] - 0s 21ms/step - loss: 0.5805 - accuracy: 0.9375 - val_loss: 0.4692 - val_accuracy: 1.0000 - lr: 0.0100\n",
      "Epoch 41/100\n",
      "3/3 [==============================] - 0s 22ms/step - loss: 0.5787 - accuracy: 0.8438 - val_loss: 0.4630 - val_accuracy: 1.0000 - lr: 0.0100\n",
      "Epoch 42/100\n",
      "3/3 [==============================] - 0s 22ms/step - loss: 0.5683 - accuracy: 0.9479 - val_loss: 0.4514 - val_accuracy: 1.0000 - lr: 0.0100\n",
      "Epoch 43/100\n",
      "3/3 [==============================] - 0s 13ms/step - loss: 0.5623 - accuracy: 0.8854 - val_loss: 0.4538 - val_accuracy: 0.9583 - lr: 0.0100\n",
      "Epoch 44/100\n",
      "3/3 [==============================] - 0s 14ms/step - loss: 0.5639 - accuracy: 0.8750 - val_loss: 0.4527 - val_accuracy: 0.9167 - lr: 0.0100\n",
      "Epoch 45/100\n",
      "3/3 [==============================] - 0s 21ms/step - loss: 0.5490 - accuracy: 0.9375 - val_loss: 0.4358 - val_accuracy: 1.0000 - lr: 0.0100\n",
      "Epoch 46/100\n",
      "3/3 [==============================] - 0s 21ms/step - loss: 0.5426 - accuracy: 0.9792 - val_loss: 0.4272 - val_accuracy: 1.0000 - lr: 0.0100\n",
      "Epoch 47/100\n",
      "3/3 [==============================] - 0s 22ms/step - loss: 0.5385 - accuracy: 0.9271 - val_loss: 0.4263 - val_accuracy: 1.0000 - lr: 0.0100\n",
      "Epoch 48/100\n",
      "3/3 [==============================] - 0s 22ms/step - loss: 0.5402 - accuracy: 0.9062 - val_loss: 0.4224 - val_accuracy: 0.9583 - lr: 0.0100\n",
      "Epoch 49/100\n",
      "3/3 [==============================] - 0s 22ms/step - loss: 0.5270 - accuracy: 0.9688 - val_loss: 0.4126 - val_accuracy: 1.0000 - lr: 0.0100\n",
      "Epoch 50/100\n",
      "3/3 [==============================] - 0s 22ms/step - loss: 0.5213 - accuracy: 0.9479 - val_loss: 0.4090 - val_accuracy: 1.0000 - lr: 0.0100\n",
      "Epoch 51/100\n",
      "3/3 [==============================] - 0s 22ms/step - loss: 0.5237 - accuracy: 0.8854 - val_loss: 0.3937 - val_accuracy: 0.9583 - lr: 0.0100\n",
      "Epoch 52/100\n",
      "3/3 [==============================] - 0s 21ms/step - loss: 0.5136 - accuracy: 0.9375 - val_loss: 0.3904 - val_accuracy: 0.9583 - lr: 0.0100\n",
      "Epoch 53/100\n",
      "3/3 [==============================] - 0s 13ms/step - loss: 0.5083 - accuracy: 0.9271 - val_loss: 0.3917 - val_accuracy: 1.0000 - lr: 0.0100\n",
      "Epoch 54/100\n",
      "3/3 [==============================] - 0s 22ms/step - loss: 0.5015 - accuracy: 0.9583 - val_loss: 0.3874 - val_accuracy: 1.0000 - lr: 0.0100\n",
      "Epoch 55/100\n",
      "3/3 [==============================] - 0s 20ms/step - loss: 0.4995 - accuracy: 0.9167 - val_loss: 0.3854 - val_accuracy: 1.0000 - lr: 0.0100\n",
      "Epoch 56/100\n",
      "3/3 [==============================] - 0s 22ms/step - loss: 0.4929 - accuracy: 0.9375 - val_loss: 0.3683 - val_accuracy: 1.0000 - lr: 0.0100\n",
      "Epoch 57/100\n",
      "3/3 [==============================] - 0s 21ms/step - loss: 0.4897 - accuracy: 0.9167 - val_loss: 0.3621 - val_accuracy: 0.9583 - lr: 0.0100\n",
      "Epoch 58/100\n",
      "3/3 [==============================] - 0s 25ms/step - loss: 0.4909 - accuracy: 0.9167 - val_loss: 0.3548 - val_accuracy: 0.9583 - lr: 0.0100\n",
      "Epoch 59/100\n",
      "3/3 [==============================] - 0s 13ms/step - loss: 0.4805 - accuracy: 0.8958 - val_loss: 0.3624 - val_accuracy: 1.0000 - lr: 0.0100\n",
      "Epoch 60/100\n",
      "3/3 [==============================] - 0s 14ms/step - loss: 0.4729 - accuracy: 0.9479 - val_loss: 0.3551 - val_accuracy: 1.0000 - lr: 0.0100\n",
      "Epoch 61/100\n",
      "3/3 [==============================] - 0s 23ms/step - loss: 0.4676 - accuracy: 0.9688 - val_loss: 0.3537 - val_accuracy: 1.0000 - lr: 0.0100\n",
      "Epoch 62/100\n",
      "3/3 [==============================] - 0s 15ms/step - loss: 0.4621 - accuracy: 0.9583 - val_loss: 0.3542 - val_accuracy: 1.0000 - lr: 0.0100\n",
      "Epoch 63/100\n",
      "3/3 [==============================] - 0s 26ms/step - loss: 0.4687 - accuracy: 0.9375 - val_loss: 0.3484 - val_accuracy: 1.0000 - lr: 0.0100\n",
      "Epoch 64/100\n",
      "3/3 [==============================] - 0s 25ms/step - loss: 0.4563 - accuracy: 0.9688 - val_loss: 0.3473 - val_accuracy: 1.0000 - lr: 0.0100\n",
      "Epoch 65/100\n",
      "3/3 [==============================] - 0s 37ms/step - loss: 0.4519 - accuracy: 0.9375 - val_loss: 0.3372 - val_accuracy: 1.0000 - lr: 0.0100\n",
      "Epoch 66/100\n",
      "3/3 [==============================] - 0s 22ms/step - loss: 0.4590 - accuracy: 0.9167 - val_loss: 0.3253 - val_accuracy: 0.9583 - lr: 0.0100\n",
      "Epoch 67/100\n",
      "3/3 [==============================] - 0s 13ms/step - loss: 0.4467 - accuracy: 0.9062 - val_loss: 0.3355 - val_accuracy: 1.0000 - lr: 0.0100\n",
      "Epoch 68/100\n",
      "3/3 [==============================] - 0s 13ms/step - loss: 0.4415 - accuracy: 0.9583 - val_loss: 0.3362 - val_accuracy: 1.0000 - lr: 0.0100\n",
      "Epoch 69/100\n",
      "3/3 [==============================] - 0s 21ms/step - loss: 0.4399 - accuracy: 0.9479 - val_loss: 0.3234 - val_accuracy: 1.0000 - lr: 0.0100\n",
      "Epoch 70/100\n",
      "3/3 [==============================] - 0s 13ms/step - loss: 0.4332 - accuracy: 0.9583 - val_loss: 0.3272 - val_accuracy: 1.0000 - lr: 0.0100\n",
      "Epoch 71/100\n",
      "3/3 [==============================] - 0s 14ms/step - loss: 0.4462 - accuracy: 0.8958 - val_loss: 0.3300 - val_accuracy: 1.0000 - lr: 0.0100\n",
      "Epoch 72/100\n",
      "3/3 [==============================] - 0s 22ms/step - loss: 0.4256 - accuracy: 0.9583 - val_loss: 0.3233 - val_accuracy: 1.0000 - lr: 0.0100\n",
      "Epoch 73/100\n",
      "3/3 [==============================] - 0s 13ms/step - loss: 0.4256 - accuracy: 0.9479 - val_loss: 0.3275 - val_accuracy: 0.9167 - lr: 0.0100\n",
      "Epoch 74/100\n",
      "3/3 [==============================] - 0s 23ms/step - loss: 0.4193 - accuracy: 0.9583 - val_loss: 0.3150 - val_accuracy: 1.0000 - lr: 0.0100\n",
      "Epoch 75/100\n",
      "3/3 [==============================] - 0s 23ms/step - loss: 0.4149 - accuracy: 0.9688 - val_loss: 0.3096 - val_accuracy: 1.0000 - lr: 0.0100\n",
      "Epoch 76/100\n",
      "3/3 [==============================] - 0s 13ms/step - loss: 0.4124 - accuracy: 0.9583 - val_loss: 0.3161 - val_accuracy: 1.0000 - lr: 0.0100\n",
      "Epoch 77/100\n",
      "3/3 [==============================] - 0s 24ms/step - loss: 0.4138 - accuracy: 0.9583 - val_loss: 0.2942 - val_accuracy: 1.0000 - lr: 0.0100\n",
      "Epoch 78/100\n",
      "3/3 [==============================] - 0s 12ms/step - loss: 0.4080 - accuracy: 0.9271 - val_loss: 0.3135 - val_accuracy: 0.9583 - lr: 0.0100\n",
      "Epoch 79/100\n",
      "3/3 [==============================] - 0s 13ms/step - loss: 0.4010 - accuracy: 0.9583 - val_loss: 0.3020 - val_accuracy: 1.0000 - lr: 0.0100\n",
      "Epoch 80/100\n",
      "3/3 [==============================] - 0s 23ms/step - loss: 0.3992 - accuracy: 0.9688 - val_loss: 0.2917 - val_accuracy: 1.0000 - lr: 0.0100\n",
      "Epoch 81/100\n",
      "3/3 [==============================] - 0s 14ms/step - loss: 0.3944 - accuracy: 0.9583 - val_loss: 0.2984 - val_accuracy: 1.0000 - lr: 0.0100\n",
      "Epoch 82/100\n",
      "3/3 [==============================] - 0s 14ms/step - loss: 0.3912 - accuracy: 0.9688 - val_loss: 0.2917 - val_accuracy: 1.0000 - lr: 0.0100\n",
      "Epoch 83/100\n",
      "3/3 [==============================] - 0s 13ms/step - loss: 0.3908 - accuracy: 0.9479 - val_loss: 0.3021 - val_accuracy: 0.9167 - lr: 0.0100\n",
      "Epoch 84/100\n",
      "3/3 [==============================] - 0s 22ms/step - loss: 0.3860 - accuracy: 0.9688 - val_loss: 0.2916 - val_accuracy: 1.0000 - lr: 0.0100\n",
      "Epoch 85/100\n",
      "3/3 [==============================] - 0s 21ms/step - loss: 0.3861 - accuracy: 0.9375 - val_loss: 0.2756 - val_accuracy: 1.0000 - lr: 0.0100\n",
      "Epoch 86/100\n",
      "3/3 [==============================] - 0s 13ms/step - loss: 0.3802 - accuracy: 0.9479 - val_loss: 0.2838 - val_accuracy: 1.0000 - lr: 0.0100\n",
      "Epoch 87/100\n",
      "3/3 [==============================] - 0s 13ms/step - loss: 0.3764 - accuracy: 0.9583 - val_loss: 0.2854 - val_accuracy: 1.0000 - lr: 0.0100\n",
      "Epoch 88/100\n",
      "3/3 [==============================] - 0s 13ms/step - loss: 0.3737 - accuracy: 0.9688 - val_loss: 0.2763 - val_accuracy: 1.0000 - lr: 0.0100\n",
      "Epoch 89/100\n",
      "3/3 [==============================] - 0s 13ms/step - loss: 0.3705 - accuracy: 0.9583 - val_loss: 0.2814 - val_accuracy: 1.0000 - lr: 0.0100\n",
      "Epoch 90/100\n",
      "3/3 [==============================] - 0s 13ms/step - loss: 0.3685 - accuracy: 0.9688 - val_loss: 0.2816 - val_accuracy: 1.0000 - lr: 0.0100\n",
      "Epoch 91/100\n",
      "3/3 [==============================] - 0s 14ms/step - loss: 0.3656 - accuracy: 0.9792 - val_loss: 0.2803 - val_accuracy: 1.0000 - lr: 1.0000e-03\n",
      "Epoch 92/100\n",
      "3/3 [==============================] - 0s 14ms/step - loss: 0.3655 - accuracy: 0.9792 - val_loss: 0.2791 - val_accuracy: 1.0000 - lr: 1.0000e-03\n",
      "Epoch 93/100\n",
      "3/3 [==============================] - 0s 13ms/step - loss: 0.3647 - accuracy: 0.9688 - val_loss: 0.2782 - val_accuracy: 1.0000 - lr: 1.0000e-03\n",
      "Epoch 94/100\n",
      "3/3 [==============================] - 0s 13ms/step - loss: 0.3651 - accuracy: 0.9896 - val_loss: 0.2772 - val_accuracy: 1.0000 - lr: 1.0000e-03\n",
      "Epoch 95/100\n",
      "3/3 [==============================] - 0s 13ms/step - loss: 0.3641 - accuracy: 0.9688 - val_loss: 0.2766 - val_accuracy: 1.0000 - lr: 1.0000e-03\n"
     ]
    }
   ],
   "source": [
    "from keras.callbacks import EarlyStopping, ModelCheckpoint, ReduceLROnPlateau, CSVLogger\n",
    "\n",
    "es = EarlyStopping(monitor='val_loss', patience=10)\n",
    "#       조기학습종료   기준   validation_loss를 검사  patience(종료 횟수)\n",
    "\n",
    "# 학습 과정에서 만들어진 최적의 파라미터 조합으로 모형을 저장\n",
    "mc = ModelCheckpoint(\"iris_best.h5\", save_best_only=True)\n",
    "\n",
    "# 학습이 잘 안될 때 학습률을 동적으로 조절하는 옵션\n",
    "rlr = ReduceLROnPlateau(factor=0.1, patience=5) #기존 학습률*factor (배수) => 학습률이 줄어 더 자세히 하게 됨\n",
    "\n",
    "# 학습 과정의 주요 history를 csv로 저장\n",
    "csvlogger = CSVLogger(\"mylog.csv\")  \n",
    "\n",
    "hist = model.fit(X_train, y_train, validation_split=0.2, epochs=100, callbacks=[es, mc, rlr, csvlogger])"
   ]
  },
  {
   "cell_type": "code",
   "execution_count": 10,
   "metadata": {},
   "outputs": [
    {
     "data": {
      "text/plain": [
       "[0.37092962861061096, 0.9333333373069763]"
      ]
     },
     "execution_count": 10,
     "metadata": {},
     "output_type": "execute_result"
    }
   ],
   "source": [
    "from keras.models import load_model\n",
    "\n",
    "model=load_model('iris_best.h5')  \n",
    "\n",
    "model.evaluate(X_test, y_test, verbose=0)\n",
    "#               loss      accuracy"
   ]
  },
  {
   "cell_type": "code",
   "execution_count": 11,
   "metadata": {},
   "outputs": [
    {
     "data": {
      "image/png": "[encoded data removed]",
      "text/plain": [
       "<Figure size 1200x800 with 1 Axes>"
      ]
     },
     "metadata": {},
     "output_type": "display_data"
    }
   ],
   "source": [
    "import matplotlib.pyplot as plt\n",
    "\n",
    "#그래프 출력\n",
    "plt.figure(figsize=(12,8))\n",
    "\n",
    "plt.plot(hist.history['loss']) #손실률\n",
    "plt.plot(hist.history['accuracy']) #정확도\n",
    "\n",
    "plt.legend(['loss','accuracy'])\n",
    "\n",
    "plt.grid()\n",
    "\n",
    "plt.show()"
   ]
  },
  {
   "cell_type": "code",
   "execution_count": 12,
   "metadata": {},
   "outputs": [
    {
     "name": "stdout",
     "output_type": "stream",
     "text": [
      "정확도 = 0.93\n"
     ]
    }
   ],
   "source": [
    "#모델 평가\n",
    "loss, accuracy = model.evaluate(X_test, y_test,  verbose=0)\n",
    "\n",
    "print(\"정확도 = {:.2f}\".format(accuracy))"
   ]
  },
  {
   "cell_type": "code",
   "execution_count": 15,
   "metadata": {},
   "outputs": [
    {
     "name": "stdout",
     "output_type": "stream",
     "text": [
      "1/1 [==============================] - 0s 17ms/step\n",
      "[[0.02658292 0.49514407 0.47827306]\n",
      " [0.89759415 0.08839136 0.01401457]\n",
      " [0.02269584 0.4485524  0.5287518 ]\n",
      " [0.0157319  0.41976812 0.56450003]\n",
      " [0.09053828 0.5803241  0.32913762]\n",
      " [0.01031966 0.34767473 0.64200556]\n",
      " [0.88028556 0.10242665 0.01728788]\n",
      " [0.00805382 0.29633382 0.6956124 ]\n",
      " [0.00660766 0.30017272 0.69321966]\n",
      " [0.97041345 0.02711822 0.0024683 ]]\n",
      "[1 0 1 2 1 2 0 2 2 0]\n",
      "[1 0 2 2 1 2 0 2 2 0]\n",
      "[[10  0  0]\n",
      " [ 0  8  2]\n",
      " [ 0  0 10]]\n"
     ]
    }
   ],
   "source": [
    "import numpy as np\n",
    "from sklearn.metrics import confusion_matrix\n",
    "\n",
    "pred = model.predict(X_test)\n",
    "print(pred[:10])\n",
    "\n",
    "y_test_class = np.argmax(y_test,axis=1)\n",
    "#                  최댓값의 max\n",
    "pred_class = np.argmax(pred,axis=1)\n",
    "\n",
    "print(y_test_class[:10])\n",
    "print(pred_class[:10])\n",
    "\n",
    "print(confusion_matrix(y_test_class,pred_class))\n",
    "# 0     1      2"
   ]
  },
  {
   "cell_type": "code",
   "execution_count": 14,
   "metadata": {},
   "outputs": [
    {
     "name": "stderr",
     "output_type": "stream",
     "text": [
      "c:\\Python3.9.13\\lib\\site-packages\\keras\\src\\engine\\training.py:3000: UserWarning: You are saving your model as an HDF5 file via `model.save()`. This file format is considered legacy. We recommend using instead the native Keras format, e.g. `model.save('my_model.keras')`.\n",
      "  saving_api.save_model(\n"
     ]
    }
   ],
   "source": [
    "model.save('c:/workspace3/model/iris/iris.h5')"
   ]
  },
  {
   "cell_type": "code",
   "execution_count": null,
   "metadata": {},
   "outputs": [],
   "source": []
  },
  {
   "cell_type": "code",
   "execution_count": null,
   "metadata": {},
   "outputs": [],
   "source": []
  }
 ],
 "metadata": {
  "kernelspec": {
   "display_name": "Python 3",
   "language": "python",
   "name": "python3"
  },
  "language_info": {
   "codemirror_mode": {
    "name": "ipython",
    "version": 3
   },
   "file_extension": ".py",
   "mimetype": "text/x-python",
   "name": "python",
   "nbconvert_exporter": "python",
   "pygments_lexer": "ipython3",
   "version": "3.9.13"
  },
  "orig_nbformat": 4
 },
 "nbformat": 4,
 "nbformat_minor": 2
}
