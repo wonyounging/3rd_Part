{
 "cells": [
  {
   "cell_type": "markdown",
   "metadata": {},
   "source": [
    "### 트랙바"
   ]
  },
  {
   "cell_type": "code",
   "execution_count": 2,
   "metadata": {},
   "outputs": [
    {
     "ename": "error",
     "evalue": "OpenCV(4.8.0) D:\\a\\opencv-python\\opencv-python\\opencv\\modules\\highgui\\src\\window_w32.cpp:2561: error: (-27:Null pointer) NULL window: 'Palette' in function 'cvGetTrackbarPos'\n",
     "output_type": "error",
     "traceback": [
      "\u001b[1;31m---------------------------------------------------------------------------\u001b[0m",
      "\u001b[1;31merror\u001b[0m                                     Traceback (most recent call last)",
      "Cell \u001b[1;32mIn[2], line 21\u001b[0m\n\u001b[0;32m     18\u001b[0m cv2\u001b[39m.\u001b[39mcreateTrackbar(\u001b[39m\"\u001b[39m\u001b[39mRed\u001b[39m\u001b[39m\"\u001b[39m, \u001b[39m\"\u001b[39m\u001b[39mPalette\u001b[39m\u001b[39m\"\u001b[39m, \u001b[39m0\u001b[39m, \u001b[39m255\u001b[39m, \u001b[39mlambda\u001b[39;00m x:x)\n\u001b[0;32m     20\u001b[0m \u001b[39mwhile\u001b[39;00m \u001b[39mTrue\u001b[39;00m:\n\u001b[1;32m---> 21\u001b[0m     g \u001b[39m=\u001b[39m cv2\u001b[39m.\u001b[39;49mgetTrackbarPos(\u001b[39m\"\u001b[39;49m\u001b[39mGreen\u001b[39;49m\u001b[39m\"\u001b[39;49m, \u001b[39m\"\u001b[39;49m\u001b[39mPalette\u001b[39;49m\u001b[39m\"\u001b[39;49m)\n\u001b[0;32m     22\u001b[0m     r \u001b[39m=\u001b[39m cv2\u001b[39m.\u001b[39mgetTrackbarPos(\u001b[39m\"\u001b[39m\u001b[39mRed\u001b[39m\u001b[39m\"\u001b[39m, \u001b[39m\"\u001b[39m\u001b[39mPalette\u001b[39m\u001b[39m\"\u001b[39m)\n\u001b[0;32m     24\u001b[0m     cv2\u001b[39m.\u001b[39mimshow(\u001b[39m\"\u001b[39m\u001b[39mPalette\u001b[39m\u001b[39m\"\u001b[39m, createImage(b, g, r))\n",
      "\u001b[1;31merror\u001b[0m: OpenCV(4.8.0) D:\\a\\opencv-python\\opencv-python\\opencv\\modules\\highgui\\src\\window_w32.cpp:2561: error: (-27:Null pointer) NULL window: 'Palette' in function 'cvGetTrackbarPos'\n"
     ]
    }
   ],
   "source": [
    "import cv2\n",
    "import numpy as np\n",
    "\n",
    "def onChangeBlue(pos):\n",
    "    global b\n",
    "    b = pos\n",
    "    cv2.imshow(\"Palette\", createImage(b, g, r))\n",
    "\n",
    "def createImage(b, g, r):\n",
    "    return np.full((500, 500, 3), (b, g, r), dtype=np.uint8)\n",
    "\n",
    "b, g, r = 0, 0, 0\n",
    "\n",
    "cv2.namedWindow(\"Palette\")\n",
    "\n",
    "cv2.createTrackbar(\"Blue\", \"Palette\", 55, 255, onChangeBlue)\n",
    "cv2.createTrackbar(\"Green\", \"Palette\", 0, 255, lambda x:x)\n",
    "cv2.createTrackbar(\"Red\", \"Palette\", 0, 255, lambda x:x)\n",
    "\n",
    "while True:\n",
    "    g = cv2.getTrackbarPos(\"Green\", \"Palette\")\n",
    "    r = cv2.getTrackbarPos(\"Red\", \"Palette\")\n",
    "\n",
    "    cv2.imshow(\"Palette\", createImage(b, g, r))\n",
    "\n",
    "    if cv2.waitKey(33) & 0xFF == ord('q'):\n",
    "        break\n",
    "\n",
    "cv2.destroyAllWindows()"
   ]
  }
 ],
 "metadata": {
  "kernelspec": {
   "display_name": "Python 3",
   "language": "python",
   "name": "python3"
  },
  "language_info": {
   "codemirror_mode": {
    "name": "ipython",
    "version": 3
   },
   "file_extension": ".py",
   "mimetype": "text/x-python",
   "name": "python",
   "nbconvert_exporter": "python",
   "pygments_lexer": "ipython3",
   "version": "3.9.13"
  },
  "orig_nbformat": 4
 },
 "nbformat": 4,
 "nbformat_minor": 2
}
