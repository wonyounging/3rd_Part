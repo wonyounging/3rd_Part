{
 "cells": [
  {
   "cell_type": "markdown",
   "metadata": {},
   "source": [
    "### X-ray 분류 모형-Male"
   ]
  },
  {
   "cell_type": "code",
   "execution_count": 1,
   "metadata": {},
   "outputs": [
    {
     "name": "stdout",
     "output_type": "stream",
     "text": [
      "[PhysicalDevice(name='/physical_device:GPU:0', device_type='GPU')]\n"
     ]
    }
   ],
   "source": [
    "import tensorflow as tf  \n",
    "\n",
    "gpus = tf.config.experimental.list_physical_devices('GPU')  \n",
    "print(gpus)  \n",
    "\n",
    "if gpus:  \n",
    "    try:\n",
    "        for gpu in gpus:\n",
    "            tf.config.experimental.set_memory_growth(gpu, True)\n",
    "    except RuntimeError as e:\n",
    "        print(e)"
   ]
  },
  {
   "cell_type": "code",
   "execution_count": 10,
   "metadata": {},
   "outputs": [],
   "source": [
    "import glob\n",
    "from PIL import Image\n",
    "import numpy as np\n",
    "import glob\n",
    "\n",
    "all_images=[]\n",
    "all_labels=[]\n",
    "filenames=[]\n",
    "ages=[]\n",
    "\n",
    "img_size=(80,100)\n",
    "\n",
    "for f in glob.glob('c:\\\\workspace3\\\\data\\\\images\\\\xray\\\\**\\\\*.jpg', recursive=True):\n",
    "    arr=f.split('\\\\')\n",
    "    arr2=arr[5].split(\"_\")\n",
    "    if arr2[1]=='M':\n",
    "        img = Image.open(f)\n",
    "        filenames.append(arr[-1])\n",
    "        img_resize = img.resize((img_size[0], img_size[1]))\n",
    "        all_images.append(img_resize)\n",
    "        age=int(arr2[2].replace('yr',''))\n",
    "        ages.append(age)"
   ]
  },
  {
   "cell_type": "code",
   "execution_count": 11,
   "metadata": {},
   "outputs": [
    {
     "data": {
      "text/plain": [
       "['332_M.jpg',\n",
       " '333_M.jpg',\n",
       " '334_M.jpg',\n",
       " '335_M.jpg',\n",
       " '336_M.jpg',\n",
       " '337_M.jpg',\n",
       " '338_M.jpg',\n",
       " '339_M.jpg',\n",
       " '340_M.jpg',\n",
       " '341_M.jpg']"
      ]
     },
     "execution_count": 11,
     "metadata": {},
     "output_type": "execute_result"
    }
   ],
   "source": [
    "filenames[:10]"
   ]
  },
  {
   "cell_type": "code",
   "execution_count": 12,
   "metadata": {},
   "outputs": [
    {
     "data": {
      "text/plain": [
       "[('332_M.jpg', 10, <PIL.Image.Image image mode=RGB size=80x100>),\n",
       " ('333_M.jpg', 10, <PIL.Image.Image image mode=RGB size=80x100>),\n",
       " ('334_M.jpg', 10, <PIL.Image.Image image mode=RGB size=80x100>),\n",
       " ('335_M.jpg', 10, <PIL.Image.Image image mode=RGB size=80x100>),\n",
       " ('336_M.jpg', 10, <PIL.Image.Image image mode=RGB size=80x100>),\n",
       " ('337_M.jpg', 10, <PIL.Image.Image image mode=RGB size=80x100>),\n",
       " ('338_M.jpg', 10, <PIL.Image.Image image mode=RGB size=80x100>),\n",
       " ('339_M.jpg', 10, <PIL.Image.Image image mode=RGB size=80x100>),\n",
       " ('340_M.jpg', 10, <PIL.Image.Image image mode=RGB size=80x100>),\n",
       " ('341_M.jpg', 10, <PIL.Image.Image image mode=RGB size=80x100>)]"
      ]
     },
     "execution_count": 12,
     "metadata": {},
     "output_type": "execute_result"
    }
   ],
   "source": [
    "items=list(zip(filenames,ages,all_images))\n",
    "items[:10]"
   ]
  },
  {
   "cell_type": "code",
   "execution_count": 13,
   "metadata": {},
   "outputs": [
    {
     "data": {
      "text/plain": [
       "665"
      ]
     },
     "execution_count": 13,
     "metadata": {},
     "output_type": "execute_result"
    }
   ],
   "source": [
    "len(all_images)"
   ]
  },
  {
   "cell_type": "code",
   "execution_count": 14,
   "metadata": {},
   "outputs": [
    {
     "data": {
      "text/plain": [
       "(100, 80, 3)"
      ]
     },
     "execution_count": 14,
     "metadata": {},
     "output_type": "execute_result"
    }
   ],
   "source": [
    "np.array(all_images[0]).shape"
   ]
  },
  {
   "cell_type": "code",
   "execution_count": 15,
   "metadata": {},
   "outputs": [
    {
     "data": {
      "text/plain": [
       "(666, 80, 100, 3)"
      ]
     },
     "execution_count": 15,
     "metadata": {},
     "output_type": "execute_result"
    }
   ],
   "source": [
    "X=np.empty((1,img_size[0],img_size[1],3))\n",
    "\n",
    "for img in all_images:\n",
    "    X=np.vstack((X,np.array(img).reshape(1,img_size[0],img_size[1],3)))\n",
    "\n",
    "X.shape    "
   ]
  },
  {
   "cell_type": "code",
   "execution_count": 16,
   "metadata": {},
   "outputs": [],
   "source": [
    "X = np.delete(X, (0), axis=0)"
   ]
  },
  {
   "cell_type": "code",
   "execution_count": 17,
   "metadata": {},
   "outputs": [
    {
     "data": {
      "text/plain": [
       "(665, 80, 100, 3)"
      ]
     },
     "execution_count": 17,
     "metadata": {},
     "output_type": "execute_result"
    }
   ],
   "source": [
    "X.shape"
   ]
  },
  {
   "cell_type": "code",
   "execution_count": 18,
   "metadata": {},
   "outputs": [
    {
     "data": {
      "text/plain": [
       "array([10, 10, 10, 10, 10, 10, 10, 10, 10, 10])"
      ]
     },
     "execution_count": 18,
     "metadata": {},
     "output_type": "execute_result"
    }
   ],
   "source": [
    "y=np.array(ages)\n",
    "y[:10]"
   ]
  },
  {
   "cell_type": "code",
   "execution_count": 19,
   "metadata": {},
   "outputs": [
    {
     "data": {
      "image/png": "[encoded data removed]",
      "text/plain": [
       "<Figure size 640x480 with 1 Axes>"
      ]
     },
     "metadata": {},
     "output_type": "display_data"
    }
   ],
   "source": [
    "import matplotlib.pyplot as plt\n",
    "\n",
    "plt.imshow(all_images[0])\n",
    "\n",
    "plt.show()"
   ]
  },
  {
   "cell_type": "code",
   "execution_count": 20,
   "metadata": {},
   "outputs": [
    {
     "data": {
      "text/plain": [
       "((532, 80, 100, 3), (133, 80, 100, 3), (532,), (133,))"
      ]
     },
     "execution_count": 20,
     "metadata": {},
     "output_type": "execute_result"
    }
   ],
   "source": [
    "from sklearn.model_selection import train_test_split\n",
    "\n",
    "X_train, X_test, y_train, y_test = train_test_split(X, y, test_size=0.2, stratify=y, shuffle=True,  random_state=10)\n",
    "X_train.shape, X_test.shape, y_train.shape, y_test.shape"
   ]
  },
  {
   "cell_type": "code",
   "execution_count": 21,
   "metadata": {},
   "outputs": [
    {
     "data": {
      "text/plain": [
       "4     40\n",
       "5     40\n",
       "6     40\n",
       "7     40\n",
       "8     40\n",
       "9     40\n",
       "10    40\n",
       "11    40\n",
       "12    40\n",
       "13    40\n",
       "14    40\n",
       "15    36\n",
       "3     25\n",
       "16    24\n",
       "17     7\n",
       "Name: count, dtype: int64"
      ]
     },
     "execution_count": 21,
     "metadata": {},
     "output_type": "execute_result"
    }
   ],
   "source": [
    "import pandas as pd\n",
    "\n",
    "pd.DataFrame(y_train).value_counts()"
   ]
  },
  {
   "cell_type": "code",
   "execution_count": 22,
   "metadata": {},
   "outputs": [],
   "source": [
    "X_train=X_train.reshape(-1,img_size[0]*img_size[1]*3)\n",
    "X_test=X_test.reshape(-1,img_size[0]*img_size[1]*3)"
   ]
  },
  {
   "cell_type": "code",
   "execution_count": 23,
   "metadata": {},
   "outputs": [],
   "source": [
    "X_train=X_train/255.\n",
    "X_test=X_test/255."
   ]
  },
  {
   "cell_type": "code",
   "execution_count": 24,
   "metadata": {},
   "outputs": [],
   "source": [
    "X_train=X_train.reshape(-1,img_size[0],img_size[1],3)\n",
    "X_test=X_test.reshape(-1,img_size[0],img_size[1],3)"
   ]
  },
  {
   "cell_type": "code",
   "execution_count": 25,
   "metadata": {},
   "outputs": [],
   "source": [
    "from tensorflow.keras import utils\n",
    "\n",
    "y_train_backup=y_train\n",
    "y_test_backup=y_test"
   ]
  },
  {
   "cell_type": "code",
   "execution_count": 26,
   "metadata": {},
   "outputs": [
    {
     "name": "stdout",
     "output_type": "stream",
     "text": [
      "Model: \"sequential\"\n",
      "_________________________________________________________________\n",
      " Layer (type)                Output Shape              Param #   \n",
      "=================================================================\n",
      " conv2d (Conv2D)             (None, 80, 100, 64)       1792      \n",
      "                                                                 \n",
      " max_pooling2d (MaxPooling2D  (None, 40, 50, 64)       0         \n",
      " )                                                               \n",
      "                                                                 \n",
      " conv2d_1 (Conv2D)           (None, 38, 48, 64)        36928     \n",
      "                                                                 \n",
      " max_pooling2d_1 (MaxPooling  (None, 19, 24, 64)       0         \n",
      " 2D)                                                             \n",
      "                                                                 \n",
      " conv2d_2 (Conv2D)           (None, 17, 22, 64)        36928     \n",
      "                                                                 \n",
      " flatten (Flatten)           (None, 23936)             0         \n",
      "                                                                 \n",
      " dense (Dense)               (None, 64)                1531968   \n",
      "                                                                 \n",
      " dense_1 (Dense)             (None, 1)                 65        \n",
      "                                                                 \n",
      "=================================================================\n",
      "Total params: 1,607,681\n",
      "Trainable params: 1,607,681\n",
      "Non-trainable params: 0\n",
      "_________________________________________________________________\n"
     ]
    }
   ],
   "source": [
    "from keras.models import Sequential\n",
    "from keras.layers import Conv2D, MaxPooling2D, Dense, Flatten\n",
    "\n",
    "model=Sequential()\n",
    "\n",
    "model.add(Conv2D(64,(3,3),padding=\"same\", input_shape=X_train.shape[1:],activation='relu'))\n",
    "model.add(MaxPooling2D(2,2))\n",
    "\n",
    "model.add(Conv2D(64,(3,3),activation=\"relu\"))\n",
    "model.add(MaxPooling2D(2,2))\n",
    "\n",
    "model.add(Conv2D(64,(3,3),activation=\"relu\"))\n",
    "model.add(Flatten())\n",
    "\n",
    "model.add(Dense(64,activation=\"relu\"))\n",
    "model.add(Dense(1))          \n",
    "\n",
    "model.compile(optimizer=\"rmsprop\", loss=\"mae\",metrics=[\"mae\"])\n",
    "\n",
    "model.summary()"
   ]
  },
  {
   "cell_type": "code",
   "execution_count": 27,
   "metadata": {},
   "outputs": [
    {
     "data": {
      "text/plain": [
       "((532, 80, 100, 3), (532,), (133, 80, 100, 3), (133,))"
      ]
     },
     "execution_count": 27,
     "metadata": {},
     "output_type": "execute_result"
    }
   ],
   "source": [
    "X_train.shape, y_train.shape, X_test.shape, y_test.shape"
   ]
  },
  {
   "cell_type": "code",
   "execution_count": 28,
   "metadata": {},
   "outputs": [
    {
     "name": "stdout",
     "output_type": "stream",
     "text": [
      "Epoch 1/30\n",
      "14/14 [==============================] - ETA: 0s - loss: 6.5353 - mae: 6.5353\n",
      "Epoch 1: val_loss improved from inf to 3.36905, saving model to c:/data/model\\xray_m_best.h5\n",
      "14/14 [==============================] - 4s 79ms/step - loss: 6.5353 - mae: 6.5353 - val_loss: 3.3691 - val_mae: 3.3691\n",
      "Epoch 2/30\n",
      "13/14 [==========================>...] - ETA: 0s - loss: 3.7815 - mae: 3.7815\n",
      "Epoch 2: val_loss improved from 3.36905 to 3.21816, saving model to c:/data/model\\xray_m_best.h5\n",
      "14/14 [==============================] - 1s 43ms/step - loss: 3.8217 - mae: 3.8217 - val_loss: 3.2182 - val_mae: 3.2182\n",
      "Epoch 3/30\n",
      "13/14 [==========================>...] - ETA: 0s - loss: 3.9277 - mae: 3.9277\n",
      "Epoch 3: val_loss did not improve from 3.21816\n",
      "14/14 [==============================] - 1s 38ms/step - loss: 3.9189 - mae: 3.9189 - val_loss: 3.5597 - val_mae: 3.5597\n",
      "Epoch 4/30\n",
      "13/14 [==========================>...] - ETA: 0s - loss: 3.8387 - mae: 3.8387\n",
      "Epoch 4: val_loss improved from 3.21816 to 3.12194, saving model to c:/data/model\\xray_m_best.h5\n",
      "14/14 [==============================] - 1s 42ms/step - loss: 3.8192 - mae: 3.8192 - val_loss: 3.1219 - val_mae: 3.1219\n",
      "Epoch 5/30\n",
      "13/14 [==========================>...] - ETA: 0s - loss: 3.3924 - mae: 3.3924\n",
      "Epoch 5: val_loss improved from 3.12194 to 3.05321, saving model to c:/data/model\\xray_m_best.h5\n",
      "14/14 [==============================] - 1s 40ms/step - loss: 3.4142 - mae: 3.4142 - val_loss: 3.0532 - val_mae: 3.0532\n",
      "Epoch 6/30\n",
      "13/14 [==========================>...] - ETA: 0s - loss: 3.2558 - mae: 3.2558\n",
      "Epoch 6: val_loss did not improve from 3.05321\n",
      "14/14 [==============================] - 1s 43ms/step - loss: 3.2833 - mae: 3.2833 - val_loss: 4.1328 - val_mae: 4.1328\n",
      "Epoch 7/30\n",
      "13/14 [==========================>...] - ETA: 0s - loss: 3.3891 - mae: 3.3891\n",
      "Epoch 7: val_loss did not improve from 3.05321\n",
      "14/14 [==============================] - 1s 37ms/step - loss: 3.3663 - mae: 3.3663 - val_loss: 6.6690 - val_mae: 6.6690\n",
      "Epoch 8/30\n",
      "13/14 [==========================>...] - ETA: 0s - loss: 3.8956 - mae: 3.8956\n",
      "Epoch 8: val_loss did not improve from 3.05321\n",
      "14/14 [==============================] - 1s 37ms/step - loss: 3.8788 - mae: 3.8788 - val_loss: 3.8454 - val_mae: 3.8454\n",
      "Epoch 9/30\n",
      "13/14 [==========================>...] - ETA: 0s - loss: 3.4292 - mae: 3.4292\n",
      "Epoch 9: val_loss improved from 3.05321 to 3.01607, saving model to c:/data/model\\xray_m_best.h5\n",
      "14/14 [==============================] - 1s 41ms/step - loss: 3.4383 - mae: 3.4383 - val_loss: 3.0161 - val_mae: 3.0161\n",
      "Epoch 10/30\n",
      "13/14 [==========================>...] - ETA: 0s - loss: 3.1452 - mae: 3.1452\n",
      "Epoch 10: val_loss did not improve from 3.01607\n",
      "14/14 [==============================] - 1s 38ms/step - loss: 3.1497 - mae: 3.1497 - val_loss: 4.1065 - val_mae: 4.1065\n",
      "Epoch 11/30\n",
      "13/14 [==========================>...] - ETA: 0s - loss: 3.1329 - mae: 3.1329\n",
      "Epoch 11: val_loss did not improve from 3.01607\n",
      "14/14 [==============================] - 1s 38ms/step - loss: 3.1137 - mae: 3.1137 - val_loss: 3.1561 - val_mae: 3.1561\n",
      "Epoch 12/30\n",
      "13/14 [==========================>...] - ETA: 0s - loss: 3.2426 - mae: 3.2426\n",
      "Epoch 12: val_loss did not improve from 3.01607\n",
      "14/14 [==============================] - 1s 38ms/step - loss: 3.2289 - mae: 3.2289 - val_loss: 4.5448 - val_mae: 4.5448\n",
      "Epoch 13/30\n",
      "13/14 [==========================>...] - ETA: 0s - loss: 3.1365 - mae: 3.1365\n",
      "Epoch 13: val_loss improved from 3.01607 to 2.61746, saving model to c:/data/model\\xray_m_best.h5\n",
      "14/14 [==============================] - 1s 42ms/step - loss: 3.2190 - mae: 3.2190 - val_loss: 2.6175 - val_mae: 2.6175\n",
      "Epoch 14/30\n",
      "13/14 [==========================>...] - ETA: 0s - loss: 2.6464 - mae: 2.6464\n",
      "Epoch 14: val_loss improved from 2.61746 to 2.24662, saving model to c:/data/model\\xray_m_best.h5\n",
      "14/14 [==============================] - 1s 43ms/step - loss: 2.6748 - mae: 2.6748 - val_loss: 2.2466 - val_mae: 2.2466\n",
      "Epoch 15/30\n",
      "13/14 [==========================>...] - ETA: 0s - loss: 2.7466 - mae: 2.7466\n",
      "Epoch 15: val_loss did not improve from 2.24662\n",
      "14/14 [==============================] - 1s 37ms/step - loss: 2.7379 - mae: 2.7379 - val_loss: 4.5973 - val_mae: 4.5973\n",
      "Epoch 16/30\n",
      "13/14 [==========================>...] - ETA: 0s - loss: 2.8610 - mae: 2.8610\n",
      "Epoch 16: val_loss did not improve from 2.24662\n",
      "14/14 [==============================] - 1s 38ms/step - loss: 2.8376 - mae: 2.8376 - val_loss: 2.8910 - val_mae: 2.8910\n",
      "Epoch 17/30\n",
      "13/14 [==========================>...] - ETA: 0s - loss: 2.5992 - mae: 2.5992\n",
      "Epoch 17: val_loss did not improve from 2.24662\n",
      "14/14 [==============================] - 1s 38ms/step - loss: 2.5937 - mae: 2.5937 - val_loss: 2.2726 - val_mae: 2.2726\n",
      "Epoch 18/30\n",
      "13/14 [==========================>...] - ETA: 0s - loss: 2.6251 - mae: 2.6251\n",
      "Epoch 18: val_loss did not improve from 2.24662\n",
      "14/14 [==============================] - 1s 39ms/step - loss: 2.6154 - mae: 2.6154 - val_loss: 2.9399 - val_mae: 2.9399\n",
      "Epoch 19/30\n",
      "13/14 [==========================>...] - ETA: 0s - loss: 2.5349 - mae: 2.5349\n",
      "Epoch 19: val_loss did not improve from 2.24662\n",
      "14/14 [==============================] - 1s 38ms/step - loss: 2.5423 - mae: 2.5423 - val_loss: 2.6610 - val_mae: 2.6610\n",
      "Epoch 20/30\n",
      "13/14 [==========================>...] - ETA: 0s - loss: 2.5647 - mae: 2.5647\n",
      "Epoch 20: val_loss improved from 2.24662 to 2.09339, saving model to c:/data/model\\xray_m_best.h5\n",
      "14/14 [==============================] - 1s 43ms/step - loss: 2.5410 - mae: 2.5410 - val_loss: 2.0934 - val_mae: 2.0934\n",
      "Epoch 21/30\n",
      "14/14 [==============================] - ETA: 0s - loss: 2.1028 - mae: 2.1028\n",
      "Epoch 21: val_loss improved from 2.09339 to 1.64636, saving model to c:/data/model\\xray_m_best.h5\n",
      "14/14 [==============================] - 1s 45ms/step - loss: 2.1028 - mae: 2.1028 - val_loss: 1.6464 - val_mae: 1.6464\n",
      "Epoch 22/30\n",
      "13/14 [==========================>...] - ETA: 0s - loss: 2.2907 - mae: 2.2907\n",
      "Epoch 22: val_loss did not improve from 1.64636\n",
      "14/14 [==============================] - 1s 39ms/step - loss: 2.2783 - mae: 2.2783 - val_loss: 1.8223 - val_mae: 1.8223\n",
      "Epoch 23/30\n",
      "13/14 [==========================>...] - ETA: 0s - loss: 2.1127 - mae: 2.1127\n",
      "Epoch 23: val_loss did not improve from 1.64636\n",
      "14/14 [==============================] - 1s 40ms/step - loss: 2.1049 - mae: 2.1049 - val_loss: 3.1327 - val_mae: 3.1327\n",
      "Epoch 24/30\n",
      "13/14 [==========================>...] - ETA: 0s - loss: 1.9841 - mae: 1.9841\n",
      "Epoch 24: val_loss did not improve from 1.64636\n",
      "14/14 [==============================] - 1s 41ms/step - loss: 1.9923 - mae: 1.9923 - val_loss: 2.4649 - val_mae: 2.4649\n",
      "Epoch 25/30\n",
      "13/14 [==========================>...] - ETA: 0s - loss: 2.1695 - mae: 2.1695\n",
      "Epoch 25: val_loss did not improve from 1.64636\n",
      "14/14 [==============================] - 1s 38ms/step - loss: 2.1511 - mae: 2.1511 - val_loss: 1.9564 - val_mae: 1.9564\n",
      "Epoch 26/30\n",
      "13/14 [==========================>...] - ETA: 0s - loss: 2.1896 - mae: 2.1896\n",
      "Epoch 26: val_loss did not improve from 1.64636\n",
      "14/14 [==============================] - 1s 38ms/step - loss: 2.1845 - mae: 2.1845 - val_loss: 2.9459 - val_mae: 2.9459\n",
      "Epoch 27/30\n",
      "13/14 [==========================>...] - ETA: 0s - loss: 1.9121 - mae: 1.9121\n",
      "Epoch 27: val_loss did not improve from 1.64636\n",
      "14/14 [==============================] - 1s 39ms/step - loss: 1.9301 - mae: 1.9301 - val_loss: 1.6545 - val_mae: 1.6545\n",
      "Epoch 28/30\n",
      "13/14 [==========================>...] - ETA: 0s - loss: 1.9057 - mae: 1.9057\n",
      "Epoch 28: val_loss did not improve from 1.64636\n",
      "14/14 [==============================] - 1s 39ms/step - loss: 1.8981 - mae: 1.8981 - val_loss: 1.9592 - val_mae: 1.9592\n",
      "Epoch 29/30\n",
      "13/14 [==========================>...] - ETA: 0s - loss: 1.8683 - mae: 1.8683\n",
      "Epoch 29: val_loss improved from 1.64636 to 1.54007, saving model to c:/data/model\\xray_m_best.h5\n",
      "14/14 [==============================] - 1s 42ms/step - loss: 1.8646 - mae: 1.8646 - val_loss: 1.5401 - val_mae: 1.5401\n",
      "Epoch 30/30\n",
      "13/14 [==========================>...] - ETA: 0s - loss: 1.6780 - mae: 1.6780\n",
      "Epoch 30: val_loss did not improve from 1.54007\n",
      "14/14 [==============================] - 1s 38ms/step - loss: 1.6775 - mae: 1.6775 - val_loss: 3.7787 - val_mae: 3.7787\n"
     ]
    }
   ],
   "source": [
    "from keras.callbacks import ModelCheckpoint\n",
    "\n",
    "checkpoint = ModelCheckpoint(\"c:/data/model/xray_m_best.h5\", monitor='val_loss', verbose=1, save_best_only=True, mode='min')\n",
    "hist = model.fit(X_train, y_train, batch_size=32, validation_split=0.2, epochs=30, callbacks=[checkpoint])"
   ]
  },
  {
   "cell_type": "code",
   "execution_count": 29,
   "metadata": {},
   "outputs": [
    {
     "data": {
      "image/png": "[encoded data removed]",
      "text/plain": [
       "<Figure size 1200x800 with 1 Axes>"
      ]
     },
     "metadata": {},
     "output_type": "display_data"
    }
   ],
   "source": [
    "plt.figure(figsize=(12,8))\n",
    "\n",
    "plt.plot(hist.history['loss'])\n",
    "plt.plot(hist.history['val_loss'])\n",
    "plt.legend(['loss','val_loss'])\n",
    "plt.grid()\n",
    "\n",
    "plt.show()"
   ]
  },
  {
   "cell_type": "code",
   "execution_count": 30,
   "metadata": {},
   "outputs": [
    {
     "name": "stdout",
     "output_type": "stream",
     "text": [
      "17/17 [==============================] - 0s 17ms/step - loss: 1.4042 - mae: 1.4042\n",
      "[1.4042352437973022, 1.4042352437973022]\n"
     ]
    }
   ],
   "source": [
    "from tensorflow.keras.models import load_model\n",
    "\n",
    "model = load_model('c:/data/model/xray_m_best.h5')\n",
    "scores = model.evaluate(X_train, y_train, verbose=1)\n",
    "print(scores)"
   ]
  },
  {
   "cell_type": "code",
   "execution_count": 31,
   "metadata": {},
   "outputs": [
    {
     "name": "stdout",
     "output_type": "stream",
     "text": [
      "5/5 [==============================] - 0s 28ms/step\n"
     ]
    },
    {
     "data": {
      "text/plain": [
       "array([[ 9.084891 ],\n",
       "       [ 4.6043096],\n",
       "       [11.839683 ],\n",
       "       [12.61987  ],\n",
       "       [ 4.583878 ]], dtype=float32)"
      ]
     },
     "execution_count": 31,
     "metadata": {},
     "output_type": "execute_result"
    }
   ],
   "source": [
    "pred=model.predict(X_test)\n",
    "pred[:5]"
   ]
  },
  {
   "cell_type": "code",
   "execution_count": 32,
   "metadata": {},
   "outputs": [
    {
     "data": {
      "text/plain": [
       "array([10,  9, 13, 11,  5])"
      ]
     },
     "execution_count": 32,
     "metadata": {},
     "output_type": "execute_result"
    }
   ],
   "source": [
    "y_test[:5]"
   ]
  },
  {
   "cell_type": "code",
   "execution_count": null,
   "metadata": {},
   "outputs": [],
   "source": []
  }
 ],
 "metadata": {
  "kernelspec": {
   "display_name": "Python 3",
   "language": "python",
   "name": "python3"
  },
  "language_info": {
   "codemirror_mode": {
    "name": "ipython",
    "version": 3
   },
   "file_extension": ".py",
   "mimetype": "text/x-python",
   "name": "python",
   "nbconvert_exporter": "python",
   "pygments_lexer": "ipython3",
   "version": "3.9.13"
  },
  "orig_nbformat": 4
 },
 "nbformat": 4,
 "nbformat_minor": 2
}
