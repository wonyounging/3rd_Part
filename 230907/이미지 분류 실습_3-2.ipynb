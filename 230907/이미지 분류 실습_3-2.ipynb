{
 "cells": [
  {
   "cell_type": "markdown",
   "metadata": {},
   "source": [
    "### X-ray 분류 모형-Female"
   ]
  },
  {
   "cell_type": "code",
   "execution_count": 1,
   "metadata": {},
   "outputs": [
    {
     "name": "stdout",
     "output_type": "stream",
     "text": [
      "[PhysicalDevice(name='/physical_device:GPU:0', device_type='GPU')]\n"
     ]
    }
   ],
   "source": [
    "import tensorflow as tf  \n",
    "\n",
    "gpus = tf.config.experimental.list_physical_devices('GPU')  \n",
    "print(gpus)  \n",
    "\n",
    "if gpus:  \n",
    "    try:\n",
    "        for gpu in gpus:\n",
    "            tf.config.experimental.set_memory_growth(gpu, True)\n",
    "    except RuntimeError as e:\n",
    "        print(e)"
   ]
  },
  {
   "cell_type": "code",
   "execution_count": 2,
   "metadata": {},
   "outputs": [],
   "source": [
    "import glob\n",
    "from PIL import Image\n",
    "import numpy as np\n",
    "import glob\n",
    "\n",
    "all_images=[]\n",
    "all_labels=[]\n",
    "filenames=[]\n",
    "ages=[]\n",
    "\n",
    "img_size=(80,100)\n",
    "\n",
    "for f in glob.glob('c:\\\\workspace3\\\\data\\\\images\\\\xray\\\\**\\\\*.jpg', recursive=True):\n",
    "    arr=f.split('\\\\')\n",
    "    arr2=arr[5].split(\"_\")\n",
    "    if arr2[1]=='F':\n",
    "        img = Image.open(f)\n",
    "        filenames.append(arr[-1])\n",
    "        img_resize = img.resize((img_size[0], img_size[1]))\n",
    "        all_images.append(img_resize)\n",
    "        age=int(arr2[2].replace('yr',''))\n",
    "        ages.append(age)"
   ]
  },
  {
   "cell_type": "code",
   "execution_count": 3,
   "metadata": {},
   "outputs": [
    {
     "data": {
      "text/plain": [
       "['310_F.jpg',\n",
       " '311_F.jpg',\n",
       " '312_F.jpg',\n",
       " '313_F.jpg',\n",
       " '314_F.jpg',\n",
       " '315_F.jpg',\n",
       " '316_F.jpg',\n",
       " '317_F.jpg',\n",
       " '318_F.jpg',\n",
       " '319_F.jpg']"
      ]
     },
     "execution_count": 3,
     "metadata": {},
     "output_type": "execute_result"
    }
   ],
   "source": [
    "filenames[:10]"
   ]
  },
  {
   "cell_type": "code",
   "execution_count": 4,
   "metadata": {},
   "outputs": [
    {
     "data": {
      "text/plain": [
       "[('310_F.jpg', 10, <PIL.Image.Image image mode=RGB size=80x100>),\n",
       " ('311_F.jpg', 10, <PIL.Image.Image image mode=RGB size=80x100>),\n",
       " ('312_F.jpg', 10, <PIL.Image.Image image mode=RGB size=80x100>),\n",
       " ('313_F.jpg', 10, <PIL.Image.Image image mode=RGB size=80x100>),\n",
       " ('314_F.jpg', 10, <PIL.Image.Image image mode=RGB size=80x100>),\n",
       " ('315_F.jpg', 10, <PIL.Image.Image image mode=RGB size=80x100>),\n",
       " ('316_F.jpg', 10, <PIL.Image.Image image mode=RGB size=80x100>),\n",
       " ('317_F.jpg', 10, <PIL.Image.Image image mode=RGB size=80x100>),\n",
       " ('318_F.jpg', 10, <PIL.Image.Image image mode=RGB size=80x100>),\n",
       " ('319_F.jpg', 10, <PIL.Image.Image image mode=RGB size=80x100>)]"
      ]
     },
     "execution_count": 4,
     "metadata": {},
     "output_type": "execute_result"
    }
   ],
   "source": [
    "items=list(zip(filenames,ages,all_images))\n",
    "items[:10]"
   ]
  },
  {
   "cell_type": "code",
   "execution_count": 5,
   "metadata": {},
   "outputs": [
    {
     "data": {
      "text/plain": [
       "572"
      ]
     },
     "execution_count": 5,
     "metadata": {},
     "output_type": "execute_result"
    }
   ],
   "source": [
    "len(all_images)"
   ]
  },
  {
   "cell_type": "code",
   "execution_count": 6,
   "metadata": {},
   "outputs": [
    {
     "data": {
      "text/plain": [
       "(100, 80, 3)"
      ]
     },
     "execution_count": 6,
     "metadata": {},
     "output_type": "execute_result"
    }
   ],
   "source": [
    "np.array(all_images[0]).shape"
   ]
  },
  {
   "cell_type": "code",
   "execution_count": 7,
   "metadata": {},
   "outputs": [
    {
     "data": {
      "text/plain": [
       "(573, 80, 100, 3)"
      ]
     },
     "execution_count": 7,
     "metadata": {},
     "output_type": "execute_result"
    }
   ],
   "source": [
    "X=np.empty((1,img_size[0],img_size[1],3))\n",
    "\n",
    "for img in all_images:\n",
    "    X=np.vstack((X,np.array(img).reshape(1,img_size[0],img_size[1],3)))\n",
    "\n",
    "X.shape"
   ]
  },
  {
   "cell_type": "code",
   "execution_count": 8,
   "metadata": {},
   "outputs": [],
   "source": [
    "X = np.delete(X, (0), axis=0)"
   ]
  },
  {
   "cell_type": "code",
   "execution_count": 9,
   "metadata": {},
   "outputs": [
    {
     "data": {
      "text/plain": [
       "(572, 80, 100, 3)"
      ]
     },
     "execution_count": 9,
     "metadata": {},
     "output_type": "execute_result"
    }
   ],
   "source": [
    "X.shape  "
   ]
  },
  {
   "cell_type": "code",
   "execution_count": 10,
   "metadata": {},
   "outputs": [
    {
     "data": {
      "text/plain": [
       "array([10, 10, 10, 10, 10, 10, 10, 10, 10, 10])"
      ]
     },
     "execution_count": 10,
     "metadata": {},
     "output_type": "execute_result"
    }
   ],
   "source": [
    "y=np.array(ages)\n",
    "y[:10]"
   ]
  },
  {
   "cell_type": "code",
   "execution_count": 11,
   "metadata": {},
   "outputs": [
    {
     "data": {
      "image/png": "[encoded data removed]",
      "text/plain": [
       "<Figure size 640x480 with 1 Axes>"
      ]
     },
     "metadata": {},
     "output_type": "display_data"
    }
   ],
   "source": [
    "import matplotlib.pyplot as plt\n",
    "\n",
    "plt.imshow(all_images[0])\n",
    "plt.show()"
   ]
  },
  {
   "cell_type": "code",
   "execution_count": 12,
   "metadata": {},
   "outputs": [
    {
     "data": {
      "text/plain": [
       "((457, 80, 100, 3), (115, 80, 100, 3), (457,), (115,))"
      ]
     },
     "execution_count": 12,
     "metadata": {},
     "output_type": "execute_result"
    }
   ],
   "source": [
    "from sklearn.model_selection import train_test_split\n",
    "\n",
    "X_train, X_test, y_train, y_test = train_test_split(X, y, test_size=0.2, stratify=y, shuffle=True,  random_state=10)\n",
    "X_train.shape, X_test.shape, y_train.shape, y_test.shape"
   ]
  },
  {
   "cell_type": "code",
   "execution_count": 13,
   "metadata": {},
   "outputs": [
    {
     "data": {
      "text/plain": [
       "5     49\n",
       "6     40\n",
       "8     40\n",
       "9     40\n",
       "10    40\n",
       "11    40\n",
       "12    40\n",
       "7     37\n",
       "13    36\n",
       "14    29\n",
       "4     26\n",
       "3     15\n",
       "15    15\n",
       "16    10\n",
       "Name: count, dtype: int64"
      ]
     },
     "execution_count": 13,
     "metadata": {},
     "output_type": "execute_result"
    }
   ],
   "source": [
    "import pandas as pd\n",
    "\n",
    "pd.DataFrame(y_train).value_counts()"
   ]
  },
  {
   "cell_type": "code",
   "execution_count": 14,
   "metadata": {},
   "outputs": [],
   "source": [
    "X_train=X_train.reshape(-1,img_size[0]*img_size[1]*3)\n",
    "X_test=X_test.reshape(-1,img_size[0]*img_size[1]*3)"
   ]
  },
  {
   "cell_type": "code",
   "execution_count": 15,
   "metadata": {},
   "outputs": [],
   "source": [
    "X_train=X_train/255.\n",
    "X_test=X_test/255."
   ]
  },
  {
   "cell_type": "code",
   "execution_count": 16,
   "metadata": {},
   "outputs": [],
   "source": [
    "X_train=X_train.reshape(-1,img_size[0],img_size[1],3)\n",
    "X_test=X_test.reshape(-1,img_size[0],img_size[1],3)"
   ]
  },
  {
   "cell_type": "code",
   "execution_count": 17,
   "metadata": {},
   "outputs": [],
   "source": [
    "from tensorflow.keras import utils\n",
    "\n",
    "y_train_backup=y_train\n",
    "y_test_backup=y_test"
   ]
  },
  {
   "cell_type": "code",
   "execution_count": 18,
   "metadata": {},
   "outputs": [
    {
     "name": "stdout",
     "output_type": "stream",
     "text": [
      "Model: \"sequential\"\n",
      "_________________________________________________________________\n",
      " Layer (type)                Output Shape              Param #   \n",
      "=================================================================\n",
      " conv2d (Conv2D)             (None, 80, 100, 64)       1792      \n",
      "                                                                 \n",
      " max_pooling2d (MaxPooling2D  (None, 40, 50, 64)       0         \n",
      " )                                                               \n",
      "                                                                 \n",
      " conv2d_1 (Conv2D)           (None, 38, 48, 64)        36928     \n",
      "                                                                 \n",
      " max_pooling2d_1 (MaxPooling  (None, 19, 24, 64)       0         \n",
      " 2D)                                                             \n",
      "                                                                 \n",
      " conv2d_2 (Conv2D)           (None, 17, 22, 64)        36928     \n",
      "                                                                 \n",
      " flatten (Flatten)           (None, 23936)             0         \n",
      "                                                                 \n",
      " dense (Dense)               (None, 64)                1531968   \n",
      "                                                                 \n",
      " dense_1 (Dense)             (None, 1)                 65        \n",
      "                                                                 \n",
      "=================================================================\n",
      "Total params: 1,607,681\n",
      "Trainable params: 1,607,681\n",
      "Non-trainable params: 0\n",
      "_________________________________________________________________\n"
     ]
    }
   ],
   "source": [
    "from keras.models import Sequential\n",
    "from keras.layers import Conv2D, MaxPooling2D, Dense,Flatten\n",
    "\n",
    "model=Sequential()\n",
    "\n",
    "model.add(Conv2D(64,(3,3),padding=\"same\", input_shape=X_train.shape[1:],activation='relu'))\n",
    "model.add(MaxPooling2D(2,2))\n",
    "\n",
    "model.add(Conv2D(64,(3,3),activation=\"relu\"))\n",
    "model.add(MaxPooling2D(2,2))\n",
    "\n",
    "model.add(Conv2D(64,(3,3),activation=\"relu\"))\n",
    "model.add(Flatten())\n",
    "\n",
    "model.add(Dense(64,activation=\"relu\"))\n",
    "model.add(Dense(1))          \n",
    "\n",
    "model.compile(optimizer=\"rmsprop\", loss=\"mae\",metrics=[\"mae\"])\n",
    "\n",
    "model.summary()"
   ]
  },
  {
   "cell_type": "code",
   "execution_count": 19,
   "metadata": {},
   "outputs": [
    {
     "data": {
      "text/plain": [
       "((457, 80, 100, 3), (457,), (115, 80, 100, 3), (115,))"
      ]
     },
     "execution_count": 19,
     "metadata": {},
     "output_type": "execute_result"
    }
   ],
   "source": [
    "X_train.shape, y_train.shape, X_test.shape, y_test.shape"
   ]
  },
  {
   "cell_type": "code",
   "execution_count": 20,
   "metadata": {},
   "outputs": [
    {
     "name": "stdout",
     "output_type": "stream",
     "text": [
      "Epoch 1/30\n",
      "12/12 [==============================] - ETA: 0s - loss: 6.3224 - mae: 6.3224\n",
      "Epoch 1: val_loss improved from inf to 3.39190, saving model to c:/data/model\\xray_f_best.h5\n",
      "12/12 [==============================] - 3s 82ms/step - loss: 6.3224 - mae: 6.3224 - val_loss: 3.3919 - val_mae: 3.3919\n",
      "Epoch 2/30\n",
      "11/12 [==========================>...] - ETA: 0s - loss: 3.2517 - mae: 3.2517\n",
      "Epoch 2: val_loss improved from 3.39190 to 2.86877, saving model to c:/data/model\\xray_f_best.h5\n",
      "12/12 [==============================] - 1s 70ms/step - loss: 3.2496 - mae: 3.2496 - val_loss: 2.8688 - val_mae: 2.8688\n",
      "Epoch 3/30\n",
      "11/12 [==========================>...] - ETA: 0s - loss: 3.6675 - mae: 3.6675\n",
      "Epoch 3: val_loss did not improve from 2.86877\n",
      "12/12 [==============================] - 0s 35ms/step - loss: 3.6282 - mae: 3.6282 - val_loss: 4.2271 - val_mae: 4.2271\n",
      "Epoch 4/30\n",
      "11/12 [==========================>...] - ETA: 0s - loss: 3.1600 - mae: 3.1600\n",
      "Epoch 4: val_loss did not improve from 2.86877\n",
      "12/12 [==============================] - 0s 35ms/step - loss: 3.1632 - mae: 3.1632 - val_loss: 4.3496 - val_mae: 4.3496\n",
      "Epoch 5/30\n",
      "11/12 [==========================>...] - ETA: 0s - loss: 3.0289 - mae: 3.0289\n",
      "Epoch 5: val_loss did not improve from 2.86877\n",
      "12/12 [==============================] - 0s 35ms/step - loss: 3.0149 - mae: 3.0149 - val_loss: 3.9397 - val_mae: 3.9397\n",
      "Epoch 6/30\n",
      "11/12 [==========================>...] - ETA: 0s - loss: 3.0722 - mae: 3.0722\n",
      "Epoch 6: val_loss did not improve from 2.86877\n",
      "12/12 [==============================] - 0s 35ms/step - loss: 3.0630 - mae: 3.0630 - val_loss: 2.8940 - val_mae: 2.8940\n",
      "Epoch 7/30\n",
      "11/12 [==========================>...] - ETA: 0s - loss: 3.2395 - mae: 3.2395\n",
      "Epoch 7: val_loss did not improve from 2.86877\n",
      "12/12 [==============================] - 0s 35ms/step - loss: 3.2336 - mae: 3.2336 - val_loss: 3.4024 - val_mae: 3.4024\n",
      "Epoch 8/30\n",
      "11/12 [==========================>...] - ETA: 0s - loss: 2.9886 - mae: 2.9886\n",
      "Epoch 8: val_loss did not improve from 2.86877\n",
      "12/12 [==============================] - 0s 35ms/step - loss: 2.9734 - mae: 2.9734 - val_loss: 3.0789 - val_mae: 3.0789\n",
      "Epoch 9/30\n",
      "11/12 [==========================>...] - ETA: 0s - loss: 3.2250 - mae: 3.2250\n",
      "Epoch 9: val_loss did not improve from 2.86877\n",
      "12/12 [==============================] - 0s 35ms/step - loss: 3.2057 - mae: 3.2057 - val_loss: 3.5653 - val_mae: 3.5653\n",
      "Epoch 10/30\n",
      "11/12 [==========================>...] - ETA: 0s - loss: 2.9900 - mae: 2.9900\n",
      "Epoch 10: val_loss improved from 2.86877 to 2.82883, saving model to c:/data/model\\xray_f_best.h5\n",
      "12/12 [==============================] - 1s 51ms/step - loss: 3.0253 - mae: 3.0253 - val_loss: 2.8288 - val_mae: 2.8288\n",
      "Epoch 11/30\n",
      "11/12 [==========================>...] - ETA: 0s - loss: 2.9410 - mae: 2.9410\n",
      "Epoch 11: val_loss did not improve from 2.82883\n",
      "12/12 [==============================] - 0s 35ms/step - loss: 2.9749 - mae: 2.9749 - val_loss: 4.4362 - val_mae: 4.4362\n",
      "Epoch 12/30\n",
      "11/12 [==========================>...] - ETA: 0s - loss: 3.0162 - mae: 3.0162\n",
      "Epoch 12: val_loss improved from 2.82883 to 2.77121, saving model to c:/data/model\\xray_f_best.h5\n",
      "12/12 [==============================] - 1s 49ms/step - loss: 2.9898 - mae: 2.9898 - val_loss: 2.7712 - val_mae: 2.7712\n",
      "Epoch 13/30\n",
      "11/12 [==========================>...] - ETA: 0s - loss: 3.0143 - mae: 3.0143\n",
      "Epoch 13: val_loss did not improve from 2.77121\n",
      "12/12 [==============================] - 0s 34ms/step - loss: 3.0316 - mae: 3.0316 - val_loss: 3.4292 - val_mae: 3.4292\n",
      "Epoch 14/30\n",
      "11/12 [==========================>...] - ETA: 0s - loss: 2.8436 - mae: 2.8436\n",
      "Epoch 14: val_loss did not improve from 2.77121\n",
      "12/12 [==============================] - 0s 35ms/step - loss: 2.8742 - mae: 2.8742 - val_loss: 2.9781 - val_mae: 2.9781\n",
      "Epoch 15/30\n",
      "11/12 [==========================>...] - ETA: 0s - loss: 3.1962 - mae: 3.1962\n",
      "Epoch 15: val_loss did not improve from 2.77121\n",
      "12/12 [==============================] - 0s 35ms/step - loss: 3.2039 - mae: 3.2039 - val_loss: 3.5879 - val_mae: 3.5879\n",
      "Epoch 16/30\n",
      "10/12 [========================>.....] - ETA: 0s - loss: 2.8486 - mae: 2.8486\n",
      "Epoch 16: val_loss did not improve from 2.77121\n",
      "12/12 [==============================] - 0s 39ms/step - loss: 2.8292 - mae: 2.8292 - val_loss: 2.8205 - val_mae: 2.8205\n",
      "Epoch 17/30\n",
      "11/12 [==========================>...] - ETA: 0s - loss: 2.9589 - mae: 2.9589\n",
      "Epoch 17: val_loss did not improve from 2.77121\n",
      "12/12 [==============================] - 0s 35ms/step - loss: 2.9639 - mae: 2.9639 - val_loss: 2.8001 - val_mae: 2.8001\n",
      "Epoch 18/30\n",
      "11/12 [==========================>...] - ETA: 0s - loss: 2.8755 - mae: 2.8755\n",
      "Epoch 18: val_loss did not improve from 2.77121\n",
      "12/12 [==============================] - 0s 35ms/step - loss: 2.8347 - mae: 2.8347 - val_loss: 2.8739 - val_mae: 2.8739\n",
      "Epoch 19/30\n",
      "11/12 [==========================>...] - ETA: 0s - loss: 2.8257 - mae: 2.8257\n",
      "Epoch 19: val_loss did not improve from 2.77121\n",
      "12/12 [==============================] - 0s 35ms/step - loss: 2.8325 - mae: 2.8325 - val_loss: 3.2941 - val_mae: 3.2941\n",
      "Epoch 20/30\n",
      "11/12 [==========================>...] - ETA: 0s - loss: 2.8521 - mae: 2.8521\n",
      "Epoch 20: val_loss did not improve from 2.77121\n",
      "12/12 [==============================] - 0s 35ms/step - loss: 2.8507 - mae: 2.8507 - val_loss: 3.2055 - val_mae: 3.2055\n",
      "Epoch 21/30\n",
      "11/12 [==========================>...] - ETA: 0s - loss: 2.8567 - mae: 2.8567\n",
      "Epoch 21: val_loss improved from 2.77121 to 2.68686, saving model to c:/data/model\\xray_f_best.h5\n",
      "12/12 [==============================] - 1s 55ms/step - loss: 2.8630 - mae: 2.8630 - val_loss: 2.6869 - val_mae: 2.6869\n",
      "Epoch 22/30\n",
      "11/12 [==========================>...] - ETA: 0s - loss: 2.7426 - mae: 2.7426\n",
      "Epoch 22: val_loss did not improve from 2.68686\n",
      "12/12 [==============================] - 0s 36ms/step - loss: 2.7228 - mae: 2.7228 - val_loss: 3.5205 - val_mae: 3.5205\n",
      "Epoch 23/30\n",
      "11/12 [==========================>...] - ETA: 0s - loss: 2.6140 - mae: 2.6140\n",
      "Epoch 23: val_loss did not improve from 2.68686\n",
      "12/12 [==============================] - 0s 35ms/step - loss: 2.6294 - mae: 2.6294 - val_loss: 3.0554 - val_mae: 3.0554\n",
      "Epoch 24/30\n",
      "11/12 [==========================>...] - ETA: 0s - loss: 2.7250 - mae: 2.7250\n",
      "Epoch 24: val_loss improved from 2.68686 to 2.37628, saving model to c:/data/model\\xray_f_best.h5\n",
      "12/12 [==============================] - 1s 55ms/step - loss: 2.7145 - mae: 2.7145 - val_loss: 2.3763 - val_mae: 2.3763\n",
      "Epoch 25/30\n",
      "11/12 [==========================>...] - ETA: 0s - loss: 2.4905 - mae: 2.4905\n",
      "Epoch 25: val_loss did not improve from 2.37628\n",
      "12/12 [==============================] - 0s 35ms/step - loss: 2.4821 - mae: 2.4821 - val_loss: 3.0139 - val_mae: 3.0139\n",
      "Epoch 26/30\n",
      "11/12 [==========================>...] - ETA: 0s - loss: 2.5895 - mae: 2.5895\n",
      "Epoch 26: val_loss improved from 2.37628 to 2.30620, saving model to c:/data/model\\xray_f_best.h5\n",
      "12/12 [==============================] - 1s 54ms/step - loss: 2.5573 - mae: 2.5573 - val_loss: 2.3062 - val_mae: 2.3062\n",
      "Epoch 27/30\n",
      "11/12 [==========================>...] - ETA: 0s - loss: 2.3917 - mae: 2.3917\n",
      "Epoch 27: val_loss improved from 2.30620 to 2.21452, saving model to c:/data/model\\xray_f_best.h5\n",
      "12/12 [==============================] - 1s 51ms/step - loss: 2.3979 - mae: 2.3979 - val_loss: 2.2145 - val_mae: 2.2145\n",
      "Epoch 28/30\n",
      "11/12 [==========================>...] - ETA: 0s - loss: 2.4663 - mae: 2.4663\n",
      "Epoch 28: val_loss did not improve from 2.21452\n",
      "12/12 [==============================] - 0s 35ms/step - loss: 2.4616 - mae: 2.4616 - val_loss: 2.2808 - val_mae: 2.2808\n",
      "Epoch 29/30\n",
      "11/12 [==========================>...] - ETA: 0s - loss: 2.2876 - mae: 2.2876\n",
      "Epoch 29: val_loss improved from 2.21452 to 2.01202, saving model to c:/data/model\\xray_f_best.h5\n",
      "12/12 [==============================] - 1s 50ms/step - loss: 2.2688 - mae: 2.2688 - val_loss: 2.0120 - val_mae: 2.0120\n",
      "Epoch 30/30\n",
      "11/12 [==========================>...] - ETA: 0s - loss: 2.1909 - mae: 2.1909\n",
      "Epoch 30: val_loss improved from 2.01202 to 2.01137, saving model to c:/data/model\\xray_f_best.h5\n",
      "12/12 [==============================] - 1s 58ms/step - loss: 2.2099 - mae: 2.2099 - val_loss: 2.0114 - val_mae: 2.0114\n"
     ]
    }
   ],
   "source": [
    "from keras.callbacks import ModelCheckpoint\n",
    "\n",
    "checkpoint = ModelCheckpoint(\"c:/data/model/xray_f_best.h5\", monitor='val_loss', verbose=1, save_best_only=True, mode='min')\n",
    "hist = model.fit(X_train, y_train, batch_size=32, validation_split=0.2, epochs=30, callbacks=[checkpoint])"
   ]
  },
  {
   "cell_type": "code",
   "execution_count": 21,
   "metadata": {},
   "outputs": [
    {
     "data": {
      "image/png": "[encoded data removed]",
      "text/plain": [
       "<Figure size 1200x800 with 1 Axes>"
      ]
     },
     "metadata": {},
     "output_type": "display_data"
    }
   ],
   "source": [
    "plt.figure(figsize=(12,8))\n",
    "\n",
    "plt.plot(hist.history['loss'])\n",
    "plt.plot(hist.history['val_loss'])\n",
    "plt.legend(['loss','val_loss'])\n",
    "plt.grid()\n",
    "\n",
    "plt.show()"
   ]
  },
  {
   "cell_type": "code",
   "execution_count": 22,
   "metadata": {},
   "outputs": [
    {
     "name": "stdout",
     "output_type": "stream",
     "text": [
      "15/15 [==============================] - 0s 15ms/step - loss: 1.8574 - mae: 1.8574\n",
      "[1.85735023021698, 1.85735023021698]\n"
     ]
    }
   ],
   "source": [
    "from tensorflow.keras.models import load_model\n",
    "\n",
    "model = load_model('c:/data/model/xray_f_best.h5')\n",
    "scores = model.evaluate(X_train, y_train, verbose=1)\n",
    "print(scores)"
   ]
  },
  {
   "cell_type": "code",
   "execution_count": 23,
   "metadata": {},
   "outputs": [
    {
     "name": "stdout",
     "output_type": "stream",
     "text": [
      "4/4 [==============================] - 0s 40ms/step - loss: 1.9779 - mae: 1.9779\n",
      "[1.9779115915298462, 1.9779115915298462]\n"
     ]
    }
   ],
   "source": [
    "model = load_model('c:/data/model/xray_f_best.h5')\n",
    "\n",
    "scores = model.evaluate(X_test, y_test, verbose=1)\n",
    "print(scores)"
   ]
  },
  {
   "cell_type": "code",
   "execution_count": 24,
   "metadata": {},
   "outputs": [
    {
     "name": "stdout",
     "output_type": "stream",
     "text": [
      "4/4 [==============================] - 0s 8ms/step\n"
     ]
    },
    {
     "data": {
      "text/plain": [
       "array([[ 5.267589 ],\n",
       "       [ 3.9513037],\n",
       "       [10.53421  ],\n",
       "       [ 8.959951 ],\n",
       "       [ 9.349514 ]], dtype=float32)"
      ]
     },
     "execution_count": 24,
     "metadata": {},
     "output_type": "execute_result"
    }
   ],
   "source": [
    "pred=model.predict(X_test)\n",
    "pred[:5]"
   ]
  },
  {
   "cell_type": "code",
   "execution_count": 25,
   "metadata": {},
   "outputs": [
    {
     "data": {
      "text/plain": [
       "array([ 5,  4, 15, 13, 10])"
      ]
     },
     "execution_count": 25,
     "metadata": {},
     "output_type": "execute_result"
    }
   ],
   "source": [
    "y_test[:5]"
   ]
  },
  {
   "cell_type": "code",
   "execution_count": null,
   "metadata": {},
   "outputs": [],
   "source": []
  }
 ],
 "metadata": {
  "kernelspec": {
   "display_name": "Python 3",
   "language": "python",
   "name": "python3"
  },
  "language_info": {
   "codemirror_mode": {
    "name": "ipython",
    "version": 3
   },
   "file_extension": ".py",
   "mimetype": "text/x-python",
   "name": "python",
   "nbconvert_exporter": "python",
   "pygments_lexer": "ipython3",
   "version": "3.9.13"
  },
  "orig_nbformat": 4
 },
 "nbformat": 4,
 "nbformat_minor": 2
}
