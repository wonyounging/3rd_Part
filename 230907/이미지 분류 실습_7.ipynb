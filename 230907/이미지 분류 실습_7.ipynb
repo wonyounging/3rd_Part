{
 "cells": [
  {
   "cell_type": "markdown",
   "metadata": {},
   "source": [
    "### 뇌종양 분석"
   ]
  },
  {
   "cell_type": "code",
   "execution_count": 1,
   "metadata": {},
   "outputs": [],
   "source": [
    "#CNN 뇌종양 분류 모형\n",
    "\n",
    "import os\n",
    "import cv2\n",
    "import tensorflow as tf\n",
    "import numpy  as np\n",
    "import pandas as pd\n",
    "import seaborn as sns\n",
    "import matplotlib.pyplot as plt\n",
    "from sklearn.model_selection import train_test_split\n",
    "from tensorflow.keras.preprocessing.image import ImageDataGenerator\n",
    "from tensorflow.keras.utils import to_categorical\n",
    "from sklearn.preprocessing import LabelEncoder\n",
    "from tensorflow.keras.utils import to_categorical\n",
    "from tensorflow.keras import layers\n",
    "from sklearn.metrics import classification_report\n",
    "from keras.utils import plot_model\n",
    "from tensorflow import keras\n",
    "import warnings\n",
    "from IPython.display import HTML, display\n",
    "warnings.filterwarnings(\"ignore\")"
   ]
  },
  {
   "cell_type": "code",
   "execution_count": 2,
   "metadata": {},
   "outputs": [],
   "source": [
    "def read_images(folder_path,image_size =(256,256)):\n",
    "\n",
    "    image_list = []\n",
    "    label_list = []\n",
    "\n",
    "    for root, subdirs, files in os.walk(folder_path):\n",
    "        for subdir in subdirs:\n",
    "            label = subdir          \n",
    "\n",
    "            subdir_path = os.path.join(root, subdir)\n",
    "\n",
    "            for file in os.listdir(subdir_path):\n",
    "                image_path = os.path.join(subdir_path, file)                \n",
    "\n",
    "                image = cv2.imread(image_path, cv2.IMREAD_GRAYSCALE)\n",
    "\n",
    "                image = cv2.resize(image, image_size)\n",
    "                image_list.append(image)\n",
    "\n",
    "                label_list.append(label)\n",
    "\n",
    "    images = np.array(image_list)\n",
    "    labels = np.array(label_list)\n",
    "\n",
    "    return images, labels"
   ]
  },
  {
   "cell_type": "code",
   "execution_count": 3,
   "metadata": {},
   "outputs": [],
   "source": [
    "training_images, training_labels = read_images(\"c:/workspace3/data/brain_mri/Training\")\n",
    "testing_images , testing_labels  = read_images(\"c:/workspace3/data/brain_mri/Testing\")"
   ]
  },
  {
   "cell_type": "code",
   "execution_count": 4,
   "metadata": {},
   "outputs": [
    {
     "name": "stdout",
     "output_type": "stream",
     "text": [
      "(0,) (0,)\n",
      "(0,) (0,)\n"
     ]
    }
   ],
   "source": [
    "print(training_images.shape,training_labels.shape)\n",
    "\n",
    "print(testing_images.shape ,testing_labels.shape)\n",
    "\n"
   ]
  },
  {
   "cell_type": "code",
   "execution_count": 5,
   "metadata": {},
   "outputs": [
    {
     "ename": "RuntimeError",
     "evalue": "In affine_transform: Invalid vertices array.",
     "output_type": "error",
     "traceback": [
      "\u001b[1;31m---------------------------------------------------------------------------\u001b[0m",
      "\u001b[1;31mRuntimeError\u001b[0m                              Traceback (most recent call last)",
      "Cell \u001b[1;32mIn[5], line 15\u001b[0m\n\u001b[0;32m     11\u001b[0m explode \u001b[39m=\u001b[39m (\u001b[39m0.1\u001b[39m, \u001b[39m0\u001b[39m)\n\u001b[0;32m     13\u001b[0m plt\u001b[39m.\u001b[39mfigure(figsize\u001b[39m=\u001b[39m(\u001b[39m6\u001b[39m, \u001b[39m6\u001b[39m))\n\u001b[1;32m---> 15\u001b[0m plt\u001b[39m.\u001b[39;49mpie(sizes, labels\u001b[39m=\u001b[39;49mlabels, colors\u001b[39m=\u001b[39;49mcolors, explode\u001b[39m=\u001b[39;49mexplode, autopct\u001b[39m=\u001b[39;49m\u001b[39m'\u001b[39;49m\u001b[39m%1.1f\u001b[39;49;00m\u001b[39m%%\u001b[39;49;00m\u001b[39m'\u001b[39;49m, shadow\u001b[39m=\u001b[39;49m\u001b[39mTrue\u001b[39;49;00m)\n\u001b[0;32m     17\u001b[0m plt\u001b[39m.\u001b[39maxis(\u001b[39m'\u001b[39m\u001b[39mequal\u001b[39m\u001b[39m'\u001b[39m)\n\u001b[0;32m     19\u001b[0m plt\u001b[39m.\u001b[39msavefig(\u001b[39m'\u001b[39m\u001b[39mpie-00.png\u001b[39m\u001b[39m'\u001b[39m)\n",
      "File \u001b[1;32mc:\\Python3.9.13\\lib\\site-packages\\matplotlib\\pyplot.py:2799\u001b[0m, in \u001b[0;36mpie\u001b[1;34m(x, explode, labels, colors, autopct, pctdistance, shadow, labeldistance, startangle, radius, counterclock, wedgeprops, textprops, center, frame, rotatelabels, normalize, hatch, data)\u001b[0m\n\u001b[0;32m   2792\u001b[0m \u001b[39m@_copy_docstring_and_deprecators\u001b[39m(Axes\u001b[39m.\u001b[39mpie)\n\u001b[0;32m   2793\u001b[0m \u001b[39mdef\u001b[39;00m \u001b[39mpie\u001b[39m(\n\u001b[0;32m   2794\u001b[0m         x, explode\u001b[39m=\u001b[39m\u001b[39mNone\u001b[39;00m, labels\u001b[39m=\u001b[39m\u001b[39mNone\u001b[39;00m, colors\u001b[39m=\u001b[39m\u001b[39mNone\u001b[39;00m, autopct\u001b[39m=\u001b[39m\u001b[39mNone\u001b[39;00m,\n\u001b[1;32m   (...)\u001b[0m\n\u001b[0;32m   2797\u001b[0m         textprops\u001b[39m=\u001b[39m\u001b[39mNone\u001b[39;00m, center\u001b[39m=\u001b[39m(\u001b[39m0\u001b[39m, \u001b[39m0\u001b[39m), frame\u001b[39m=\u001b[39m\u001b[39mFalse\u001b[39;00m,\n\u001b[0;32m   2798\u001b[0m         rotatelabels\u001b[39m=\u001b[39m\u001b[39mFalse\u001b[39;00m, \u001b[39m*\u001b[39m, normalize\u001b[39m=\u001b[39m\u001b[39mTrue\u001b[39;00m, hatch\u001b[39m=\u001b[39m\u001b[39mNone\u001b[39;00m, data\u001b[39m=\u001b[39m\u001b[39mNone\u001b[39;00m):\n\u001b[1;32m-> 2799\u001b[0m     \u001b[39mreturn\u001b[39;00m gca()\u001b[39m.\u001b[39mpie(\n\u001b[0;32m   2800\u001b[0m         x, explode\u001b[39m=\u001b[39mexplode, labels\u001b[39m=\u001b[39mlabels, colors\u001b[39m=\u001b[39mcolors,\n\u001b[0;32m   2801\u001b[0m         autopct\u001b[39m=\u001b[39mautopct, pctdistance\u001b[39m=\u001b[39mpctdistance, shadow\u001b[39m=\u001b[39mshadow,\n\u001b[0;32m   2802\u001b[0m         labeldistance\u001b[39m=\u001b[39mlabeldistance, startangle\u001b[39m=\u001b[39mstartangle,\n\u001b[0;32m   2803\u001b[0m         radius\u001b[39m=\u001b[39mradius, counterclock\u001b[39m=\u001b[39mcounterclock,\n\u001b[0;32m   2804\u001b[0m         wedgeprops\u001b[39m=\u001b[39mwedgeprops, textprops\u001b[39m=\u001b[39mtextprops, center\u001b[39m=\u001b[39mcenter,\n\u001b[0;32m   2805\u001b[0m         frame\u001b[39m=\u001b[39mframe, rotatelabels\u001b[39m=\u001b[39mrotatelabels, normalize\u001b[39m=\u001b[39mnormalize,\n\u001b[0;32m   2806\u001b[0m         hatch\u001b[39m=\u001b[39mhatch, \u001b[39m*\u001b[39m\u001b[39m*\u001b[39m({\u001b[39m\"\u001b[39m\u001b[39mdata\u001b[39m\u001b[39m\"\u001b[39m: data} \u001b[39mif\u001b[39;00m data \u001b[39mis\u001b[39;00m \u001b[39mnot\u001b[39;00m \u001b[39mNone\u001b[39;00m \u001b[39melse\u001b[39;00m {}))\n",
      "File \u001b[1;32mc:\\Python3.9.13\\lib\\site-packages\\matplotlib\\__init__.py:1475\u001b[0m, in \u001b[0;36m_preprocess_data.<locals>.inner\u001b[1;34m(ax, data, *args, **kwargs)\u001b[0m\n\u001b[0;32m   1472\u001b[0m \u001b[39m@functools\u001b[39m\u001b[39m.\u001b[39mwraps(func)\n\u001b[0;32m   1473\u001b[0m \u001b[39mdef\u001b[39;00m \u001b[39minner\u001b[39m(ax, \u001b[39m*\u001b[39margs, data\u001b[39m=\u001b[39m\u001b[39mNone\u001b[39;00m, \u001b[39m*\u001b[39m\u001b[39m*\u001b[39mkwargs):\n\u001b[0;32m   1474\u001b[0m     \u001b[39mif\u001b[39;00m data \u001b[39mis\u001b[39;00m \u001b[39mNone\u001b[39;00m:\n\u001b[1;32m-> 1475\u001b[0m         \u001b[39mreturn\u001b[39;00m func(ax, \u001b[39m*\u001b[39m\u001b[39mmap\u001b[39m(sanitize_sequence, args), \u001b[39m*\u001b[39m\u001b[39m*\u001b[39mkwargs)\n\u001b[0;32m   1477\u001b[0m     bound \u001b[39m=\u001b[39m new_sig\u001b[39m.\u001b[39mbind(ax, \u001b[39m*\u001b[39margs, \u001b[39m*\u001b[39m\u001b[39m*\u001b[39mkwargs)\n\u001b[0;32m   1478\u001b[0m     auto_label \u001b[39m=\u001b[39m (bound\u001b[39m.\u001b[39marguments\u001b[39m.\u001b[39mget(label_namer)\n\u001b[0;32m   1479\u001b[0m                   \u001b[39mor\u001b[39;00m bound\u001b[39m.\u001b[39mkwargs\u001b[39m.\u001b[39mget(label_namer))\n",
      "File \u001b[1;32mc:\\Python3.9.13\\lib\\site-packages\\matplotlib\\axes\\_axes.py:3251\u001b[0m, in \u001b[0;36mAxes.pie\u001b[1;34m(self, x, explode, labels, colors, autopct, pctdistance, shadow, labeldistance, startangle, radius, counterclock, wedgeprops, textprops, center, frame, rotatelabels, normalize, hatch)\u001b[0m\n\u001b[0;32m   3247\u001b[0m \u001b[39mif\u001b[39;00m shadow:\n\u001b[0;32m   3248\u001b[0m     \u001b[39m# Make sure to add a shadow after the call to add_patch so the\u001b[39;00m\n\u001b[0;32m   3249\u001b[0m     \u001b[39m# figure and transform props will be set.\u001b[39;00m\n\u001b[0;32m   3250\u001b[0m     shad \u001b[39m=\u001b[39m mpatches\u001b[39m.\u001b[39mShadow(w, \u001b[39m-\u001b[39m\u001b[39m0.02\u001b[39m, \u001b[39m-\u001b[39m\u001b[39m0.02\u001b[39m, label\u001b[39m=\u001b[39m\u001b[39m'\u001b[39m\u001b[39m_nolegend_\u001b[39m\u001b[39m'\u001b[39m)\n\u001b[1;32m-> 3251\u001b[0m     \u001b[39mself\u001b[39;49m\u001b[39m.\u001b[39;49madd_patch(shad)\n\u001b[0;32m   3253\u001b[0m \u001b[39mif\u001b[39;00m labeldistance \u001b[39mis\u001b[39;00m \u001b[39mnot\u001b[39;00m \u001b[39mNone\u001b[39;00m:\n\u001b[0;32m   3254\u001b[0m     xt \u001b[39m=\u001b[39m x \u001b[39m+\u001b[39m labeldistance \u001b[39m*\u001b[39m radius \u001b[39m*\u001b[39m math\u001b[39m.\u001b[39mcos(thetam)\n",
      "File \u001b[1;32mc:\\Python3.9.13\\lib\\site-packages\\matplotlib\\axes\\_base.py:2379\u001b[0m, in \u001b[0;36m_AxesBase.add_patch\u001b[1;34m(self, p)\u001b[0m\n\u001b[0;32m   2377\u001b[0m \u001b[39mif\u001b[39;00m p\u001b[39m.\u001b[39mget_clip_path() \u001b[39mis\u001b[39;00m \u001b[39mNone\u001b[39;00m:\n\u001b[0;32m   2378\u001b[0m     p\u001b[39m.\u001b[39mset_clip_path(\u001b[39mself\u001b[39m\u001b[39m.\u001b[39mpatch)\n\u001b[1;32m-> 2379\u001b[0m \u001b[39mself\u001b[39;49m\u001b[39m.\u001b[39;49m_update_patch_limits(p)\n\u001b[0;32m   2380\u001b[0m \u001b[39mself\u001b[39m\u001b[39m.\u001b[39m_children\u001b[39m.\u001b[39mappend(p)\n\u001b[0;32m   2381\u001b[0m p\u001b[39m.\u001b[39m_remove_method \u001b[39m=\u001b[39m \u001b[39mself\u001b[39m\u001b[39m.\u001b[39m_children\u001b[39m.\u001b[39mremove\n",
      "File \u001b[1;32mc:\\Python3.9.13\\lib\\site-packages\\matplotlib\\axes\\_base.py:2421\u001b[0m, in \u001b[0;36m_AxesBase._update_patch_limits\u001b[1;34m(self, patch)\u001b[0m\n\u001b[0;32m   2419\u001b[0m         updatey \u001b[39m=\u001b[39m \u001b[39mFalse\u001b[39;00m\n\u001b[0;32m   2420\u001b[0m trf_to_data \u001b[39m=\u001b[39m patch_trf \u001b[39m-\u001b[39m \u001b[39mself\u001b[39m\u001b[39m.\u001b[39mtransData\n\u001b[1;32m-> 2421\u001b[0m xys \u001b[39m=\u001b[39m trf_to_data\u001b[39m.\u001b[39;49mtransform(vertices)\n\u001b[0;32m   2422\u001b[0m \u001b[39mself\u001b[39m\u001b[39m.\u001b[39mupdate_datalim(xys, updatex\u001b[39m=\u001b[39mupdatex, updatey\u001b[39m=\u001b[39mupdatey)\n",
      "File \u001b[1;32mc:\\Python3.9.13\\lib\\site-packages\\matplotlib\\transforms.py:1787\u001b[0m, in \u001b[0;36mAffineBase.transform\u001b[1;34m(self, values)\u001b[0m\n\u001b[0;32m   1785\u001b[0m \u001b[39mdef\u001b[39;00m \u001b[39mtransform\u001b[39m(\u001b[39mself\u001b[39m, values):\n\u001b[0;32m   1786\u001b[0m     \u001b[39m# docstring inherited\u001b[39;00m\n\u001b[1;32m-> 1787\u001b[0m     \u001b[39mreturn\u001b[39;00m \u001b[39mself\u001b[39;49m\u001b[39m.\u001b[39;49mtransform_affine(values)\n",
      "File \u001b[1;32mc:\\Python3.9.13\\lib\\site-packages\\matplotlib\\transforms.py:1856\u001b[0m, in \u001b[0;36mAffine2DBase.transform_affine\u001b[1;34m(self, points)\u001b[0m\n\u001b[0;32m   1854\u001b[0m     tpoints \u001b[39m=\u001b[39m affine_transform(points\u001b[39m.\u001b[39mdata, mtx)\n\u001b[0;32m   1855\u001b[0m     \u001b[39mreturn\u001b[39;00m np\u001b[39m.\u001b[39mma\u001b[39m.\u001b[39mMaskedArray(tpoints, mask\u001b[39m=\u001b[39mnp\u001b[39m.\u001b[39mma\u001b[39m.\u001b[39mgetmask(points))\n\u001b[1;32m-> 1856\u001b[0m \u001b[39mreturn\u001b[39;00m affine_transform(points, mtx)\n",
      "\u001b[1;31mRuntimeError\u001b[0m: In affine_transform: Invalid vertices array."
     ]
    },
    {
     "ename": "ValueError",
     "evalue": "need at least one array to concatenate",
     "output_type": "error",
     "traceback": [
      "\u001b[1;31m---------------------------------------------------------------------------\u001b[0m",
      "\u001b[1;31mValueError\u001b[0m                                Traceback (most recent call last)",
      "File \u001b[1;32m~\\AppData\\Roaming\\Python\\Python39\\site-packages\\IPython\\core\\formatters.py:340\u001b[0m, in \u001b[0;36mBaseFormatter.__call__\u001b[1;34m(self, obj)\u001b[0m\n\u001b[0;32m    338\u001b[0m     \u001b[39mpass\u001b[39;00m\n\u001b[0;32m    339\u001b[0m \u001b[39melse\u001b[39;00m:\n\u001b[1;32m--> 340\u001b[0m     \u001b[39mreturn\u001b[39;00m printer(obj)\n\u001b[0;32m    341\u001b[0m \u001b[39m# Finally look for special method names\u001b[39;00m\n\u001b[0;32m    342\u001b[0m method \u001b[39m=\u001b[39m get_real_method(obj, \u001b[39mself\u001b[39m\u001b[39m.\u001b[39mprint_method)\n",
      "File \u001b[1;32m~\\AppData\\Roaming\\Python\\Python39\\site-packages\\IPython\\core\\pylabtools.py:152\u001b[0m, in \u001b[0;36mprint_figure\u001b[1;34m(fig, fmt, bbox_inches, base64, **kwargs)\u001b[0m\n\u001b[0;32m    149\u001b[0m     \u001b[39mfrom\u001b[39;00m \u001b[39mmatplotlib\u001b[39;00m\u001b[39m.\u001b[39;00m\u001b[39mbackend_bases\u001b[39;00m \u001b[39mimport\u001b[39;00m FigureCanvasBase\n\u001b[0;32m    150\u001b[0m     FigureCanvasBase(fig)\n\u001b[1;32m--> 152\u001b[0m fig\u001b[39m.\u001b[39mcanvas\u001b[39m.\u001b[39mprint_figure(bytes_io, \u001b[39m*\u001b[39m\u001b[39m*\u001b[39mkw)\n\u001b[0;32m    153\u001b[0m data \u001b[39m=\u001b[39m bytes_io\u001b[39m.\u001b[39mgetvalue()\n\u001b[0;32m    154\u001b[0m \u001b[39mif\u001b[39;00m fmt \u001b[39m==\u001b[39m \u001b[39m'\u001b[39m\u001b[39msvg\u001b[39m\u001b[39m'\u001b[39m:\n",
      "File \u001b[1;32mc:\\Python3.9.13\\lib\\site-packages\\matplotlib\\backend_bases.py:2346\u001b[0m, in \u001b[0;36mFigureCanvasBase.print_figure\u001b[1;34m(self, filename, dpi, facecolor, edgecolor, orientation, format, bbox_inches, pad_inches, bbox_extra_artists, backend, **kwargs)\u001b[0m\n\u001b[0;32m   2344\u001b[0m \u001b[39mif\u001b[39;00m bbox_inches:\n\u001b[0;32m   2345\u001b[0m     \u001b[39mif\u001b[39;00m bbox_inches \u001b[39m==\u001b[39m \u001b[39m\"\u001b[39m\u001b[39mtight\u001b[39m\u001b[39m\"\u001b[39m:\n\u001b[1;32m-> 2346\u001b[0m         bbox_inches \u001b[39m=\u001b[39m \u001b[39mself\u001b[39;49m\u001b[39m.\u001b[39;49mfigure\u001b[39m.\u001b[39;49mget_tightbbox(\n\u001b[0;32m   2347\u001b[0m             renderer, bbox_extra_artists\u001b[39m=\u001b[39;49mbbox_extra_artists)\n\u001b[0;32m   2348\u001b[0m         \u001b[39mif\u001b[39;00m pad_inches \u001b[39mis\u001b[39;00m \u001b[39mNone\u001b[39;00m:\n\u001b[0;32m   2349\u001b[0m             pad_inches \u001b[39m=\u001b[39m rcParams[\u001b[39m'\u001b[39m\u001b[39msavefig.pad_inches\u001b[39m\u001b[39m'\u001b[39m]\n",
      "File \u001b[1;32mc:\\Python3.9.13\\lib\\site-packages\\matplotlib\\figure.py:1776\u001b[0m, in \u001b[0;36mFigureBase.get_tightbbox\u001b[1;34m(self, renderer, bbox_extra_artists)\u001b[0m\n\u001b[0;32m   1773\u001b[0m     artists \u001b[39m=\u001b[39m bbox_extra_artists\n\u001b[0;32m   1775\u001b[0m \u001b[39mfor\u001b[39;00m a \u001b[39min\u001b[39;00m artists:\n\u001b[1;32m-> 1776\u001b[0m     bbox \u001b[39m=\u001b[39m a\u001b[39m.\u001b[39;49mget_tightbbox(renderer)\n\u001b[0;32m   1777\u001b[0m     \u001b[39mif\u001b[39;00m bbox \u001b[39mis\u001b[39;00m \u001b[39mnot\u001b[39;00m \u001b[39mNone\u001b[39;00m:\n\u001b[0;32m   1778\u001b[0m         bb\u001b[39m.\u001b[39mappend(bbox)\n",
      "File \u001b[1;32mc:\\Python3.9.13\\lib\\site-packages\\matplotlib\\axes\\_base.py:4408\u001b[0m, in \u001b[0;36m_AxesBase.get_tightbbox\u001b[1;34m(self, renderer, call_axes_locator, bbox_extra_artists, for_layout_only)\u001b[0m\n\u001b[0;32m   4405\u001b[0m     bbox_artists \u001b[39m=\u001b[39m \u001b[39mself\u001b[39m\u001b[39m.\u001b[39mget_default_bbox_extra_artists()\n\u001b[0;32m   4407\u001b[0m \u001b[39mfor\u001b[39;00m a \u001b[39min\u001b[39;00m bbox_artists:\n\u001b[1;32m-> 4408\u001b[0m     bbox \u001b[39m=\u001b[39m a\u001b[39m.\u001b[39;49mget_tightbbox(renderer)\n\u001b[0;32m   4409\u001b[0m     \u001b[39mif\u001b[39;00m (bbox \u001b[39mis\u001b[39;00m \u001b[39mnot\u001b[39;00m \u001b[39mNone\u001b[39;00m\n\u001b[0;32m   4410\u001b[0m             \u001b[39mand\u001b[39;00m \u001b[39m0\u001b[39m \u001b[39m<\u001b[39m bbox\u001b[39m.\u001b[39mwidth \u001b[39m<\u001b[39m np\u001b[39m.\u001b[39minf\n\u001b[0;32m   4411\u001b[0m             \u001b[39mand\u001b[39;00m \u001b[39m0\u001b[39m \u001b[39m<\u001b[39m bbox\u001b[39m.\u001b[39mheight \u001b[39m<\u001b[39m np\u001b[39m.\u001b[39minf):\n\u001b[0;32m   4412\u001b[0m         bb\u001b[39m.\u001b[39mappend(bbox)\n",
      "File \u001b[1;32mc:\\Python3.9.13\\lib\\site-packages\\matplotlib\\artist.py:367\u001b[0m, in \u001b[0;36mArtist.get_tightbbox\u001b[1;34m(self, renderer)\u001b[0m\n\u001b[0;32m    352\u001b[0m \u001b[39mdef\u001b[39;00m \u001b[39mget_tightbbox\u001b[39m(\u001b[39mself\u001b[39m, renderer\u001b[39m=\u001b[39m\u001b[39mNone\u001b[39;00m):\n\u001b[0;32m    353\u001b[0m \u001b[39m    \u001b[39m\u001b[39m\"\"\"\u001b[39;00m\n\u001b[0;32m    354\u001b[0m \u001b[39m    Like `.Artist.get_window_extent`, but includes any clipping.\u001b[39;00m\n\u001b[0;32m    355\u001b[0m \n\u001b[1;32m   (...)\u001b[0m\n\u001b[0;32m    365\u001b[0m \u001b[39m        The enclosing bounding box (in figure pixel coordinates).\u001b[39;00m\n\u001b[0;32m    366\u001b[0m \u001b[39m    \"\"\"\u001b[39;00m\n\u001b[1;32m--> 367\u001b[0m     bbox \u001b[39m=\u001b[39m \u001b[39mself\u001b[39;49m\u001b[39m.\u001b[39;49mget_window_extent(renderer)\n\u001b[0;32m    368\u001b[0m     \u001b[39mif\u001b[39;00m \u001b[39mself\u001b[39m\u001b[39m.\u001b[39mget_clip_on():\n\u001b[0;32m    369\u001b[0m         clip_box \u001b[39m=\u001b[39m \u001b[39mself\u001b[39m\u001b[39m.\u001b[39mget_clip_box()\n",
      "File \u001b[1;32mc:\\Python3.9.13\\lib\\site-packages\\matplotlib\\patches.py:604\u001b[0m, in \u001b[0;36mPatch.get_window_extent\u001b[1;34m(self, renderer)\u001b[0m\n\u001b[0;32m    603\u001b[0m \u001b[39mdef\u001b[39;00m \u001b[39mget_window_extent\u001b[39m(\u001b[39mself\u001b[39m, renderer\u001b[39m=\u001b[39m\u001b[39mNone\u001b[39;00m):\n\u001b[1;32m--> 604\u001b[0m     \u001b[39mreturn\u001b[39;00m \u001b[39mself\u001b[39;49m\u001b[39m.\u001b[39;49mget_path()\u001b[39m.\u001b[39;49mget_extents(\u001b[39mself\u001b[39;49m\u001b[39m.\u001b[39;49mget_transform())\n",
      "File \u001b[1;32mc:\\Python3.9.13\\lib\\site-packages\\matplotlib\\path.py:638\u001b[0m, in \u001b[0;36mPath.get_extents\u001b[1;34m(self, transform, **kwargs)\u001b[0m\n\u001b[0;32m    636\u001b[0m         \u001b[39m# as can the ends of the curve\u001b[39;00m\n\u001b[0;32m    637\u001b[0m         xys\u001b[39m.\u001b[39mappend(curve([\u001b[39m0\u001b[39m, \u001b[39m*\u001b[39mdzeros, \u001b[39m1\u001b[39m]))\n\u001b[1;32m--> 638\u001b[0m     xys \u001b[39m=\u001b[39m np\u001b[39m.\u001b[39;49mconcatenate(xys)\n\u001b[0;32m    639\u001b[0m \u001b[39mif\u001b[39;00m \u001b[39mlen\u001b[39m(xys):\n\u001b[0;32m    640\u001b[0m     \u001b[39mreturn\u001b[39;00m Bbox([xys\u001b[39m.\u001b[39mmin(axis\u001b[39m=\u001b[39m\u001b[39m0\u001b[39m), xys\u001b[39m.\u001b[39mmax(axis\u001b[39m=\u001b[39m\u001b[39m0\u001b[39m)])\n",
      "File \u001b[1;32m<__array_function__ internals>:200\u001b[0m, in \u001b[0;36mconcatenate\u001b[1;34m(*args, **kwargs)\u001b[0m\n",
      "\u001b[1;31mValueError\u001b[0m: need at least one array to concatenate"
     ]
    },
    {
     "data": {
      "text/plain": [
       "<Figure size 600x600 with 1 Axes>"
      ]
     },
     "metadata": {},
     "output_type": "display_data"
    }
   ],
   "source": [
    "train_size = len(training_images)\n",
    "\n",
    "test_size = len(testing_images)\n",
    "\n",
    "sizes = [train_size, test_size]\n",
    "\n",
    "labels = ['Training', 'Testing']\n",
    "\n",
    "colors = ['skyblue', 'lightcoral']\n",
    "\n",
    "explode = (0.1, 0)\n",
    "\n",
    "plt.figure(figsize=(6, 6))\n",
    "\n",
    "plt.pie(sizes, labels=labels, colors=colors, explode=explode, autopct='%1.1f%%', shadow=True)\n",
    "\n",
    "plt.axis('equal')\n",
    "\n",
    "plt.savefig('pie-00.png')\n",
    "\n",
    "plt.close()\n",
    "\n",
    "with open(\"pie-00.png\", \"rb\") as img_file:\n",
    "\n",
    "    img_data = img_file.read()\n",
    "\n",
    "import base64\n",
    "img_base64 = base64.b64encode(img_data).decode(\"utf-8\")\n",
    "\n",
    "html_code = f'''\n",
    "\n",
    "<div style=\"background-color:white; border-radius:2px; border:#000000 solid; padding: 15px; font-size:100%; text-align:center;\">\n",
    "\n",
    "    <img src=\"data:image/png;base64,{img_base64}\" style=\"display: block; margin: 0 auto;\">\n",
    "\n",
    "</div>\n",
    "\n",
    "'''\n",
    "\n",
    "display(HTML(html_code))"
   ]
  },
  {
   "cell_type": "code",
   "execution_count": null,
   "metadata": {},
   "outputs": [
    {
     "ename": "ValueError",
     "evalue": "a must be greater than 0 unless no samples are taken",
     "output_type": "error",
     "traceback": [
      "\u001b[1;31m---------------------------------------------------------------------------\u001b[0m",
      "\u001b[1;31mValueError\u001b[0m                                Traceback (most recent call last)",
      "Cell \u001b[1;32mIn[8], line 3\u001b[0m\n\u001b[0;32m      1\u001b[0m num_images_to_display \u001b[39m=\u001b[39m \u001b[39m4\u001b[39m\n\u001b[1;32m----> 3\u001b[0m random_indices \u001b[39m=\u001b[39m np\u001b[39m.\u001b[39;49mrandom\u001b[39m.\u001b[39;49mchoice(\u001b[39mlen\u001b[39;49m(training_images), size\u001b[39m=\u001b[39;49mnum_images_to_display, replace\u001b[39m=\u001b[39;49m\u001b[39mFalse\u001b[39;49;00m)\n\u001b[0;32m      5\u001b[0m fig, axes \u001b[39m=\u001b[39m plt\u001b[39m.\u001b[39msubplots(\u001b[39m1\u001b[39m, num_images_to_display, figsize\u001b[39m=\u001b[39m(\u001b[39m10\u001b[39m, \u001b[39m4\u001b[39m))\n\u001b[0;32m      7\u001b[0m \u001b[39mfor\u001b[39;00m i, index \u001b[39min\u001b[39;00m \u001b[39menumerate\u001b[39m(random_indices):\n",
      "File \u001b[1;32mmtrand.pyx:928\u001b[0m, in \u001b[0;36mnumpy.random.mtrand.RandomState.choice\u001b[1;34m()\u001b[0m\n",
      "\u001b[1;31mValueError\u001b[0m: a must be greater than 0 unless no samples are taken"
     ]
    }
   ],
   "source": [
    "num_images_to_display = 4\n",
    "\n",
    "random_indices = np.random.choice(len(training_images), size=num_images_to_display, replace=False)\n",
    "\n",
    "fig, axes = plt.subplots(1, num_images_to_display, figsize=(10, 4))\n",
    "\n",
    "for i, index in enumerate(random_indices):\n",
    "\n",
    "    image = training_images[index]\n",
    "\n",
    "    label = training_labels[index]\n",
    "\n",
    "    axes[i].imshow(image, cmap='gray')\n",
    "\n",
    "    axes[i].set_title(f\"Label: {label}\")\n",
    "\n",
    "    axes[i].axis('off')\n",
    "\n",
    "plt.tight_layout()\n",
    "\n",
    "plt.savefig('output_images.png')  \n",
    "\n",
    "plt.close()\n",
    "\n",
    "with open(\"output_images.png\", \"rb\") as img_file:\n",
    "\n",
    "    img_data = img_file.read()\n",
    "\n",
    "import base64\n",
    "\n",
    "img_base64 = base64.b64encode(img_data).decode(\"utf-8\")\n",
    "\n",
    "html_code = f'''\n",
    "\n",
    "<div style=\"background-color:white; border-radius:2px; border:#000000 solid; padding: 15px; font-size:100%; text-align:center;\">\n",
    "    <img src=\"data:image/png;base64,{img_base64}\" style=\"display: block; margin: 0 auto;\">\n",
    "\n",
    "</div>\n",
    "\n",
    "'''\n",
    "\n",
    "display(HTML(html_code))"
   ]
  },
  {
   "cell_type": "code",
   "execution_count": null,
   "metadata": {},
   "outputs": [],
   "source": [
    "testing_indices = np.random.permutation(testing_images.shape[0])\n",
    "\n",
    "testing_images = testing_images[testing_indices] / 255.0\n",
    "\n",
    "testing_labels = testing_labels[testing_indices]\n",
    "\n",
    "training_indices = np.random.permutation(training_images.shape[0])\n",
    "\n",
    "training_images = training_images[training_indices] / 255.0\n",
    "\n",
    "training_labels = training_labels[training_indices]\n",
    "\n",
    "print(testing_images.shape, testing_labels.shape)\n",
    "\n",
    "print(training_images.shape, training_labels.shape)"
   ]
  },
  {
   "cell_type": "code",
   "execution_count": null,
   "metadata": {},
   "outputs": [],
   "source": [
    "train_images = np.squeeze(training_images)\n",
    "\n",
    "train_images = np.expand_dims(train_images, axis=-1)\n",
    "\n",
    "test_images  = np.squeeze(testing_images)\n",
    "\n",
    "test_images  = np.expand_dims(test_images, axis=-1)\n",
    "\n",
    "print(train_images.shape)\n",
    "\n",
    "print(test_images.shape )"
   ]
  },
  {
   "cell_type": "code",
   "execution_count": null,
   "metadata": {},
   "outputs": [],
   "source": [
    "train_labels = np.squeeze(training_labels)\n",
    "\n",
    "test_labels  = np.squeeze(testing_labels)\n",
    "\n",
    "print(train_labels.shape,test_labels.shape)"
   ]
  },
  {
   "cell_type": "code",
   "execution_count": null,
   "metadata": {},
   "outputs": [],
   "source": []
  }
 ],
 "metadata": {
  "kernelspec": {
   "display_name": "Python 3",
   "language": "python",
   "name": "python3"
  },
  "language_info": {
   "codemirror_mode": {
    "name": "ipython",
    "version": 3
   },
   "file_extension": ".py",
   "mimetype": "text/x-python",
   "name": "python",
   "nbconvert_exporter": "python",
   "pygments_lexer": "ipython3",
   "version": "3.9.13"
  },
  "orig_nbformat": 4
 },
 "nbformat": 4,
 "nbformat_minor": 2
}
