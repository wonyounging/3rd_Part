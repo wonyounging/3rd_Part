{
 "cells": [
  {
   "cell_type": "markdown",
   "metadata": {},
   "source": [
    "### 유사도(거리) 계산 방법"
   ]
  },
  {
   "cell_type": "code",
   "execution_count": 1,
   "metadata": {},
   "outputs": [
    {
     "data": {
      "text/plain": [
       "<matplotlib.collections.PathCollection at 0x217196221c0>"
      ]
     },
     "execution_count": 1,
     "metadata": {},
     "output_type": "execute_result"
    },
    {
     "data": {
      "image/png": "[encoded data removed]",
      "text/plain": [
       "<Figure size 500x500 with 1 Axes>"
      ]
     },
     "metadata": {},
     "output_type": "display_data"
    }
   ],
   "source": [
    "import matplotlib.pyplot as plt\n",
    "\n",
    "X=[10,25,47,68,89]\n",
    "y=[20,40,55,65,75]\n",
    "\n",
    "plt.figure(figsize=(5,5))\n",
    "plt.scatter(X,y)\n",
    "\n",
    "mypoint=(80,5)\n",
    "\n",
    "plt.scatter(mypoint[0],mypoint[1],s=100,c='r')\n",
    "\n",
    "#mypoint와 가장 가까운 포인트는?"
   ]
  },
  {
   "cell_type": "code",
   "execution_count": 2,
   "metadata": {},
   "outputs": [
    {
     "name": "stdout",
     "output_type": "stream",
     "text": [
      "[71.58910531638176, 65.19202405202648, 59.90826320300064, 61.18823416311342, 70.57619995437555]\n",
      "가장 가까운 포인트의 인덱스: 2\n",
      "가장 가까운 포인트는? [47 55]\n"
     ]
    }
   ],
   "source": [
    "#a,b의 유클리드 거리(직선거리) 구하기\n",
    "\n",
    "from math import sqrt\n",
    "import numpy as np\n",
    "\n",
    "def distance(p, m):\n",
    "    items=[]\n",
    "\n",
    "    for i in range(len(p-1)):\n",
    "        d = sqrt((m[0] - p[i][0])**2 + (m[1] - p[i][1])**2)\n",
    "        items.append(d)\n",
    "    return items\n",
    "\n",
    "points=np.array(list(zip(X,y)))\n",
    "\n",
    "r=distance( points, mypoint )\n",
    "print(r)\n",
    "\n",
    "m=min(r)\n",
    "i=np.argmin(r)\n",
    "#    최소값 인덱스\n",
    "\n",
    "print('가장 가까운 포인트의 인덱스:',i)\n",
    "print('가장 가까운 포인트는?',points[i])"
   ]
  },
  {
   "cell_type": "code",
   "execution_count": 3,
   "metadata": {},
   "outputs": [
    {
     "data": {
      "text/plain": [
       "[71.58910531638176,\n",
       " 65.19202405202648,\n",
       " 59.90826320300064,\n",
       " 61.18823416311342,\n",
       " 70.57619995437555]"
      ]
     },
     "execution_count": 3,
     "metadata": {},
     "output_type": "execute_result"
    }
   ],
   "source": [
    "#사이파이 패키지에 내장된 유클리드 거리 함수\n",
    "\n",
    "from scipy.spatial import distance\n",
    "\n",
    "results=[]\n",
    "\n",
    "for point in points:\n",
    "    dist = distance.euclidean(point, mypoint)\n",
    "    results.append(dist)\n",
    "results    "
   ]
  },
  {
   "cell_type": "code",
   "execution_count": 4,
   "metadata": {},
   "outputs": [
    {
     "name": "stdout",
     "output_type": "stream",
     "text": [
      "[85, 90, 83, 72, 79]\n",
      "가장 가까운 포인트의 인덱스: 3\n",
      "가장 가까운 포인트는? [68 65]\n"
     ]
    }
   ],
   "source": [
    "#X,y의 맨해튼 거리 구하기\n",
    "\n",
    "def distance(p, m):\n",
    "    items=[]\n",
    "\n",
    "    for i in range(len(p-1)):\n",
    "        d = abs(m[0] - p[i][0]) + abs(m[1] - p[i][1])\n",
    "        items.append(d)\n",
    "    return items\n",
    "\n",
    "r=distance( points, mypoint )\n",
    "print(r)\n",
    "\n",
    "m=min(r)\n",
    "i=np.argmin(r)\n",
    "\n",
    "print('가장 가까운 포인트의 인덱스:',i)\n",
    "print('가장 가까운 포인트는?',points[i])"
   ]
  },
  {
   "cell_type": "code",
   "execution_count": 5,
   "metadata": {},
   "outputs": [
    {
     "data": {
      "text/plain": [
       "[85, 90, 83, 72, 79]"
      ]
     },
     "execution_count": 5,
     "metadata": {},
     "output_type": "execute_result"
    }
   ],
   "source": [
    "#사이파이 패키지에 내장된 맨해튼 거리를 구하는 함수\n",
    "\n",
    "from scipy.spatial import distance\n",
    "\n",
    "results=[]\n",
    "\n",
    "for point in points:\n",
    "    dist = distance.cityblock(point, mypoint)\n",
    "    results.append(dist)\n",
    "results"
   ]
  },
  {
   "cell_type": "code",
   "execution_count": null,
   "metadata": {},
   "outputs": [],
   "source": []
  }
 ],
 "metadata": {
  "kernelspec": {
   "display_name": "Python 3",
   "language": "python",
   "name": "python3"
  },
  "language_info": {
   "codemirror_mode": {
    "name": "ipython",
    "version": 3
   },
   "file_extension": ".py",
   "mimetype": "text/x-python",
   "name": "python",
   "nbconvert_exporter": "python",
   "pygments_lexer": "ipython3",
   "version": "3.9.13"
  },
  "orig_nbformat": 4
 },
 "nbformat": 4,
 "nbformat_minor": 2
}
