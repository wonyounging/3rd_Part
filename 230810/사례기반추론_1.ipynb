{
 "cells": [
  {
   "cell_type": "markdown",
   "metadata": {},
   "source": [
    "### 1) 최근접 이웃 알고리즘 개요"
   ]
  },
  {
   "cell_type": "code",
   "execution_count": 28,
   "metadata": {},
   "outputs": [
    {
     "name": "stdout",
     "output_type": "stream",
     "text": [
      "[0]\n",
      "[[0.66666667 0.33333333]]\n",
      "[0]\n"
     ]
    }
   ],
   "source": [
    "#지도학습\n",
    "\n",
    "from sklearn.neighbors import KNeighborsClassifier\n",
    "\n",
    "X = [[0], [1], [2], [3]]\n",
    "y = [0, 0, 1, 1]\n",
    "\n",
    "knn = KNeighborsClassifier(n_neighbors=3)\n",
    "#                           가장 가까운 이웃의 수\n",
    "\n",
    "knn.fit(X, y)\n",
    "\n",
    "#1.1의 분류는?\n",
    "print(knn.predict([[1.1]])) # 0으로 분류됨\n",
    "\n",
    "#0.9는 0일 확률 66%, 1일 확률 33% => 0으로 분류됨\n",
    "print(knn.predict_proba([[0.9]]))\n",
    "print(knn.predict([[0.9]]))"
   ]
  },
  {
   "cell_type": "code",
   "execution_count": 9,
   "metadata": {},
   "outputs": [
    {
     "name": "stdout",
     "output_type": "stream",
     "text": [
      "(array([[0.8]]), array([[2]], dtype=int64))\n"
     ]
    }
   ],
   "source": [
    "#비지도학습\n",
    "\n",
    "from sklearn.neighbors import NearestNeighbors\n",
    "\n",
    "samples = [[0, 0, 0], [0, 0.5, 0], [1, 1, 0.2]]\n",
    "\n",
    "nn = NearestNeighbors(n_neighbors=1)    # 답이 없는(라벨링이 되어 있지 않은) 데이터를 찾기 위함\n",
    "\n",
    "nn.fit(samples)\n",
    "\n",
    "#새로운 데이터 1,1,1에 가장 가까운 데이터는?\n",
    "print(nn.kneighbors([[1., 1., 1.]]))\n",
    "\n",
    "# 세번째가 가장 가깝고 거리는 0.8"
   ]
  },
  {
   "cell_type": "code",
   "execution_count": 10,
   "metadata": {},
   "outputs": [
    {
     "name": "stdout",
     "output_type": "stream",
     "text": [
      "[32.5]\n",
      "[21.  21.  32.5 32.5]\n"
     ]
    }
   ],
   "source": [
    "#최근접 이웃 회귀모형\n",
    "\n",
    "from sklearn.neighbors import KNeighborsRegressor\n",
    "\n",
    "X = [[40], [45], [60], [70]] #평방미터\n",
    "y = [20, 22, 30, 35] #월세\n",
    "\n",
    "neigh = KNeighborsRegressor(n_neighbors=2)\n",
    "#                 회귀모형\n",
    "\n",
    "neigh.fit(X, y)\n",
    "\n",
    "# 65평방미터일 때의 월세는?\n",
    "print(neigh.predict([[65]]))\n",
    "print(neigh.predict(X))"
   ]
  }
 ],
 "metadata": {
  "kernelspec": {
   "display_name": "Python 3",
   "language": "python",
   "name": "python3"
  },
  "language_info": {
   "codemirror_mode": {
    "name": "ipython",
    "version": 3
   },
   "file_extension": ".py",
   "mimetype": "text/x-python",
   "name": "python",
   "nbconvert_exporter": "python",
   "pygments_lexer": "ipython3",
   "version": "3.9.13"
  },
  "orig_nbformat": 4
 },
 "nbformat": 4,
 "nbformat_minor": 2
}
