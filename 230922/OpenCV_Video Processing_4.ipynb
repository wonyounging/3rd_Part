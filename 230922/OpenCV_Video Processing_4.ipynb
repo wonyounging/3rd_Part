{
 "cells": [
  {
   "cell_type": "markdown",
   "metadata": {},
   "source": [
    "### 동영상 배경 제거"
   ]
  },
  {
   "cell_type": "code",
   "execution_count": 3,
   "metadata": {},
   "outputs": [],
   "source": [
    "import cv2 as cv\n",
    "\n",
    "# 백그라운드 감산기 객체 생성(배경 제거)\n",
    "backSub = cv.createBackgroundSubtractorMOG2()\n",
    "\n",
    "capture = cv.VideoCapture('c:/workspace3/data/video/vtest.mp4')\n",
    "kernel = cv.getStructuringElement(cv.MORPH_ELLIPSE, (5,5))\n",
    "\n",
    "while True:\n",
    "    ret, frame = capture.read()\n",
    "    if frame is None:\n",
    "        break\n",
    "\n",
    "    #배경이 추출된 영상\n",
    "    fgMask = backSub.apply(frame)\n",
    "\n",
    "    #배경에서 추출된 영상을 오프닝한 영상\n",
    "    fgMask_morph = cv.morphologyEx(fgMask, cv.MORPH_OPEN, kernel)\n",
    "\n",
    "    cv.rectangle(frame, (10, 2), (100,20), (255,255,255), -1)\n",
    "    cv.putText(frame, str(capture.get(cv.CAP_PROP_POS_FRAMES)), (15, 15),\n",
    "               cv.FONT_HERSHEY_SIMPLEX, 0.5 , (0,0,0))\n",
    "\n",
    "    cv.imshow('Frame', frame)\n",
    "    cv.imshow('FG Mask Blur', fgMask_morph)\n",
    "\n",
    "    keyboard = cv.waitKey(1) & 0xFF\n",
    "\n",
    "    if keyboard == 27:\n",
    "        break\n",
    "\n",
    "capture.release()\n",
    "cv.destroyAllWindows()"
   ]
  }
 ],
 "metadata": {
  "kernelspec": {
   "display_name": "Python 3",
   "language": "python",
   "name": "python3"
  },
  "language_info": {
   "codemirror_mode": {
    "name": "ipython",
    "version": 3
   },
   "file_extension": ".py",
   "mimetype": "text/x-python",
   "name": "python",
   "nbconvert_exporter": "python",
   "pygments_lexer": "ipython3",
   "version": "3.9.13"
  },
  "orig_nbformat": 4
 },
 "nbformat": 4,
 "nbformat_minor": 2
}
