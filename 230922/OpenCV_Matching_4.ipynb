{
 "cells": [
  {
   "cell_type": "markdown",
   "metadata": {},
   "source": [
    "### 회전매칭"
   ]
  },
  {
   "cell_type": "code",
   "execution_count": 1,
   "metadata": {},
   "outputs": [],
   "source": [
    "import cv2\n",
    "import random\n",
    "\n",
    "image = cv2.imread('c:/workspace3/data/images/image.jpg')\n",
    "image_rot = cv2.imread('c:/workspace3/data/images/image_rot.jpg')\n",
    "\n",
    "gray= cv2.cvtColor(image,cv2.COLOR_BGR2GRAY)\n",
    "gray_rot = cv2.cvtColor(image_rot,cv2.COLOR_BGR2GRAY)\n",
    "\n",
    "#SIFT (Scale-Invariant Feature Transform)\n",
    "sift = cv2.SIFT_create()\n",
    "\n",
    "#특징점과 특징 디스크립터를 동시에 계산\n",
    "kp, desc = sift.detectAndCompute(gray,None)\n",
    "kp_rot, desc_rot = sift.detectAndCompute(gray_rot, None)\n",
    "\n",
    "#기본 파라미터로 BFMatcher 생성\n",
    "#BFMatcher(Brute-Force Matcher) : queryDescriptors와 trainDescriptor를 하나씩 확인하여 매칭 여부 판단\n",
    "bf = cv2.BFMatcher()\n",
    "matches = bf.knnMatch(desc,desc_rot, k=2)\n",
    "#              사례기반 추론          이웃 수\n",
    "\n",
    "#비율 테스트\n",
    "good = []\n",
    "for m,n in matches:\n",
    "    if m.distance < 0.4*n.distance:\n",
    "        good.append([m])\n",
    "\n",
    "#대응된 키포인트를 섞음\n",
    "random.shuffle(good)\n",
    "\n",
    "image_match = cv2.drawMatchesKnn(image, kp, image_rot, kp_rot, good[:10], flags=2, outImg=None)\n",
    "\n",
    "cv2.imwrite('sift_matches.jpg', image_match)\n",
    "cv2.imshow('img', image_match)\n",
    "\n",
    "cv2.waitKey(0)\n",
    "cv2.destroyAllWindows()"
   ]
  }
 ],
 "metadata": {
  "kernelspec": {
   "display_name": "Python 3",
   "language": "python",
   "name": "python3"
  },
  "language_info": {
   "codemirror_mode": {
    "name": "ipython",
    "version": 3
   },
   "file_extension": ".py",
   "mimetype": "text/x-python",
   "name": "python",
   "nbconvert_exporter": "python",
   "pygments_lexer": "ipython3",
   "version": "3.9.13"
  },
  "orig_nbformat": 4
 },
 "nbformat": 4,
 "nbformat_minor": 2
}
