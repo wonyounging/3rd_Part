{
 "cells": [
  {
   "cell_type": "markdown",
   "metadata": {},
   "source": [
    "### 색상 채우기"
   ]
  },
  {
   "cell_type": "code",
   "execution_count": 7,
   "metadata": {},
   "outputs": [],
   "source": [
    "import cv2\n",
    "import numpy as np\n",
    "\n",
    "img = cv2.imread('c:/workspace3/data/images/plane_256x256.jpg')\n",
    "rows, cols = img.shape[:2]\n",
    "\n",
    "# 마스크 생성, 원래 이미지 보다 2픽셀 크게\n",
    "mask = np.zeros((rows+2, cols+2), np.uint8)\n",
    "\n",
    "# 채울 색상\n",
    "newVal = (255,255,255)\n",
    "\n",
    "# 최소 최대 차이 값\n",
    "loDiff, upDiff = (10,10,10), (10,10,10)\n",
    "\n",
    "def onMouse(event, x, y, flags, param):\n",
    "    global mask, img\n",
    "\n",
    "    if event == cv2.EVENT_LBUTTONDOWN:\n",
    "        seed = (x,y)\n",
    "\n",
    "        # 연속 영역에 같은 색상을 채우는 함수\n",
    "        # cv2.floodFill(입력 영상, 입력 영상보다 2X2 픽셀이 더 큰 배열, seed, 채우기에 사용할 색상 값, 채우기 진행을 결정할 최소차이값, 채우기 진행을 결정할 최대 차이값, 채우기방식)        \n",
    "        retval = cv2.floodFill(img, mask, seed, newVal, loDiff, upDiff)\n",
    "\n",
    "        cv2.imshow('img', img)\n",
    "\n",
    "cv2.imshow('img', img)\n",
    "\n",
    "cv2.setMouseCallback('img', onMouse)\n",
    "#                     이미지 객체, 마우스 이벤트 함수\n",
    "cv2.waitKey(0)\n",
    "cv2.destroyAllWindows()"
   ]
  },
  {
   "cell_type": "code",
   "execution_count": null,
   "metadata": {},
   "outputs": [],
   "source": []
  }
 ],
 "metadata": {
  "kernelspec": {
   "display_name": "Python 3",
   "language": "python",
   "name": "python3"
  },
  "language_info": {
   "codemirror_mode": {
    "name": "ipython",
    "version": 3
   },
   "file_extension": ".py",
   "mimetype": "text/x-python",
   "name": "python",
   "nbconvert_exporter": "python",
   "pygments_lexer": "ipython3",
   "version": "3.9.13"
  },
  "orig_nbformat": 4
 },
 "nbformat": 4,
 "nbformat_minor": 2
}
