{
 "cells": [
  {
   "cell_type": "markdown",
   "metadata": {},
   "source": [
    "### 경계선 검출 3"
   ]
  },
  {
   "cell_type": "code",
   "execution_count": 1,
   "metadata": {},
   "outputs": [
    {
     "name": "stdout",
     "output_type": "stream",
     "text": [
      "False True\n"
     ]
    }
   ],
   "source": [
    "# contour : 동일한 픽셀값을 가지고 있는 영역의 경계선 정보, 윤곽선, 외형 파악\n",
    "\n",
    "import cv2\n",
    "import numpy as np\n",
    "\n",
    "img = cv2.imread('c:/workspace3/data/images/hand.jpg')\n",
    "img2 = img.copy()\n",
    "\n",
    "gray = cv2.cvtColor(img, cv2.COLOR_BGR2GRAY)\n",
    "#                               흑백으로\n",
    "ret, th = cv2.threshold(gray, 127, 255, cv2.THRESH_BINARY_INV)\n",
    "#               이진화         기준 최대\n",
    "\n",
    "# 컨투어 찾기와 그리기\n",
    "contours, heiarchy = cv2.findContours(th, cv2.RETR_EXTERNAL, \\\n",
    "                                         cv2.CHAIN_APPROX_SIMPLE)[-2:]\n",
    "\n",
    "cntr = contours[0]\n",
    "\n",
    "cv2.drawContours(img, [cntr], -1, (0, 255,0), 1)\n",
    "\n",
    "# convexHull : 2차원 평면상의 여러 포인트를 이용하여 볼록 다각형을 만드는 알고리즘\n",
    "hull = cv2.convexHull(cntr) #좌표 기준\n",
    "\n",
    "cv2.drawContours(img2, [hull], -1, (0,255,0), 1)\n",
    "print(cv2.isContourConvex(cntr), cv2.isContourConvex(hull))\n",
    "\n",
    "hull2 = cv2.convexHull(cntr, returnPoints=False) # 인덱스 기준\n",
    "\n",
    "# 볼록 선체 결함 찾기\n",
    "defects = cv2.convexityDefects(cntr, hull2)\n",
    "\n",
    "# 볼록 선체 결함 순회\n",
    "for i in range(defects.shape[0]):\n",
    "    # 시작, 종료, 가장 먼 지점, 거리\n",
    "    startP, endP, farthestP, distance = defects[i, 0]\n",
    "\n",
    "    # 가장 먼 지점의 좌표\n",
    "    farthest = tuple(cntr[farthestP][0])\n",
    "    dist = distance/256.0\n",
    "    if dist > 1 :\n",
    "        cv2.circle(img2, farthest, 3, (0,0,255), -1)\n",
    "\n",
    "cv2.imshow('contour', img)\n",
    "cv2.imshow('convex hull', img2)\n",
    "\n",
    "cv2.waitKey(0)\n",
    "cv2.destroyAllWindows()"
   ]
  }
 ],
 "metadata": {
  "kernelspec": {
   "display_name": "Python 3",
   "language": "python",
   "name": "python3"
  },
  "language_info": {
   "codemirror_mode": {
    "name": "ipython",
    "version": 3
   },
   "file_extension": ".py",
   "mimetype": "text/x-python",
   "name": "python",
   "nbconvert_exporter": "python",
   "pygments_lexer": "ipython3",
   "version": "3.9.13"
  },
  "orig_nbformat": 4
 },
 "nbformat": 4,
 "nbformat_minor": 2
}
