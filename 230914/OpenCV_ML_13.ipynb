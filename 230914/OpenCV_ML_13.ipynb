{
 "cells": [
  {
   "cell_type": "markdown",
   "metadata": {},
   "source": [
    "### CNN-견종분류"
   ]
  },
  {
   "cell_type": "code",
   "execution_count": 2,
   "metadata": {},
   "outputs": [
    {
     "name": "stdout",
     "output_type": "stream",
     "text": [
      "1/1 [==============================] - 4s 4s/step\n",
      "(0.776465)American_Staffordshire_terrier\n",
      "(0.17950472)Staffordshire_bullterrier\n",
      "(0.008455099)Rottweiler\n",
      "(0.007220962)Weimaraner\n",
      "(0.005805737)pug\n",
      "1/1 [==============================] - 0s 39ms/step\n",
      "(0.86940986)pug\n",
      "(0.03870331)kuvasz\n",
      "(0.018810876)Bouvier_des_Flandres\n",
      "(0.007194111)Maltese_dog\n",
      "(0.0042570406)bull_mastiff\n",
      "1/1 [==============================] - 0s 33ms/step\n",
      "(0.5626197)Eskimo_dog\n",
      "(0.26648185)Siberian_husky\n",
      "(0.032120105)Norwegian_elkhound\n",
      "(0.029735114)Labrador_retriever\n",
      "(0.027459096)pug\n"
     ]
    },
    {
     "data": {
      "text/plain": [
       "0"
      ]
     },
     "execution_count": 2,
     "metadata": {},
     "output_type": "execute_result"
    }
   ],
   "source": [
    "import cv2 as cv\n",
    "import numpy as np\n",
    "import tensorflow as tf\n",
    "import pickle\n",
    "import sys\n",
    "from PyQt5.QtWidgets import *\n",
    "\n",
    "cnn=tf.keras.models.load_model('c:/data/model/cnn_for_stanford_dogs.h5')    \n",
    "dog_species=pickle.load(open('c:/data/model/dog_species_names.txt','rb'))    \n",
    "     \n",
    "class DogSpeciesRecognition(QMainWindow):\n",
    "    def __init__(self) :\n",
    "        super().__init__()\n",
    "        self.setGeometry(200,200,700,100)\n",
    "      \n",
    "        fileButton=QPushButton('open image',self)\n",
    "        recognitionButton=QPushButton('classification',self)\n",
    "        quitButton=QPushButton('quit',self)\n",
    "      \n",
    "        fileButton.setGeometry(10,10,100,30)\n",
    "        recognitionButton.setGeometry(110,10,100,30)\n",
    "        quitButton.setGeometry(510,10,100,30)        \n",
    "\n",
    "        fileButton.clicked.connect(self.pictureOpenFunction)\n",
    "        recognitionButton.clicked.connect(self.recognitionFunction)                        \n",
    "        quitButton.clicked.connect(self.quitFunction)\n",
    "\n",
    "    def pictureOpenFunction(self):\n",
    "        fname=QFileDialog.getOpenFileName(self,'강아지 사진 읽기','./')          \n",
    "        self.img=cv.imread(fname[0])\n",
    "        if self.img is None: sys.exit('파일을 찾을 수 없습니다.')  \n",
    "\n",
    "        cv.imshow('Dog image',self.img)          \n",
    "\n",
    "    def recognitionFunction(self):\n",
    "        x=np.reshape(cv.resize(self.img,(224,224)),(1,224,224,3))    \n",
    "        res=cnn.predict(x)[0]    \n",
    "        top5=np.argsort(-res)[:5]\n",
    "        top5_dog_species_names=[dog_species[i] for i in top5]\n",
    "\n",
    "        for i in range(5):\n",
    "            prob='('+str(res[top5[i]])+')'\n",
    "            name=str(top5_dog_species_names[i]).split('-')[1]\n",
    "            print(prob+name)\n",
    "\n",
    "        cv.imshow('Dog image',self.img)                 \n",
    "\n",
    "    def quitFunction(self):\n",
    "        cv.destroyAllWindows()        \n",
    "\n",
    "        self.close()             \n",
    "\n",
    "app=QApplication(sys.argv)\n",
    "win=DogSpeciesRecognition()\n",
    "win.show()\n",
    "app.exec_()"
   ]
  }
 ],
 "metadata": {
  "kernelspec": {
   "display_name": "Python 3",
   "language": "python",
   "name": "python3"
  },
  "language_info": {
   "codemirror_mode": {
    "name": "ipython",
    "version": 3
   },
   "file_extension": ".py",
   "mimetype": "text/x-python",
   "name": "python",
   "nbconvert_exporter": "python",
   "pygments_lexer": "ipython3",
   "version": "3.9.13"
  },
  "orig_nbformat": 4
 },
 "nbformat": 4,
 "nbformat_minor": 2
}
