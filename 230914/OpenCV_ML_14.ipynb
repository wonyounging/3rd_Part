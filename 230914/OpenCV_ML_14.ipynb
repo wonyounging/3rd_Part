{
 "cells": [
  {
   "cell_type": "markdown",
   "metadata": {},
   "source": [
    "### Caffe Model-나이/성별 예측"
   ]
  },
  {
   "cell_type": "code",
   "execution_count": 3,
   "metadata": {},
   "outputs": [],
   "source": [
    "# ! pip install dlib"
   ]
  },
  {
   "cell_type": "code",
   "execution_count": 1,
   "metadata": {},
   "outputs": [
    {
     "ename": "ModuleNotFoundError",
     "evalue": "No module named 'dlib'",
     "output_type": "error",
     "traceback": [
      "\u001b[1;31m---------------------------------------------------------------------------\u001b[0m",
      "\u001b[1;31mModuleNotFoundError\u001b[0m                       Traceback (most recent call last)",
      "\u001b[1;32mc:\\workspace3\\230914\\OpenCV_ML_14.ipynb 셀 2\u001b[0m line \u001b[0;36m4\n\u001b[0;32m      <a href='vscode-notebook-cell:/c%3A/workspace3/230914/OpenCV_ML_14.ipynb#W1sZmlsZQ%3D%3D?line=0'>1</a>\u001b[0m \u001b[39m# caffemodel 다운로드 URL : https://github.com/habom2310/People-tracking-with-Age-and-Gender-detection\u001b[39;00m\n\u001b[0;32m      <a href='vscode-notebook-cell:/c%3A/workspace3/230914/OpenCV_ML_14.ipynb#W1sZmlsZQ%3D%3D?line=2'>3</a>\u001b[0m \u001b[39mimport\u001b[39;00m \u001b[39mglob\u001b[39;00m\n\u001b[1;32m----> <a href='vscode-notebook-cell:/c%3A/workspace3/230914/OpenCV_ML_14.ipynb#W1sZmlsZQ%3D%3D?line=3'>4</a>\u001b[0m \u001b[39mimport\u001b[39;00m \u001b[39mdlib\u001b[39;00m\n\u001b[0;32m      <a href='vscode-notebook-cell:/c%3A/workspace3/230914/OpenCV_ML_14.ipynb#W1sZmlsZQ%3D%3D?line=4'>5</a>\u001b[0m \u001b[39mimport\u001b[39;00m \u001b[39mcv2\u001b[39;00m\n",
      "\u001b[1;31mModuleNotFoundError\u001b[0m: No module named 'dlib'"
     ]
    }
   ],
   "source": [
    "# caffemodel 다운로드 URL : https://github.com/habom2310/People-tracking-with-Age-and-Gender-detection\n",
    "\n",
    "import glob\n",
    "import dlib\n",
    "import cv2"
   ]
  },
  {
   "cell_type": "code",
   "execution_count": null,
   "metadata": {},
   "outputs": [],
   "source": [
    "age_list = ['(0-2)', '(4-6)', '(8-12)', '(15-20)', '(25-32)', '(38-43)', '(48-53)', '(60-100)']  # 나이 분류 구간 정의\n",
    "gender_list = ['Male','Female']  # 성별 구분 정의"
   ]
  },
  {
   "cell_type": "code",
   "execution_count": null,
   "metadata": {},
   "outputs": [],
   "source": [
    "# 얼굴을 감지하는 detector\n",
    "detector = dlib.get_frontal_face_detector()      \n",
    "\n",
    "# 나이를 감지하는 detector\n",
    "age_detector = cv2.dnn.readNetFromCaffe(          \n",
    "               'c:/data/model/deploy_age.prototxt',\n",
    "               'c:/data/model/age_net.caffemodel')\n",
    "\n",
    "# 성별을 감지하는 detector        \n",
    "gender_detector = cv2.dnn.readNetFromCaffe(      \n",
    "               'c:/data/model/deploy_gender.prototxt',\n",
    "               'c:/data/model/gender_net.caffemodel')\n",
    "\n",
    "img_list = glob.glob('c:/workspace3/data/images/age_gender/*.jpg')  "
   ]
  },
  {
   "cell_type": "code",
   "execution_count": null,
   "metadata": {},
   "outputs": [],
   "source": [
    "len(img_list)"
   ]
  },
  {
   "cell_type": "code",
   "execution_count": null,
   "metadata": {},
   "outputs": [],
   "source": [
    "import matplotlib.pyplot as plt\n",
    "import numpy as np\n",
    "\n",
    "for img_path in img_list:\n",
    "  image = cv2.imread(img_path) \n",
    "  gray = cv2.cvtColor(image, cv2.COLOR_BGR2GRAY)\n",
    "\n",
    "  faces = detector(gray, 1)  # detector 에 의해 얼굴 감지\n",
    "  print(\"Number of faces detected: {}\".format(len(faces)))\n",
    "\n",
    "  for face in faces:\n",
    "    # boxing 좌표\n",
    "    x1, y1, x2, y2 = face.left(), face.top(), face.right(), face.bottom()  \n",
    "\n",
    "    # 이미지에서 얼굴 영역만 copy\n",
    "    face_img = image[y1:y2, x1:x2].copy()  \n",
    "    blob = cv2.dnn.blobFromImage(face_img, scalefactor=1, size=(227, 227),\n",
    "           mean=(78.4263377603, 87.7689143744, 114.895847746), swapRB=False, crop=False)\n",
    "\n",
    "    # predict age\n",
    "    age_detector.setInput(blob)\n",
    "    age_preds = age_detector.forward()\n",
    "    age = age_list[age_preds[0].argmax()]\n",
    "\n",
    "    # predict gender\n",
    "    gender_detector.setInput(blob)\n",
    "    gender_preds = gender_detector.forward()\n",
    "    gender = gender_list[gender_preds[0].argmax()]\n",
    "\n",
    "    cv2.rectangle(image, (x1, y1), (x2, y2), (255,255,255), 2)\n",
    "\n",
    "    overlay_text = '%s %s' % (gender, age)\n",
    "\n",
    "    cv2.putText(image, overlay_text, org=(x1, y1), fontFace=cv2.FONT_HERSHEY_SIMPLEX,\n",
    "                fontScale=1, color=(0,0,0), thickness=10)\n",
    "\n",
    "    cv2.putText(image, overlay_text, org=(x1, y1),\n",
    "                fontFace=cv2.FONT_HERSHEY_SIMPLEX, fontScale=1, color=(255,255,255), thickness=2)\n",
    "\n",
    "  image=cv2.cvtColor(np.array(image), cv2.COLOR_BGR2RGB)\n",
    "  plt.figure()\n",
    "  plt.imshow(image)\n",
    "\n",
    "  plt.show()  \n",
    "  \n",
    "import cv2 as cv\n",
    "import numpy as np\n",
    "from tensorflow.keras.applications.resnet50 import ResNet50,preprocess_input,decode_predictions\n",
    "\n",
    "model=ResNet50(weights='imagenet')\n",
    "img=cv.imread('d:/images/rabbit.jpg')\n",
    "\n",
    "x=np.reshape(cv.resize(img,(224,224)),(1,224,224,3))  \n",
    "x=preprocess_input(x)\n",
    "preds=model.predict(x)\n",
    "\n",
    "top5=decode_predictions(preds,top=5)[0]\n",
    "print('예측 결과:',top5)\n",
    "\n",
    "for i in range(5):\n",
    "    cv.putText(img,top5[i][1]+':'+str(top5[i][2]),(10,20+i*20),cv.FONT_HERSHEY_SIMPLEX,0.5,(255,255,255),1)\n",
    "\n",
    "cv.imshow('Recognition result',img)\n",
    "cv.waitKey()\n",
    "cv.destroyAllWindows()"
   ]
  }
 ],
 "metadata": {
  "kernelspec": {
   "display_name": "Python 3",
   "language": "python",
   "name": "python3"
  },
  "language_info": {
   "codemirror_mode": {
    "name": "ipython",
    "version": 3
   },
   "file_extension": ".py",
   "mimetype": "text/x-python",
   "name": "python",
   "nbconvert_exporter": "python",
   "pygments_lexer": "ipython3",
   "version": "3.9.13"
  },
  "orig_nbformat": 4
 },
 "nbformat": 4,
 "nbformat_minor": 2
}
