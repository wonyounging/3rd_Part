{
 "cells": [
  {
   "cell_type": "markdown",
   "metadata": {},
   "source": [
    "### 특징점 매칭 2"
   ]
  },
  {
   "cell_type": "code",
   "execution_count": 3,
   "metadata": {},
   "outputs": [
    {
     "name": "stdout",
     "output_type": "stream",
     "text": [
      "특징점 개수: 86 267\n",
      "매칭에 걸린 시간: 0.010419368743896484\n"
     ]
    }
   ],
   "source": [
    "import cv2 as cv\n",
    "import numpy as np\n",
    "import time\n",
    "\n",
    "# bus crop\n",
    "img1=cv.imread('c:/workspace3/data/images/mot_color70.jpg')[190:350,440:560]\n",
    "gray1=cv.cvtColor(img1,cv.COLOR_BGR2GRAY)\n",
    "\n",
    "# 전체 이미지\n",
    "img2=cv.imread('c:/workspace3/data/images/mot_color83.jpg')                \n",
    "gray2=cv.cvtColor(img2,cv.COLOR_BGR2GRAY)\n",
    "\n",
    "# SIFT (Scale-Invariant Feature Transform)\n",
    "#      스케일 불변       특징      변환\n",
    "# 특징 디스크립터 검출기, 이미지의 크기 변화에 따른 특징점 검출 문제를 해결한 방법\n",
    "sift=cv.SIFT_create()\n",
    "\n",
    "# 특징점과 특징 디스크립터를 동시에 계산\n",
    "# 특징 디스크립터(feature descriptor) : 특징점 주변 픽셀을 일정한 크기의 블록으로 나누어 각 블록에 속한 픽셀의 그레디언트 히스토그램을 계산한 것. 주로 특징점 주변의 밝기, 색상, 방향, 크기 등의 정보\n",
    "kp1,des1=sift.detectAndCompute(gray1,None)\n",
    "kp2,des2=sift.detectAndCompute(gray2,None)\n",
    "print('특징점 개수:',len(kp1),len(kp2))\n",
    "\n",
    "start=time.time()\n",
    "\n",
    "# 두 개의 디스크립터를 서로 비교하여 매칭 해주는 함수\n",
    "# FLANN(Fast Library for Approximate Nearest Neighbors)\n",
    "#       빠른  라이브러리     대략적인      최근접 이웃\n",
    "flann_matcher=cv.DescriptorMatcher_create(cv.DescriptorMatcher_FLANNBASED)\n",
    "knn_match=flann_matcher.knnMatch(des1,des2,2)\n",
    "\n",
    "T=0.7\n",
    "good_match=[]\n",
    "\n",
    "for nearest1,nearest2 in knn_match:\n",
    "    if (nearest1.distance/nearest2.distance)<T:\n",
    "        good_match.append(nearest1)        \n",
    "\n",
    "print('매칭에 걸린 시간:',time.time()-start)\n",
    "\n",
    "img_match=np.empty((max(img1.shape[0],img2.shape[0]),img1.shape[1]+img2.shape[1],3),dtype=np.uint8)\n",
    "\n",
    "cv.drawMatches(img1,kp1,img2,kp2,good_match,img_match,flags=cv.DrawMatchesFlags_NOT_DRAW_SINGLE_POINTS)\n",
    "cv.imshow('Good Matches', img_match)\n",
    "\n",
    "k=cv.waitKey()\n",
    "cv.destroyAllWindows()"
   ]
  }
 ],
 "metadata": {
  "kernelspec": {
   "display_name": "Python 3",
   "language": "python",
   "name": "python3"
  },
  "language_info": {
   "codemirror_mode": {
    "name": "ipython",
    "version": 3
   },
   "file_extension": ".py",
   "mimetype": "text/x-python",
   "name": "python",
   "nbconvert_exporter": "python",
   "pygments_lexer": "ipython3",
   "version": "3.9.13"
  },
  "orig_nbformat": 4
 },
 "nbformat": 4,
 "nbformat_minor": 2
}
