{
 "cells": [
  {
   "cell_type": "markdown",
   "metadata": {},
   "source": [
    "### 중심점 구하기 2"
   ]
  },
  {
   "cell_type": "code",
   "execution_count": 1,
   "metadata": {},
   "outputs": [
    {
     "name": "stdout",
     "output_type": "stream",
     "text": [
      "vertices: 10\n",
      "vertices: 16\n",
      "vertices: 3\n",
      "vertices: 4\n",
      "vertices: 4\n"
     ]
    }
   ],
   "source": [
    "import cv2\n",
    "import numpy as np\n",
    "\n",
    "img = cv2.imread(\"c:/workspace3/data/images/5shapes.jpg\")\n",
    "img2 = img.copy()\n",
    "\n",
    "imgray = cv2.cvtColor(img, cv2.COLOR_BGR2GRAY)\n",
    "ret, th = cv2.threshold(imgray, 127, 255, cv2.THRESH_BINARY_INV)\n",
    "contours, _ = cv2.findContours(th, cv2.RETR_EXTERNAL, \\\n",
    "                                        cv2.CHAIN_APPROX_SIMPLE)[-2:]\n",
    "\n",
    "for contour in contours:\n",
    "    # 각 컨투어에 근사 컨투어로 단순화\n",
    "    approx = cv2.approxPolyDP(contour, 0.01*cv2.arcLength(contour, True), True)\n",
    "\n",
    "    # 꼭지점의 개수\n",
    "    vertices = len(approx)\n",
    "    print(\"vertices:\", vertices)\n",
    "   \n",
    "    # 중심점 찾기\n",
    "    mmt = cv2.moments(contour)\n",
    "    cx,cy = int(mmt['m10']/mmt['m00']), int(mmt['m01']/mmt['m00'])\n",
    "    \n",
    "    name = \"Unkown\"\n",
    "\n",
    "    if vertices == 3: # 꼭지점 3개는 삼각형\n",
    "        name = \"Triangle\"\n",
    "        color = (0,255,0)\n",
    "\n",
    "    elif vertices == 4: # 꼭지점 4개는 사각형\n",
    "        x,y,w,h = cv2.boundingRect(contour)\n",
    "        if abs(w-h) <= 3:   # 폭과 높이의 차이가 3보다 작으면 정사각형\n",
    "            name = 'Square'\n",
    "            color = (0,125,255)\n",
    "        else: # 직사각형\n",
    "            name = 'Rectangle'\n",
    "            color = (0,0,255)\n",
    "    elif vertices == 10:  # 꼭지점 개수 10개는 별\n",
    "        name = 'Star'\n",
    "        color = (255,255,0)\n",
    "    elif vertices >= 15: # 꼭지점 10개 이상이면 원\n",
    "        name = 'Circle'\n",
    "        color = (0,255,255)\n",
    "\n",
    "    # 컨투어 그리기    \n",
    "    cv2.drawContours(img2, [contour], -1, color, -1)\n",
    "\n",
    "    # 도형 이름 출력\n",
    "    cv2.putText(img2, name, (cx-50, cy), cv2.FONT_HERSHEY_COMPLEX_SMALL,\\\n",
    "                                                         1, (100,100,100), 1)\n",
    "\n",
    "cv2.imshow('Input Shapes', img)\n",
    "cv2.imshow('Recognizing Shapes', img2)\n",
    "\n",
    "cv2.waitKey(0)\n",
    "cv2.destroyAllWindows()"
   ]
  }
 ],
 "metadata": {
  "kernelspec": {
   "display_name": "Python 3",
   "language": "python",
   "name": "python3"
  },
  "language_info": {
   "codemirror_mode": {
    "name": "ipython",
    "version": 3
   },
   "file_extension": ".py",
   "mimetype": "text/x-python",
   "name": "python",
   "nbconvert_exporter": "python",
   "pygments_lexer": "ipython3",
   "version": "3.9.13"
  },
  "orig_nbformat": 4
 },
 "nbformat": 4,
 "nbformat_minor": 2
}
